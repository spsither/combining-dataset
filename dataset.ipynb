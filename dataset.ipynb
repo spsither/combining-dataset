{
 "cells": [
  {
   "cell_type": "code",
   "execution_count": 8,
   "metadata": {},
   "outputs": [],
   "source": [
    "import pandas as pd"
   ]
  },
  {
   "cell_type": "code",
   "execution_count": 9,
   "metadata": {},
   "outputs": [],
   "source": [
    "def read_jsonl(filename):\n",
    "    df = pd.read_json(filename,lines=True)\n",
    "    df = df.reset_index(drop=True)\n",
    "    return df\n"
   ]
  },
  {
   "cell_type": "code",
   "execution_count": 10,
   "metadata": {},
   "outputs": [],
   "source": [
    "import os\n",
    "\n",
    "jsonl_directory = \"/media/monlamai/SSD/staging/\"\n",
    "\n",
    "files = os.listdir(jsonl_directory)\n",
    "\n",
    "pattern = \"jsonl\"\n",
    "files_matching_pattern = [file for file in files if file.endswith(pattern)]"
   ]
  },
  {
   "cell_type": "code",
   "execution_count": 11,
   "metadata": {},
   "outputs": [],
   "source": [
    "#all reviewed files \n",
    "reviewed = []\n",
    "for file in files_matching_pattern:\n",
    "    if 'review' in file and not 'stt_second_review' in file:\n",
    "        reviewed.append(file)"
   ]
  },
  {
   "cell_type": "code",
   "execution_count": 12,
   "metadata": {},
   "outputs": [],
   "source": [
    "#all unreviewed files\n",
    "transcribed = []\n",
    "for file in files_matching_pattern:\n",
    "    if 'review' not in file and not 'stt_second_review' in file:\n",
    "        transcribed.append(file)"
   ]
  },
  {
   "cell_type": "code",
   "execution_count": 13,
   "metadata": {},
   "outputs": [],
   "source": [
    "#concatenate all the dataframes\n",
    "temp= pd.DataFrame([])\n",
    "for file in transcribed :\n",
    "    df = read_jsonl(f\"{jsonl_directory}/{file}\")\n",
    "    temp = pd.concat([temp,df],axis=0)\n",
    "    trabscribed_df = temp.reset_index(drop=True)"
   ]
  },
  {
   "cell_type": "code",
   "execution_count": 14,
   "metadata": {},
   "outputs": [],
   "source": [
    "#concatenate all the dataframes\n",
    "temp= pd.DataFrame([])\n",
    "for file in reviewed:\n",
    "    df = read_jsonl(f\"{jsonl_directory}/{file}\")\n",
    "    temp = pd.concat([temp,df],axis=0)\n",
    "    reviewed_df = temp.reset_index(drop=True)"
   ]
  },
  {
   "cell_type": "code",
   "execution_count": 15,
   "metadata": {},
   "outputs": [],
   "source": [
    "reviewed = temp"
   ]
  },
  {
   "cell_type": "code",
   "execution_count": 16,
   "metadata": {},
   "outputs": [],
   "source": [
    "finale_df = read_jsonl(f\"{jsonl_directory}/stt_second_review.jsonl\")"
   ]
  },
  {
   "cell_type": "code",
   "execution_count": 17,
   "metadata": {},
   "outputs": [],
   "source": [
    "trabscribed_df['id'] = trabscribed_df['id'].str.replace('.mp3','')\n",
    "trabscribed_df['id'] = trabscribed_df['id'].str.replace('.wav','')\n",
    "trabscribed_df['id'] = trabscribed_df['id'].str.replace('.MP3','')\n",
    "trabscribed_df['id'] = trabscribed_df['id'].str.replace('.WAV','')\n",
    "\n",
    "reviewed_df['id'] = reviewed_df['id'].str.replace('.mp3','')\n",
    "reviewed_df['id'] = reviewed_df['id'].str.replace('.wav','')\n",
    "reviewed_df['id'] = reviewed_df['id'].str.replace('.MP3','')\n",
    "reviewed_df['id'] = reviewed_df['id'].str.replace('.WAV','')\n",
    "\n",
    "finale_df['id'] = finale_df['id'].str.replace('.mp3','')\n",
    "finale_df['id'] = finale_df['id'].str.replace('.wav','')\n",
    "finale_df['id'] = finale_df['id'].str.replace('.MP3','')\n",
    "finale_df['id'] = finale_df['id'].str.replace('.WAV','')"
   ]
  },
  {
   "cell_type": "code",
   "execution_count": 18,
   "metadata": {},
   "outputs": [],
   "source": [
    "trabscribed_df['id'].fillna(trabscribed_df['text'], inplace=True)\n",
    "reviewed_df['id'].fillna(reviewed_df['text'], inplace=True)\n",
    "finale_df['id'].fillna(finale_df['text'], inplace=True)"
   ]
  },
  {
   "cell_type": "code",
   "execution_count": 19,
   "metadata": {},
   "outputs": [
    {
     "data": {
      "text/plain": [
       "(515579, 468714, 150222)"
      ]
     },
     "execution_count": 19,
     "metadata": {},
     "output_type": "execute_result"
    }
   ],
   "source": [
    "len(trabscribed_df),len(reviewed_df),len(finale_df)"
   ]
  },
  {
   "cell_type": "code",
   "execution_count": 20,
   "metadata": {},
   "outputs": [
    {
     "data": {
      "text/plain": [
       "(446421, 425269, 146757)"
      ]
     },
     "execution_count": 20,
     "metadata": {},
     "output_type": "execute_result"
    }
   ],
   "source": [
    "len(set(trabscribed_df['id'])), len(set(reviewed_df['id'])), len(set(finale_df['id']))"
   ]
  },
  {
   "cell_type": "code",
   "execution_count": 21,
   "metadata": {},
   "outputs": [
    {
     "data": {
      "text/plain": [
       "13.413657266878602"
      ]
     },
     "execution_count": 21,
     "metadata": {},
     "output_type": "execute_result"
    }
   ],
   "source": [
    "100 - len(set(trabscribed_df['id'])) / len(trabscribed_df) * 100"
   ]
  },
  {
   "cell_type": "code",
   "execution_count": 22,
   "metadata": {},
   "outputs": [],
   "source": [
    "trabscribed_df.drop_duplicates(subset='id', keep=\"first\", inplace=True)\n",
    "reviewed_df.drop_duplicates(subset='id', keep=\"first\", inplace=True)\n",
    "finale_df.drop_duplicates(subset='id', keep=\"first\", inplace=True)"
   ]
  },
  {
   "cell_type": "code",
   "execution_count": 23,
   "metadata": {},
   "outputs": [
    {
     "data": {
      "text/plain": [
       "(446421, 425269, 146757)"
      ]
     },
     "execution_count": 23,
     "metadata": {},
     "output_type": "execute_result"
    }
   ],
   "source": [
    "len(trabscribed_df),len(reviewed_df),len(finale_df)"
   ]
  },
  {
   "cell_type": "code",
   "execution_count": 24,
   "metadata": {},
   "outputs": [],
   "source": [
    "#left side intersection \n",
    "intersection = trabscribed_df.merge(reviewed_df, how='left', on='id')"
   ]
  },
  {
   "cell_type": "code",
   "execution_count": 25,
   "metadata": {},
   "outputs": [],
   "source": [
    "intersection['transcript_y'].fillna(intersection['transcript_x'], inplace=True)\n"
   ]
  },
  {
   "cell_type": "code",
   "execution_count": 26,
   "metadata": {},
   "outputs": [],
   "source": [
    "intersection = intersection[~intersection['transcript_y'].isna()]"
   ]
  },
  {
   "cell_type": "code",
   "execution_count": 27,
   "metadata": {},
   "outputs": [
    {
     "data": {
      "text/plain": [
       "(437285, 446421)"
      ]
     },
     "execution_count": 27,
     "metadata": {},
     "output_type": "execute_result"
    }
   ],
   "source": [
    "len(intersection['id']), len(trabscribed_df['id'])"
   ]
  },
  {
   "cell_type": "code",
   "execution_count": 28,
   "metadata": {},
   "outputs": [],
   "source": [
    "last_intersection = intersection.merge(finale_df, how='left', on='id')"
   ]
  },
  {
   "cell_type": "code",
   "execution_count": 29,
   "metadata": {},
   "outputs": [
    {
     "data": {
      "text/plain": [
       "id                   437285\n",
       "audio_x              437285\n",
       "url_x                 56271\n",
       "transcript_x         432813\n",
       "_input_hash_x        437285\n",
       "_task_hash_x         437285\n",
       "_view_id_x           437285\n",
       "audio_spans_x        435654\n",
       "answer_x             437285\n",
       "_timestamp_x         431350\n",
       "_annotator_id_x      437278\n",
       "_session_id_x        437278\n",
       "text_x               381014\n",
       "meta_x               381014\n",
       "path_x               381021\n",
       "_is_binary_x         381021\n",
       "field_rows_x             34\n",
       "field_label_x            34\n",
       "field_id_x               34\n",
       "field_autofocus_x        34\n",
       "audio_y              415501\n",
       "text_y               378222\n",
       "meta_y               376687\n",
       "path_y               415480\n",
       "_input_hash_y        415501\n",
       "_task_hash_y         415501\n",
       "_is_binary_y         415480\n",
       "_view_id_y           415501\n",
       "audio_spans_y        415500\n",
       "transcript_y         437285\n",
       "answer_y             415501\n",
       "_timestamp_y         415484\n",
       "_annotator_id_y      415501\n",
       "_session_id_y        415501\n",
       "field_rows_y         378271\n",
       "field_label_y        378271\n",
       "field_id_y           378271\n",
       "field_autofocus_y    378271\n",
       "url_y                 37262\n",
       "audio                144333\n",
       "text                 144330\n",
       "path                 144333\n",
       "transcript           144309\n",
       "html                    138\n",
       "_input_hash          144333\n",
       "_task_hash           144333\n",
       "_view_id             144333\n",
       "audio_spans          144333\n",
       "answer               144333\n",
       "_timestamp           144285\n",
       "_annotator_id        144333\n",
       "_session_id          144333\n",
       "meta                 143366\n",
       "_is_binary           144195\n",
       "field_rows           144185\n",
       "field_label          144185\n",
       "field_id             144185\n",
       "field_autofocus      144185\n",
       "url                       3\n",
       "dtype: int64"
      ]
     },
     "execution_count": 29,
     "metadata": {},
     "output_type": "execute_result"
    }
   ],
   "source": [
    "last_intersection.count()"
   ]
  },
  {
   "cell_type": "code",
   "execution_count": 30,
   "metadata": {},
   "outputs": [],
   "source": [
    "last_intersection['transcript'].fillna(last_intersection['transcript_y'], inplace=True)"
   ]
  },
  {
   "cell_type": "code",
   "execution_count": 31,
   "metadata": {},
   "outputs": [
    {
     "data": {
      "text/plain": [
       "(437285, 59)"
      ]
     },
     "execution_count": 31,
     "metadata": {},
     "output_type": "execute_result"
    }
   ],
   "source": [
    "last_intersection.shape"
   ]
  },
  {
   "cell_type": "code",
   "execution_count": 32,
   "metadata": {},
   "outputs": [],
   "source": [
    "last_intersection = last_intersection[~last_intersection['transcript'].isna()]"
   ]
  },
  {
   "cell_type": "code",
   "execution_count": 33,
   "metadata": {},
   "outputs": [
    {
     "data": {
      "text/plain": [
       "(437285, 59)"
      ]
     },
     "execution_count": 33,
     "metadata": {},
     "output_type": "execute_result"
    }
   ],
   "source": [
    "last_intersection.shape"
   ]
  },
  {
   "cell_type": "code",
   "execution_count": 34,
   "metadata": {},
   "outputs": [],
   "source": [
    "last_intersection = last_intersection[['transcript', 'id']]"
   ]
  },
  {
   "cell_type": "code",
   "execution_count": 35,
   "metadata": {},
   "outputs": [],
   "source": [
    "last_intersection['url'] = 'https://d38pmlk0v88drf.cloudfront.net/wav/' + last_intersection['id'] + '.wav'"
   ]
  },
  {
   "cell_type": "code",
   "execution_count": 36,
   "metadata": {},
   "outputs": [
    {
     "data": {
      "text/plain": [
       "('མ་བརྟག་མ་དཔྱད་པའི་ངོ་ནས། ད་ཐ་སྙད་དུ་གྲགས་པ། གྲགས་ཙམ་གྱི་སྒོ་ནས་བཞག་ཡ་ཞིག་མ་གཏོགས།',\n",
       " 'https://d38pmlk0v88drf.cloudfront.net/wav/STT_TT00030_02684.600-02689.300.wav')"
      ]
     },
     "execution_count": 36,
     "metadata": {},
     "output_type": "execute_result"
    }
   ],
   "source": [
    "i = 110001\n",
    "last_intersection.loc[i]['transcript'], last_intersection.loc[i,'url']"
   ]
  },
  {
   "cell_type": "code",
   "execution_count": 37,
   "metadata": {},
   "outputs": [],
   "source": [
    "last_intersection['dept'] = last_intersection['id'].str[:6]"
   ]
  },
  {
   "cell_type": "code",
   "execution_count": 38,
   "metadata": {},
   "outputs": [
    {
     "data": {
      "text/html": [
       "<div>\n",
       "<style scoped>\n",
       "    .dataframe tbody tr th:only-of-type {\n",
       "        vertical-align: middle;\n",
       "    }\n",
       "\n",
       "    .dataframe tbody tr th {\n",
       "        vertical-align: top;\n",
       "    }\n",
       "\n",
       "    .dataframe thead th {\n",
       "        text-align: right;\n",
       "    }\n",
       "</style>\n",
       "<table border=\"1\" class=\"dataframe\">\n",
       "  <thead>\n",
       "    <tr style=\"text-align: right;\">\n",
       "      <th></th>\n",
       "      <th>transcript</th>\n",
       "      <th>id</th>\n",
       "      <th>url</th>\n",
       "      <th>dept</th>\n",
       "    </tr>\n",
       "  </thead>\n",
       "  <tbody>\n",
       "    <tr>\n",
       "      <th>0</th>\n",
       "      <td>དུང་དཀར་རིན་པོ་ཆེས་བླ་མ་དེར་ཕྱག་དཔེའི་ཆ་རྐྱེན་...</td>\n",
       "      <td>STT_AB00001_0041_209714_to_221712</td>\n",
       "      <td>https://d38pmlk0v88drf.cloudfront.net/wav/STT_...</td>\n",
       "      <td>STT_AB</td>\n",
       "    </tr>\n",
       "    <tr>\n",
       "      <th>1</th>\n",
       "      <td>དུང་དཀར་རིན་པོ་ཆེ</td>\n",
       "      <td>STT_AB00001_0042_222505_to_223855</td>\n",
       "      <td>https://d38pmlk0v88drf.cloudfront.net/wav/STT_...</td>\n",
       "      <td>STT_AB</td>\n",
       "    </tr>\n",
       "    <tr>\n",
       "      <th>2</th>\n",
       "      <td>རིན་པོ་ཆེ། ཁྱེད་ལ་སློབ་སྦྱོང་གི་ཆ་རྐྱེན་ཤིན་ཏ...</td>\n",
       "      <td>STT_AB00001_0043_224564_to_229795</td>\n",
       "      <td>https://d38pmlk0v88drf.cloudfront.net/wav/STT_...</td>\n",
       "      <td>STT_AB</td>\n",
       "    </tr>\n",
       "    <tr>\n",
       "      <th>3</th>\n",
       "      <td>ཅེས་གསུངས་པ་ན</td>\n",
       "      <td>STT_AB00001_0044_230453_to_231179</td>\n",
       "      <td>https://d38pmlk0v88drf.cloudfront.net/wav/STT_...</td>\n",
       "      <td>STT_AB</td>\n",
       "    </tr>\n",
       "    <tr>\n",
       "      <th>4</th>\n",
       "      <td>༄༅།། དུང་དཀར་རིན་པོ་ཆེ་ཆུང་དུས་ནས་བླ་མའི་ཡང་སྤ...</td>\n",
       "      <td>STT_AB00001_0031_154701_to_159021</td>\n",
       "      <td>https://d38pmlk0v88drf.cloudfront.net/wav/STT_...</td>\n",
       "      <td>STT_AB</td>\n",
       "    </tr>\n",
       "  </tbody>\n",
       "</table>\n",
       "</div>"
      ],
      "text/plain": [
       "                                          transcript  \\\n",
       "0  དུང་དཀར་རིན་པོ་ཆེས་བླ་མ་དེར་ཕྱག་དཔེའི་ཆ་རྐྱེན་...   \n",
       "1                                  དུང་དཀར་རིན་པོ་ཆེ   \n",
       "2   རིན་པོ་ཆེ། ཁྱེད་ལ་སློབ་སྦྱོང་གི་ཆ་རྐྱེན་ཤིན་ཏ...   \n",
       "3                                      ཅེས་གསུངས་པ་ན   \n",
       "4  ༄༅།། དུང་དཀར་རིན་པོ་ཆེ་ཆུང་དུས་ནས་བླ་མའི་ཡང་སྤ...   \n",
       "\n",
       "                                  id  \\\n",
       "0  STT_AB00001_0041_209714_to_221712   \n",
       "1  STT_AB00001_0042_222505_to_223855   \n",
       "2  STT_AB00001_0043_224564_to_229795   \n",
       "3  STT_AB00001_0044_230453_to_231179   \n",
       "4  STT_AB00001_0031_154701_to_159021   \n",
       "\n",
       "                                                 url    dept  \n",
       "0  https://d38pmlk0v88drf.cloudfront.net/wav/STT_...  STT_AB  \n",
       "1  https://d38pmlk0v88drf.cloudfront.net/wav/STT_...  STT_AB  \n",
       "2  https://d38pmlk0v88drf.cloudfront.net/wav/STT_...  STT_AB  \n",
       "3  https://d38pmlk0v88drf.cloudfront.net/wav/STT_...  STT_AB  \n",
       "4  https://d38pmlk0v88drf.cloudfront.net/wav/STT_...  STT_AB  "
      ]
     },
     "execution_count": 38,
     "metadata": {},
     "output_type": "execute_result"
    }
   ],
   "source": [
    "last_intersection.head()"
   ]
  },
  {
   "cell_type": "code",
   "execution_count": 39,
   "metadata": {},
   "outputs": [
    {
     "data": {
      "text/html": [
       "<div>\n",
       "<style scoped>\n",
       "    .dataframe tbody tr th:only-of-type {\n",
       "        vertical-align: middle;\n",
       "    }\n",
       "\n",
       "    .dataframe tbody tr th {\n",
       "        vertical-align: top;\n",
       "    }\n",
       "\n",
       "    .dataframe thead th {\n",
       "        text-align: right;\n",
       "    }\n",
       "</style>\n",
       "<table border=\"1\" class=\"dataframe\">\n",
       "  <thead>\n",
       "    <tr style=\"text-align: right;\">\n",
       "      <th></th>\n",
       "      <th>transcript</th>\n",
       "      <th>id</th>\n",
       "      <th>url</th>\n",
       "    </tr>\n",
       "    <tr>\n",
       "      <th>dept</th>\n",
       "      <th></th>\n",
       "      <th></th>\n",
       "      <th></th>\n",
       "    </tr>\n",
       "  </thead>\n",
       "  <tbody>\n",
       "    <tr>\n",
       "      <th>STT_AB</th>\n",
       "      <td>56271</td>\n",
       "      <td>56271</td>\n",
       "      <td>56271</td>\n",
       "    </tr>\n",
       "    <tr>\n",
       "      <th>STT_CS</th>\n",
       "      <td>36082</td>\n",
       "      <td>36082</td>\n",
       "      <td>36082</td>\n",
       "    </tr>\n",
       "    <tr>\n",
       "      <th>STT_NS</th>\n",
       "      <td>45334</td>\n",
       "      <td>45334</td>\n",
       "      <td>45334</td>\n",
       "    </tr>\n",
       "    <tr>\n",
       "      <th>STT_TT</th>\n",
       "      <td>299598</td>\n",
       "      <td>299598</td>\n",
       "      <td>299598</td>\n",
       "    </tr>\n",
       "  </tbody>\n",
       "</table>\n",
       "</div>"
      ],
      "text/plain": [
       "        transcript      id     url\n",
       "dept                              \n",
       "STT_AB       56271   56271   56271\n",
       "STT_CS       36082   36082   36082\n",
       "STT_NS       45334   45334   45334\n",
       "STT_TT      299598  299598  299598"
      ]
     },
     "execution_count": 39,
     "metadata": {},
     "output_type": "execute_result"
    }
   ],
   "source": [
    "last_intersection.groupby('dept').count()"
   ]
  },
  {
   "cell_type": "code",
   "execution_count": 40,
   "metadata": {},
   "outputs": [],
   "source": [
    "import pyewts\n",
    "\n",
    "converter = pyewts.pyewts()\n",
    "\n",
    "last_intersection['wylie'] = last_intersection['transcript'].apply(converter.toWylie)\n",
    "\n",
    "# བ་བྦ་a་བ་"
   ]
  },
  {
   "cell_type": "code",
   "execution_count": 41,
   "metadata": {},
   "outputs": [
    {
     "data": {
      "text/html": [
       "<div>\n",
       "<style scoped>\n",
       "    .dataframe tbody tr th:only-of-type {\n",
       "        vertical-align: middle;\n",
       "    }\n",
       "\n",
       "    .dataframe tbody tr th {\n",
       "        vertical-align: top;\n",
       "    }\n",
       "\n",
       "    .dataframe thead th {\n",
       "        text-align: right;\n",
       "    }\n",
       "</style>\n",
       "<table border=\"1\" class=\"dataframe\">\n",
       "  <thead>\n",
       "    <tr style=\"text-align: right;\">\n",
       "      <th></th>\n",
       "      <th>transcript</th>\n",
       "      <th>id</th>\n",
       "      <th>url</th>\n",
       "      <th>dept</th>\n",
       "      <th>wylie</th>\n",
       "    </tr>\n",
       "  </thead>\n",
       "  <tbody>\n",
       "    <tr>\n",
       "      <th>0</th>\n",
       "      <td>དུང་དཀར་རིན་པོ་ཆེས་བླ་མ་དེར་ཕྱག་དཔེའི་ཆ་རྐྱེན་...</td>\n",
       "      <td>STT_AB00001_0041_209714_to_221712</td>\n",
       "      <td>https://d38pmlk0v88drf.cloudfront.net/wav/STT_...</td>\n",
       "      <td>STT_AB</td>\n",
       "      <td>dung dkar rin po ches bla ma der phyag dpe'i c...</td>\n",
       "    </tr>\n",
       "    <tr>\n",
       "      <th>1</th>\n",
       "      <td>དུང་དཀར་རིན་པོ་ཆེ</td>\n",
       "      <td>STT_AB00001_0042_222505_to_223855</td>\n",
       "      <td>https://d38pmlk0v88drf.cloudfront.net/wav/STT_...</td>\n",
       "      <td>STT_AB</td>\n",
       "      <td>dung dkar rin po che</td>\n",
       "    </tr>\n",
       "    <tr>\n",
       "      <th>2</th>\n",
       "      <td>རིན་པོ་ཆེ། ཁྱེད་ལ་སློབ་སྦྱོང་གི་ཆ་རྐྱེན་ཤིན་ཏ...</td>\n",
       "      <td>STT_AB00001_0043_224564_to_229795</td>\n",
       "      <td>https://d38pmlk0v88drf.cloudfront.net/wav/STT_...</td>\n",
       "      <td>STT_AB</td>\n",
       "      <td>_rin po che/_khyed la slob sbyong gi cha rkyen...</td>\n",
       "    </tr>\n",
       "    <tr>\n",
       "      <th>3</th>\n",
       "      <td>ཅེས་གསུངས་པ་ན</td>\n",
       "      <td>STT_AB00001_0044_230453_to_231179</td>\n",
       "      <td>https://d38pmlk0v88drf.cloudfront.net/wav/STT_...</td>\n",
       "      <td>STT_AB</td>\n",
       "      <td>ces gsungs pa na</td>\n",
       "    </tr>\n",
       "    <tr>\n",
       "      <th>4</th>\n",
       "      <td>༄༅།། དུང་དཀར་རིན་པོ་ཆེ་ཆུང་དུས་ནས་བླ་མའི་ཡང་སྤ...</td>\n",
       "      <td>STT_AB00001_0031_154701_to_159021</td>\n",
       "      <td>https://d38pmlk0v88drf.cloudfront.net/wav/STT_...</td>\n",
       "      <td>STT_AB</td>\n",
       "      <td>@#//_dung dkar rin po che chung dus nas bla ma...</td>\n",
       "    </tr>\n",
       "    <tr>\n",
       "      <th>...</th>\n",
       "      <td>...</td>\n",
       "      <td>...</td>\n",
       "      <td>...</td>\n",
       "      <td>...</td>\n",
       "      <td>...</td>\n",
       "    </tr>\n",
       "    <tr>\n",
       "      <th>437280</th>\n",
       "      <td>དེ་དག་གི་དཀའ་ཇི་ལྟར་སྐྱེ་བ་</td>\n",
       "      <td>STT_TT00389_240.200-241.250</td>\n",
       "      <td>https://d38pmlk0v88drf.cloudfront.net/wav/STT_...</td>\n",
       "      <td>STT_TT</td>\n",
       "      <td>de dag gi dka' ji ltar skye ba</td>\n",
       "    </tr>\n",
       "    <tr>\n",
       "      <th>437281</th>\n",
       "      <td>མི་གཤིས་ཀ་དེ་འདྲའི་ཅན་གྱི་མི་ཅིག་ལ་རྟེན་ཅེ་</td>\n",
       "      <td>STT_TT00389_241.800-244.200</td>\n",
       "      <td>https://d38pmlk0v88drf.cloudfront.net/wav/STT_...</td>\n",
       "      <td>STT_TT</td>\n",
       "      <td>mi gshis ka de 'dra'i can gyi mi cig la rten ce</td>\n",
       "    </tr>\n",
       "    <tr>\n",
       "      <th>437282</th>\n",
       "      <td>ད་ངས་དེ་རིང་འདི་གྲོགས་པོ་བསྒྲིགས་བྱས་ང་ལ་སེམས་...</td>\n",
       "      <td>STT_TT00389_244.600-247.450</td>\n",
       "      <td>https://d38pmlk0v88drf.cloudfront.net/wav/STT_...</td>\n",
       "      <td>STT_TT</td>\n",
       "      <td>da ngas de ring 'di grogs po bsgrigs byas nga ...</td>\n",
       "    </tr>\n",
       "    <tr>\n",
       "      <th>437283</th>\n",
       "      <td>ང་ལ་ཁེ་བཟང་རག་ཡ་ཅིག་རེ་བ་བརྒྱབ་ཀི་</td>\n",
       "      <td>STT_TT00389_248.100-249.350</td>\n",
       "      <td>https://d38pmlk0v88drf.cloudfront.net/wav/STT_...</td>\n",
       "      <td>STT_TT</td>\n",
       "      <td>nga la khe bzang rag ya cig re ba brgyab ki</td>\n",
       "    </tr>\n",
       "    <tr>\n",
       "      <th>437284</th>\n",
       "      <td>ཨ་མའོ། མཚམས་དང་ཚོད་ཟེར་བ་དེ་འདྲའི། ཁྱོན་ནས་མེད...</td>\n",
       "      <td>STT_TT00389_190.900-193.700</td>\n",
       "      <td>https://d38pmlk0v88drf.cloudfront.net/wav/STT_...</td>\n",
       "      <td>STT_TT</td>\n",
       "      <td>a ma'o/_mtshams dang tshod zer ba de 'dra'i/_k...</td>\n",
       "    </tr>\n",
       "  </tbody>\n",
       "</table>\n",
       "<p>437285 rows × 5 columns</p>\n",
       "</div>"
      ],
      "text/plain": [
       "                                               transcript  \\\n",
       "0       དུང་དཀར་རིན་པོ་ཆེས་བླ་མ་དེར་ཕྱག་དཔེའི་ཆ་རྐྱེན་...   \n",
       "1                                       དུང་དཀར་རིན་པོ་ཆེ   \n",
       "2        རིན་པོ་ཆེ། ཁྱེད་ལ་སློབ་སྦྱོང་གི་ཆ་རྐྱེན་ཤིན་ཏ...   \n",
       "3                                           ཅེས་གསུངས་པ་ན   \n",
       "4       ༄༅།། དུང་དཀར་རིན་པོ་ཆེ་ཆུང་དུས་ནས་བླ་མའི་ཡང་སྤ...   \n",
       "...                                                   ...   \n",
       "437280                        དེ་དག་གི་དཀའ་ཇི་ལྟར་སྐྱེ་བ་   \n",
       "437281        མི་གཤིས་ཀ་དེ་འདྲའི་ཅན་གྱི་མི་ཅིག་ལ་རྟེན་ཅེ་   \n",
       "437282  ད་ངས་དེ་རིང་འདི་གྲོགས་པོ་བསྒྲིགས་བྱས་ང་ལ་སེམས་...   \n",
       "437283                 ང་ལ་ཁེ་བཟང་རག་ཡ་ཅིག་རེ་བ་བརྒྱབ་ཀི་   \n",
       "437284  ཨ་མའོ། མཚམས་དང་ཚོད་ཟེར་བ་དེ་འདྲའི། ཁྱོན་ནས་མེད...   \n",
       "\n",
       "                                       id  \\\n",
       "0       STT_AB00001_0041_209714_to_221712   \n",
       "1       STT_AB00001_0042_222505_to_223855   \n",
       "2       STT_AB00001_0043_224564_to_229795   \n",
       "3       STT_AB00001_0044_230453_to_231179   \n",
       "4       STT_AB00001_0031_154701_to_159021   \n",
       "...                                   ...   \n",
       "437280        STT_TT00389_240.200-241.250   \n",
       "437281        STT_TT00389_241.800-244.200   \n",
       "437282        STT_TT00389_244.600-247.450   \n",
       "437283        STT_TT00389_248.100-249.350   \n",
       "437284        STT_TT00389_190.900-193.700   \n",
       "\n",
       "                                                      url    dept  \\\n",
       "0       https://d38pmlk0v88drf.cloudfront.net/wav/STT_...  STT_AB   \n",
       "1       https://d38pmlk0v88drf.cloudfront.net/wav/STT_...  STT_AB   \n",
       "2       https://d38pmlk0v88drf.cloudfront.net/wav/STT_...  STT_AB   \n",
       "3       https://d38pmlk0v88drf.cloudfront.net/wav/STT_...  STT_AB   \n",
       "4       https://d38pmlk0v88drf.cloudfront.net/wav/STT_...  STT_AB   \n",
       "...                                                   ...     ...   \n",
       "437280  https://d38pmlk0v88drf.cloudfront.net/wav/STT_...  STT_TT   \n",
       "437281  https://d38pmlk0v88drf.cloudfront.net/wav/STT_...  STT_TT   \n",
       "437282  https://d38pmlk0v88drf.cloudfront.net/wav/STT_...  STT_TT   \n",
       "437283  https://d38pmlk0v88drf.cloudfront.net/wav/STT_...  STT_TT   \n",
       "437284  https://d38pmlk0v88drf.cloudfront.net/wav/STT_...  STT_TT   \n",
       "\n",
       "                                                    wylie  \n",
       "0       dung dkar rin po ches bla ma der phyag dpe'i c...  \n",
       "1                                    dung dkar rin po che  \n",
       "2       _rin po che/_khyed la slob sbyong gi cha rkyen...  \n",
       "3                                        ces gsungs pa na  \n",
       "4       @#//_dung dkar rin po che chung dus nas bla ma...  \n",
       "...                                                   ...  \n",
       "437280                    de dag gi dka' ji ltar skye ba   \n",
       "437281   mi gshis ka de 'dra'i can gyi mi cig la rten ce   \n",
       "437282  da ngas de ring 'di grogs po bsgrigs byas nga ...  \n",
       "437283       nga la khe bzang rag ya cig re ba brgyab ki   \n",
       "437284  a ma'o/_mtshams dang tshod zer ba de 'dra'i/_k...  \n",
       "\n",
       "[437285 rows x 5 columns]"
      ]
     },
     "execution_count": 41,
     "metadata": {},
     "output_type": "execute_result"
    }
   ],
   "source": [
    "last_intersection"
   ]
  },
  {
   "cell_type": "code",
   "execution_count": 42,
   "metadata": {},
   "outputs": [],
   "source": [
    "last_intersection.rename(columns={\"id\": \"file_name\", \"transcript\": \"uni\", \"wylie\": \"wylie\", \"url\": \"url\", \"dept\": \"dept\"}, inplace=True)"
   ]
  },
  {
   "cell_type": "code",
   "execution_count": 43,
   "metadata": {},
   "outputs": [
    {
     "data": {
      "text/html": [
       "<div>\n",
       "<style scoped>\n",
       "    .dataframe tbody tr th:only-of-type {\n",
       "        vertical-align: middle;\n",
       "    }\n",
       "\n",
       "    .dataframe tbody tr th {\n",
       "        vertical-align: top;\n",
       "    }\n",
       "\n",
       "    .dataframe thead th {\n",
       "        text-align: right;\n",
       "    }\n",
       "</style>\n",
       "<table border=\"1\" class=\"dataframe\">\n",
       "  <thead>\n",
       "    <tr style=\"text-align: right;\">\n",
       "      <th></th>\n",
       "      <th>file_name</th>\n",
       "      <th>uni</th>\n",
       "      <th>wylie</th>\n",
       "      <th>url</th>\n",
       "      <th>dept</th>\n",
       "    </tr>\n",
       "  </thead>\n",
       "  <tbody>\n",
       "    <tr>\n",
       "      <th>0</th>\n",
       "      <td>STT_AB00001_0041_209714_to_221712</td>\n",
       "      <td>དུང་དཀར་རིན་པོ་ཆེས་བླ་མ་དེར་ཕྱག་དཔེའི་ཆ་རྐྱེན་...</td>\n",
       "      <td>dung dkar rin po ches bla ma der phyag dpe'i c...</td>\n",
       "      <td>https://d38pmlk0v88drf.cloudfront.net/wav/STT_...</td>\n",
       "      <td>STT_AB</td>\n",
       "    </tr>\n",
       "    <tr>\n",
       "      <th>1</th>\n",
       "      <td>STT_AB00001_0042_222505_to_223855</td>\n",
       "      <td>དུང་དཀར་རིན་པོ་ཆེ</td>\n",
       "      <td>dung dkar rin po che</td>\n",
       "      <td>https://d38pmlk0v88drf.cloudfront.net/wav/STT_...</td>\n",
       "      <td>STT_AB</td>\n",
       "    </tr>\n",
       "    <tr>\n",
       "      <th>2</th>\n",
       "      <td>STT_AB00001_0043_224564_to_229795</td>\n",
       "      <td>རིན་པོ་ཆེ། ཁྱེད་ལ་སློབ་སྦྱོང་གི་ཆ་རྐྱེན་ཤིན་ཏ...</td>\n",
       "      <td>_rin po che/_khyed la slob sbyong gi cha rkyen...</td>\n",
       "      <td>https://d38pmlk0v88drf.cloudfront.net/wav/STT_...</td>\n",
       "      <td>STT_AB</td>\n",
       "    </tr>\n",
       "    <tr>\n",
       "      <th>3</th>\n",
       "      <td>STT_AB00001_0044_230453_to_231179</td>\n",
       "      <td>ཅེས་གསུངས་པ་ན</td>\n",
       "      <td>ces gsungs pa na</td>\n",
       "      <td>https://d38pmlk0v88drf.cloudfront.net/wav/STT_...</td>\n",
       "      <td>STT_AB</td>\n",
       "    </tr>\n",
       "    <tr>\n",
       "      <th>4</th>\n",
       "      <td>STT_AB00001_0031_154701_to_159021</td>\n",
       "      <td>༄༅།། དུང་དཀར་རིན་པོ་ཆེ་ཆུང་དུས་ནས་བླ་མའི་ཡང་སྤ...</td>\n",
       "      <td>@#//_dung dkar rin po che chung dus nas bla ma...</td>\n",
       "      <td>https://d38pmlk0v88drf.cloudfront.net/wav/STT_...</td>\n",
       "      <td>STT_AB</td>\n",
       "    </tr>\n",
       "  </tbody>\n",
       "</table>\n",
       "</div>"
      ],
      "text/plain": [
       "                           file_name  \\\n",
       "0  STT_AB00001_0041_209714_to_221712   \n",
       "1  STT_AB00001_0042_222505_to_223855   \n",
       "2  STT_AB00001_0043_224564_to_229795   \n",
       "3  STT_AB00001_0044_230453_to_231179   \n",
       "4  STT_AB00001_0031_154701_to_159021   \n",
       "\n",
       "                                                 uni  \\\n",
       "0  དུང་དཀར་རིན་པོ་ཆེས་བླ་མ་དེར་ཕྱག་དཔེའི་ཆ་རྐྱེན་...   \n",
       "1                                  དུང་དཀར་རིན་པོ་ཆེ   \n",
       "2   རིན་པོ་ཆེ། ཁྱེད་ལ་སློབ་སྦྱོང་གི་ཆ་རྐྱེན་ཤིན་ཏ...   \n",
       "3                                      ཅེས་གསུངས་པ་ན   \n",
       "4  ༄༅།། དུང་དཀར་རིན་པོ་ཆེ་ཆུང་དུས་ནས་བླ་མའི་ཡང་སྤ...   \n",
       "\n",
       "                                               wylie  \\\n",
       "0  dung dkar rin po ches bla ma der phyag dpe'i c...   \n",
       "1                               dung dkar rin po che   \n",
       "2  _rin po che/_khyed la slob sbyong gi cha rkyen...   \n",
       "3                                   ces gsungs pa na   \n",
       "4  @#//_dung dkar rin po che chung dus nas bla ma...   \n",
       "\n",
       "                                                 url    dept  \n",
       "0  https://d38pmlk0v88drf.cloudfront.net/wav/STT_...  STT_AB  \n",
       "1  https://d38pmlk0v88drf.cloudfront.net/wav/STT_...  STT_AB  \n",
       "2  https://d38pmlk0v88drf.cloudfront.net/wav/STT_...  STT_AB  \n",
       "3  https://d38pmlk0v88drf.cloudfront.net/wav/STT_...  STT_AB  \n",
       "4  https://d38pmlk0v88drf.cloudfront.net/wav/STT_...  STT_AB  "
      ]
     },
     "execution_count": 43,
     "metadata": {},
     "output_type": "execute_result"
    }
   ],
   "source": [
    "last_intersection = last_intersection[['file_name', 'uni', 'wylie', 'url', 'dept']]\n",
    "last_intersection.head()"
   ]
  },
  {
   "cell_type": "code",
   "execution_count": 44,
   "metadata": {},
   "outputs": [],
   "source": [
    "last_intersection.to_csv('prodigy.tsv', sep='\\t', index=False)"
   ]
  },
  {
   "cell_type": "code",
   "execution_count": 45,
   "metadata": {},
   "outputs": [
    {
     "data": {
      "text/html": [
       "<div>\n",
       "<style scoped>\n",
       "    .dataframe tbody tr th:only-of-type {\n",
       "        vertical-align: middle;\n",
       "    }\n",
       "\n",
       "    .dataframe tbody tr th {\n",
       "        vertical-align: top;\n",
       "    }\n",
       "\n",
       "    .dataframe thead th {\n",
       "        text-align: right;\n",
       "    }\n",
       "</style>\n",
       "<table border=\"1\" class=\"dataframe\">\n",
       "  <thead>\n",
       "    <tr style=\"text-align: right;\">\n",
       "      <th></th>\n",
       "      <th>file_name</th>\n",
       "      <th>uni</th>\n",
       "      <th>wylie</th>\n",
       "      <th>url</th>\n",
       "      <th>dept</th>\n",
       "    </tr>\n",
       "  </thead>\n",
       "  <tbody>\n",
       "    <tr>\n",
       "      <th>17</th>\n",
       "      <td>STT_AB00001_0029_150584_to_151748</td>\n",
       "      <td>ལེའུ་དང་པོ།\\n</td>\n",
       "      <td>_le'u dang po/\\n</td>\n",
       "      <td>https://d38pmlk0v88drf.cloudfront.net/wav/STT_...</td>\n",
       "      <td>STT_AB</td>\n",
       "    </tr>\n",
       "  </tbody>\n",
       "</table>\n",
       "</div>"
      ],
      "text/plain": [
       "                            file_name             uni             wylie  \\\n",
       "17  STT_AB00001_0029_150584_to_151748   ལེའུ་དང་པོ།\\n  _le'u dang po/\\n   \n",
       "\n",
       "                                                  url    dept  \n",
       "17  https://d38pmlk0v88drf.cloudfront.net/wav/STT_...  STT_AB  "
      ]
     },
     "execution_count": 45,
     "metadata": {},
     "output_type": "execute_result"
    }
   ],
   "source": [
    "last_intersection[last_intersection['file_name'] == 'STT_AB00001_0029_150584_to_151748']"
   ]
  },
  {
   "cell_type": "code",
   "execution_count": 46,
   "metadata": {},
   "outputs": [],
   "source": [
    "test = pd.read_csv('staging.tsv', sep='\\t')"
   ]
  },
  {
   "cell_type": "code",
   "execution_count": 47,
   "metadata": {},
   "outputs": [],
   "source": [
    "import pandas as pd"
   ]
  },
  {
   "cell_type": "code",
   "execution_count": 48,
   "metadata": {},
   "outputs": [
    {
     "data": {
      "text/plain": [
       "(437285, 437285)"
      ]
     },
     "execution_count": 48,
     "metadata": {},
     "output_type": "execute_result"
    }
   ],
   "source": [
    "len(test), len(last_intersection)"
   ]
  },
  {
   "cell_type": "code",
   "execution_count": null,
   "metadata": {},
   "outputs": [],
   "source": []
  }
 ],
 "metadata": {
  "kernelspec": {
   "display_name": "Python 3 (ipykernel)",
   "language": "python",
   "name": "python3"
  },
  "language_info": {
   "codemirror_mode": {
    "name": "ipython",
    "version": 3
   },
   "file_extension": ".py",
   "mimetype": "text/x-python",
   "name": "python",
   "nbconvert_exporter": "python",
   "pygments_lexer": "ipython3",
   "version": "3.10.12"
  },
  "orig_nbformat": 4
 },
 "nbformat": 4,
 "nbformat_minor": 2
}
