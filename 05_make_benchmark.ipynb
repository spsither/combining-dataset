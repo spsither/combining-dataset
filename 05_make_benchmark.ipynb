{
 "cells": [
  {
   "cell_type": "code",
   "execution_count": 44,
   "metadata": {},
   "outputs": [],
   "source": [
    "import pandas as pd\n",
    "df = pd.read_csv('04_combine_all.tsv', sep='\\t')"
   ]
  },
  {
   "cell_type": "code",
   "execution_count": 45,
   "metadata": {},
   "outputs": [
    {
     "data": {
      "text/plain": [
       "dept\n",
       "STT_AB     75353\n",
       "STT_CS     44021\n",
       "STT_MV    245303\n",
       "STT_NS     70769\n",
       "STT_TT    369028\n",
       "dtype: int64"
      ]
     },
     "execution_count": 45,
     "metadata": {},
     "output_type": "execute_result"
    }
   ],
   "source": [
    "df.groupby('dept').size()"
   ]
  },
  {
   "cell_type": "code",
   "execution_count": 46,
   "metadata": {},
   "outputs": [],
   "source": [
    "df['char_len'] = df['uni'].str.len()"
   ]
  },
  {
   "cell_type": "code",
   "execution_count": 47,
   "metadata": {},
   "outputs": [
    {
     "data": {
      "text/plain": [
       "count    804474.000000\n",
       "mean         66.152022\n",
       "std          49.493217\n",
       "min           1.000000\n",
       "25%          28.000000\n",
       "50%          53.000000\n",
       "75%          93.000000\n",
       "max         516.000000\n",
       "Name: char_len, dtype: float64"
      ]
     },
     "execution_count": 47,
     "metadata": {},
     "output_type": "execute_result"
    }
   ],
   "source": [
    "df['char_len'].describe()"
   ]
  },
  {
   "cell_type": "code",
   "execution_count": 48,
   "metadata": {},
   "outputs": [
    {
     "data": {
      "text/plain": [
       "<Axes: >"
      ]
     },
     "execution_count": 48,
     "metadata": {},
     "output_type": "execute_result"
    },
    {
     "data": {
      "image/png": "[encoded data removed]",
      "text/plain": [
       "<Figure size 640x480 with 1 Axes>"
      ]
     },
     "metadata": {},
     "output_type": "display_data"
    }
   ],
   "source": [
    "df['char_len'].hist(bins=100)"
   ]
  },
  {
   "cell_type": "code",
   "execution_count": 49,
   "metadata": {},
   "outputs": [
    {
     "data": {
      "text/plain": [
       "<Axes: >"
      ]
     },
     "execution_count": 49,
     "metadata": {},
     "output_type": "execute_result"
    },
    {
     "data": {
      "image/png": "[encoded data removed]",
      "text/plain": [
       "<Figure size 640x480 with 1 Axes>"
      ]
     },
     "metadata": {},
     "output_type": "display_data"
    }
   ],
   "source": [
    "df['char_len'].hist(bins=100, range=(0, 100))"
   ]
  },
  {
   "cell_type": "code",
   "execution_count": 50,
   "metadata": {},
   "outputs": [],
   "source": [
    "df = df[(df['char_len'] < 80) & (df['char_len'] > 15)]"
   ]
  },
  {
   "cell_type": "code",
   "execution_count": 51,
   "metadata": {},
   "outputs": [
    {
     "data": {
      "text/plain": [
       "dept\n",
       "STT_AB     44373\n",
       "STT_CS     18277\n",
       "STT_MV    127287\n",
       "STT_NS     16800\n",
       "STT_TT    261560\n",
       "dtype: int64"
      ]
     },
     "execution_count": 51,
     "metadata": {},
     "output_type": "execute_result"
    }
   ],
   "source": [
    "df.groupby('dept').size()"
   ]
  },
  {
   "cell_type": "code",
   "execution_count": 52,
   "metadata": {},
   "outputs": [],
   "source": [
    "depts = df['dept'].unique()"
   ]
  },
  {
   "cell_type": "code",
   "execution_count": 65,
   "metadata": {},
   "outputs": [
    {
     "name": "stdout",
     "output_type": "stream",
     "text": [
      "STT_AB\n",
      "STT_NS\n",
      "STT_TT\n",
      "STT_CS\n",
      "STT_MV\n"
     ]
    }
   ],
   "source": [
    "benchmarks = []\n",
    "for dept in depts:\n",
    "    print(dept)\n",
    "    df_dept = df[df['dept'] == dept]\n",
    "    df_dept = df_dept.sort_values('grade', ascending=False)\n",
    "    df_dept = df_dept[0:1000]\n",
    "    benchmarks.append(df_dept)"
   ]
  },
  {
   "cell_type": "code",
   "execution_count": 68,
   "metadata": {},
   "outputs": [],
   "source": [
    "benchmarks = pd.concat(benchmarks)"
   ]
  },
  {
   "cell_type": "code",
   "execution_count": 69,
   "metadata": {},
   "outputs": [
    {
     "data": {
      "text/html": [
       "<div>\n",
       "<style scoped>\n",
       "    .dataframe tbody tr th:only-of-type {\n",
       "        vertical-align: middle;\n",
       "    }\n",
       "\n",
       "    .dataframe tbody tr th {\n",
       "        vertical-align: top;\n",
       "    }\n",
       "\n",
       "    .dataframe thead th {\n",
       "        text-align: right;\n",
       "    }\n",
       "</style>\n",
       "<table border=\"1\" class=\"dataframe\">\n",
       "  <thead>\n",
       "    <tr style=\"text-align: right;\">\n",
       "      <th></th>\n",
       "      <th>file_name</th>\n",
       "      <th>uni</th>\n",
       "      <th>wylie</th>\n",
       "      <th>url</th>\n",
       "      <th>dept</th>\n",
       "      <th>grade</th>\n",
       "      <th>char_len</th>\n",
       "    </tr>\n",
       "  </thead>\n",
       "  <tbody>\n",
       "    <tr>\n",
       "      <th>515126</th>\n",
       "      <td>STT_AB00208_0075_398080_to_399889</td>\n",
       "      <td>བ་ཕྱུགས་སྟོང་ཕྲག་དེའི་འོ་མ་བཞོས་ནས་</td>\n",
       "      <td>ba phyugs stong phrag de'i 'o ma bzhos nas</td>\n",
       "      <td>https://d38pmlk0v88drf.cloudfront.net/wav/STT_...</td>\n",
       "      <td>STT_AB</td>\n",
       "      <td>3</td>\n",
       "      <td>36</td>\n",
       "    </tr>\n",
       "    <tr>\n",
       "      <th>140345</th>\n",
       "      <td>STT_AB00225_0051_634428_to_636220</td>\n",
       "      <td>དེ་སྔ་ཡིན་ན་པད་ཁའི་མེ་ཏོག་གིས་</td>\n",
       "      <td>de snga yin na pad kha'i me tog gis</td>\n",
       "      <td>https://huggingface.co/datasets/openpecha/STT_...</td>\n",
       "      <td>STT_AB</td>\n",
       "      <td>3</td>\n",
       "      <td>31</td>\n",
       "    </tr>\n",
       "    <tr>\n",
       "      <th>166731</th>\n",
       "      <td>STT_AB00277_0455_2502107_to_2503882</td>\n",
       "      <td>གཟུགས་སྐུ་སྤྱི་ཙམ་ལ་སྤྲུལ་སྐུ་དང་།</td>\n",
       "      <td>gzugs sku spyi tsam la sprul sku dang /</td>\n",
       "      <td>https://d38pmlk0v88drf.cloudfront.net/wav/STT_...</td>\n",
       "      <td>STT_AB</td>\n",
       "      <td>3</td>\n",
       "      <td>35</td>\n",
       "    </tr>\n",
       "    <tr>\n",
       "      <th>548584</th>\n",
       "      <td>STT_AB00211_0052_282124_to_285981</td>\n",
       "      <td>སྐྱེ་བ་འདི་གཅིག་པུ་ཙམ་མ་ཡིན་པར། སྔོན་གྱི་སྐྱེ་...</td>\n",
       "      <td>skye ba 'di gcig pu tsam ma yin par/_sngon gyi...</td>\n",
       "      <td>https://d38pmlk0v88drf.cloudfront.net/wav/STT_...</td>\n",
       "      <td>STT_AB</td>\n",
       "      <td>3</td>\n",
       "      <td>59</td>\n",
       "    </tr>\n",
       "    <tr>\n",
       "      <th>254533</th>\n",
       "      <td>STT_AB00166_0076_222690_to_224429</td>\n",
       "      <td>གཡུལ་འགྱེད་ཚེ་ན་གནོད་པ་མང་།།</td>\n",
       "      <td>g.yul 'gyed tshe na gnod pa mang /[ ]/</td>\n",
       "      <td>https://d38pmlk0v88drf.cloudfront.net/wav/STT_...</td>\n",
       "      <td>STT_AB</td>\n",
       "      <td>3</td>\n",
       "      <td>29</td>\n",
       "    </tr>\n",
       "  </tbody>\n",
       "</table>\n",
       "</div>"
      ],
      "text/plain": [
       "                                  file_name  \\\n",
       "515126    STT_AB00208_0075_398080_to_399889   \n",
       "140345    STT_AB00225_0051_634428_to_636220   \n",
       "166731  STT_AB00277_0455_2502107_to_2503882   \n",
       "548584    STT_AB00211_0052_282124_to_285981   \n",
       "254533    STT_AB00166_0076_222690_to_224429   \n",
       "\n",
       "                                                      uni  \\\n",
       "515126               བ་ཕྱུགས་སྟོང་ཕྲག་དེའི་འོ་མ་བཞོས་ནས་    \n",
       "140345                    དེ་སྔ་ཡིན་ན་པད་ཁའི་མེ་ཏོག་གིས་    \n",
       "166731                གཟུགས་སྐུ་སྤྱི་ཙམ་ལ་སྤྲུལ་སྐུ་དང་།    \n",
       "548584  སྐྱེ་བ་འདི་གཅིག་པུ་ཙམ་མ་ཡིན་པར། སྔོན་གྱི་སྐྱེ་...   \n",
       "254533                      གཡུལ་འགྱེད་ཚེ་ན་གནོད་པ་མང་།།    \n",
       "\n",
       "                                                    wylie  \\\n",
       "515126        ba phyugs stong phrag de'i 'o ma bzhos nas    \n",
       "140345               de snga yin na pad kha'i me tog gis    \n",
       "166731            gzugs sku spyi tsam la sprul sku dang /   \n",
       "548584  skye ba 'di gcig pu tsam ma yin par/_sngon gyi...   \n",
       "254533             g.yul 'gyed tshe na gnod pa mang /[ ]/   \n",
       "\n",
       "                                                      url    dept  grade  \\\n",
       "515126  https://d38pmlk0v88drf.cloudfront.net/wav/STT_...  STT_AB      3   \n",
       "140345  https://huggingface.co/datasets/openpecha/STT_...  STT_AB      3   \n",
       "166731  https://d38pmlk0v88drf.cloudfront.net/wav/STT_...  STT_AB      3   \n",
       "548584  https://d38pmlk0v88drf.cloudfront.net/wav/STT_...  STT_AB      3   \n",
       "254533  https://d38pmlk0v88drf.cloudfront.net/wav/STT_...  STT_AB      3   \n",
       "\n",
       "        char_len  \n",
       "515126        36  \n",
       "140345        31  \n",
       "166731        35  \n",
       "548584        59  \n",
       "254533        29  "
      ]
     },
     "execution_count": 69,
     "metadata": {},
     "output_type": "execute_result"
    }
   ],
   "source": [
    "benchmarks.head()"
   ]
  },
  {
   "cell_type": "code",
   "execution_count": 72,
   "metadata": {},
   "outputs": [
    {
     "data": {
      "text/plain": [
       "dept\n",
       "STT_AB    1000\n",
       "STT_CS    1000\n",
       "STT_MV    1000\n",
       "STT_NS    1000\n",
       "STT_TT    1000\n",
       "dtype: int64"
      ]
     },
     "execution_count": 72,
     "metadata": {},
     "output_type": "execute_result"
    }
   ],
   "source": [
    "benchmarks.groupby('dept').size()"
   ]
  },
  {
   "cell_type": "code",
   "execution_count": 81,
   "metadata": {},
   "outputs": [
    {
     "name": "stdout",
     "output_type": "stream",
     "text": [
      "STT_AB\n",
      "སྦྱིན་པ་འདུ་བ་ནི་སླ་ལ།  https://d38pmlk0v88drf.cloudfront.net/wav/STT_AB00173_0053_187226_to_188967.wav\n",
      "མཁས་པའི་བཞད་གད་ཀྱི་གནས་ཡིན་ནོ།།  https://d38pmlk0v88drf.cloudfront.net/wav/STT_AB00172_2487_9026424_to_9028472.wav\n",
      "མྱུར་པོར་མི་སྟེར་བར་  https://d38pmlk0v88drf.cloudfront.net/wav/STT_AB00173_0621_2685435_to_2686885.wav\n",
      "STT_NS\n",
      "ད་རྒྱ་མི་ཀི་ནང་ལ་མི་དེ་ཚོ་ཀི་འདི་ག་རེ་ལབ་ཀི་འདུག་ལབ་ན་མི་ཁ་ཤས་ཀིས་  https://d38pmlk0v88drf.cloudfront.net/wav/STT_NS0117_0011_69634_to_72874.wav\n",
      "དེ་ལས་ཀ་ཡོད་ ཁོས་མ་རབས་ཚ་མྱོང་ཁག་པོ་སྐད་ཆ་བཤད་བསྡད་ཀི་འདུག་ ང་ནི་  https://d38pmlk0v88drf.cloudfront.net/wav/STT_NS0081_0149_1064415_to_1067115.wav\n",
      "ད་ང་ཡིན་ནས། ང་རང་ང་རང་ཞེད་ཡིས་འདུག་རེད་བ་ཡ། གལ་སྲིད།  https://d38pmlk0v88drf.cloudfront.net/wav/STT_NS0172_0136_993507_to_996527.wav\n",
      "STT_TT\n",
      "ཀུན་ཏུ་འགྲོ་དང་ཁས་ལེན་རྟོགས་དང་ཟིལ་གནོན་པར།  https://d38pmlk0v88drf.cloudfront.net/wav/STT_TT00035_00210.600-00212.950.wav\n",
      "ཆོས་རྣམས་ཀི་སྣང་ཚུལ་འདྲ་བོ་ཅིག་མཐོང་ཡོང་དུས་ཙ་ནས།  https://d38pmlk0v88drf.cloudfront.net/wav/STT_TT00034_09098.600-09100.300.wav\n",
      "དེ་འདྲའི། ཨེ་ནས་ལྷ་བུའི་རྣམ་ཅན།  https://d38pmlk0v88drf.cloudfront.net/wav/STT_TT00034_08836.900-08838.050.wav\n",
      "STT_CS\n",
      "ཨ་ནས་འདི་ག་རེ་ཟེར། ཨ་ཅག་གཅིག་ཡོད་རེད་ད། ད་མིང་དྲན་པ་བརྗེད་བཞག  https://d38pmlk0v88drf.cloudfront.net/wav/STT_CS-L-2011_2012-P_P-D_D-B03_B01-6_6-R_R-01_0038_293211_to_296400.wav\n",
      "སྔོན་པོ་གོན་མཁན་དེ། བུ་སྔོན་པོ་ལ།  https://d38pmlk0v88drf.cloudfront.net/stt_pecha_tools/STT_CS-D-2016-M-D-B02-2-R-06_0013_124435_to_126590.wav\n",
      "ཆུ་མངར་མོ་བཏུང་ནས་བསྡད་བསྡད་ཡོད་རེད་ད་རཱ། ཨ་ནས། ག་རེ་འདི།  https://d38pmlk0v88drf.cloudfront.net/stt_pecha_tools/STT_CS-D-2014-M-D-B01-3-T-01_0001_5184_to_9364.wav\n",
      "STT_MV\n",
      "འོ་ད་ངེད་གཉིས་པོ་ཏ་ལ་  https://d38pmlk0v88drf.cloudfront.net/mv_wav/STT_MV0380_0080_497121_to_499100.wav\n",
      "ང་དཀའ་ངལ་འཕྲད་བྱུང་། ཧེ་ཧ། ག་གེ་གསུང་གནང་མི་དགོས།  https://d38pmlk0v88drf.cloudfront.net/mv_wav/STT_MV0614_0289_2182837_to_2186811.wav\n",
      "གཟུགས་པོ་སྐྱོ་པོ་མེད་ན་ཨ་མ་ཧྥུང་ལགས་ཕ་ཡུལ་ལ་ལོག་ནས་  https://d38pmlk0v88drf.cloudfront.net/mv_wav/STT_MV0850_0131_783926_to_792535.wav\n"
     ]
    }
   ],
   "source": [
    "sample = 3\n",
    "for dept in depts:\n",
    "    print(dept)\n",
    "    df_dept = benchmarks[benchmarks['dept'] == dept]\n",
    "    df_dept = df_dept.sample(frac=1)\n",
    "    for i in range(0, sample):\n",
    "        print(df_dept.iloc[i]['uni'], df_dept.iloc[i]['url'])"
   ]
  },
  {
   "cell_type": "code",
   "execution_count": 83,
   "metadata": {},
   "outputs": [],
   "source": [
    "benchmarks_cs = benchmarks[benchmarks['dept'] == 'STT_CS']"
   ]
  },
  {
   "cell_type": "code",
   "execution_count": 84,
   "metadata": {},
   "outputs": [
    {
     "data": {
      "text/html": [
       "<div>\n",
       "<style scoped>\n",
       "    .dataframe tbody tr th:only-of-type {\n",
       "        vertical-align: middle;\n",
       "    }\n",
       "\n",
       "    .dataframe tbody tr th {\n",
       "        vertical-align: top;\n",
       "    }\n",
       "\n",
       "    .dataframe thead th {\n",
       "        text-align: right;\n",
       "    }\n",
       "</style>\n",
       "<table border=\"1\" class=\"dataframe\">\n",
       "  <thead>\n",
       "    <tr style=\"text-align: right;\">\n",
       "      <th></th>\n",
       "      <th>file_name</th>\n",
       "      <th>uni</th>\n",
       "      <th>wylie</th>\n",
       "      <th>url</th>\n",
       "      <th>dept</th>\n",
       "      <th>grade</th>\n",
       "      <th>char_len</th>\n",
       "    </tr>\n",
       "  </thead>\n",
       "  <tbody>\n",
       "    <tr>\n",
       "      <th>540228</th>\n",
       "      <td>STT_CS-L-2017_2017-P_P-D_D-B01_B01-1_1-R_R-03_...</td>\n",
       "      <td>ཁོ་ལད་ཋྀ་སླེབས་ཤག་རྒན་ལགས།</td>\n",
       "      <td>kho lad Th-i slebs shag rgan lags/</td>\n",
       "      <td>https://d38pmlk0v88drf.cloudfront.net/wav/STT_...</td>\n",
       "      <td>STT_CS</td>\n",
       "      <td>3</td>\n",
       "      <td>27</td>\n",
       "    </tr>\n",
       "    <tr>\n",
       "      <th>540227</th>\n",
       "      <td>STT_CS-L-2017_2017-P_P-D_D-B01_B01-1_1-R_R-03_...</td>\n",
       "      <td>རྒན་ལགས། རྒན་ལགས། ཡིག་ཚང་སྒོ་རཱ།ཕ་ཀི་ལ་འགྲོ་ན་...</td>\n",
       "      <td>rgan lags/[ ]rgan lags/[ ]yig tshang sgo rA/ph...</td>\n",
       "      <td>https://d38pmlk0v88drf.cloudfront.net/wav/STT_...</td>\n",
       "      <td>STT_CS</td>\n",
       "      <td>3</td>\n",
       "      <td>56</td>\n",
       "    </tr>\n",
       "    <tr>\n",
       "      <th>540225</th>\n",
       "      <td>STT_CS-L-2017_2017-P_P-D_D-B01_B01-1_1-R_R-01_...</td>\n",
       "      <td>དགའ་བོ་ཡོད་པེ་ཤ་དགའ་བོ་ཡོད། པེ་ཤ་སྒོར་མོ་ལྔ་བར...</td>\n",
       "      <td>dga' bo yod pe sha dga' bo yod/__pe sha sgor m...</td>\n",
       "      <td>https://d38pmlk0v88drf.cloudfront.net/wav/STT_...</td>\n",
       "      <td>STT_CS</td>\n",
       "      <td>3</td>\n",
       "      <td>56</td>\n",
       "    </tr>\n",
       "    <tr>\n",
       "      <th>540147</th>\n",
       "      <td>STT_CS-L-2017_2017-P_P-D_D-B04_B04-1_1-R_R-02_...</td>\n",
       "      <td>ད་ང་ཚོ་གཞན་པར་འགྲོ་ཡ་ཡིན་ད།</td>\n",
       "      <td>da nga tsho gzhan par 'gro ya yin da/_</td>\n",
       "      <td>https://d38pmlk0v88drf.cloudfront.net/wav/STT_...</td>\n",
       "      <td>STT_CS</td>\n",
       "      <td>3</td>\n",
       "      <td>28</td>\n",
       "    </tr>\n",
       "    <tr>\n",
       "      <th>540148</th>\n",
       "      <td>STT_CS-L-2017_2017-P_P-D_D-B04_B04-1_1-R_R-02_...</td>\n",
       "      <td>ང་འདི། འདི་བཤད་ཐུབ་ཀི་མེད།</td>\n",
       "      <td>nga 'di/_'di bshad thub ki med/_</td>\n",
       "      <td>https://d38pmlk0v88drf.cloudfront.net/wav/STT_...</td>\n",
       "      <td>STT_CS</td>\n",
       "      <td>3</td>\n",
       "      <td>27</td>\n",
       "    </tr>\n",
       "    <tr>\n",
       "      <th>...</th>\n",
       "      <td>...</td>\n",
       "      <td>...</td>\n",
       "      <td>...</td>\n",
       "      <td>...</td>\n",
       "      <td>...</td>\n",
       "      <td>...</td>\n",
       "      <td>...</td>\n",
       "    </tr>\n",
       "    <tr>\n",
       "      <th>54250</th>\n",
       "      <td>STT_CS-L-2016_2016-M_M-D_D-B02_B02-2_2-R-02_00...</td>\n",
       "      <td>དཔེ་ཞིམ་པོ་བྱུང་སོང། ཡང་བསྐྱར་རྐུན་མ་གཅིག་རྒྱབ...</td>\n",
       "      <td>dpe zhim po byung song/_yang bskyar rkun ma gc...</td>\n",
       "      <td>https://d38pmlk0v88drf.cloudfront.net/stt_pech...</td>\n",
       "      <td>STT_CS</td>\n",
       "      <td>3</td>\n",
       "      <td>50</td>\n",
       "    </tr>\n",
       "    <tr>\n",
       "      <th>54252</th>\n",
       "      <td>STT_CS-D-2014-P-D-B05-3-T-01_0056_479940_to_48...</td>\n",
       "      <td>མི་དེ་ལ་ཐུགས་རྗེ་ཆེ་ལབ།</td>\n",
       "      <td>mi de la thugs rje che lab/</td>\n",
       "      <td>https://d38pmlk0v88drf.cloudfront.net/stt_pech...</td>\n",
       "      <td>STT_CS</td>\n",
       "      <td>3</td>\n",
       "      <td>24</td>\n",
       "    </tr>\n",
       "    <tr>\n",
       "      <th>54303</th>\n",
       "      <td>STT_CS-D-2014-M-D-B04-2-T-03_0015_112363_to_11...</td>\n",
       "      <td>ཁོ་རང་ཡང་ཁོ་རང་རྒྱབ་ལོག་ལ་འགྲོ་རེད་ད་རཱ། ཡང་ཁོ...</td>\n",
       "      <td>kho rang yang kho rang rgyab log la 'gro red d...</td>\n",
       "      <td>https://d38pmlk0v88drf.cloudfront.net/stt_pech...</td>\n",
       "      <td>STT_CS</td>\n",
       "      <td>3</td>\n",
       "      <td>74</td>\n",
       "    </tr>\n",
       "    <tr>\n",
       "      <th>55213</th>\n",
       "      <td>STT_CS-L-2016_2016-M_M-D_D-B02_B02-2_2-R-02_01...</td>\n",
       "      <td>བར་སེང་རྫོགས་ཚར་ནས་གཞུ་གུ་ཤོག་ལབ་ཀི་འདུག ད་ང་ག...</td>\n",
       "      <td>bar seng rdzogs tshar nas gzhu gu shog lab ki ...</td>\n",
       "      <td>https://d38pmlk0v88drf.cloudfront.net/stt_pech...</td>\n",
       "      <td>STT_CS</td>\n",
       "      <td>3</td>\n",
       "      <td>54</td>\n",
       "    </tr>\n",
       "    <tr>\n",
       "      <th>55218</th>\n",
       "      <td>STT_CS-D-2015-M-D-B02-2-R-03_0009_63879_to_702...</td>\n",
       "      <td>ཨ་མཱ་མཛེས་པ་ལ། ཨ་མོའོ་སྙིང་རྗེ་མོ་དཔེ་འདུག</td>\n",
       "      <td>a mA mdzes pa la/_a mo'o snying rje mo dpe 'dug</td>\n",
       "      <td>https://d38pmlk0v88drf.cloudfront.net/stt_pech...</td>\n",
       "      <td>STT_CS</td>\n",
       "      <td>3</td>\n",
       "      <td>43</td>\n",
       "    </tr>\n",
       "  </tbody>\n",
       "</table>\n",
       "<p>1000 rows × 7 columns</p>\n",
       "</div>"
      ],
      "text/plain": [
       "                                                file_name  \\\n",
       "540228  STT_CS-L-2017_2017-P_P-D_D-B01_B01-1_1-R_R-03_...   \n",
       "540227  STT_CS-L-2017_2017-P_P-D_D-B01_B01-1_1-R_R-03_...   \n",
       "540225  STT_CS-L-2017_2017-P_P-D_D-B01_B01-1_1-R_R-01_...   \n",
       "540147  STT_CS-L-2017_2017-P_P-D_D-B04_B04-1_1-R_R-02_...   \n",
       "540148  STT_CS-L-2017_2017-P_P-D_D-B04_B04-1_1-R_R-02_...   \n",
       "...                                                   ...   \n",
       "54250   STT_CS-L-2016_2016-M_M-D_D-B02_B02-2_2-R-02_00...   \n",
       "54252   STT_CS-D-2014-P-D-B05-3-T-01_0056_479940_to_48...   \n",
       "54303   STT_CS-D-2014-M-D-B04-2-T-03_0015_112363_to_11...   \n",
       "55213   STT_CS-L-2016_2016-M_M-D_D-B02_B02-2_2-R-02_01...   \n",
       "55218   STT_CS-D-2015-M-D-B02-2-R-03_0009_63879_to_702...   \n",
       "\n",
       "                                                      uni  \\\n",
       "540228                        ཁོ་ལད་ཋྀ་སླེབས་ཤག་རྒན་ལགས།    \n",
       "540227  རྒན་ལགས། རྒན་ལགས། ཡིག་ཚང་སྒོ་རཱ།ཕ་ཀི་ལ་འགྲོ་ན་...   \n",
       "540225  དགའ་བོ་ཡོད་པེ་ཤ་དགའ་བོ་ཡོད། པེ་ཤ་སྒོར་མོ་ལྔ་བར...   \n",
       "540147                       ད་ང་ཚོ་གཞན་པར་འགྲོ་ཡ་ཡིན་ད།    \n",
       "540148                        ང་འདི། འདི་བཤད་ཐུབ་ཀི་མེད།    \n",
       "...                                                   ...   \n",
       "54250   དཔེ་ཞིམ་པོ་བྱུང་སོང། ཡང་བསྐྱར་རྐུན་མ་གཅིག་རྒྱབ...   \n",
       "54252                            མི་དེ་ལ་ཐུགས་རྗེ་ཆེ་ལབ།    \n",
       "54303   ཁོ་རང་ཡང་ཁོ་རང་རྒྱབ་ལོག་ལ་འགྲོ་རེད་ད་རཱ། ཡང་ཁོ...   \n",
       "55213   བར་སེང་རྫོགས་ཚར་ནས་གཞུ་གུ་ཤོག་ལབ་ཀི་འདུག ད་ང་ག...   \n",
       "55218         ཨ་མཱ་མཛེས་པ་ལ། ཨ་མོའོ་སྙིང་རྗེ་མོ་དཔེ་འདུག    \n",
       "\n",
       "                                                    wylie  \\\n",
       "540228                 kho lad Th-i slebs shag rgan lags/   \n",
       "540227  rgan lags/[ ]rgan lags/[ ]yig tshang sgo rA/ph...   \n",
       "540225  dga' bo yod pe sha dga' bo yod/__pe sha sgor m...   \n",
       "540147             da nga tsho gzhan par 'gro ya yin da/_   \n",
       "540148                   nga 'di/_'di bshad thub ki med/_   \n",
       "...                                                   ...   \n",
       "54250   dpe zhim po byung song/_yang bskyar rkun ma gc...   \n",
       "54252                         mi de la thugs rje che lab/   \n",
       "54303   kho rang yang kho rang rgyab log la 'gro red d...   \n",
       "55213   bar seng rdzogs tshar nas gzhu gu shog lab ki ...   \n",
       "55218     a mA mdzes pa la/_a mo'o snying rje mo dpe 'dug   \n",
       "\n",
       "                                                      url    dept  grade  \\\n",
       "540228  https://d38pmlk0v88drf.cloudfront.net/wav/STT_...  STT_CS      3   \n",
       "540227  https://d38pmlk0v88drf.cloudfront.net/wav/STT_...  STT_CS      3   \n",
       "540225  https://d38pmlk0v88drf.cloudfront.net/wav/STT_...  STT_CS      3   \n",
       "540147  https://d38pmlk0v88drf.cloudfront.net/wav/STT_...  STT_CS      3   \n",
       "540148  https://d38pmlk0v88drf.cloudfront.net/wav/STT_...  STT_CS      3   \n",
       "...                                                   ...     ...    ...   \n",
       "54250   https://d38pmlk0v88drf.cloudfront.net/stt_pech...  STT_CS      3   \n",
       "54252   https://d38pmlk0v88drf.cloudfront.net/stt_pech...  STT_CS      3   \n",
       "54303   https://d38pmlk0v88drf.cloudfront.net/stt_pech...  STT_CS      3   \n",
       "55213   https://d38pmlk0v88drf.cloudfront.net/stt_pech...  STT_CS      3   \n",
       "55218   https://d38pmlk0v88drf.cloudfront.net/stt_pech...  STT_CS      3   \n",
       "\n",
       "        char_len  \n",
       "540228        27  \n",
       "540227        56  \n",
       "540225        56  \n",
       "540147        28  \n",
       "540148        27  \n",
       "...          ...  \n",
       "54250         50  \n",
       "54252         24  \n",
       "54303         74  \n",
       "55213         54  \n",
       "55218         43  \n",
       "\n",
       "[1000 rows x 7 columns]"
      ]
     },
     "execution_count": 84,
     "metadata": {},
     "output_type": "execute_result"
    }
   ],
   "source": [
    "benchmarks_cs"
   ]
  },
  {
   "cell_type": "code",
   "execution_count": null,
   "metadata": {},
   "outputs": [],
   "source": []
  }
 ],
 "metadata": {
  "kernelspec": {
   "display_name": ".env",
   "language": "python",
   "name": "python3"
  },
  "language_info": {
   "codemirror_mode": {
    "name": "ipython",
    "version": 3
   },
   "file_extension": ".py",
   "mimetype": "text/x-python",
   "name": "python",
   "nbconvert_exporter": "python",
   "pygments_lexer": "ipython3",
   "version": "3.10.12"
  }
 },
 "nbformat": 4,
 "nbformat_minor": 2
}
