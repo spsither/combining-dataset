{
 "cells": [
  {
   "cell_type": "code",
   "execution_count": 1,
   "metadata": {},
   "outputs": [],
   "source": [
    "csv_path = \"/home/monlamai/_Task__202310191450.csv\""
   ]
  },
  {
   "cell_type": "code",
   "execution_count": 2,
   "metadata": {},
   "outputs": [],
   "source": [
    "import pandas as pd\n",
    "df = pd.read_csv(csv_path)"
   ]
  },
  {
   "cell_type": "code",
   "execution_count": 3,
   "metadata": {},
   "outputs": [
    {
     "data": {
      "text/html": [
       "<div>\n",
       "<style scoped>\n",
       "    .dataframe tbody tr th:only-of-type {\n",
       "        vertical-align: middle;\n",
       "    }\n",
       "\n",
       "    .dataframe tbody tr th {\n",
       "        vertical-align: top;\n",
       "    }\n",
       "\n",
       "    .dataframe thead th {\n",
       "        text-align: right;\n",
       "    }\n",
       "</style>\n",
       "<table border=\"1\" class=\"dataframe\">\n",
       "  <thead>\n",
       "    <tr style=\"text-align: right;\">\n",
       "      <th></th>\n",
       "      <th>transcript</th>\n",
       "      <th>reviewed_transcript</th>\n",
       "      <th>file_name</th>\n",
       "      <th>url</th>\n",
       "    </tr>\n",
       "  </thead>\n",
       "  <tbody>\n",
       "    <tr>\n",
       "      <th>0</th>\n",
       "      <td>་གྱིས་དང་ཞེས་བཤད་དེ་དོན་གྲུབ་འཁྲིས་ཀྱི་ཤུར་ལྕོ...</td>\n",
       "      <td>བྱས་ཤིག་ཞེས་བཤད་དེ་དོན་གྲུབ་འཁྲིས་ཀྱི་ཤུར་ལྕོག...</td>\n",
       "      <td>STT_AB00236_0089_766379_to_777101</td>\n",
       "      <td>https://huggingface.co/datasets/openpecha/STT_...</td>\n",
       "    </tr>\n",
       "    <tr>\n",
       "      <th>1</th>\n",
       "      <td>ང་རང་འཇོན་པོ་སང་ཙང་། རིག་པ་ཡག་པོ་སང་ཙང་།</td>\n",
       "      <td>ང་རང་འཇོན་པོ་སང་ཙང་། རིག་པ་ཡག་པོ་སང་ཙང་།</td>\n",
       "      <td>STT_TT00498_0182_1009491_to_1011795.wav</td>\n",
       "      <td>https://d38pmlk0v88drf.cloudfront.net/stt_pech...</td>\n",
       "    </tr>\n",
       "    <tr>\n",
       "      <th>2</th>\n",
       "      <td>།དོན་གྲུབ་ཀྱིས་ར་སྤུ་ལ་མཆིལ་མ་ཕྲན་ཙམ་སྟོར་ཏེ་ལ...</td>\n",
       "      <td>དོན་གྲུབ་ཀྱིས་ར་སྤུར་མཆིལ་མ་ཕྲན་ཙམ་འདོར་ཏེ་ལག་...</td>\n",
       "      <td>STT_AB00236_0093_798284_to_804308</td>\n",
       "      <td>https://huggingface.co/datasets/openpecha/STT_...</td>\n",
       "    </tr>\n",
       "    <tr>\n",
       "      <th>3</th>\n",
       "      <td>གནས་རྩ་ཆེན་ཞེ་བོ་གཅིག་པེ་གཅིག ད་ལྷ་བླ་མའི་གདན་...</td>\n",
       "      <td>གནས་རྩ་ཆེན་ཞེ་བོ་ཅིག་དཔེ་གཅིག ད་ལྷ་བླ་མའི་གདན་...</td>\n",
       "      <td>STT_TT00501_0036_191445_to_195445.wav</td>\n",
       "      <td>https://d38pmlk0v88drf.cloudfront.net/stt_pech...</td>\n",
       "    </tr>\n",
       "    <tr>\n",
       "      <th>4</th>\n",
       "      <td>་དེ་རིང་ཁྱེད་ཚོའི་ཚོགས་ཆུང་ལ་ལས་ཀ་མེད་དམ་ཞེས་ས...</td>\n",
       "      <td>དེ་རིང་ཁྱེད་ཚོའི་ཚོགས་ཆུང་ལ་ཡ་ལས་ཀ་མི་འདུག་གེ་...</td>\n",
       "      <td>STT_AB00236_0094_804735_to_811203</td>\n",
       "      <td>https://huggingface.co/datasets/openpecha/STT_...</td>\n",
       "    </tr>\n",
       "  </tbody>\n",
       "</table>\n",
       "</div>"
      ],
      "text/plain": [
       "                                          transcript  \\\n",
       "0  ་གྱིས་དང་ཞེས་བཤད་དེ་དོན་གྲུབ་འཁྲིས་ཀྱི་ཤུར་ལྕོ...   \n",
       "1           ང་རང་འཇོན་པོ་སང་ཙང་། རིག་པ་ཡག་པོ་སང་ཙང་།   \n",
       "2  །དོན་གྲུབ་ཀྱིས་ར་སྤུ་ལ་མཆིལ་མ་ཕྲན་ཙམ་སྟོར་ཏེ་ལ...   \n",
       "3  གནས་རྩ་ཆེན་ཞེ་བོ་གཅིག་པེ་གཅིག ད་ལྷ་བླ་མའི་གདན་...   \n",
       "4  ་དེ་རིང་ཁྱེད་ཚོའི་ཚོགས་ཆུང་ལ་ལས་ཀ་མེད་དམ་ཞེས་ས...   \n",
       "\n",
       "                                 reviewed_transcript  \\\n",
       "0  བྱས་ཤིག་ཞེས་བཤད་དེ་དོན་གྲུབ་འཁྲིས་ཀྱི་ཤུར་ལྕོག...   \n",
       "1           ང་རང་འཇོན་པོ་སང་ཙང་། རིག་པ་ཡག་པོ་སང་ཙང་།   \n",
       "2  དོན་གྲུབ་ཀྱིས་ར་སྤུར་མཆིལ་མ་ཕྲན་ཙམ་འདོར་ཏེ་ལག་...   \n",
       "3  གནས་རྩ་ཆེན་ཞེ་བོ་ཅིག་དཔེ་གཅིག ད་ལྷ་བླ་མའི་གདན་...   \n",
       "4  དེ་རིང་ཁྱེད་ཚོའི་ཚོགས་ཆུང་ལ་ཡ་ལས་ཀ་མི་འདུག་གེ་...   \n",
       "\n",
       "                                 file_name  \\\n",
       "0        STT_AB00236_0089_766379_to_777101   \n",
       "1  STT_TT00498_0182_1009491_to_1011795.wav   \n",
       "2        STT_AB00236_0093_798284_to_804308   \n",
       "3    STT_TT00501_0036_191445_to_195445.wav   \n",
       "4        STT_AB00236_0094_804735_to_811203   \n",
       "\n",
       "                                                 url  \n",
       "0  https://huggingface.co/datasets/openpecha/STT_...  \n",
       "1  https://d38pmlk0v88drf.cloudfront.net/stt_pech...  \n",
       "2  https://huggingface.co/datasets/openpecha/STT_...  \n",
       "3  https://d38pmlk0v88drf.cloudfront.net/stt_pech...  \n",
       "4  https://huggingface.co/datasets/openpecha/STT_...  "
      ]
     },
     "execution_count": 3,
     "metadata": {},
     "output_type": "execute_result"
    }
   ],
   "source": [
    "df.head()"
   ]
  },
  {
   "cell_type": "code",
   "execution_count": 4,
   "metadata": {},
   "outputs": [],
   "source": [
    "df['reviewed_transcript'].fillna(df['transcript'], inplace=True)"
   ]
  },
  {
   "cell_type": "code",
   "execution_count": 5,
   "metadata": {},
   "outputs": [
    {
     "data": {
      "text/html": [
       "<div>\n",
       "<style scoped>\n",
       "    .dataframe tbody tr th:only-of-type {\n",
       "        vertical-align: middle;\n",
       "    }\n",
       "\n",
       "    .dataframe tbody tr th {\n",
       "        vertical-align: top;\n",
       "    }\n",
       "\n",
       "    .dataframe thead th {\n",
       "        text-align: right;\n",
       "    }\n",
       "</style>\n",
       "<table border=\"1\" class=\"dataframe\">\n",
       "  <thead>\n",
       "    <tr style=\"text-align: right;\">\n",
       "      <th></th>\n",
       "      <th>transcript</th>\n",
       "      <th>reviewed_transcript</th>\n",
       "      <th>file_name</th>\n",
       "      <th>url</th>\n",
       "    </tr>\n",
       "  </thead>\n",
       "  <tbody>\n",
       "    <tr>\n",
       "      <th>0</th>\n",
       "      <td>་གྱིས་དང་ཞེས་བཤད་དེ་དོན་གྲུབ་འཁྲིས་ཀྱི་ཤུར་ལྕོ...</td>\n",
       "      <td>བྱས་ཤིག་ཞེས་བཤད་དེ་དོན་གྲུབ་འཁྲིས་ཀྱི་ཤུར་ལྕོག...</td>\n",
       "      <td>STT_AB00236_0089_766379_to_777101</td>\n",
       "      <td>https://huggingface.co/datasets/openpecha/STT_...</td>\n",
       "    </tr>\n",
       "    <tr>\n",
       "      <th>1</th>\n",
       "      <td>ང་རང་འཇོན་པོ་སང་ཙང་། རིག་པ་ཡག་པོ་སང་ཙང་།</td>\n",
       "      <td>ང་རང་འཇོན་པོ་སང་ཙང་། རིག་པ་ཡག་པོ་སང་ཙང་།</td>\n",
       "      <td>STT_TT00498_0182_1009491_to_1011795.wav</td>\n",
       "      <td>https://d38pmlk0v88drf.cloudfront.net/stt_pech...</td>\n",
       "    </tr>\n",
       "    <tr>\n",
       "      <th>2</th>\n",
       "      <td>།དོན་གྲུབ་ཀྱིས་ར་སྤུ་ལ་མཆིལ་མ་ཕྲན་ཙམ་སྟོར་ཏེ་ལ...</td>\n",
       "      <td>དོན་གྲུབ་ཀྱིས་ར་སྤུར་མཆིལ་མ་ཕྲན་ཙམ་འདོར་ཏེ་ལག་...</td>\n",
       "      <td>STT_AB00236_0093_798284_to_804308</td>\n",
       "      <td>https://huggingface.co/datasets/openpecha/STT_...</td>\n",
       "    </tr>\n",
       "    <tr>\n",
       "      <th>3</th>\n",
       "      <td>གནས་རྩ་ཆེན་ཞེ་བོ་གཅིག་པེ་གཅིག ད་ལྷ་བླ་མའི་གདན་...</td>\n",
       "      <td>གནས་རྩ་ཆེན་ཞེ་བོ་ཅིག་དཔེ་གཅིག ད་ལྷ་བླ་མའི་གདན་...</td>\n",
       "      <td>STT_TT00501_0036_191445_to_195445.wav</td>\n",
       "      <td>https://d38pmlk0v88drf.cloudfront.net/stt_pech...</td>\n",
       "    </tr>\n",
       "    <tr>\n",
       "      <th>4</th>\n",
       "      <td>་དེ་རིང་ཁྱེད་ཚོའི་ཚོགས་ཆུང་ལ་ལས་ཀ་མེད་དམ་ཞེས་ས...</td>\n",
       "      <td>དེ་རིང་ཁྱེད་ཚོའི་ཚོགས་ཆུང་ལ་ཡ་ལས་ཀ་མི་འདུག་གེ་...</td>\n",
       "      <td>STT_AB00236_0094_804735_to_811203</td>\n",
       "      <td>https://huggingface.co/datasets/openpecha/STT_...</td>\n",
       "    </tr>\n",
       "  </tbody>\n",
       "</table>\n",
       "</div>"
      ],
      "text/plain": [
       "                                          transcript  \\\n",
       "0  ་གྱིས་དང་ཞེས་བཤད་དེ་དོན་གྲུབ་འཁྲིས་ཀྱི་ཤུར་ལྕོ...   \n",
       "1           ང་རང་འཇོན་པོ་སང་ཙང་། རིག་པ་ཡག་པོ་སང་ཙང་།   \n",
       "2  །དོན་གྲུབ་ཀྱིས་ར་སྤུ་ལ་མཆིལ་མ་ཕྲན་ཙམ་སྟོར་ཏེ་ལ...   \n",
       "3  གནས་རྩ་ཆེན་ཞེ་བོ་གཅིག་པེ་གཅིག ད་ལྷ་བླ་མའི་གདན་...   \n",
       "4  ་དེ་རིང་ཁྱེད་ཚོའི་ཚོགས་ཆུང་ལ་ལས་ཀ་མེད་དམ་ཞེས་ས...   \n",
       "\n",
       "                                 reviewed_transcript  \\\n",
       "0  བྱས་ཤིག་ཞེས་བཤད་དེ་དོན་གྲུབ་འཁྲིས་ཀྱི་ཤུར་ལྕོག...   \n",
       "1           ང་རང་འཇོན་པོ་སང་ཙང་། རིག་པ་ཡག་པོ་སང་ཙང་།   \n",
       "2  དོན་གྲུབ་ཀྱིས་ར་སྤུར་མཆིལ་མ་ཕྲན་ཙམ་འདོར་ཏེ་ལག་...   \n",
       "3  གནས་རྩ་ཆེན་ཞེ་བོ་ཅིག་དཔེ་གཅིག ད་ལྷ་བླ་མའི་གདན་...   \n",
       "4  དེ་རིང་ཁྱེད་ཚོའི་ཚོགས་ཆུང་ལ་ཡ་ལས་ཀ་མི་འདུག་གེ་...   \n",
       "\n",
       "                                 file_name  \\\n",
       "0        STT_AB00236_0089_766379_to_777101   \n",
       "1  STT_TT00498_0182_1009491_to_1011795.wav   \n",
       "2        STT_AB00236_0093_798284_to_804308   \n",
       "3    STT_TT00501_0036_191445_to_195445.wav   \n",
       "4        STT_AB00236_0094_804735_to_811203   \n",
       "\n",
       "                                                 url  \n",
       "0  https://huggingface.co/datasets/openpecha/STT_...  \n",
       "1  https://d38pmlk0v88drf.cloudfront.net/stt_pech...  \n",
       "2  https://huggingface.co/datasets/openpecha/STT_...  \n",
       "3  https://d38pmlk0v88drf.cloudfront.net/stt_pech...  \n",
       "4  https://huggingface.co/datasets/openpecha/STT_...  "
      ]
     },
     "execution_count": 5,
     "metadata": {},
     "output_type": "execute_result"
    }
   ],
   "source": [
    "df.head()"
   ]
  },
  {
   "cell_type": "code",
   "execution_count": 17,
   "metadata": {},
   "outputs": [],
   "source": [
    "df = df[~df['reviewed_transcript'].isnull()]"
   ]
  },
  {
   "cell_type": "code",
   "execution_count": 18,
   "metadata": {},
   "outputs": [],
   "source": [
    "import pyewts\n",
    "\n",
    "converter = pyewts.pyewts()\n",
    "\n",
    "df['wylie'] = df['reviewed_transcript'].apply(converter.toWylie)"
   ]
  },
  {
   "cell_type": "code",
   "execution_count": 20,
   "metadata": {},
   "outputs": [],
   "source": [
    "df['dept'] = df['file_name'].str[:6]"
   ]
  },
  {
   "cell_type": "code",
   "execution_count": 22,
   "metadata": {},
   "outputs": [],
   "source": [
    "df = df[['file_name','reviewed_transcript', 'wylie', 'url', 'dept']]"
   ]
  },
  {
   "cell_type": "code",
   "execution_count": 24,
   "metadata": {},
   "outputs": [],
   "source": [
    "df.rename(columns={'reviewed_transcript':'uni'}, inplace=True)"
   ]
  },
  {
   "cell_type": "code",
   "execution_count": 25,
   "metadata": {},
   "outputs": [
    {
     "data": {
      "text/html": [
       "<div>\n",
       "<style scoped>\n",
       "    .dataframe tbody tr th:only-of-type {\n",
       "        vertical-align: middle;\n",
       "    }\n",
       "\n",
       "    .dataframe tbody tr th {\n",
       "        vertical-align: top;\n",
       "    }\n",
       "\n",
       "    .dataframe thead th {\n",
       "        text-align: right;\n",
       "    }\n",
       "</style>\n",
       "<table border=\"1\" class=\"dataframe\">\n",
       "  <thead>\n",
       "    <tr style=\"text-align: right;\">\n",
       "      <th></th>\n",
       "      <th>file_name</th>\n",
       "      <th>uni</th>\n",
       "      <th>wylie</th>\n",
       "      <th>url</th>\n",
       "      <th>dept</th>\n",
       "    </tr>\n",
       "  </thead>\n",
       "  <tbody>\n",
       "    <tr>\n",
       "      <th>0</th>\n",
       "      <td>STT_AB00236_0089_766379_to_777101</td>\n",
       "      <td>བྱས་ཤིག་ཞེས་བཤད་དེ་དོན་གྲུབ་འཁྲིས་ཀྱི་ཤུར་ལྕོག...</td>\n",
       "      <td>byas shig zhes bshad de don grub 'khris kyi sh...</td>\n",
       "      <td>https://huggingface.co/datasets/openpecha/STT_...</td>\n",
       "      <td>STT_AB</td>\n",
       "    </tr>\n",
       "    <tr>\n",
       "      <th>1</th>\n",
       "      <td>STT_TT00498_0182_1009491_to_1011795.wav</td>\n",
       "      <td>ང་རང་འཇོན་པོ་སང་ཙང་། རིག་པ་ཡག་པོ་སང་ཙང་།</td>\n",
       "      <td>nga rang 'jon po sang tsang /_rig pa yag po sa...</td>\n",
       "      <td>https://d38pmlk0v88drf.cloudfront.net/stt_pech...</td>\n",
       "      <td>STT_TT</td>\n",
       "    </tr>\n",
       "    <tr>\n",
       "      <th>2</th>\n",
       "      <td>STT_AB00236_0093_798284_to_804308</td>\n",
       "      <td>དོན་གྲུབ་ཀྱིས་ར་སྤུར་མཆིལ་མ་ཕྲན་ཙམ་འདོར་ཏེ་ལག་...</td>\n",
       "      <td>don grub kyis ra spur mchil ma phran tsam 'dor...</td>\n",
       "      <td>https://huggingface.co/datasets/openpecha/STT_...</td>\n",
       "      <td>STT_AB</td>\n",
       "    </tr>\n",
       "    <tr>\n",
       "      <th>3</th>\n",
       "      <td>STT_TT00501_0036_191445_to_195445.wav</td>\n",
       "      <td>གནས་རྩ་ཆེན་ཞེ་བོ་ཅིག་དཔེ་གཅིག ད་ལྷ་བླ་མའི་གདན་...</td>\n",
       "      <td>gnas rtsa chen zhe bo cig dpe gcig_da lha bla ...</td>\n",
       "      <td>https://d38pmlk0v88drf.cloudfront.net/stt_pech...</td>\n",
       "      <td>STT_TT</td>\n",
       "    </tr>\n",
       "    <tr>\n",
       "      <th>4</th>\n",
       "      <td>STT_AB00236_0094_804735_to_811203</td>\n",
       "      <td>དེ་རིང་ཁྱེད་ཚོའི་ཚོགས་ཆུང་ལ་ཡ་ལས་ཀ་མི་འདུག་གེ་...</td>\n",
       "      <td>de ring khyed tsho'i tshogs chung la ya las ka...</td>\n",
       "      <td>https://huggingface.co/datasets/openpecha/STT_...</td>\n",
       "      <td>STT_AB</td>\n",
       "    </tr>\n",
       "  </tbody>\n",
       "</table>\n",
       "</div>"
      ],
      "text/plain": [
       "                                 file_name  \\\n",
       "0        STT_AB00236_0089_766379_to_777101   \n",
       "1  STT_TT00498_0182_1009491_to_1011795.wav   \n",
       "2        STT_AB00236_0093_798284_to_804308   \n",
       "3    STT_TT00501_0036_191445_to_195445.wav   \n",
       "4        STT_AB00236_0094_804735_to_811203   \n",
       "\n",
       "                                                 uni  \\\n",
       "0  བྱས་ཤིག་ཞེས་བཤད་དེ་དོན་གྲུབ་འཁྲིས་ཀྱི་ཤུར་ལྕོག...   \n",
       "1           ང་རང་འཇོན་པོ་སང་ཙང་། རིག་པ་ཡག་པོ་སང་ཙང་།   \n",
       "2  དོན་གྲུབ་ཀྱིས་ར་སྤུར་མཆིལ་མ་ཕྲན་ཙམ་འདོར་ཏེ་ལག་...   \n",
       "3  གནས་རྩ་ཆེན་ཞེ་བོ་ཅིག་དཔེ་གཅིག ད་ལྷ་བླ་མའི་གདན་...   \n",
       "4  དེ་རིང་ཁྱེད་ཚོའི་ཚོགས་ཆུང་ལ་ཡ་ལས་ཀ་མི་འདུག་གེ་...   \n",
       "\n",
       "                                               wylie  \\\n",
       "0  byas shig zhes bshad de don grub 'khris kyi sh...   \n",
       "1  nga rang 'jon po sang tsang /_rig pa yag po sa...   \n",
       "2  don grub kyis ra spur mchil ma phran tsam 'dor...   \n",
       "3  gnas rtsa chen zhe bo cig dpe gcig_da lha bla ...   \n",
       "4  de ring khyed tsho'i tshogs chung la ya las ka...   \n",
       "\n",
       "                                                 url    dept  \n",
       "0  https://huggingface.co/datasets/openpecha/STT_...  STT_AB  \n",
       "1  https://d38pmlk0v88drf.cloudfront.net/stt_pech...  STT_TT  \n",
       "2  https://huggingface.co/datasets/openpecha/STT_...  STT_AB  \n",
       "3  https://d38pmlk0v88drf.cloudfront.net/stt_pech...  STT_TT  \n",
       "4  https://huggingface.co/datasets/openpecha/STT_...  STT_AB  "
      ]
     },
     "execution_count": 25,
     "metadata": {},
     "output_type": "execute_result"
    }
   ],
   "source": [
    "df.head()"
   ]
  },
  {
   "cell_type": "code",
   "execution_count": 26,
   "metadata": {},
   "outputs": [],
   "source": [
    "df.to_csv('stt_pecha.tsv', sep='\\t', index=False)"
   ]
  },
  {
   "cell_type": "code",
   "execution_count": null,
   "metadata": {},
   "outputs": [],
   "source": []
  }
 ],
 "metadata": {
  "kernelspec": {
   "display_name": ".env",
   "language": "python",
   "name": "python3"
  },
  "language_info": {
   "codemirror_mode": {
    "name": "ipython",
    "version": 3
   },
   "file_extension": ".py",
   "mimetype": "text/x-python",
   "name": "python",
   "nbconvert_exporter": "python",
   "pygments_lexer": "ipython3",
   "version": "3.10.12"
  }
 },
 "nbformat": 4,
 "nbformat_minor": 2
}
