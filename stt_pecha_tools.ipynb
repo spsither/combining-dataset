{
 "cells": [
  {
   "cell_type": "markdown",
   "metadata": {},
   "source": [
    "```sql\n",
    "select t.transcript, t.reviewed_transcript, t.file_name, t.url \n",
    "from \"Task\" t \n",
    "where t.state in ('submitted', 'accepted', 'finalised');\n",
    "```"
   ]
  },
  {
   "cell_type": "code",
   "execution_count": 1,
   "metadata": {},
   "outputs": [],
   "source": [
    "csv_path = \"/home/monlamai/_Task__202310311143.csv\""
   ]
  },
  {
   "cell_type": "code",
   "execution_count": 2,
   "metadata": {},
   "outputs": [],
   "source": [
    "import pandas as pd\n",
    "df = pd.read_csv(csv_path)"
   ]
  },
  {
   "cell_type": "code",
   "execution_count": 3,
   "metadata": {},
   "outputs": [
    {
     "data": {
      "text/html": [
       "<div>\n",
       "<style scoped>\n",
       "    .dataframe tbody tr th:only-of-type {\n",
       "        vertical-align: middle;\n",
       "    }\n",
       "\n",
       "    .dataframe tbody tr th {\n",
       "        vertical-align: top;\n",
       "    }\n",
       "\n",
       "    .dataframe thead th {\n",
       "        text-align: right;\n",
       "    }\n",
       "</style>\n",
       "<table border=\"1\" class=\"dataframe\">\n",
       "  <thead>\n",
       "    <tr style=\"text-align: right;\">\n",
       "      <th></th>\n",
       "      <th>transcript</th>\n",
       "      <th>reviewed_transcript</th>\n",
       "      <th>file_name</th>\n",
       "      <th>url</th>\n",
       "    </tr>\n",
       "  </thead>\n",
       "  <tbody>\n",
       "    <tr>\n",
       "      <th>0</th>\n",
       "      <td>བོད་གཞུང་བཀའ་ཤག་དང༌།</td>\n",
       "      <td>བོད་གཞུང་བཀའ་ཤག་དང༌</td>\n",
       "      <td>STT_AB00156_0296_1211329_to_1212494</td>\n",
       "      <td>https://huggingface.co/datasets/openpecha/STT_...</td>\n",
       "    </tr>\n",
       "    <tr>\n",
       "      <th>1</th>\n",
       "      <td>དེར་བརྟེན་ན་</td>\n",
       "      <td>དེར་བརྟེན་ན་</td>\n",
       "      <td>STT_AB00157_0050_200635_to_201377</td>\n",
       "      <td>https://huggingface.co/datasets/openpecha/STT_...</td>\n",
       "    </tr>\n",
       "    <tr>\n",
       "      <th>2</th>\n",
       "      <td>ཅེས་ཟེར་ཡང༌།</td>\n",
       "      <td>ཅེས་ཟེར་ཡང༌།</td>\n",
       "      <td>STT_AB00156_0239_937026_to_938157</td>\n",
       "      <td>https://huggingface.co/datasets/openpecha/STT_...</td>\n",
       "    </tr>\n",
       "    <tr>\n",
       "      <th>3</th>\n",
       "      <td>བོད་ཤར་ཕྱོགས་ས་ཁུལ་དུ་མི་མང་གི་རེ་འདོད་གསལ་པོ་...</td>\n",
       "      <td>བོད་ཤར་ཕྱོགས་ས་ཁུལ་དུ་མི་མང་གི་རེ་འདོད་གསལ་པོ་...</td>\n",
       "      <td>STT_AB00156_0240_938579_to_944485</td>\n",
       "      <td>https://huggingface.co/datasets/openpecha/STT_...</td>\n",
       "    </tr>\n",
       "    <tr>\n",
       "      <th>4</th>\n",
       "      <td>བྱས་དང་བྱེད་བཞིན་ཡོད་པ་རེད།</td>\n",
       "      <td>བྱས་དང་བྱེད་བཞིན་ཡོད་པ་རེད།</td>\n",
       "      <td>STT_AB00156_0241_944974_to_946307</td>\n",
       "      <td>https://huggingface.co/datasets/openpecha/STT_...</td>\n",
       "    </tr>\n",
       "  </tbody>\n",
       "</table>\n",
       "</div>"
      ],
      "text/plain": [
       "                                          transcript  \\\n",
       "0                               བོད་གཞུང་བཀའ་ཤག་དང༌།   \n",
       "1                                       དེར་བརྟེན་ན་   \n",
       "2                                       ཅེས་ཟེར་ཡང༌།   \n",
       "3  བོད་ཤར་ཕྱོགས་ས་ཁུལ་དུ་མི་མང་གི་རེ་འདོད་གསལ་པོ་...   \n",
       "4                        བྱས་དང་བྱེད་བཞིན་ཡོད་པ་རེད།   \n",
       "\n",
       "                                 reviewed_transcript  \\\n",
       "0                                བོད་གཞུང་བཀའ་ཤག་དང༌   \n",
       "1                                       དེར་བརྟེན་ན་   \n",
       "2                                       ཅེས་ཟེར་ཡང༌།   \n",
       "3  བོད་ཤར་ཕྱོགས་ས་ཁུལ་དུ་མི་མང་གི་རེ་འདོད་གསལ་པོ་...   \n",
       "4                        བྱས་དང་བྱེད་བཞིན་ཡོད་པ་རེད།   \n",
       "\n",
       "                             file_name  \\\n",
       "0  STT_AB00156_0296_1211329_to_1212494   \n",
       "1    STT_AB00157_0050_200635_to_201377   \n",
       "2    STT_AB00156_0239_937026_to_938157   \n",
       "3    STT_AB00156_0240_938579_to_944485   \n",
       "4    STT_AB00156_0241_944974_to_946307   \n",
       "\n",
       "                                                 url  \n",
       "0  https://huggingface.co/datasets/openpecha/STT_...  \n",
       "1  https://huggingface.co/datasets/openpecha/STT_...  \n",
       "2  https://huggingface.co/datasets/openpecha/STT_...  \n",
       "3  https://huggingface.co/datasets/openpecha/STT_...  \n",
       "4  https://huggingface.co/datasets/openpecha/STT_...  "
      ]
     },
     "execution_count": 3,
     "metadata": {},
     "output_type": "execute_result"
    }
   ],
   "source": [
    "df.head()"
   ]
  },
  {
   "cell_type": "code",
   "execution_count": 4,
   "metadata": {},
   "outputs": [],
   "source": [
    "df['reviewed_transcript'].fillna(df['transcript'], inplace=True)"
   ]
  },
  {
   "cell_type": "code",
   "execution_count": 5,
   "metadata": {},
   "outputs": [
    {
     "data": {
      "text/html": [
       "<div>\n",
       "<style scoped>\n",
       "    .dataframe tbody tr th:only-of-type {\n",
       "        vertical-align: middle;\n",
       "    }\n",
       "\n",
       "    .dataframe tbody tr th {\n",
       "        vertical-align: top;\n",
       "    }\n",
       "\n",
       "    .dataframe thead th {\n",
       "        text-align: right;\n",
       "    }\n",
       "</style>\n",
       "<table border=\"1\" class=\"dataframe\">\n",
       "  <thead>\n",
       "    <tr style=\"text-align: right;\">\n",
       "      <th></th>\n",
       "      <th>transcript</th>\n",
       "      <th>reviewed_transcript</th>\n",
       "      <th>file_name</th>\n",
       "      <th>url</th>\n",
       "    </tr>\n",
       "  </thead>\n",
       "  <tbody>\n",
       "    <tr>\n",
       "      <th>0</th>\n",
       "      <td>བོད་གཞུང་བཀའ་ཤག་དང༌།</td>\n",
       "      <td>བོད་གཞུང་བཀའ་ཤག་དང༌</td>\n",
       "      <td>STT_AB00156_0296_1211329_to_1212494</td>\n",
       "      <td>https://huggingface.co/datasets/openpecha/STT_...</td>\n",
       "    </tr>\n",
       "    <tr>\n",
       "      <th>1</th>\n",
       "      <td>དེར་བརྟེན་ན་</td>\n",
       "      <td>དེར་བརྟེན་ན་</td>\n",
       "      <td>STT_AB00157_0050_200635_to_201377</td>\n",
       "      <td>https://huggingface.co/datasets/openpecha/STT_...</td>\n",
       "    </tr>\n",
       "    <tr>\n",
       "      <th>2</th>\n",
       "      <td>ཅེས་ཟེར་ཡང༌།</td>\n",
       "      <td>ཅེས་ཟེར་ཡང༌།</td>\n",
       "      <td>STT_AB00156_0239_937026_to_938157</td>\n",
       "      <td>https://huggingface.co/datasets/openpecha/STT_...</td>\n",
       "    </tr>\n",
       "    <tr>\n",
       "      <th>3</th>\n",
       "      <td>བོད་ཤར་ཕྱོགས་ས་ཁུལ་དུ་མི་མང་གི་རེ་འདོད་གསལ་པོ་...</td>\n",
       "      <td>བོད་ཤར་ཕྱོགས་ས་ཁུལ་དུ་མི་མང་གི་རེ་འདོད་གསལ་པོ་...</td>\n",
       "      <td>STT_AB00156_0240_938579_to_944485</td>\n",
       "      <td>https://huggingface.co/datasets/openpecha/STT_...</td>\n",
       "    </tr>\n",
       "    <tr>\n",
       "      <th>4</th>\n",
       "      <td>བྱས་དང་བྱེད་བཞིན་ཡོད་པ་རེད།</td>\n",
       "      <td>བྱས་དང་བྱེད་བཞིན་ཡོད་པ་རེད།</td>\n",
       "      <td>STT_AB00156_0241_944974_to_946307</td>\n",
       "      <td>https://huggingface.co/datasets/openpecha/STT_...</td>\n",
       "    </tr>\n",
       "  </tbody>\n",
       "</table>\n",
       "</div>"
      ],
      "text/plain": [
       "                                          transcript  \\\n",
       "0                               བོད་གཞུང་བཀའ་ཤག་དང༌།   \n",
       "1                                       དེར་བརྟེན་ན་   \n",
       "2                                       ཅེས་ཟེར་ཡང༌།   \n",
       "3  བོད་ཤར་ཕྱོགས་ས་ཁུལ་དུ་མི་མང་གི་རེ་འདོད་གསལ་པོ་...   \n",
       "4                        བྱས་དང་བྱེད་བཞིན་ཡོད་པ་རེད།   \n",
       "\n",
       "                                 reviewed_transcript  \\\n",
       "0                                བོད་གཞུང་བཀའ་ཤག་དང༌   \n",
       "1                                       དེར་བརྟེན་ན་   \n",
       "2                                       ཅེས་ཟེར་ཡང༌།   \n",
       "3  བོད་ཤར་ཕྱོགས་ས་ཁུལ་དུ་མི་མང་གི་རེ་འདོད་གསལ་པོ་...   \n",
       "4                        བྱས་དང་བྱེད་བཞིན་ཡོད་པ་རེད།   \n",
       "\n",
       "                             file_name  \\\n",
       "0  STT_AB00156_0296_1211329_to_1212494   \n",
       "1    STT_AB00157_0050_200635_to_201377   \n",
       "2    STT_AB00156_0239_937026_to_938157   \n",
       "3    STT_AB00156_0240_938579_to_944485   \n",
       "4    STT_AB00156_0241_944974_to_946307   \n",
       "\n",
       "                                                 url  \n",
       "0  https://huggingface.co/datasets/openpecha/STT_...  \n",
       "1  https://huggingface.co/datasets/openpecha/STT_...  \n",
       "2  https://huggingface.co/datasets/openpecha/STT_...  \n",
       "3  https://huggingface.co/datasets/openpecha/STT_...  \n",
       "4  https://huggingface.co/datasets/openpecha/STT_...  "
      ]
     },
     "execution_count": 5,
     "metadata": {},
     "output_type": "execute_result"
    }
   ],
   "source": [
    "df.head()"
   ]
  },
  {
   "cell_type": "code",
   "execution_count": 6,
   "metadata": {},
   "outputs": [],
   "source": [
    "df = df[~df['reviewed_transcript'].isnull()]"
   ]
  },
  {
   "cell_type": "code",
   "execution_count": 7,
   "metadata": {},
   "outputs": [],
   "source": [
    "import pyewts\n",
    "\n",
    "converter = pyewts.pyewts()\n",
    "\n",
    "df['wylie'] = df['reviewed_transcript'].apply(converter.toWylie)"
   ]
  },
  {
   "cell_type": "code",
   "execution_count": 8,
   "metadata": {},
   "outputs": [],
   "source": [
    "df['dept'] = df['file_name'].str[:6]"
   ]
  },
  {
   "cell_type": "code",
   "execution_count": 9,
   "metadata": {},
   "outputs": [],
   "source": [
    "df = df[['file_name','reviewed_transcript', 'wylie', 'url', 'dept']]"
   ]
  },
  {
   "cell_type": "code",
   "execution_count": 10,
   "metadata": {},
   "outputs": [],
   "source": [
    "df.rename(columns={'reviewed_transcript':'uni'}, inplace=True)"
   ]
  },
  {
   "cell_type": "code",
   "execution_count": 11,
   "metadata": {},
   "outputs": [
    {
     "data": {
      "text/html": [
       "<div>\n",
       "<style scoped>\n",
       "    .dataframe tbody tr th:only-of-type {\n",
       "        vertical-align: middle;\n",
       "    }\n",
       "\n",
       "    .dataframe tbody tr th {\n",
       "        vertical-align: top;\n",
       "    }\n",
       "\n",
       "    .dataframe thead th {\n",
       "        text-align: right;\n",
       "    }\n",
       "</style>\n",
       "<table border=\"1\" class=\"dataframe\">\n",
       "  <thead>\n",
       "    <tr style=\"text-align: right;\">\n",
       "      <th></th>\n",
       "      <th>file_name</th>\n",
       "      <th>uni</th>\n",
       "      <th>wylie</th>\n",
       "      <th>url</th>\n",
       "      <th>dept</th>\n",
       "    </tr>\n",
       "  </thead>\n",
       "  <tbody>\n",
       "    <tr>\n",
       "      <th>0</th>\n",
       "      <td>STT_AB00156_0296_1211329_to_1212494</td>\n",
       "      <td>བོད་གཞུང་བཀའ་ཤག་དང༌</td>\n",
       "      <td>bod gzhung bka' shag dang*</td>\n",
       "      <td>https://huggingface.co/datasets/openpecha/STT_...</td>\n",
       "      <td>STT_AB</td>\n",
       "    </tr>\n",
       "    <tr>\n",
       "      <th>1</th>\n",
       "      <td>STT_AB00157_0050_200635_to_201377</td>\n",
       "      <td>དེར་བརྟེན་ན་</td>\n",
       "      <td>_der brten na</td>\n",
       "      <td>https://huggingface.co/datasets/openpecha/STT_...</td>\n",
       "      <td>STT_AB</td>\n",
       "    </tr>\n",
       "    <tr>\n",
       "      <th>2</th>\n",
       "      <td>STT_AB00156_0239_937026_to_938157</td>\n",
       "      <td>ཅེས་ཟེར་ཡང༌།</td>\n",
       "      <td>ces zer yang*/</td>\n",
       "      <td>https://huggingface.co/datasets/openpecha/STT_...</td>\n",
       "      <td>STT_AB</td>\n",
       "    </tr>\n",
       "    <tr>\n",
       "      <th>3</th>\n",
       "      <td>STT_AB00156_0240_938579_to_944485</td>\n",
       "      <td>བོད་ཤར་ཕྱོགས་ས་ཁུལ་དུ་མི་མང་གི་རེ་འདོད་གསལ་པོ་...</td>\n",
       "      <td>bod shar phyogs sa khul du mi mang gi re 'dod ...</td>\n",
       "      <td>https://huggingface.co/datasets/openpecha/STT_...</td>\n",
       "      <td>STT_AB</td>\n",
       "    </tr>\n",
       "    <tr>\n",
       "      <th>4</th>\n",
       "      <td>STT_AB00156_0241_944974_to_946307</td>\n",
       "      <td>བྱས་དང་བྱེད་བཞིན་ཡོད་པ་རེད།</td>\n",
       "      <td>byas dang byed bzhin yod pa red/</td>\n",
       "      <td>https://huggingface.co/datasets/openpecha/STT_...</td>\n",
       "      <td>STT_AB</td>\n",
       "    </tr>\n",
       "  </tbody>\n",
       "</table>\n",
       "</div>"
      ],
      "text/plain": [
       "                             file_name  \\\n",
       "0  STT_AB00156_0296_1211329_to_1212494   \n",
       "1    STT_AB00157_0050_200635_to_201377   \n",
       "2    STT_AB00156_0239_937026_to_938157   \n",
       "3    STT_AB00156_0240_938579_to_944485   \n",
       "4    STT_AB00156_0241_944974_to_946307   \n",
       "\n",
       "                                                 uni  \\\n",
       "0                                བོད་གཞུང་བཀའ་ཤག་དང༌   \n",
       "1                                       དེར་བརྟེན་ན་   \n",
       "2                                       ཅེས་ཟེར་ཡང༌།   \n",
       "3  བོད་ཤར་ཕྱོགས་ས་ཁུལ་དུ་མི་མང་གི་རེ་འདོད་གསལ་པོ་...   \n",
       "4                        བྱས་དང་བྱེད་བཞིན་ཡོད་པ་རེད།   \n",
       "\n",
       "                                               wylie  \\\n",
       "0                         bod gzhung bka' shag dang*   \n",
       "1                                     _der brten na    \n",
       "2                                     ces zer yang*/   \n",
       "3  bod shar phyogs sa khul du mi mang gi re 'dod ...   \n",
       "4                   byas dang byed bzhin yod pa red/   \n",
       "\n",
       "                                                 url    dept  \n",
       "0  https://huggingface.co/datasets/openpecha/STT_...  STT_AB  \n",
       "1  https://huggingface.co/datasets/openpecha/STT_...  STT_AB  \n",
       "2  https://huggingface.co/datasets/openpecha/STT_...  STT_AB  \n",
       "3  https://huggingface.co/datasets/openpecha/STT_...  STT_AB  \n",
       "4  https://huggingface.co/datasets/openpecha/STT_...  STT_AB  "
      ]
     },
     "execution_count": 11,
     "metadata": {},
     "output_type": "execute_result"
    }
   ],
   "source": [
    "df.head()"
   ]
  },
  {
   "cell_type": "code",
   "execution_count": 26,
   "metadata": {},
   "outputs": [],
   "source": [
    "df.to_csv('stt_pecha.tsv', sep='\\t', index=False)"
   ]
  },
  {
   "cell_type": "code",
   "execution_count": null,
   "metadata": {},
   "outputs": [],
   "source": []
  }
 ],
 "metadata": {
  "kernelspec": {
   "display_name": ".env",
   "language": "python",
   "name": "python3"
  },
  "language_info": {
   "codemirror_mode": {
    "name": "ipython",
    "version": 3
   },
   "file_extension": ".py",
   "mimetype": "text/x-python",
   "name": "python",
   "nbconvert_exporter": "python",
   "pygments_lexer": "ipython3",
   "version": "3.10.12"
  }
 },
 "nbformat": 4,
 "nbformat_minor": 2
}
