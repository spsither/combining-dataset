{
 "cells": [
  {
   "cell_type": "markdown",
   "metadata": {},
   "source": [
    "ssh spsither@prodigy.bdrc.io\n",
    "\n",
    "./home/spsither/staging/export_all.sh\n",
    "\n",
    "tar -cJvf staging.tar staging/*.jsonl"
   ]
  },
  {
   "cell_type": "code",
   "execution_count": null,
   "metadata": {},
   "outputs": [],
   "source": [
    "! scp spsither@prodigy.bdrc.io:/home/spsither/staging.tar data/"
   ]
  },
  {
   "cell_type": "code",
   "execution_count": null,
   "metadata": {},
   "outputs": [],
   "source": [
    "! tar -xf data/staging.tar -C data/"
   ]
  },
  {
   "cell_type": "code",
   "execution_count": 1,
   "metadata": {},
   "outputs": [],
   "source": [
    "import pandas as pd\n",
    "def read_jsonl(filename):\n",
    "    df = pd.read_json(filename,lines=True)\n",
    "    df = df.reset_index(drop=True)\n",
    "    return df"
   ]
  },
  {
   "cell_type": "code",
   "execution_count": 2,
   "metadata": {},
   "outputs": [],
   "source": [
    "import os\n",
    "\n",
    "jsonl_directory = \"data/staging/\"\n",
    "\n",
    "files = os.listdir(jsonl_directory)\n",
    "\n",
    "pattern = \"jsonl\"\n",
    "files_matching_pattern = [file for file in files if file.endswith(pattern)]"
   ]
  },
  {
   "cell_type": "code",
   "execution_count": 3,
   "metadata": {},
   "outputs": [],
   "source": [
    "#all reviewed files \n",
    "reviewed_jsonl_files = []\n",
    "for file in files_matching_pattern:\n",
    "    if 'review' in file and not 'stt_second_review' in file:\n",
    "        reviewed_jsonl_files.append(file)"
   ]
  },
  {
   "cell_type": "code",
   "execution_count": 4,
   "metadata": {},
   "outputs": [],
   "source": [
    "#all unreviewed files\n",
    "transcribed_jsonl_files = []\n",
    "for file in files_matching_pattern:\n",
    "    if 'review' not in file and not 'stt_second_review' in file:\n",
    "        transcribed_jsonl_files.append(file)"
   ]
  },
  {
   "cell_type": "code",
   "execution_count": 5,
   "metadata": {},
   "outputs": [
    {
     "data": {
      "application/vnd.jupyter.widget-view+json": {
       "model_id": "aa07aa8a2a7c46edad7e0a1027b79cd5",
       "version_major": 2,
       "version_minor": 0
      },
      "text/plain": [
       "  0%|          | 0/25 [00:00<?, ?it/s]"
      ]
     },
     "metadata": {},
     "output_type": "display_data"
    }
   ],
   "source": [
    "#concatenate all the transcribed dataframes\n",
    "temp = pd.DataFrame([])\n",
    "from tqdm.auto import tqdm\n",
    "for file in tqdm(transcribed_jsonl_files):\n",
    "    df = read_jsonl(f\"{jsonl_directory}/{file}\")\n",
    "    temp = pd.concat([temp,df],axis=0)\n",
    "    trabscribed_df = temp.reset_index(drop=True)"
   ]
  },
  {
   "cell_type": "code",
   "execution_count": 6,
   "metadata": {},
   "outputs": [
    {
     "data": {
      "application/vnd.jupyter.widget-view+json": {
       "model_id": "30ce2570eded4b34b526c5b93d879524",
       "version_major": 2,
       "version_minor": 0
      },
      "text/plain": [
       "  0%|          | 0/25 [00:00<?, ?it/s]"
      ]
     },
     "metadata": {},
     "output_type": "display_data"
    }
   ],
   "source": [
    "#concatenate all the reviewed dataframes\n",
    "from tqdm.auto import tqdm\n",
    "temp = pd.DataFrame([])\n",
    "for file in tqdm(reviewed_jsonl_files):\n",
    "    df = read_jsonl(f\"{jsonl_directory}/{file}\")\n",
    "    temp = pd.concat([temp,df],axis=0)\n",
    "    reviewed_df = temp.reset_index(drop=True)"
   ]
  },
  {
   "cell_type": "code",
   "execution_count": 7,
   "metadata": {},
   "outputs": [],
   "source": [
    "finale_df = read_jsonl(f\"{jsonl_directory}/stt_second_review.jsonl\")"
   ]
  },
  {
   "cell_type": "code",
   "execution_count": 8,
   "metadata": {},
   "outputs": [],
   "source": [
    "trabscribed_df['id'].fillna(trabscribed_df['text'], inplace=True)\n",
    "reviewed_df['id'].fillna(reviewed_df['text'], inplace=True)\n",
    "finale_df['id'].fillna(finale_df['text'], inplace=True)"
   ]
  },
  {
   "cell_type": "code",
   "execution_count": 9,
   "metadata": {},
   "outputs": [],
   "source": [
    "audio_extensions = ['.mp3', '.wav', '.MP3', '.WAV']"
   ]
  },
  {
   "cell_type": "code",
   "execution_count": 10,
   "metadata": {},
   "outputs": [],
   "source": [
    "for audio_extension in audio_extensions:\n",
    "    trabscribed_df['id'] = trabscribed_df['id'].str.replace(audio_extension, '')\n",
    "    reviewed_df['id'] = reviewed_df['id'].str.replace(audio_extension, '')\n",
    "    finale_df['id'] = finale_df['id'].str.replace(audio_extension, '')"
   ]
  },
  {
   "cell_type": "code",
   "execution_count": 11,
   "metadata": {},
   "outputs": [
    {
     "data": {
      "text/plain": [
       "(515579, 468714, 429954)"
      ]
     },
     "execution_count": 11,
     "metadata": {},
     "output_type": "execute_result"
    }
   ],
   "source": [
    "len(trabscribed_df),len(reviewed_df),len(finale_df)"
   ]
  },
  {
   "cell_type": "code",
   "execution_count": 12,
   "metadata": {},
   "outputs": [
    {
     "data": {
      "text/plain": [
       "(446421, 424594, 369180)"
      ]
     },
     "execution_count": 12,
     "metadata": {},
     "output_type": "execute_result"
    }
   ],
   "source": [
    "len(set(trabscribed_df['id'])), len(set(reviewed_df['id'])), len(set(finale_df['id']))"
   ]
  },
  {
   "cell_type": "code",
   "execution_count": 13,
   "metadata": {},
   "outputs": [
    {
     "data": {
      "text/plain": [
       "13.413657266878602"
      ]
     },
     "execution_count": 13,
     "metadata": {},
     "output_type": "execute_result"
    }
   ],
   "source": [
    "100 - len(set(trabscribed_df['id'])) / len(trabscribed_df) * 100"
   ]
  },
  {
   "cell_type": "code",
   "execution_count": 14,
   "metadata": {},
   "outputs": [],
   "source": [
    "trabscribed_df.drop_duplicates(subset='id', keep=\"first\", inplace=True)\n",
    "reviewed_df.drop_duplicates(subset='id', keep=\"first\", inplace=True)\n",
    "finale_df.drop_duplicates(subset='id', keep=\"first\", inplace=True)"
   ]
  },
  {
   "cell_type": "code",
   "execution_count": 15,
   "metadata": {},
   "outputs": [
    {
     "data": {
      "text/plain": [
       "(446421, 424594, 369180)"
      ]
     },
     "execution_count": 15,
     "metadata": {},
     "output_type": "execute_result"
    }
   ],
   "source": [
    "len(trabscribed_df),len(reviewed_df),len(finale_df)"
   ]
  },
  {
   "cell_type": "code",
   "execution_count": 16,
   "metadata": {},
   "outputs": [],
   "source": [
    "trabscribed_df = trabscribed_df[trabscribed_df['answer'] == 'accept']\n",
    "reviewed_df = reviewed_df[reviewed_df['answer'] == 'accept']\n",
    "finale_df = finale_df[finale_df['answer'] == 'accept']"
   ]
  },
  {
   "cell_type": "code",
   "execution_count": 17,
   "metadata": {},
   "outputs": [
    {
     "data": {
      "text/plain": [
       "(428033, 412373, 358839)"
      ]
     },
     "execution_count": 17,
     "metadata": {},
     "output_type": "execute_result"
    }
   ],
   "source": [
    "len(trabscribed_df),len(reviewed_df),len(finale_df)"
   ]
  },
  {
   "cell_type": "code",
   "execution_count": 18,
   "metadata": {},
   "outputs": [],
   "source": [
    "#left side intersection\n",
    "intersection = reviewed_df.merge(finale_df, how='left', on='id')"
   ]
  },
  {
   "cell_type": "code",
   "execution_count": 19,
   "metadata": {},
   "outputs": [],
   "source": [
    "intersection['grade'] = 1"
   ]
  },
  {
   "cell_type": "code",
   "execution_count": 20,
   "metadata": {},
   "outputs": [],
   "source": [
    "intersection.loc[~intersection['transcript_x'].isna(), 'grade'] = 2"
   ]
  },
  {
   "cell_type": "code",
   "execution_count": 21,
   "metadata": {},
   "outputs": [],
   "source": [
    "intersection.loc[~intersection['transcript_y'].isna(), 'grade'] = 3"
   ]
  },
  {
   "cell_type": "code",
   "execution_count": 22,
   "metadata": {},
   "outputs": [],
   "source": [
    "intersection['transcript_y'].fillna(intersection['transcript_x'], inplace=True)\n"
   ]
  },
  {
   "cell_type": "code",
   "execution_count": 23,
   "metadata": {},
   "outputs": [],
   "source": [
    "intersection = intersection[~intersection['transcript_y'].isna()]"
   ]
  },
  {
   "cell_type": "code",
   "execution_count": 24,
   "metadata": {},
   "outputs": [],
   "source": [
    "intersection = intersection[['transcript_y', 'id', 'grade']]"
   ]
  },
  {
   "cell_type": "code",
   "execution_count": 25,
   "metadata": {},
   "outputs": [],
   "source": [
    "intersection['url'] = 'https://d38pmlk0v88drf.cloudfront.net/wav/' + intersection['id'] + '.wav'"
   ]
  },
  {
   "cell_type": "code",
   "execution_count": 26,
   "metadata": {},
   "outputs": [
    {
     "data": {
      "text/plain": [
       "(409016, 4)"
      ]
     },
     "execution_count": 26,
     "metadata": {},
     "output_type": "execute_result"
    }
   ],
   "source": [
    "intersection.shape"
   ]
  },
  {
   "cell_type": "code",
   "execution_count": 27,
   "metadata": {},
   "outputs": [
    {
     "data": {
      "text/plain": [
       "('དེ་བཞིན་གཤེགས་པའི་བཀྲ་ཤིས་ཤོག་ཅེས་བརྗོད་པ་དང་དེ་ནས་ཕུན་ཚོགས་དང་ཚེ་བརྟན་ལྷ་མོར་ཁ་བཏགས་རེ་གཡོག་སྐབས་བཤད་པ་རྒྱག་འདོད་ཀྱིས་མགྲིན་པར་ཟ་ཕྲུག་ལངས་ནའང་།',\n",
       " 'https://d38pmlk0v88drf.cloudfront.net/wav/STT_AB00252_0176_1498899_to_1507608.wav')"
      ]
     },
     "execution_count": 27,
     "metadata": {},
     "output_type": "execute_result"
    }
   ],
   "source": [
    "i = 11001\n",
    "intersection.loc[i]['transcript_y'], intersection.loc[i,'url']"
   ]
  },
  {
   "cell_type": "code",
   "execution_count": 28,
   "metadata": {},
   "outputs": [],
   "source": [
    "intersection['dept'] = intersection['id'].str[:6]"
   ]
  },
  {
   "cell_type": "code",
   "execution_count": 30,
   "metadata": {},
   "outputs": [
    {
     "data": {
      "text/plain": [
       "dept\n",
       "STT_AB     36645\n",
       "STT_CS     33055\n",
       "STT_NS     42836\n",
       "STT_TT    296480\n",
       "dtype: int64"
      ]
     },
     "execution_count": 30,
     "metadata": {},
     "output_type": "execute_result"
    }
   ],
   "source": [
    "intersection.groupby('dept').size()"
   ]
  },
  {
   "cell_type": "code",
   "execution_count": 32,
   "metadata": {},
   "outputs": [],
   "source": [
    "intersection.rename(columns={\"id\": \"file_name\", \"transcript_y\": \"uni\", \"url\": \"url\", \"dept\": \"dept\", \"grade\": \"grade\"}, inplace=True)"
   ]
  },
  {
   "cell_type": "code",
   "execution_count": 33,
   "metadata": {},
   "outputs": [
    {
     "data": {
      "text/html": [
       "<div>\n",
       "<style scoped>\n",
       "    .dataframe tbody tr th:only-of-type {\n",
       "        vertical-align: middle;\n",
       "    }\n",
       "\n",
       "    .dataframe tbody tr th {\n",
       "        vertical-align: top;\n",
       "    }\n",
       "\n",
       "    .dataframe thead th {\n",
       "        text-align: right;\n",
       "    }\n",
       "</style>\n",
       "<table border=\"1\" class=\"dataframe\">\n",
       "  <thead>\n",
       "    <tr style=\"text-align: right;\">\n",
       "      <th></th>\n",
       "      <th>file_name</th>\n",
       "      <th>uni</th>\n",
       "      <th>url</th>\n",
       "      <th>dept</th>\n",
       "      <th>grade</th>\n",
       "    </tr>\n",
       "  </thead>\n",
       "  <tbody>\n",
       "    <tr>\n",
       "      <th>0</th>\n",
       "      <td>STT_NS_M0016_0001_2556_to_9914</td>\n",
       "      <td>རྩོམ་རིགས་ཀི་རྒན་ལགས་གསར་བ་ཅིག་སླེབས་འདུག་བ། ག...</td>\n",
       "      <td>https://d38pmlk0v88drf.cloudfront.net/wav/STT_...</td>\n",
       "      <td>STT_NS</td>\n",
       "      <td>3</td>\n",
       "    </tr>\n",
       "    <tr>\n",
       "      <th>1</th>\n",
       "      <td>STT_NS_M0016_0012_92258_to_102135</td>\n",
       "      <td>ཁོ་རང་གི་ད་བརྩེ་དུང་ལབ་ཡ་དེ་ཕ་མ་གི་བརྩེ་དུང་ཞེ...</td>\n",
       "      <td>https://d38pmlk0v88drf.cloudfront.net/wav/STT_...</td>\n",
       "      <td>STT_NS</td>\n",
       "      <td>3</td>\n",
       "    </tr>\n",
       "    <tr>\n",
       "      <th>2</th>\n",
       "      <td>STT_NS_M0016_0054_410923_to_420735</td>\n",
       "      <td>རེད། ད་ཁོ་རང་ད་རྩེད་མོ་ཧང་སང་ཡ་ཡག་པོ་རྩེ་ན་ཡེ།...</td>\n",
       "      <td>https://d38pmlk0v88drf.cloudfront.net/wav/STT_...</td>\n",
       "      <td>STT_NS</td>\n",
       "      <td>3</td>\n",
       "    </tr>\n",
       "    <tr>\n",
       "      <th>3</th>\n",
       "      <td>STT_NS_M0016_0053_401110_to_410923</td>\n",
       "      <td>ཨོ། ཨེ་ནས་ཨོ་འདི། འདི་ངས་དཔེ་ཆོབ་ཚ་བོ་མཐོང་གི་...</td>\n",
       "      <td>https://d38pmlk0v88drf.cloudfront.net/wav/STT_...</td>\n",
       "      <td>STT_NS</td>\n",
       "      <td>3</td>\n",
       "    </tr>\n",
       "    <tr>\n",
       "      <th>4</th>\n",
       "      <td>STT_NS_M0016_0013_104633_to_109510</td>\n",
       "      <td>ཨོ། ག་རེ་ལབ་དགོས་རེད་ད། ང་ཚོས་ཕ་མ་དེ་ཚོ་ད་འདས་...</td>\n",
       "      <td>https://d38pmlk0v88drf.cloudfront.net/wav/STT_...</td>\n",
       "      <td>STT_NS</td>\n",
       "      <td>3</td>\n",
       "    </tr>\n",
       "  </tbody>\n",
       "</table>\n",
       "</div>"
      ],
      "text/plain": [
       "                            file_name  \\\n",
       "0      STT_NS_M0016_0001_2556_to_9914   \n",
       "1   STT_NS_M0016_0012_92258_to_102135   \n",
       "2  STT_NS_M0016_0054_410923_to_420735   \n",
       "3  STT_NS_M0016_0053_401110_to_410923   \n",
       "4  STT_NS_M0016_0013_104633_to_109510   \n",
       "\n",
       "                                                 uni  \\\n",
       "0  རྩོམ་རིགས་ཀི་རྒན་ལགས་གསར་བ་ཅིག་སླེབས་འདུག་བ། ག...   \n",
       "1  ཁོ་རང་གི་ད་བརྩེ་དུང་ལབ་ཡ་དེ་ཕ་མ་གི་བརྩེ་དུང་ཞེ...   \n",
       "2  རེད། ད་ཁོ་རང་ད་རྩེད་མོ་ཧང་སང་ཡ་ཡག་པོ་རྩེ་ན་ཡེ།...   \n",
       "3  ཨོ། ཨེ་ནས་ཨོ་འདི། འདི་ངས་དཔེ་ཆོབ་ཚ་བོ་མཐོང་གི་...   \n",
       "4  ཨོ། ག་རེ་ལབ་དགོས་རེད་ད། ང་ཚོས་ཕ་མ་དེ་ཚོ་ད་འདས་...   \n",
       "\n",
       "                                                 url    dept  grade  \n",
       "0  https://d38pmlk0v88drf.cloudfront.net/wav/STT_...  STT_NS      3  \n",
       "1  https://d38pmlk0v88drf.cloudfront.net/wav/STT_...  STT_NS      3  \n",
       "2  https://d38pmlk0v88drf.cloudfront.net/wav/STT_...  STT_NS      3  \n",
       "3  https://d38pmlk0v88drf.cloudfront.net/wav/STT_...  STT_NS      3  \n",
       "4  https://d38pmlk0v88drf.cloudfront.net/wav/STT_...  STT_NS      3  "
      ]
     },
     "execution_count": 33,
     "metadata": {},
     "output_type": "execute_result"
    }
   ],
   "source": [
    "last_intersection = intersection[['file_name', 'uni', 'url', 'dept', 'grade']]\n",
    "last_intersection.head()"
   ]
  },
  {
   "cell_type": "code",
   "execution_count": null,
   "metadata": {},
   "outputs": [],
   "source": [
    "last_intersection.to_csv('02_prodigy.tsv', sep='\\t', index=False)"
   ]
  },
  {
   "cell_type": "code",
   "execution_count": null,
   "metadata": {},
   "outputs": [],
   "source": [
    "last_intersection[last_intersection['file_name'] == 'STT_AB00001_0029_150584_to_151748']"
   ]
  }
 ],
 "metadata": {
  "kernelspec": {
   "display_name": "Python 3 (ipykernel)",
   "language": "python",
   "name": "python3"
  },
  "language_info": {
   "codemirror_mode": {
    "name": "ipython",
    "version": 3
   },
   "file_extension": ".py",
   "mimetype": "text/x-python",
   "name": "python",
   "nbconvert_exporter": "python",
   "pygments_lexer": "ipython3",
   "version": "3.10.12"
  },
  "orig_nbformat": 4
 },
 "nbformat": 4,
 "nbformat_minor": 2
}
