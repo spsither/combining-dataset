{
 "cells": [
  {
   "cell_type": "code",
   "execution_count": 1,
   "metadata": {},
   "outputs": [],
   "source": [
    "import pandas as pd\n",
    "df = pd.read_csv('04_combine_all.tsv', sep='\\t')"
   ]
  },
  {
   "cell_type": "code",
   "execution_count": 2,
   "metadata": {},
   "outputs": [
    {
     "data": {
      "text/plain": [
       "dept\n",
       "STT_AB     75353\n",
       "STT_CS     44021\n",
       "STT_MV    245303\n",
       "STT_NS     70769\n",
       "STT_TT    369028\n",
       "dtype: int64"
      ]
     },
     "execution_count": 2,
     "metadata": {},
     "output_type": "execute_result"
    }
   ],
   "source": [
    "df.groupby('dept').size()"
   ]
  },
  {
   "cell_type": "code",
   "execution_count": 3,
   "metadata": {},
   "outputs": [],
   "source": [
    "df['char_len'] = df['uni'].str.len()"
   ]
  },
  {
   "cell_type": "code",
   "execution_count": 4,
   "metadata": {},
   "outputs": [
    {
     "data": {
      "text/plain": [
       "count    804474.000000\n",
       "mean         66.152022\n",
       "std          49.493217\n",
       "min           1.000000\n",
       "25%          28.000000\n",
       "50%          53.000000\n",
       "75%          93.000000\n",
       "max         516.000000\n",
       "Name: char_len, dtype: float64"
      ]
     },
     "execution_count": 4,
     "metadata": {},
     "output_type": "execute_result"
    }
   ],
   "source": [
    "df['char_len'].describe()"
   ]
  },
  {
   "cell_type": "code",
   "execution_count": 5,
   "metadata": {},
   "outputs": [
    {
     "data": {
      "text/plain": [
       "<Axes: >"
      ]
     },
     "execution_count": 5,
     "metadata": {},
     "output_type": "execute_result"
    },
    {
     "data": {
      "image/png": "[encoded data removed]",
      "text/plain": [
       "<Figure size 640x480 with 1 Axes>"
      ]
     },
     "metadata": {},
     "output_type": "display_data"
    }
   ],
   "source": [
    "df['char_len'].hist(bins=100)"
   ]
  },
  {
   "cell_type": "code",
   "execution_count": 6,
   "metadata": {},
   "outputs": [
    {
     "data": {
      "text/plain": [
       "<Axes: >"
      ]
     },
     "execution_count": 6,
     "metadata": {},
     "output_type": "execute_result"
    },
    {
     "data": {
      "image/png": "[encoded data removed]",
      "text/plain": [
       "<Figure size 640x480 with 1 Axes>"
      ]
     },
     "metadata": {},
     "output_type": "display_data"
    }
   ],
   "source": [
    "df['char_len'].hist(bins=100, range=(0, 100))"
   ]
  },
  {
   "cell_type": "code",
   "execution_count": 7,
   "metadata": {},
   "outputs": [],
   "source": [
    "df = df[(df['char_len'] < 80) & (df['char_len'] > 15)]"
   ]
  },
  {
   "cell_type": "code",
   "execution_count": 8,
   "metadata": {},
   "outputs": [
    {
     "data": {
      "text/plain": [
       "dept\n",
       "STT_AB     44373\n",
       "STT_CS     18277\n",
       "STT_MV    127287\n",
       "STT_NS     16800\n",
       "STT_TT    261560\n",
       "dtype: int64"
      ]
     },
     "execution_count": 8,
     "metadata": {},
     "output_type": "execute_result"
    }
   ],
   "source": [
    "df.groupby('dept').size()"
   ]
  },
  {
   "cell_type": "code",
   "execution_count": 9,
   "metadata": {},
   "outputs": [],
   "source": [
    "depts = df['dept'].unique()"
   ]
  },
  {
   "cell_type": "code",
   "execution_count": 10,
   "metadata": {},
   "outputs": [
    {
     "name": "stdout",
     "output_type": "stream",
     "text": [
      "STT_AB\n",
      "STT_NS\n",
      "STT_TT\n",
      "STT_CS\n",
      "STT_MV\n"
     ]
    }
   ],
   "source": [
    "benchmarks = []\n",
    "for dept in depts:\n",
    "    print(dept)\n",
    "    df_dept = df[df['dept'] == dept]\n",
    "    df_dept = df_dept.sort_values('grade', ascending=False)\n",
    "    df_dept = df_dept[0:1000]\n",
    "    benchmarks.append(df_dept)"
   ]
  },
  {
   "cell_type": "code",
   "execution_count": 11,
   "metadata": {},
   "outputs": [],
   "source": [
    "benchmarks = pd.concat(benchmarks)"
   ]
  },
  {
   "cell_type": "code",
   "execution_count": 12,
   "metadata": {},
   "outputs": [
    {
     "data": {
      "text/html": [
       "<div>\n",
       "<style scoped>\n",
       "    .dataframe tbody tr th:only-of-type {\n",
       "        vertical-align: middle;\n",
       "    }\n",
       "\n",
       "    .dataframe tbody tr th {\n",
       "        vertical-align: top;\n",
       "    }\n",
       "\n",
       "    .dataframe thead th {\n",
       "        text-align: right;\n",
       "    }\n",
       "</style>\n",
       "<table border=\"1\" class=\"dataframe\">\n",
       "  <thead>\n",
       "    <tr style=\"text-align: right;\">\n",
       "      <th></th>\n",
       "      <th>file_name</th>\n",
       "      <th>uni</th>\n",
       "      <th>wylie</th>\n",
       "      <th>url</th>\n",
       "      <th>dept</th>\n",
       "      <th>grade</th>\n",
       "      <th>char_len</th>\n",
       "    </tr>\n",
       "  </thead>\n",
       "  <tbody>\n",
       "    <tr>\n",
       "      <th>515126</th>\n",
       "      <td>STT_AB00208_0075_398080_to_399889</td>\n",
       "      <td>བ་ཕྱུགས་སྟོང་ཕྲག་དེའི་འོ་མ་བཞོས་ནས་</td>\n",
       "      <td>ba phyugs stong phrag de'i 'o ma bzhos nas</td>\n",
       "      <td>https://d38pmlk0v88drf.cloudfront.net/wav/STT_...</td>\n",
       "      <td>STT_AB</td>\n",
       "      <td>3</td>\n",
       "      <td>36</td>\n",
       "    </tr>\n",
       "    <tr>\n",
       "      <th>140345</th>\n",
       "      <td>STT_AB00225_0051_634428_to_636220</td>\n",
       "      <td>དེ་སྔ་ཡིན་ན་པད་ཁའི་མེ་ཏོག་གིས་</td>\n",
       "      <td>de snga yin na pad kha'i me tog gis</td>\n",
       "      <td>https://huggingface.co/datasets/openpecha/STT_...</td>\n",
       "      <td>STT_AB</td>\n",
       "      <td>3</td>\n",
       "      <td>31</td>\n",
       "    </tr>\n",
       "    <tr>\n",
       "      <th>166731</th>\n",
       "      <td>STT_AB00277_0455_2502107_to_2503882</td>\n",
       "      <td>གཟུགས་སྐུ་སྤྱི་ཙམ་ལ་སྤྲུལ་སྐུ་དང་།</td>\n",
       "      <td>gzugs sku spyi tsam la sprul sku dang /</td>\n",
       "      <td>https://d38pmlk0v88drf.cloudfront.net/wav/STT_...</td>\n",
       "      <td>STT_AB</td>\n",
       "      <td>3</td>\n",
       "      <td>35</td>\n",
       "    </tr>\n",
       "    <tr>\n",
       "      <th>548584</th>\n",
       "      <td>STT_AB00211_0052_282124_to_285981</td>\n",
       "      <td>སྐྱེ་བ་འདི་གཅིག་པུ་ཙམ་མ་ཡིན་པར། སྔོན་གྱི་སྐྱེ་...</td>\n",
       "      <td>skye ba 'di gcig pu tsam ma yin par/_sngon gyi...</td>\n",
       "      <td>https://d38pmlk0v88drf.cloudfront.net/wav/STT_...</td>\n",
       "      <td>STT_AB</td>\n",
       "      <td>3</td>\n",
       "      <td>59</td>\n",
       "    </tr>\n",
       "    <tr>\n",
       "      <th>254533</th>\n",
       "      <td>STT_AB00166_0076_222690_to_224429</td>\n",
       "      <td>གཡུལ་འགྱེད་ཚེ་ན་གནོད་པ་མང་།།</td>\n",
       "      <td>g.yul 'gyed tshe na gnod pa mang /[ ]/</td>\n",
       "      <td>https://d38pmlk0v88drf.cloudfront.net/wav/STT_...</td>\n",
       "      <td>STT_AB</td>\n",
       "      <td>3</td>\n",
       "      <td>29</td>\n",
       "    </tr>\n",
       "  </tbody>\n",
       "</table>\n",
       "</div>"
      ],
      "text/plain": [
       "                                  file_name  \\\n",
       "515126    STT_AB00208_0075_398080_to_399889   \n",
       "140345    STT_AB00225_0051_634428_to_636220   \n",
       "166731  STT_AB00277_0455_2502107_to_2503882   \n",
       "548584    STT_AB00211_0052_282124_to_285981   \n",
       "254533    STT_AB00166_0076_222690_to_224429   \n",
       "\n",
       "                                                      uni  \\\n",
       "515126               བ་ཕྱུགས་སྟོང་ཕྲག་དེའི་འོ་མ་བཞོས་ནས་    \n",
       "140345                    དེ་སྔ་ཡིན་ན་པད་ཁའི་མེ་ཏོག་གིས་    \n",
       "166731                གཟུགས་སྐུ་སྤྱི་ཙམ་ལ་སྤྲུལ་སྐུ་དང་།    \n",
       "548584  སྐྱེ་བ་འདི་གཅིག་པུ་ཙམ་མ་ཡིན་པར། སྔོན་གྱི་སྐྱེ་...   \n",
       "254533                      གཡུལ་འགྱེད་ཚེ་ན་གནོད་པ་མང་།།    \n",
       "\n",
       "                                                    wylie  \\\n",
       "515126        ba phyugs stong phrag de'i 'o ma bzhos nas    \n",
       "140345               de snga yin na pad kha'i me tog gis    \n",
       "166731            gzugs sku spyi tsam la sprul sku dang /   \n",
       "548584  skye ba 'di gcig pu tsam ma yin par/_sngon gyi...   \n",
       "254533             g.yul 'gyed tshe na gnod pa mang /[ ]/   \n",
       "\n",
       "                                                      url    dept  grade  \\\n",
       "515126  https://d38pmlk0v88drf.cloudfront.net/wav/STT_...  STT_AB      3   \n",
       "140345  https://huggingface.co/datasets/openpecha/STT_...  STT_AB      3   \n",
       "166731  https://d38pmlk0v88drf.cloudfront.net/wav/STT_...  STT_AB      3   \n",
       "548584  https://d38pmlk0v88drf.cloudfront.net/wav/STT_...  STT_AB      3   \n",
       "254533  https://d38pmlk0v88drf.cloudfront.net/wav/STT_...  STT_AB      3   \n",
       "\n",
       "        char_len  \n",
       "515126        36  \n",
       "140345        31  \n",
       "166731        35  \n",
       "548584        59  \n",
       "254533        29  "
      ]
     },
     "execution_count": 12,
     "metadata": {},
     "output_type": "execute_result"
    }
   ],
   "source": [
    "benchmarks.head()"
   ]
  },
  {
   "cell_type": "code",
   "execution_count": 13,
   "metadata": {},
   "outputs": [
    {
     "data": {
      "text/plain": [
       "dept\n",
       "STT_AB    1000\n",
       "STT_CS    1000\n",
       "STT_MV    1000\n",
       "STT_NS    1000\n",
       "STT_TT    1000\n",
       "dtype: int64"
      ]
     },
     "execution_count": 13,
     "metadata": {},
     "output_type": "execute_result"
    }
   ],
   "source": [
    "benchmarks.groupby('dept').size()"
   ]
  },
  {
   "cell_type": "code",
   "execution_count": 14,
   "metadata": {},
   "outputs": [
    {
     "name": "stdout",
     "output_type": "stream",
     "text": [
      "STT_AB\n",
      "བསམ་བརླག་དེ་ནི་སྦྱིན་པ་བྱེད་ཀྱང་སློང་བ་དག་དང་མཚུངས་སོ་ཞེས།།  https://d38pmlk0v88drf.cloudfront.net/wav/STT_AB00173_0560_2439530_to_2443523.wav\n",
      "ཕྱིའི་དངོས་པོ་མི་གཏོང་བའི་ཚུལ་དང་། ཕྱིའི་དངོས་པོ་གཏོང་བའི་ཚུལ་ལོ།  https://d38pmlk0v88drf.cloudfront.net/wav/STT_AB00173_0765_3295162_to_3299701.wav\n",
      "དེ་ཆེད་དུ་བྱས་ལ་བསྟེན་དུ་མི་རུང་ངོ་།།  https://d38pmlk0v88drf.cloudfront.net/wav/STT_AB00172_2552_9484001_to_9486578.wav\n",
      "STT_NS\n",
      "དེ་རེད་དངོས་གནས་གསུམ། ད་དེང་སང་ད་ང་རང་གི་མཐོང་སྟངས་ལ་བལྟས་ནས་རེད་འ་ཡ།  https://d38pmlk0v88drf.cloudfront.net/wav/STT_NS0175_0131_987803_to_992612.wav\n",
      "ཆེད་དུ་རང་དངོས་གནས་སྦྱངས་ངེ་ཡིན་ན་ཡོད་ཨ།  https://d38pmlk0v88drf.cloudfront.net/wav/STT_NS0198_0180_1586154_to_1588213.wav\n",
      "རེད་རེད། ཨེ་ནས་ཡང་ཁྱེད་རང་འདི། འདི་ཧ་གོ་ཡིས་ཡོད་བའི། ད་ལྟ་ག་རེ་ལབ་དགོས་རེད།  https://d38pmlk0v88drf.cloudfront.net/wav/STT_NS0081_0170_1184430_to_1187789.wav\n",
      "STT_TT\n",
      "བྱས་དུས། ཨོམ། ཡོན་ཏན་ཐམས་ཅད་ཀྱི་གཞི་རྟེན་འདྲ་བོ་རེད་  https://d38pmlk0v88drf.cloudfront.net/wav/STT_TT00035_01945.400-01948.650.wav\n",
      "ཨེ་ནས་ལམ་ལ་བསླབ་ཡ་  https://d38pmlk0v88drf.cloudfront.net/wav/STT_TT00035_01535.000-01535.750.wav\n",
      "ད་ཐེག་པ་ཆེན། ཐེག་པ་ཆེན་པོ་བཀར་བསྒྲུབས་ནས།  https://d38pmlk0v88drf.cloudfront.net/wav/STT_TT00034_09563.100-09564.900.wav\n",
      "STT_CS\n",
      "བྱམས་པ་ང་ཚོ་རྩེད་མོ་རྩེ་ནས། རྩེད་མོ་རྩེ་ནས་འགྲོ་ཡས་ཡིན།  https://d38pmlk0v88drf.cloudfront.net/wav/STT_CS-L-2017_2017-P_P-D_D-B01_B01-1_1-R_R-03_0201_2337803_to_2347894.wav\n",
      "ཡ་ཡ་ལབ་རེད་ད་རཱ་ཨ་ནས།  https://d38pmlk0v88drf.cloudfront.net/wav/STT_CS-D-2010-M-D-B08-6-R-02_0011_75473_to_77481.wav\n",
      "ཨེ་ནས་འདྲ་བོ། སྤོ་སྤོ་དེ་ཡིས་ཁོང་ཚོ་ལ་རོགས་པ་བྱེད་ག།  https://d38pmlk0v88drf.cloudfront.net/stt_pecha_tools/STT_CS-D-2014-M-D-B04-2-T-01_0009_45435_to_48906.wav\n",
      "STT_MV\n",
      "མིག་ཤེལ་འདི་ལ་གཅིག་ལྟོས་ད་སུས་རེ་རེ་བྱས་རུག་རུག་བཟོས་པ་རེད། མི་ཟེར་བ་དེ  https://d38pmlk0v88drf.cloudfront.net/mv_wav/STT_MV0026_0226_2185431_to_2193181.wav\n",
      "ཨེ། རང་ཨ་མ་ལགས། ལྟད་བཟོ་ཐོད་པའི་སྒང་ལ། རང་ལ་ཡག་པོ་ཞེ་དྲག་བྱེད་ཀིན།  https://d38pmlk0v88drf.cloudfront.net/mv_wav/STT_MV0335_0295_2468789_to_2475431.wav\n",
      "ཨེམ་ཆི་ལགས་བཀའ་འདྲི་ཞུ་ཡ་ཡོད། ཡ་ཡ་མགྱོགས་སེ་གཤག་བཅོས་བྱས་ན་ཡོང་གི་རེད་པེ།  https://d38pmlk0v88drf.cloudfront.net/mv_wav/STT_MV0782_0129_1061288_to_1065337.wav\n"
     ]
    }
   ],
   "source": [
    "sample = 3\n",
    "for dept in depts:\n",
    "    print(dept)\n",
    "    df_dept = benchmarks[benchmarks['dept'] == dept]\n",
    "    df_dept = df_dept.sample(frac=1)\n",
    "    for i in range(0, sample):\n",
    "        print(df_dept.iloc[i]['uni'], df_dept.iloc[i]['url'])"
   ]
  },
  {
   "cell_type": "code",
   "execution_count": 15,
   "metadata": {},
   "outputs": [
    {
     "name": "stdout",
     "output_type": "stream",
     "text": [
      "{'data_type': 'story-telling', 'birth_year': 2016, 'age': 7, 'gender': 'female', 'location': 'Dharamsala', 'education_type': 'B', 'education_years': 4, 'grade_level': 1, 'school_code': 'R'}\n",
      "{'data_type': 'non-designated', 'birth_year': 2014, 'age': 9, 'gender': 'female', 'location': 'Dharamsala', 'education_type': 'B', 'education_years': 2, 'grade_level': 4, 'school_code': 'R'}\n",
      "{'data_type': 'conversation', 'birth_year': 2014, 'age': 9, 'gender': 'male', 'location': 'Dharamsala', 'education_type': 'B', 'education_years': 3, 'grade_level': 5, 'school_code': 'R'}\n"
     ]
    }
   ],
   "source": [
    "def parse_cs_file_name(code):\n",
    "    \n",
    "    try:\n",
    "        # Split the code into parts\n",
    "        parts = code.split('-')\n",
    "\n",
    "        # Decode each part of the code\n",
    "        \n",
    "        data_type = {'X': 'non-designated', 'D': 'story-telling', 'L':'conversation'}.get(parts[1], 'Unknown')\n",
    "        birth_year = parts[2][:4]\n",
    "        gender = {'P': 'male', 'M': 'female', 'X': 'other'}.get(parts[3][:1], 'Unknown')\n",
    "        location = {'D': 'Dharamsala', 'S': 'South India', 'L': 'Ladakh', 'N': 'Nepal'}.get(parts[4][:1], 'Unknown')\n",
    "        education_type = parts[5][0]\n",
    "        education_years = parts[5][1:3]\n",
    "        grade_level = parts[6][:1]\n",
    "        school_code = parts[7][:1]\n",
    "\n",
    "        # Create a dictionary with the decoded values\n",
    "        decoded = {\n",
    "            'data_type': data_type,\n",
    "            'birth_year': int(birth_year),\n",
    "            'age': 2023 - int(birth_year),\n",
    "            'gender': gender,\n",
    "            'location': location,\n",
    "            'education_type': education_type,\n",
    "            'education_years': int(education_years),\n",
    "            'grade_level': int(grade_level),\n",
    "            'school_code': school_code\n",
    "        }\n",
    "    except:\n",
    "        print(f'Error decoding {code}')\n",
    "        return {}\n",
    "    return decoded\n",
    "\n",
    "# Example usage\n",
    "codes = [\n",
    "    'STT_CS-D-2016-M-D-B04-1-R-06_0017_147090_to_156979',\n",
    "    'STT_CS-X-2014-M-D-B02-4-R-01_0110_1035711_to_1037787',\n",
    "    'STT_CS-L-2014/2014-P/P-D/D-B03/B06-5/5-R/R-01_0129_1106637_to_1112914.mp3',\n",
    "]\n",
    "\n",
    "for code in codes:\n",
    "    print(parse_cs_file_name(code))\n"
   ]
  },
  {
   "cell_type": "code",
   "execution_count": 16,
   "metadata": {},
   "outputs": [],
   "source": [
    "benchmarks_cs = benchmarks[benchmarks['dept'] == 'STT_CS']"
   ]
  },
  {
   "cell_type": "code",
   "execution_count": 17,
   "metadata": {},
   "outputs": [],
   "source": [
    "benchmarks_cs_parsed = benchmarks_cs['file_name'].apply(lambda x: pd.Series(parse_cs_file_name(x)))\n",
    "benchmarks_cs = pd.concat([benchmarks_cs, benchmarks_cs_parsed], axis=1)"
   ]
  },
  {
   "cell_type": "code",
   "execution_count": 18,
   "metadata": {},
   "outputs": [
    {
     "data": {
      "text/plain": [
       "education_years\n",
       "1    268\n",
       "2    244\n",
       "3    124\n",
       "4     73\n",
       "5    114\n",
       "6      1\n",
       "7     93\n",
       "8     51\n",
       "9     32\n",
       "dtype: int64"
      ]
     },
     "execution_count": 18,
     "metadata": {},
     "output_type": "execute_result"
    }
   ],
   "source": [
    "benchmarks_cs.groupby('education_years').size()"
   ]
  },
  {
   "cell_type": "code",
   "execution_count": 19,
   "metadata": {},
   "outputs": [
    {
     "data": {
      "text/plain": [
       "school_code\n",
       "B      1\n",
       "R    897\n",
       "T    102\n",
       "dtype: int64"
      ]
     },
     "execution_count": 19,
     "metadata": {},
     "output_type": "execute_result"
    }
   ],
   "source": [
    "benchmarks_cs.groupby('school_code').size()"
   ]
  },
  {
   "cell_type": "code",
   "execution_count": 20,
   "metadata": {},
   "outputs": [],
   "source": [
    "df_cs = df[df['dept'] == 'STT_CS']"
   ]
  },
  {
   "cell_type": "code",
   "execution_count": 21,
   "metadata": {},
   "outputs": [],
   "source": [
    "df_cs = df_cs.sort_values('grade', ascending=False)"
   ]
  },
  {
   "cell_type": "code",
   "execution_count": 22,
   "metadata": {},
   "outputs": [
    {
     "name": "stdout",
     "output_type": "stream",
     "text": [
      "Error decoding STT_CS-L-2018_2018_M_M-D_D-B05_B05-3_3-R_R-01B_0150_1172618_to_1175234\n",
      "Error decoding STT_CS-L-2018_2018_M_M-D_D-B05_B05-3_3-R_R-01B_0151_1177731_to_1186995\n",
      "Error decoding STT_CS-L-2018_2018_M_M-D_D-B05_B05-3_3-R_R-01B_0152_1193847_to_1197002\n",
      "Error decoding STT_CS-L-2018_2018_M_M-D_D-B05_B05-3_3-R_R-01B_0153_1201305_to_1203600\n",
      "Error decoding STT_CS-L-2018_2018_M_M-D_D-B05_B05-3_3-R_R-01B_0154_1214873_to_1219227\n",
      "Error decoding STT_CS-L-2018_2018_M_M-D_D-B05_B05-3_3-R_R-01B_0155_1221049_to_1224492\n",
      "Error decoding STT_CS-L-2018_2018_M_M-D_D-B05_B05-3_3-R_R-01B_0147_1149499_to_1152199\n",
      "Error decoding STT_CS-L-2018_2018_M_M-D_D-B05_B05-3_3-R_R-01B_0148_1160907_to_1167555\n",
      "Error decoding STT_CS-L-2018_2018_M_M-D_D-B05_B05-3_3-R_R-01B_0096_724350_to_727557\n",
      "Error decoding STT_CS-L-2018_2018_M_M-D_D-B05_B05-3_3-R_R-01B_0087_665507_to_668342\n",
      "Error decoding STT_CS-L-2018_2018_M_M-D_D-B05_B05-3_3-R_R-01B_0088_672173_to_674299\n",
      "Error decoding STT_CS-L-2018_2018_M_M-D_D-B05_B05-3_3-R_R-01B_0089_676392_to_679530\n",
      "Error decoding STT_CS-L-2018_2018_M_M-D_D-B05_B05-3_3-R_R-01B_0142_1100663_to_1103295\n",
      "Error decoding STT_CS-L-2018_2018_M_M-D_D-B05_B05-3_3-R_R-01B_0092_698160_to_700489\n",
      "Error decoding STT_CS-L-2018_2018_M_M-D_D-B05_B05-3_3-R_R-01B_0093_700523_to_705670\n",
      "Error decoding STT_CS-L-2018_2018_M_M-D_D-B05_B05-3_3-R_R-01B_0144_1124355_to_1130751\n",
      "Error decoding STT_CS-L-2018_2018_M_M-D_D-B05_B05-3_3-R_R-01B_0094_705670_to_710817\n",
      "Error decoding STT_CS-L-2018_2018_M_M-D_D-B05_B05-3_3-R_R-01B_0164_1282154_to_1285124\n",
      "Error decoding STT_CS-L-2018_2018_M_M-D_D-B05_B05-3_3-R_R-01B_0165_1287115_to_1290692\n",
      "Error decoding STT_CS-L-2018_2018_M_M-D_D-B05_B05-3_3-R_R-01B_0166_1290979_to_1295856\n",
      "Error decoding STT_CS-L-2018_2018_M_M-D_D-B05_B05-3_3-R_R-01B_0182_1455105_to_1458210\n",
      "Error decoding STT_CS-L-2018_2018_M_M-D_D-B05_B05-3_3-R_R-01B_0185_1494323_to_1498390\n",
      "Error decoding STT_CS-L-2018_2018_M_M-D_D-B05_B05-3_3-R_R-01B_0137_1067689_to_1073005\n",
      "Error decoding STT_CS-L-2018_2018_M_M-D_D-B05_B05-3_3-R_R-01B_0174_1378763_to_1387200\n",
      "Error decoding STT_CS-L-2018_2018_M_M-D_D-B05_B05-3_3-R_R-01B_0105_780460_to_787640\n",
      "Error decoding STT_CS-L-2018_2018_M_M-D_D-B05_B05-3_3-R_R-01B_0167_1296210_to_1301020\n",
      "Error decoding STT_CS-L-2018_2018_M_M-D_D-B05_B05-3_3-R_R-01B_0168_1311685_to_1313828\n",
      "Error decoding STT_CS-L-2018_2018_M_M-D_D-B05_B05-3_3-R_R-01B_0170_1325894_to_1328340\n",
      "Error decoding STT_CS-L-2018_2018_M_M-D_D-B05_B05-3_3-R_R-01B_0158_1245653_to_1248032\n",
      "Error decoding STT_CS-L-2018_2018_M_M-D_D-B05_B05-3_3-R_R-01B_0159_1248977_to_1254647\n",
      "Error decoding STT_CS-L-2018_2018_M_M-D_D-B05_B05-3_3-R_R-01B_0160_1256723_to_1260081\n",
      "Error decoding STT_CS-L-2018_2018_M_M-D_D-B05_B05-3_3-R_R-01B_0163_1276500_to_1279386\n",
      "Error decoding STT_CS-L-2018_2018_M_M-D_D-B05_B05-3_3-R_R-01B_0097_730341_to_736787\n",
      "Error decoding STT_CS-L-2018_2018_M_M-D_D-B05_B05-3_3-R_R-01B_0098_738289_to_740702\n",
      "Error decoding STT_CS-L-2018_2018_M_M-D_D-B05_B05-3_3-R_R-01B_0099_749460_to_753679\n",
      "Error decoding STT_CS-L-2018_2018_M_M-D_D-B05_B05-3_3-R_R-01B_0100_753983_to_761307\n",
      "Error decoding STT_CS-L-2018_2018_M_M-D_D-B05_B05-3_3-R_R-01B_0101_761948_to_765930\n",
      "Error decoding STT_CS-L-2018_2018_M_M-D_D-B05_B05-3_3-R_R-01B_0102_766319_to_771634\n",
      "Error decoding STT_CS-L-2018_2018_M_M-D_D-B05_B05-3_3-R_R-01B_0103_771921_to_775009\n",
      "Error decoding STT_CS-L-2018_2018_M_M-D_D-B05_B05-3_3-R_R-01B_0104_777119_to_779363\n",
      "Error decoding STT_CS-L-2018_2018_M_M-D_D-B05_B05-3_3-R_R-01B_0126_961394_to_967047\n",
      "Error decoding STT_CS-L-2018_2018_M_M-D_D-B05_B05-3_3-R_R-01B_0127_970135_to_972244\n",
      "Error decoding STT_CS-L-2018_2018_M_M-D_D-B05_B05-3_3-R_R-01B_0132_1032015_to_1034800\n",
      "Error decoding STT_CS-L-2018_2018_M_M-D_D-B05_B05-3_3-R_R-01B_0136_1062374_to_1067689\n",
      "Error decoding STT_CS-L-2018_2018_M_M-D_D-B05_B05-3_3-R_R-01B_0111_846812_to_850660\n",
      "Error decoding STT_CS-L-2018_2018_M_M-D_D-B05_B05-3_3-R_R-01B_0112_851014_to_853174\n",
      "Error decoding STT_CS-L-2018_2018_M_M-D_D-B05_B05-3_3-R_R-01B_0120_905014_to_910043\n",
      "Error decoding STT_CS-L-2018_2018_M_M-D_D-B05_B05-3_3-R_R-01B_0121_910178_to_912625\n",
      "Error decoding STT_CS-L-2018_2018_M_M-D_D-B05_B05-3_3-R_R-01B_0123_936402_to_939979\n",
      "Error decoding STT_CS-L-2018_2018_M_M-D_D-B05_B05-3_3-R_R-01B_0071_537055_to_542894\n",
      "Error decoding STT_CS-L-2018_2018_M_M-D_D-B05_B05-3_3-R_R-01B_0124_940232_to_942899\n",
      "Error decoding STT_CS-L-2018_2018_M_M-D_D-B05_B05-3_3-R_R-01B_0125_943962_to_950205\n",
      "Error decoding STT_CS-L-2018_2018_M_M-D_D-B05_B05-3_3-R_R-01B_0066_506055_to_508536\n",
      "Error decoding STT_CS-L-2018_2018_M_M-D_D-B05_B05-3_3-R_R-01B_0078_596455_to_600657\n",
      "Error decoding STT_CS-L-2018_2018_M_M-D_D-B05_B05-3_3-R_R-01B_0079_605264_to_608065\n",
      "Error decoding STT_CS-L-2018_2018_M_M-D_D-B05_B05-3_3-R_R-01B_0080_619793_to_622712\n",
      "Error decoding STT_CS-L-2018_2018_M_M-D_D-B05_B05-3_3-R_R-01B_0081_629513_to_632989\n",
      "Error decoding STT_CS-L-2018_2018_M_M-D_D-B05_B05-3_3-R_R-01B_0086_658673_to_661795\n",
      "Error decoding STT_CS-L-2018_2018_M_M-D_D-B05_B05-3_3-R_R-01B_0107_800339_to_803055\n",
      "Error decoding STT_CS-L-2018_2018_M_M-D_D-B05_B05-3_3-R_R-01B_0108_803528_to_807224\n",
      "Error decoding STT_CS-L-2018_2018_M_M-D_D-B05_B05-3_3-R_R-01B_0059_461927_to_465724\n",
      "Error decoding STT_CS-L-2018_2018_M_M-D_D-B05_B05-3_3-R_R-01B_0060_468728_to_470955\n",
      "Error decoding STT_CS-L-2018_2018_M_M-D_D-B05_B05-3_3-R_R-01B_0061_473520_to_476322\n",
      "Error decoding STT_CS-L-2018_2018_M_M-D_D-B05_B05-3_3-R_R-01B_0062_480456_to_482599\n",
      "Error decoding STT_CS-L-2018_2018_M_M-D_D-B05_B05-3_3-R_R-01B_0063_487645_to_490598\n",
      "Error decoding STT_CS-L-2018_2018_M_M-D_D-B05_B05-3_3-R_R-01B_0064_497888_to_500234\n",
      "Error decoding STT_CS-L-2018_2018_M_M-D_D-B05_B05-3_3-R_R-01B_0040_303505_to_308677\n",
      "Error decoding STT_CS-L-2018_2018_M_M-D_D-B05_B05-3_3-R_R-01B_0046_347380_to_349574\n",
      "Error decoding STT_CS-L-2018_2018_M_M-D_D-B05_B05-3_3-R_R-01B_0025_209275_to_211300\n",
      "Error decoding STT_CS-L-2018_2018_M_M-D_D-B05_B05-3_3-R_R-01B_0026_212194_to_215620\n",
      "Error decoding STT_CS-L-2018_2018_M_M-D_D-B05_B05-3_3-R_R-01B_0057_443213_to_449119\n",
      "Error decoding STT_CS-L-2018_2018_M_M-D_D-B05_B05-3_3-R_R-01B_0052_394410_to_398005\n",
      "Error decoding STT_CS-L-2018_2018_M_M-D_D-B05_B05-3_3-R_R-01B_0067_508772_to_510949\n",
      "Error decoding STT_CS-L-2018_2018_M_M-D_D-B05_B05-3_3-R_R-01B_0036_287052_to_290359\n",
      "Error decoding STT_CS-L-2018_2018_M_M-D_D-B05_B05-3_3-R_R-01B_0017_146196_to_152220\n",
      "Error decoding STT_CS-L-2018_2018_M_M-D_D-B05_B05-3_3-R_R-01B_0019_158717_to_163721\n",
      "Error decoding STT_CS-L-2018_2018_M_M-D_D-B05_B05-3_3-R_R-01B_0020_163721_to_168724\n",
      "Error decoding STT_CS-L-2018_2018_M_M-D_D-B05_B05-3_3-R_R-01B_0024_202373_to_206609\n",
      "Error decoding STT_CS-L-2018_2018_M_M-D_D-B05_B05-3_3-R_R-01B_0037_292047_to_294747\n",
      "Error decoding STT_CS-L-2018_2018_M_M-D_D-B05_B05-3_3-R_R-01B_0038_295557_to_300315\n",
      "Error decoding STT_CS-L-2018_2018_M_M-D_D-B05_B05-3_3-R_R-01B_0039_300400_to_303420\n",
      "Error decoding STT_CS-L-2018_2018_M_M-D_D-B05_B05-3_3-R_R-01B_0001_9593_to_12765\n",
      "Error decoding STT_CS-L-2018_2018_M_M-D_D-B05_B05-3_3-R_R-01B_0004_24595_to_27075\n",
      "Error decoding STT_CS-L-2018_2018_M_M-D_D-B05_B05-3_3-R_R-01B_0005_29961_to_32948\n",
      "Error decoding STT_CS-L-2018_2018_M_M-D_D-B05_B05-3_3-R_R-01B_0015_124242_to_127347\n",
      "Error decoding STT_CS-L-2018_2018_M_M-D_D-B05_B05-3_3-R_R-01B_0016_135818_to_141488\n",
      "Error decoding STT_CS-L-2018_2018_M_M-D_D-B05_B05-3_3-R_R-01B_0028_224074_to_229120\n",
      "Error decoding STT_CS-L-2018_2018_M_M-D_D-B05_B05-3_3-R_R-01B_0032_256677_to_261014\n",
      "Error decoding STT_CS-L-2018_2018_M_M-D_D-B05_B05-3_3-R_R-01B_0035_277602_to_282614\n",
      "Error decoding STT_CS-L-2018_2018_M_M-D_D-B05_B05-3_3-R_R-01B_0009_62935_to_66985\n",
      "Error decoding STT_CS-L-2018_2018_M_M-D_D-B05_B05-3_3-R_R-01B_0011_82527_to_85429\n",
      "Error decoding STT_CS-X-D-2015-M-D-B03-3-R-01_0077_631285_to_633614\n",
      "Error decoding STT_CS-X-D-2015-M-D-B03-3-R-01_0079_639959_to_644009\n",
      "Error decoding STT_CS-X-D-2015-M-D-B03-3-R-01_0081_648092_to_652699\n",
      "Error decoding STT_CS-X-D-2015-M-D-B03-3-R-01_0082_652784_to_654977\n",
      "Error decoding STT_CS-X-D-2015-M-D-B03-3-R-01_0088_688896_to_691377\n",
      "Error decoding STT_CS-X-D-2015-M-D-B03-3-R-01_0089_691782_to_694499\n",
      "Error decoding STT_CS-X-D-2015-M-D-B03-3-R-01_0092_712909_to_717533\n",
      "Error decoding STT_CS-X-D-2015-M-D-B03-3-R-01_0111_852786_to_857958\n",
      "Error decoding STT_CS-X-D-2015-M-D-B03-3-R-01_0047_391744_to_395490\n",
      "Error decoding STT_CS-X-D-2015-M-D-B03-3-R-01_0060_503254_to_506055\n",
      "Error decoding STT_CS-X-D-2015-M-D-B03-3-R-01_0063_525698_to_531705\n",
      "Error decoding STT_CS-X-D-2015-M-D-B03-3-R-01_0067_562350_to_567126\n",
      "Error decoding STT_CS-X-D-2015-M-D-B03-3-R-01_0069_576104_to_580913\n",
      "Error decoding STT_CS-X-D-2015-M-D-B03-3-R-01_0070_583748_to_586161\n",
      "Error decoding STT_CS-X-D-2015-M-D-B03-3-R-01_0071_589317_to_593755\n",
      "Error decoding STT_CS-X-D-2015-M-D-B03-3-R-01_0075_612897_to_620181\n",
      "Error decoding STT_CS-X-D-2015-M-D-B03-3-R-01_0031_262853_to_267325\n",
      "Error decoding STT_CS-X-D-2015-M-D-B03-3-R-01_0032_267932_to_270042\n",
      "Error decoding STT_CS-X-D-2015-M-D-B03-3-R-01_0003_19380_to_29067\n",
      "Error decoding STT_CS-X-D-2015-M-D-B03-3-R-01_0005_33994_to_36593\n",
      "Error decoding STT_CS-X-D-2015-M-D-B03-3-R-01_0006_39546_to_45773\n",
      "Error decoding STT_CS-X-D-2015-M-D-B03-3-R-01_0009_77329_to_79371\n",
      "Error decoding STT_CS-X-D-2015-M-D-B03-3-R-01_0013_94609_to_98575\n",
      "Error decoding STT_CS-X-D-2015-M-D-B03-3-R-01_0035_291186_to_298425\n",
      "Error decoding STT_CS-X-D-2015-M-D-B03-3-R-01_0017_126435_to_130182\n",
      "Error decoding STT_CS-X-D-2015-M-D-B03-3-R-01_0026_203639_to_206474\n",
      "Error decoding STT_CS-X-D-2015-M-D-B03-3-R-01_0208_1652796_to_1657302\n",
      "Error decoding STT_CS-X-D-2015-M-D-B03-3-R-01_0209_1673789_to_1676742\n",
      "Error decoding STT_CS-X-D-2015-M-D-B03-3-R-01_0210_1676927_to_1680994\n",
      "Error decoding STT_CS-X-D-2015-M-D-B03-3-R-01_0133_995667_to_998535\n",
      "Error decoding STT_CS-X-D-2015-M-D-B03-3-R-01_0160_1217505_to_1221741\n",
      "Error decoding STT_CS-X-D-2015-M-D-B03-3-R-01_0161_1222281_to_1229554\n",
      "Error decoding STT_CS-X-D-2015-M-D-B03-3-R-01_0175_1372840_to_1378358\n",
      "Error decoding STT_CS-X-D-2015-M-D-B03-3-R-01_0178_1411315_to_1415382\n",
      "Error decoding STT_CS-X-D-2015-M-D-B03-3-R-01_0181_1424899_to_1432198\n",
      "Error decoding STT_CS-X-D-2015-M-D-B03-3-R-01_0197_1547277_to_1553613\n",
      "Error decoding STT_CS-X-D-2015-M-D-B03-3-R-01_0204_1628412_to_1630437\n",
      "Error decoding STT_CS-X-D-2015-M-D-B03-3-R-01_0116_884494_to_886874\n",
      "Error decoding STT_CS-X-D-2015-M-D-B03-3-R-01_0117_887954_to_895619\n",
      "Error decoding STT_CS-X-D-2015-M-D-B03-3-R-01_0132_990064_to_995262\n",
      "Error decoding STT_CS-X-D-2015-M-D-B03-3-R-01_0055_461202_to_466821\n",
      "Error decoding STT_CS-X-D-2015-M-D-B03-3-R-01_0147_1123225_to_1126954\n",
      "Error decoding STT_CS-X-D-2015-M-D-B03-3-R-01_0152_1162965_to_1165159\n",
      "Error decoding STT_CS-X-D-2015-M-D-B03-3-R-01_0155_1174052_to_1176820\n",
      "Error decoding STT_CS-X2019_X2019-M_P-D_D-02##_02##-0_0-Y_Y-01a_0023_236545_to_240240\n",
      "Error decoding STT_CS-X2019_X2019-M_P-D_D-02##_02##-0_0-Y_Y-01a_0010_119213_to_121609\n",
      "Error decoding STT_CS-X2019_X2019-M_P-D_D-02##_02##-0_0-Y_Y-01a_0012_134991_to_139125\n",
      "Error decoding STT_CS-X2019_X2019-M_P-D_D-02##_02##-0_0-Y_Y-01a_0013_159747_to_161974\n",
      "Error decoding STT_CS-X2019_X2019-M_P-D_D-02##_02##-0_0-Y_Y-01a_0017_188316_to_193328\n",
      "Error decoding STT_CS-X2019_X2019-M_P-D_D-02##_02##-0_0-Y_Y-01a_0018_194155_to_198745\n",
      "Error decoding STT_CS-X2019_X2019-M_P-D_D-02##_02##-0_0-Y_Y-01a_0020_213882_to_215957\n",
      "Error decoding STT_CS-X2019_X2019-M_P-D_D-02##_02##-0_0-Y_Y-01a_0021_218067_to_223467\n",
      "Error decoding STT_CS-X2019_X2019-M_P-D_D-02##_02##-0_0-Y_Y-01a_0022_227247_to_230655\n",
      "Error decoding STT_CS-X2019_X2019-M_P-D_D-02##_02##-0_0-Y_Y-01a_0007_85581_to_88889\n",
      "Error decoding STT_CS-X2019_X2019-M_P-D_D-02##_02##-0_0-Y_Y-01a_0008_96432_to_98558\n",
      "Error decoding STT_CS-X2019_X2019-M_P-D_D-02##_02##-0_0-Y_Y-01a_0009_105139_to_110016\n",
      "Error decoding STT_CS-X2019_X2019-M_P-D_D-02##_02##-0_0-Y_Y-01a_0055_592422_to_598345\n",
      "Error decoding STT_CS-X2019_X2019-M_P-D_D-02##_02##-0_0-Y_Y-01a_0056_601129_to_603745\n",
      "Error decoding STT_CS-X2019_X2019-M_P-D_D-02##_02##-0_0-Y_Y-01a_0060_731117_to_733362\n",
      "Error decoding STT_CS-X2019_X2019-M_P-D_D-02##_02##-0_0-Y_Y-01a_0061_765441_to_768377\n",
      "Error decoding STT_CS-X2019_X2019-M_P-D_D-02##_02##-0_0-Y_Y-01a_0063_806751_to_811020\n",
      "Error decoding STT_CS-X2019_X2019-M_P-D_D-02##_02##-0_0-Y_Y-01a_0066_877862_to_879938\n",
      "Error decoding STT_CS-X2019_X2019-M_P-D_D-02##_02##-0_0-Y_Y-01a_0067_914110_to_916860\n",
      "Error decoding STT_CS-X2019_X2019-M_P-D_D-02##_02##-0_0-Y_Y-01a_0045_465420_to_467462\n",
      "Error decoding STT_CS-X2019_X2019-M_P-D_D-02##_02##-0_0-Y_Y-01a_0046_498495_to_500925\n",
      "Error decoding STT_CS-X2019_X2019-M_P-D_D-02##_02##-0_0-Y_Y-01a_0047_503035_to_505937\n",
      "Error decoding STT_CS-X2019_X2019-M_P-D_D-02##_02##-0_0-Y_Y-01a_0048_530136_to_532330\n",
      "Error decoding STT_CS-X2019_X2019-M_P-D_D-02##_02##-0_0-Y_Y-01a_0049_535620_to_537645\n",
      "Error decoding STT_CS-X2019_X2019-M_P-D_D-02##_02##-0_0-Y_Y-01a_0050_538439_to_540700\n",
      "Error decoding STT_CS-X2019_X2019-M_P-D_D-02##_02##-0_0-Y_Y-01a_0051_541122_to_543299\n",
      "Error decoding STT_CS-X2019_X2019-M_P-D_D-02##_02##-0_0-Y_Y-01a_0054_576019_to_580845\n",
      "Error decoding STT_CS-X2019_X2019-M_P-D_D-02##_02##-0_0-Y_Y-01a_0033_372827_to_375612\n",
      "Error decoding STT_CS-X2019_X2019-M_P-D_D-02##_02##-0_0-Y_Y-01a_0035_391339_to_393533\n",
      "Error decoding STT_CS-X2019_X2019-M_P-D_D-02##_02##-0_0-Y_Y-01a_0036_395609_to_399355\n",
      "Error decoding STT_CS-X2019_X2019-M_P-D_D-02##_02##-0_0-Y_Y-01a_0037_400317_to_403590\n",
      "Error decoding STT_CS-X2019_X2019-M_P-D_D-02##_02##-0_0-Y_Y-01a_0040_419605_to_421984\n",
      "Error decoding STT_CS-X2019_X2019-M_P-D_D-02##_02##-0_0-Y_Y-01a_0041_430219_to_433172\n",
      "Error decoding STT_CS-X2019_X2019-M_P-D_D-02##_02##-0_0-Y_Y-01a_0042_433662_to_439484\n",
      "Error decoding STT_CS-X2019_X2019-M_P-D_D-02##_02##-0_0-Y_Y-01a_0044_455042_to_459379\n",
      "Error decoding STT_CS-X2019_X2019-M_P-D_D-02##_02##-0_0-Y_Y-01a_0002_18250_to_21777\n",
      "Error decoding STT_CS-X2019_X2019-M_P-D_D-02##_02##-0_0-Y_Y-01a_0004_57079_to_60302\n",
      "Error decoding STT_CS-X2019_X2019-M_P-D_D-02##_02##-0_0-Y_Y-01a_0005_64859_to_66934\n",
      "Error decoding STT_CS-X2019_X2019-M_P-D_D-02##_02##-0_0-Y_Y-01a_0006_72469_to_76553\n",
      "Error decoding STT_CS-X2019_X2019-M_P-D_D-02##_02##-0_0-Y_Y-01a_0025_263933_to_268388\n",
      "Error decoding STT_CS-X2019_X2019-M_P-D_D-02##_02##-0_0-Y_Y-01a_0026_273147_to_277062\n",
      "Error decoding STT_CS-X2019_X2019-M_P-D_D-02##_02##-0_0-Y_Y-01a_0027_277534_to_281247\n",
      "Error decoding STT_CS-X2019_X2019-M_P-D_D-02##_02##-0_0-Y_Y-01a_0028_323704_to_326100\n",
      "Error decoding STT_CS-X2019_X2019-M_P-D_D-02##_02##-0_0-Y_Y-01b_0004_35091_to_39664\n",
      "Error decoding STT_CS-X2019_X2019-M_P-D_D-02##_02##-0_0-Y_Y-01b_0006_47055_to_51544\n",
      "Error decoding STT_CS-X2019_X2019-M_P-D_D-02##_02##-0_0-Y_Y-01b_0007_60859_to_69499\n",
      "Error decoding STT_CS-X2019_X2019-M_P-D_D-02##_02##-0_0-Y_Y-01b_0008_71744_to_76789\n",
      "Error decoding STT_CS-X2019_X2019-M_P-D_D-02##_02##-0_0-Y_Y-01b_0010_96314_to_98322\n",
      "Error decoding STT_CS-X2019_X2019-M_P-D_D-02##_02##-0_0-Y_Y-01b_0011_100229_to_105882\n",
      "Error decoding STT_CS-X2019_X2019-M_P-D_D-02##_02##-0_0-Y_Y-01b_0012_106270_to_110370\n",
      "Error decoding STT_CS-X2019_X2019-M_P-D_D-02##_02##-0_0-Y_Y-01b_0013_115197_to_120529\n",
      "Error decoding STT_CS-X2019_X2019-M_P-D_D-02##_02##-0_0-Y_Y-01a_0088_1265414_to_1269615\n",
      "Error decoding STT_CS-X2019_X2019-M_P-D_D-02##_02##-0_0-Y_Y-01a_0090_1278120_to_1281951\n",
      "Error decoding STT_CS-X2019_X2019-M_P-D_D-02##_02##-0_0-Y_Y-01a_0091_1286406_to_1290557\n",
      "Error decoding STT_CS-X2019_X2019-M_P-D_D-02##_02##-0_0-Y_Y-01a_0092_1292194_to_1299299\n",
      "Error decoding STT_CS-X2019_X2019-M_P-D_D-02##_02##-0_0-Y_Y-01a_0094_1327345_to_1332171\n",
      "Error decoding STT_CS-X2019_X2019-M_P-D_D-02##_02##-0_0-Y_Y-01a_0095_1336170_to_1338921\n",
      "Error decoding STT_CS-X2019_X2019-M_P-D_D-02##_02##-0_0-Y_Y-01a_0097_1355374_to_1360268\n",
      "Error decoding STT_CS-X2019_X2019-M_P-D_D-02##_02##-0_0-Y_Y-01a_0098_1365972_to_1368722\n",
      "Error decoding STT_CS-X2019_X2019-M_P-D_D-02##_02##-0_0-Y_Y-01a_0080_1180330_to_1184734\n",
      "Error decoding STT_CS-X2019_X2019-M_P-D_D-02##_02##-0_0-Y_Y-01a_0081_1207026_to_1209709\n",
      "Error decoding STT_CS-X2019_X2019-M_P-D_D-02##_02##-0_0-Y_Y-01a_0082_1217185_to_1219345\n",
      "Error decoding STT_CS-X2019_X2019-M_P-D_D-02##_02##-0_0-Y_Y-01a_0083_1220003_to_1222197\n",
      "Error decoding STT_CS-X2019_X2019-M_P-D_D-02##_02##-0_0-Y_Y-01a_0084_1223766_to_1226213\n",
      "Error decoding STT_CS-X2019_X2019-M_P-D_D-02##_02##-0_0-Y_Y-01a_0085_1233655_to_1237350\n",
      "Error decoding STT_CS-X2019_X2019-M_P-D_D-02##_02##-0_0-Y_Y-01a_0086_1248876_to_1252319\n",
      "Error decoding STT_CS-X2019_X2019-M_P-D_D-02##_02##-0_0-Y_Y-01a_0087_1261971_to_1265228\n",
      "Error decoding STT_CS-X2019_X2019-M_P-D_D-02##_02##-0_0-Y_Y-01a_0069_928555_to_933162\n",
      "Error decoding STT_CS-X2019_X2019-M_P-D_D-02##_02##-0_0-Y_Y-01a_0070_943877_to_950273\n",
      "Error decoding STT_CS-X2019_X2019-M_P-D_D-02##_02##-0_0-Y_Y-01a_0071_969359_to_972379\n",
      "Error decoding STT_CS-X2019_X2019-M_P-D_D-02##_02##-0_0-Y_Y-01a_0072_986234_to_990773\n",
      "Error decoding STT_CS-X2019_X2019-M_P-D_D-02##_02##-0_0-Y_Y-01a_0073_992106_to_994874\n",
      "Error decoding STT_CS-X2019_X2019-M_P-D_D-02##_02##-0_0-Y_Y-01a_0076_1108999_to_1111919\n",
      "Error decoding STT_CS-X2019_X2019-M_P-D_D-02##_02##-0_0-Y_Y-01a_0077_1115429_to_1117605\n",
      "Error decoding STT_CS-X2019_X2019-M_P-D_D-02##_02##-0_0-Y_Y-01a_0079_1172230_to_1175605\n",
      "Error decoding STT_CS-X2019_X2019-M_P-D_D-02##_02##-0_0-Y_Y-01b_0049_689909_to_693233\n",
      "Error decoding STT_CS-X2019_X2019-M_P-D_D-02##_02##-0_0-Y_Y-01b_0050_693587_to_696338\n",
      "Error decoding STT_CS-X2019_X2019-M_P-D_D-02##_02##-0_0-Y_Y-01b_0052_707999_to_712082\n",
      "Error decoding STT_CS-X2019_X2019-M_P-D_D-02##_02##-0_0-Y_Y-01b_0054_728130_to_731640\n",
      "Error decoding STT_CS-X2019_X2019-M_P-D_D-02##_02##-0_0-Y_Y-01b_0055_731910_to_738914\n",
      "Error decoding STT_CS-X2019_X2019-M_P-D_D-02##_02##-0_0-Y_Y-01b_0056_740905_to_743824\n",
      "Error decoding STT_CS-X2019_X2019-M_P-D_D-02##_02##-0_0-Y_Y-01b_0057_744584_to_750169\n",
      "Error decoding STT_CS-X2019_X2019-M_P-D_D-02##_02##-0_0-Y_Y-01b_0040_622493_to_624687\n",
      "Error decoding STT_CS-X2019_X2019-M_P-D_D-02##_02##-0_0-Y_Y-01b_0041_625885_to_630188\n",
      "Error decoding STT_CS-X2019_X2019-M_P-D_D-02##_02##-0_0-Y_Y-01b_0042_635706_to_638845\n",
      "Error decoding STT_CS-X2019_X2019-M_P-D_D-02##_02##-0_0-Y_Y-01b_0043_641393_to_648008\n",
      "Error decoding STT_CS-X2019_X2019-M_P-D_D-02##_02##-0_0-Y_Y-01b_0044_649881_to_653138\n",
      "Error decoding STT_CS-X2019_X2019-M_P-D_D-02##_02##-0_0-Y_Y-01b_0045_662790_to_667819\n",
      "Error decoding STT_CS-X2019_X2019-M_P-D_D-02##_02##-0_0-Y_Y-01b_0046_668309_to_671414\n",
      "Error decoding STT_CS-X2019_X2019-M_P-D_D-02##_02##-0_0-Y_Y-01b_0047_674130_to_678180\n",
      "Error decoding STT_CS-X2019_X2019-M_P-D_D-02##_02##-0_0-Y_Y-01b_0025_246214_to_250500\n",
      "Error decoding STT_CS-X2019_X2019-M_P-D_D-02##_02##-0_0-Y_Y-01b_0026_254702_to_259512\n",
      "Error decoding STT_CS-X2019_X2019-M_P-D_D-02##_02##-0_0-Y_Y-01b_0028_282495_to_286174\n",
      "Error decoding STT_CS-X2019_X2019-M_P-D_D-02##_02##-0_0-Y_Y-01b_0029_298864_to_302425\n",
      "Error decoding STT_CS-X2019_X2019-M_P-D_D-02##_02##-0_0-Y_Y-01b_0031_365959_to_370887\n",
      "Error decoding STT_CS-X2019_X2019-M_P-D_D-02##_02##-0_0-Y_Y-01b_0032_372304_to_374481\n",
      "Error decoding STT_CS-X2019_X2019-M_P-D_D-02##_02##-0_0-Y_Y-01b_0034_390428_to_397600\n",
      "Error decoding STT_CS-X2019_X2019-M_P-D_D-02##_02##-0_0-Y_Y-01b_0036_571530_to_574905\n",
      "Error decoding STT_CS-X2019_X2019-M_P-D_D-02##_02##-0_0-Y_Y-01b_0014_120529_to_125862\n",
      "Error decoding STT_CS-X2019_X2019-M_P-D_D-02##_02##-0_0-Y_Y-01b_0015_126587_to_133793\n",
      "Error decoding STT_CS-X2019_X2019-M_P-D_D-02##_02##-0_0-Y_Y-01b_0016_180233_to_182865\n",
      "Error decoding STT_CS-X2019_X2019-M_P-D_D-02##_02##-0_0-Y_Y-01b_0017_183524_to_188215\n",
      "Error decoding STT_CS-X2019_X2019-M_P-D_D-02##_02##-0_0-Y_Y-01b_0019_200162_to_205225\n",
      "Error decoding STT_CS-X2019_X2019-M_P-D_D-02##_02##-0_0-Y_Y-01b_0020_207233_to_209832\n",
      "Error decoding STT_CS-X2019_X2019-M_P-D_D-02##_02##-0_0-Y_Y-01b_0021_212160_to_216987\n",
      "Error decoding STT_CS-X2019_X2019-M_P-D_D-02##_02##-0_0-Y_Y-01b_0023_231584_to_236781\n",
      "Error decoding STT_CS-X2019_X2019-M_P-D_D-02##_02##-0_0-Y_Y-01b_0091_1039246_to_1046292\n",
      "Error decoding STT_CS-X2019_X2019-M_P-D_D-02##_02##-0_0-Y_Y-01b_0092_1059977_to_1063892\n",
      "Error decoding STT_CS-X2019_X2019-M_P-D_D-02##_02##-0_0-Y_Y-01b_0093_1064500_to_1069664\n",
      "Error decoding STT_CS-X2019_X2019-M_P-D_D-02##_02##-0_0-Y_Y-01b_0094_1084564_to_1090791\n",
      "Error decoding STT_CS-X2019_X2019-M_P-D_D-02##_02##-0_0-Y_Y-01b_0095_1097946_to_1101389\n",
      "Error decoding STT_CS-X2019_X2019-M_P-D_D-02##_02##-0_0-Y_Y-01b_0096_1102789_to_1105034\n",
      "Error decoding STT_CS-X2019_X2019-M_P-D_D-02##_02##-0_0-Y_Y-01b_0098_1129890_to_1134649\n",
      "Error decoding STT_CS-X2019_X2019-M_P-D_D-02##_02##-0_0-Y_Y-01b_0099_1151777_to_1156080\n",
      "Error decoding STT_CS-X2019_X2019-M_P-D_D-02##_02##-0_0-Y_Y-01b_0083_954762_to_960052\n",
      "Error decoding STT_CS-X2019_X2019-M_P-D_D-02##_02##-0_0-Y_Y-01b_0084_960052_to_965342\n",
      "Error decoding STT_CS-X2019_X2019-M_P-D_D-02##_02##-0_0-Y_Y-01b_0085_971569_to_973712\n",
      "Error decoding STT_CS-X2019_X2019-M_P-D_D-02##_02##-0_0-Y_Y-01b_0086_991752_to_997000\n",
      "Error decoding STT_CS-X2019_X2019-M_P-D_D-02##_02##-0_0-Y_Y-01b_0087_1002197_to_1007985\n",
      "Error decoding STT_CS-X2019_X2019-M_P-D_D-02##_02##-0_0-Y_Y-01b_0089_1017300_to_1020996\n",
      "Error decoding STT_CS-X2019_X2019-M_P-D_D-02##_02##-0_0-Y_Y-01b_0090_1032201_to_1039246\n",
      "Error decoding STT_CS-X2019_X2019-M_P-D_D-02##_02##-0_0-Y_Y-01b_0072_872496_to_875415\n",
      "Error decoding STT_CS-X2019_X2019-M_P-D_D-02##_02##-0_0-Y_Y-01b_0074_881440_to_887009\n",
      "Error decoding STT_CS-X2019_X2019-M_P-D_D-02##_02##-0_0-Y_Y-01b_0075_887110_to_889472\n",
      "Error decoding STT_CS-X2019_X2019-M_P-D_D-02##_02##-0_0-Y_Y-01b_0076_891801_to_895260\n",
      "Error decoding STT_CS-X2019_X2019-M_P-D_D-02##_02##-0_0-Y_Y-01b_0077_908507_to_912540\n",
      "Error decoding STT_CS-X2019_X2019-M_P-D_D-02##_02##-0_0-Y_Y-01b_0078_913570_to_917029\n",
      "Error decoding STT_CS-X2019_X2019-M_P-D_D-02##_02##-0_0-Y_Y-01b_0079_923560_to_929061\n",
      "Error decoding STT_CS-X2019_X2019-M_P-D_D-02##_02##-0_0-Y_Y-01b_0081_937313_to_940249\n",
      "Error decoding STT_CS-X2019_X2019-M_P-D_D-02##_02##-0_0-Y_Y-01b_0059_754050_to_757898\n",
      "Error decoding STT_CS-X2019_X2019-M_P-D_D-02##_02##-0_0-Y_Y-01b_0061_777203_to_782400\n",
      "Error decoding STT_CS-X2019_X2019-M_P-D_D-02##_02##-0_0-Y_Y-01b_0062_782755_to_785505\n",
      "Error decoding STT_CS-X2019_X2019-M_P-D_D-02##_02##-0_0-Y_Y-01b_0063_792104_to_796289\n",
      "Error decoding STT_CS-X2019_X2019-M_P-D_D-02##_02##-0_0-Y_Y-01b_0066_823930_to_826275\n",
      "Error decoding STT_CS-X2019_X2019-M_P-D_D-02##_02##-0_0-Y_Y-01b_0067_831186_to_838746\n",
      "Error decoding STT_CS-X2019_X2019-M_P-D_D-02##_02##-0_0-Y_Y-01b_0070_863215_to_865949\n",
      "Error decoding STT_CS-X2019_X2019-M_P-D_D-02##_02##-0_0-Y_Y-01b_0071_866539_to_871534\n",
      "Error decoding STT_CS-X2019_X2019-M_P-D_D-02##_02##-0_0-Y_Y-01b_0127_1754130_to_1756139\n",
      "Error decoding STT_CS-X2019_X2019-M_P-D_D-02##_02##-0_0-Y_Y-01b_0128_1782396_to_1784624\n",
      "Error decoding STT_CS-X2019_X2019-M_P-D_D-02##_02##-0_0-Y_Y-01b_0129_1798326_to_1801954\n",
      "Error decoding STT_CS-X2019_X2019-M_P-D_D-02##_02##-0_0-Y_Y-01b_0133_1841020_to_1843484\n",
      "Error decoding STT_CS-X2019_X2019-M_P-D_D-02##_02##-0_0-Y_Y-01b_0135_1873049_to_1875850\n",
      "Error decoding STT_CS-X2019_X2019-M_P-D_D-02##_02##-0_0-Y_Y-01b_0137_1946539_to_1950302\n",
      "Error decoding STT_CS-X2019_X2019-M_P-D_D-02##_02##-0_0-Y_Y-01b_0138_1951146_to_1955888\n",
      "Error decoding STT_CS-X2019_X2019-M_P-D_D-02##_02##-0_0-Y_Y-01b_0139_1991140_to_1993283\n",
      "Error decoding STT_CS-X2019_X2019-M_P-D_D-02##_02##-0_0-Y_Y-01b_0117_1605428_to_1608347\n",
      "Error decoding STT_CS-X2019_X2019-M_P-D_D-02##_02##-0_0-Y_Y-01b_0118_1635989_to_1642485\n",
      "Error decoding STT_CS-X2019_X2019-M_P-D_D-02##_02##-0_0-Y_Y-01b_0119_1658702_to_1660930\n",
      "Error decoding STT_CS-X2019_X2019-M_P-D_D-02##_02##-0_0-Y_Y-01b_0120_1676640_to_1678986\n",
      "Error decoding STT_CS-X2019_X2019-M_P-D_D-02##_02##-0_0-Y_Y-01b_0121_1679577_to_1681737\n",
      "Error decoding STT_CS-X2019_X2019-M_P-D_D-02##_02##-0_0-Y_Y-01b_0122_1682564_to_1686344\n",
      "Error decoding STT_CS-X2019_X2019-M_P-D_D-02##_02##-0_0-Y_Y-01b_0123_1688942_to_1694857\n",
      "Error decoding STT_CS-X2019_X2019-M_P-D_D-02##_02##-0_0-Y_Y-01b_0108_1358479_to_1364369\n",
      "Error decoding STT_CS-X2019_X2019-M_P-D_D-02##_02##-0_0-Y_Y-01b_0109_1365195_to_1367204\n",
      "Error decoding STT_CS-X2019_X2019-M_P-D_D-02##_02##-0_0-Y_Y-01b_0110_1373295_to_1381159\n",
      "Error decoding STT_CS-X2019_X2019-M_P-D_D-02##_02##-0_0-Y_Y-01b_0112_1413306_to_1419347\n",
      "Error decoding STT_CS-X2019_X2019-M_P-D_D-02##_02##-0_0-Y_Y-01b_0114_1476705_to_1479810\n",
      "Error decoding STT_CS-X2019_X2019-M_P-D_D-02##_02##-0_0-Y_Y-01b_0115_1513780_to_1516395\n",
      "Error decoding STT_CS-X2019_X2019-M_P-D_D-02##_02##-0_0-Y_Y-01b_0136_1930778_to_1933664\n",
      "Error decoding STT_CS-X2019_X2019-M_P-D_D-02##_02##-0_0-Y_Y-01b_0116_1540830_to_1542889\n",
      "Error decoding STT_CS-X2019_X2019-M_P-D_D-02##_02##-0_0-Y_Y-01b_0100_1189814_to_1193189\n",
      "Error decoding STT_CS-X2019_X2019-M_P-D_D-02##_02##-0_0-Y_Y-01b_0101_1193813_to_1197677\n",
      "Error decoding STT_CS-X2019_X2019-M_P-D_D-02##_02##-0_0-Y_Y-01b_0102_1226348_to_1229183\n",
      "Error decoding STT_CS-X2019_X2019-M_P-D_D-02##_02##-0_0-Y_Y-01b_0103_1229267_to_1233014\n",
      "Error decoding STT_CS-X2019_X2019-M_P-D_D-02##_02##-0_0-Y_Y-01b_0104_1253230_to_1257246\n",
      "Error decoding STT_CS-X2019_X2019-M_P-D_D-02##_02##-0_0-Y_Y-01b_0105_1311398_to_1315701\n",
      "Error decoding STT_CS-X2019_X2019-M_P-D_D-02##_02##-0_0-Y_Y-01b_0106_1321860_to_1324020\n",
      "Error decoding STT_CS-X2019_X2019-M_P-D_D-02##_02##-0_0-Y_Y-01b_0107_1328324_to_1330754\n",
      "Error decoding STT_CS-X2019_X2019-M_P-D_D-02##_02##-0_0-Y_Y-01c_0027_552377_to_557575\n",
      "Error decoding STT_CS-X2019_X2019-M_P-D_D-02##_02##-0_0-Y_Y-01c_0028_586735_to_595155\n",
      "Error decoding STT_CS-X2019_X2019-M_P-D_D-02##_02##-0_0-Y_Y-01c_0029_603374_to_606512\n",
      "Error decoding STT_CS-X2019_X2019-M_P-D_D-02##_02##-0_0-Y_Y-01c_0030_619725_to_625615\n",
      "Error decoding STT_CS-X2019_X2019-M_P-D_D-02##_02##-0_0-Y_Y-01c_0031_628112_to_632618\n",
      "Error decoding STT_CS-X2019_X2019-M_P-D_D-02##_02##-0_0-Y_Y-01c_0032_633377_to_635976\n",
      "Error decoding STT_CS-X2019_X2019-M_P-D_D-02##_02##-0_0-Y_Y-01c_0033_640161_to_645122\n",
      "Error decoding STT_CS-X2019_X2019-M_P-D_D-02##_02##-0_0-Y_Y-01c_0034_652345_to_654674\n",
      "Error decoding STT_CS-X2019_X2019-M_P-D_D-02##_02##-0_0-Y_Y-01c_0015_319654_to_325096\n",
      "Error decoding STT_CS-X2019_X2019-M_P-D_D-02##_02##-0_0-Y_Y-01c_0016_325096_to_330539\n",
      "Error decoding STT_CS-X2019_X2019-M_P-D_D-02##_02##-0_0-Y_Y-01c_0017_333272_to_337103\n",
      "Error decoding STT_CS-X2019_X2019-M_P-D_D-02##_02##-0_0-Y_Y-01c_0020_408180_to_415589\n",
      "Error decoding STT_CS-X2019_X2019-M_P-D_D-02##_02##-0_0-Y_Y-01c_0022_466163_to_474465\n",
      "Error decoding STT_CS-X2019_X2019-M_P-D_D-02##_02##-0_0-Y_Y-01c_0023_488050_to_494310\n",
      "Error decoding STT_CS-X2019_X2019-M_P-D_D-02##_02##-0_0-Y_Y-01c_0004_153300_to_158599\n",
      "Error decoding STT_CS-X2019_X2019-M_P-D_D-02##_02##-0_0-Y_Y-01c_0006_178073_to_184215\n",
      "Error decoding STT_CS-X2019_X2019-M_P-D_D-02##_02##-0_0-Y_Y-01c_0007_184215_to_190358\n",
      "Error decoding STT_CS-X2019_X2019-M_P-D_D-02##_02##-0_0-Y_Y-01c_0008_201445_to_203672\n",
      "Error decoding STT_CS-X2019_X2019-M_P-D_D-02##_02##-0_0-Y_Y-01c_0009_207925_to_212009\n",
      "Error decoding STT_CS-X2019_X2019-M_P-D_D-02##_02##-0_0-Y_Y-01c_0010_228900_to_233693\n",
      "Error decoding STT_CS-X2019_X2019-M_P-D_D-02##_02##-0_0-Y_Y-01c_0011_235127_to_243295\n",
      "Error decoding STT_CS-X2019_X2019-M_P-D_D-02##_02##-0_0-Y_Y-01c_0012_267831_to_272995\n",
      "Error decoding STT_CS-X2019_X2019-M_P-D_D-02##_02##-0_0-Y_Y-01b_0140_2001990_to_2004252\n",
      "Error decoding STT_CS-X2019_X2019-M_P-D_D-02##_02##-0_0-Y_Y-01b_0145_2052447_to_2056159\n",
      "Error decoding STT_CS-X2019_X2019-M_P-D_D-02##_02##-0_0-Y_Y-01b_0146_2063044_to_2069271\n",
      "Error decoding STT_CS-X2019_X2019-M_P-D_D-02##_02##-0_0-Y_Y-01b_0147_2070672_to_2074215\n",
      "Error decoding STT_CS-X2019_X2019-M_P-D_D-02##_02##-0_0-Y_Y-01b_0148_2083564_to_2087800\n",
      "Error decoding STT_CS-X2019_X2019-M_P-D_D-02##_02##-0_0-Y_Y-01c_0001_110033_to_113121\n",
      "Error decoding STT_CS-X2019_X2019-M_P-D_D-02##_02##-0_0-Y_Y-01c_0002_134620_to_138653\n",
      "Error decoding STT_CS-X2019_X2019-M_P-D_D-02##_02##-0_0-Y_Y-01c_0003_141049_to_143580\n",
      "Error decoding STT_CS-X2019_X2019-M_P-D_D-02##_02##-0_0-Y_Y-01c_0080_1220307_to_1223327\n",
      "Error decoding STT_CS-X2019_X2019-M_P-D_D-02##_02##-0_0-Y_Y-01c_0081_1224492_to_1227479\n",
      "Error decoding STT_CS-X2019_X2019-M_P-D_D-02##_02##-0_0-Y_Y-01c_0082_1228407_to_1234279\n",
      "Error decoding STT_CS-X2019_X2019-M_P-D_D-02##_02##-0_0-Y_Y-01c_0084_1246041_to_1249433\n",
      "Error decoding STT_CS-X2019_X2019-M_P-D_D-02##_02##-0_0-Y_Y-01c_0085_1249754_to_1253314\n",
      "Error decoding STT_CS-X2019_X2019-M_P-D_D-02##_02##-0_0-Y_Y-01c_0087_1264165_to_1266713\n",
      "Error decoding STT_CS-X2019_X2019-M_P-D_D-02##_02##-0_0-Y_Y-01c_0088_1273716_to_1280280\n",
      "Error decoding STT_CS-X2019_X2019-M_P-D_D-02##_02##-0_0-Y_Y-01c_0068_1108392_to_1111750\n",
      "Error decoding STT_CS-X2019_X2019-M_P-D_D-02##_02##-0_0-Y_Y-01c_0069_1112138_to_1116509\n",
      "Error decoding STT_CS-X2019_X2019-M_P-D_D-02##_02##-0_0-Y_Y-01c_0071_1129334_to_1131865\n",
      "Error decoding STT_CS-X2019_X2019-M_P-D_D-02##_02##-0_0-Y_Y-01c_0072_1132371_to_1135695\n",
      "Error decoding STT_CS-X2019_X2019-M_P-D_D-02##_02##-0_0-Y_Y-01c_0073_1135814_to_1139003\n",
      "Error decoding STT_CS-X2019_X2019-M_P-D_D-02##_02##-0_0-Y_Y-01c_0074_1150917_to_1155743\n",
      "Error decoding STT_CS-X2019_X2019-M_P-D_D-02##_02##-0_0-Y_Y-01c_0077_1191906_to_1195045\n",
      "Error decoding STT_CS-X2019_X2019-M_P-D_D-02##_02##-0_0-Y_Y-01c_0078_1195517_to_1199669\n",
      "Error decoding STT_CS-X2019_X2019-M_P-D_D-02##_02##-0_0-Y_Y-01c_0055_931592_to_935220\n",
      "Error decoding STT_CS-X2019_X2019-M_P-D_D-02##_02##-0_0-Y_Y-01c_0057_961731_to_967848\n",
      "Error decoding STT_CS-X2019_X2019-M_P-D_D-02##_02##-0_0-Y_Y-01c_0058_967848_to_973965\n",
      "Error decoding STT_CS-X2019_X2019-M_P-D_D-02##_02##-0_0-Y_Y-01c_0059_976902_to_982943\n",
      "Error decoding STT_CS-X2019_X2019-M_P-D_D-02##_02##-0_0-Y_Y-01c_0061_990503_to_993709\n",
      "Error decoding STT_CS-X2019_X2019-M_P-D_D-02##_02##-0_0-Y_Y-01c_0062_1001235_to_1003480\n",
      "Error decoding STT_CS-X2019_X2019-M_P-D_D-02##_02##-0_0-Y_Y-01c_0066_1068820_to_1072127\n",
      "Error decoding STT_CS-X2019_X2019-M_P-D_D-02##_02##-0_0-Y_Y-01c_0067_1083315_to_1087754\n",
      "Error decoding STT_CS-X2019_X2019-M_P-D_D-02##_02##-0_0-Y_Y-01c_0036_664292_to_668612\n",
      "Error decoding STT_CS-X2019_X2019-M_P-D_D-02##_02##-0_0-Y_Y-01c_0037_669338_to_672865\n",
      "Error decoding STT_CS-X2019_X2019-M_P-D_D-02##_02##-0_0-Y_Y-01c_0038_685859_to_689858\n",
      "Error decoding STT_CS-X2019_X2019-M_P-D_D-02##_02##-0_0-Y_Y-01c_0039_704860_to_711492\n",
      "Error decoding STT_CS-X2019_X2019-M_P-D_D-02##_02##-0_0-Y_Y-01c_0040_715407_to_717938\n",
      "Error decoding STT_CS-X2019_X2019-M_P-D_D-02##_02##-0_0-Y_Y-01c_0041_740719_to_746085\n",
      "Error decoding STT_CS-X2019_X2019-M_P-D_D-02##_02##-0_0-Y_Y-01c_0043_757282_to_762302\n",
      "Error decoding STT_CS-X2019_X2019-M_P-D_D-02##_02##-0_0-Y_Y-01c_0054_922058_to_926783\n",
      "Error decoding STT_CS-X2019_X2019-M_P-D_D-02##_02##-0_0-Y_Y-01d_0019_273467_to_278175\n",
      "Error decoding STT_CS-X2019_X2019-M_P-D_D-02##_02##-0_0-Y_Y-01d_0020_289060_to_291186\n",
      "Error decoding STT_CS-X2019_X2019-M_P-D_D-02##_02##-0_0-Y_Y-01d_0021_303032_to_307926\n",
      "Error decoding STT_CS-X2019_X2019-M_P-D_D-02##_02##-0_0-Y_Y-01d_0023_334049_to_337120\n",
      "Error decoding STT_CS-X2019_X2019-M_P-D_D-02##_02##-0_0-Y_Y-01d_0024_345422_to_350502\n",
      "Error decoding STT_CS-X2019_X2019-M_P-D_D-02##_02##-0_0-Y_Y-01d_0025_351666_to_354282\n",
      "Error decoding STT_CS-X2019_X2019-M_P-D_D-02##_02##-0_0-Y_Y-01d_0026_366229_to_369537\n",
      "Error decoding STT_CS-X2019_X2019-M_P-D_D-02##_02##-0_0-Y_Y-01d_0027_374363_to_376894\n",
      "Error decoding STT_CS-X2019_X2019-M_P-D_D-02##_02##-0_0-Y_Y-01d_0010_121862_to_124444\n",
      "Error decoding STT_CS-X2019_X2019-M_P-D_D-02##_02##-0_0-Y_Y-01d_0011_139277_to_141741\n",
      "Error decoding STT_CS-X2019_X2019-M_P-D_D-02##_02##-0_0-Y_Y-01d_0012_162126_to_164708\n",
      "Error decoding STT_CS-X2019_X2019-M_P-D_D-02##_02##-0_0-Y_Y-01d_0013_171070_to_174141\n",
      "Error decoding STT_CS-X2019_X2019-M_P-D_D-02##_02##-0_0-Y_Y-01d_0014_174765_to_177719\n",
      "Error decoding STT_CS-X2019_X2019-M_P-D_D-02##_02##-0_0-Y_Y-01d_0016_236359_to_238620\n",
      "Error decoding STT_CS-X2019_X2019-M_P-D_D-02##_02##-0_0-Y_Y-01d_0017_251429_to_255074\n",
      "Error decoding STT_CS-X2019_X2019-M_P-D_D-02##_02##-0_0-Y_Y-01d_0018_267848_to_269991\n",
      "Error decoding STT_CS-X2019_X2019-M_P-D_D-02##_02##-0_0-Y_Y-01c_0101_1399688_to_1404447\n",
      "Error decoding STT_CS-X2019_X2019-M_P-D_D-02##_02##-0_0-Y_Y-01c_0104_1419330_to_1421777\n",
      "Error decoding STT_CS-X2019_X2019-M_P-D_D-02##_02##-0_0-Y_Y-01c_0105_1423144_to_1427346\n",
      "Error decoding STT_CS-X2019_X2019-M_P-D_D-02##_02##-0_0-Y_Y-01c_0107_1447883_to_1451393\n",
      "Error decoding STT_CS-X2019_X2019-M_P-D_D-02##_02##-0_0-Y_Y-01c_0108_1464572_to_1468673\n",
      "Error decoding STT_CS-X2019_X2019-M_P-D_D-02##_02##-0_0-Y_Y-01d_0002_20511_to_22992\n",
      "Error decoding STT_CS-X2019_X2019-M_P-D_D-02##_02##-0_0-Y_Y-01d_0008_93344_to_96482\n",
      "Error decoding STT_CS-X2019_X2019-M_P-D_D-02##_02##-0_0-Y_Y-01d_0009_110691_to_112919\n",
      "Error decoding STT_CS-X2019_X2019-M_P-D_D-02##_02##-0_0-Y_Y-01c_0090_1289055_to_1295012\n",
      "Error decoding STT_CS-X2019_X2019-M_P-D_D-02##_02##-0_0-Y_Y-01c_0091_1310132_to_1312782\n",
      "Error decoding STT_CS-X2019_X2019-M_P-D_D-02##_02##-0_0-Y_Y-01c_0092_1320510_to_1323059\n",
      "Error decoding STT_CS-X2019_X2019-M_P-D_D-02##_02##-0_0-Y_Y-01c_0093_1326029_to_1330804\n",
      "Error decoding STT_CS-X2019_X2019-M_P-D_D-02##_02##-0_0-Y_Y-01c_0095_1348202_to_1352185\n",
      "Error decoding STT_CS-X2019_X2019-M_P-D_D-02##_02##-0_0-Y_Y-01c_0097_1371000_to_1376316\n",
      "Error decoding STT_CS-X2019_X2019-M_P-D_D-02##_02##-0_0-Y_Y-01c_0098_1377514_to_1382324\n",
      "Error decoding STT_CS-X2019_X2019-M_P-D_D-02##_02##-0_0-Y_Y-01c_0099_1385344_to_1391445\n",
      "Error decoding STT_CS-X2019_X2019-M_P-D_D-02##_02##-0_0-Y_Y-01e_0019_337390_to_339837\n",
      "Error decoding STT_CS-X2019_X2019-M_P-D_D-02##_02##-0_0-Y_Y-01e_0020_364407_to_366634\n",
      "Error decoding STT_CS-X2019_X2019-M_P-D_D-02##_02##-0_0-Y_Y-01e_0021_428700_to_432599\n",
      "Error decoding STT_CS-X2019_X2019-M_P-D_D-02##_02##-0_0-Y_Y-01e_0022_458198_to_461624\n",
      "Error decoding STT_CS-X2019_X2019-M_P-D_D-02##_02##-0_0-Y_Y-01e_0023_461843_to_468087\n",
      "Error decoding STT_CS-X2019_X2019-M_P-D_D-02##_02##-0_0-Y_Y-01e_0025_494496_to_498782\n",
      "Error decoding STT_CS-X2019_X2019-M_P-D_D-02##_02##-0_0-Y_Y-01e_0026_500284_to_502883\n",
      "Error decoding STT_CS-X2019_X2019-M_P-D_D-02##_02##-0_0-Y_Y-01e_0027_503220_to_505532\n",
      "Error decoding STT_CS-X2019_X2019-M_P-D_D-02##_02##-0_0-Y_Y-01e_0009_188451_to_191252\n",
      "Error decoding STT_CS-X2019_X2019-M_P-D_D-02##_02##-0_0-Y_Y-01e_0010_199639_to_206440\n",
      "Error decoding STT_CS-X2019_X2019-M_P-D_D-02##_02##-0_0-Y_Y-01e_0011_222522_to_224648\n",
      "Error decoding STT_CS-X2019_X2019-M_P-D_D-02##_02##-0_0-Y_Y-01e_0012_228917_to_231077\n",
      "Error decoding STT_CS-X2019_X2019-M_P-D_D-02##_02##-0_0-Y_Y-01e_0013_236933_to_240291\n",
      "Error decoding STT_CS-X2019_X2019-M_P-D_D-02##_02##-0_0-Y_Y-01e_0014_249015_to_251378\n",
      "Error decoding STT_CS-X2019_X2019-M_P-D_D-02##_02##-0_0-Y_Y-01e_0015_254922_to_257554\n",
      "Error decoding STT_CS-X2019_X2019-M_P-D_D-02##_02##-0_0-Y_Y-01e_0018_310778_to_316313\n",
      "Error decoding STT_CS-X2019_X2019-M_P-D_D-02##_02##-0_0-Y_Y-01e_0001_17474_to_21152\n",
      "Error decoding STT_CS-X2019_X2019-M_P-D_D-02##_02##-0_0-Y_Y-01e_0002_37049_to_39344\n",
      "Error decoding STT_CS-X2019_X2019-M_P-D_D-02##_02##-0_0-Y_Y-01e_0003_53316_to_55409\n",
      "Error decoding STT_CS-X2019_X2019-M_P-D_D-02##_02##-0_0-Y_Y-01e_0004_68993_to_71997\n",
      "Error decoding STT_CS-X2019_X2019-M_P-D_D-02##_02##-0_0-Y_Y-01e_0005_94778_to_99992\n",
      "Error decoding STT_CS-X2019_X2019-M_P-D_D-02##_02##-0_0-Y_Y-01e_0006_151562_to_157604\n",
      "Error decoding STT_CS-X2019_X2019-M_P-D_D-02##_02##-0_0-Y_Y-01e_0007_161012_to_163459\n",
      "Error decoding STT_CS-X2019_X2019-M_P-D_D-02##_02##-0_0-Y_Y-01e_0008_184924_to_188181\n",
      "Error decoding STT_CS-X2019_X2019-M_P-D_D-02##_02##-0_0-Y_Y-01d_0028_389230_to_391795\n",
      "Error decoding STT_CS-X2019_X2019-M_P-D_D-02##_02##-0_0-Y_Y-01d_0029_403523_to_405852\n",
      "Error decoding STT_CS-X2019_X2019-M_P-D_D-02##_02##-0_0-Y_Y-01d_0032_427452_to_431164\n",
      "Error decoding STT_CS-X2019_X2019-M_P-D_D-02##_02##-0_0-Y_Y-01d_0033_432531_to_437357\n",
      "Error decoding STT_CS-X2019_X2019-M_P-D_D-02##_02##-0_0-Y_Y-01d_0034_446115_to_452207\n",
      "Error decoding STT_CS-X2019_X2019-M_P-D_D-02##_02##-0_0-Y_Y-01d_0036_459632_to_463277\n",
      "Error decoding STT_CS-X2019_X2019-M_P-D_D-02##_02##-0_0-Y_Y-01d_0037_470787_to_475343\n",
      "Error decoding STT_CS-X2019_X2019-M_P-D_D-02##_02##-0_0-Y_Y-01d_0038_478583_to_482397\n",
      "Error decoding STT_CS-X2019_X2019-M_P-D_D-02##_02##-0_0-Y_Y-01c_0050_835261_to_841682\n",
      "Error decoding STT_CS-X2019_X2019-M_P-D_D-02##_02##-0_0-Y_Y-01c_0051_875888_to_878571\n",
      "Error decoding STT_CS-X2019_X2019-M_P-D_D-02##_02##-0_0-Y_Y-01c_0052_896864_to_899226\n",
      "Error decoding STT_CS-X2019_X2019-M_P-D_D-02##_02##-0_0-Y_Y-01c_0053_900357_to_904187\n",
      "Error decoding STT_CS-X2019_X2019-M_P-D_D-02##_02##-0_0-Y_Y-01c_0044_763332_to_765998\n",
      "Error decoding STT_CS-X2019_X2019-M_P-D_D-02##_02##-0_0-Y_Y-01c_0045_771060_to_776140\n",
      "Error decoding STT_CS-X2019_X2019-M_P-D_D-02##_02##-0_0-Y_Y-01c_0049_828840_to_835261\n",
      "Error decoding STT_CS-X2019_X2019-M_P-D_D-02##_02##-0_0-Y_Y-01e_0028_506207_to_510291\n",
      "Error decoding STT_CS-X2019_X2019-M_P-D_D-02##_02##-0_0-Y_Y-01e_0029_511827_to_513902\n",
      "Error decoding STT_CS-X2019_X2019-M_P-D_D-02##_02##-0_0-Y_Y-01e_0030_514004_to_519302\n",
      "Error decoding STT_CS-X2019_X2019-M_P-D_D-02##_02##-0_0-Y_Y-01e_0031_519302_to_524601\n",
      "Error decoding STT_CS-X2019_X2019-M_P-D_D-02##_02##-0_0-Y_Y-01e_0032_528972_to_535435\n",
      "Error decoding STT_CS-X2019_X2019-M_P-D_D-02##_02##-0_0-Y_Y-01e_0033_549593_to_554166\n",
      "Error decoding STT_CS-X2019_X2019-M_P-D_D-02##_02##-0_0-Y_Y-01e_0035_568274_to_571834\n",
      "Error decoding STT_CS-2013-P-D-B08-5-R-01_0035_252154_to_255782\n",
      "Error decoding STT_CS-2013-P-D-B08-5-R-01_0037_267443_to_269535\n",
      "Error decoding STT_CS-2013-P-D-B08-5-R-01_0038_269907_to_272539\n",
      "Error decoding STT_CS-2013-P-D-B08-5-R-01_0029_216869_to_219079\n",
      "Error decoding STT_CS-2013-P-D-B08-5-R-01_0042_289920_to_291996\n",
      "Error decoding STT_CS-2013-P-D-B08-5-R-01_0045_318456_to_324059\n",
      "Error decoding STT_CS-2013-P-D-B08-5-R-01_0046_326202_to_329391\n",
      "Error decoding STT_CS-2013-P-D-B08-5-R-01_0048_338588_to_340697\n",
      "Error decoding STT_CS-2013-P-D-B08-5-R-01_0013_89277_to_93344\n",
      "Error decoding STT_CS-2013-P-D-B08-5-R-01_0014_94997_to_97495\n",
      "Error decoding STT_CS-2013-P-D-B08-5-R-01_0019_128865_to_131177\n",
      "Error decoding STT_CS-2013-P-D-B08-5-R-01_0031_227247_to_231938\n",
      "Error decoding STT_CS-2013-P-D-B08-5-R-01_0069_483780_to_487004\n",
      "Error decoding STT_CS-2013-P-D-B08-5-R-01_0071_495070_to_497432\n",
      "Error decoding STT_CS-2013-P-D-B08-5-R-01_0105_762319_to_765087\n",
      "Error decoding STT_CS-2013-P-D-B08-5-R-01_0006_35074_to_37555\n",
      "Error decoding STT_CS-2013-P-D-B08-5-R-01_0008_53097_to_58142\n",
      "Error decoding STT_CS-2013-P-D-B08-5-R-01_0009_58142_to_63188\n",
      "Error decoding STT_CS-2013-P-D-B08-5-R-01_0150_1145820_to_1148402\n",
      "Error decoding STT_CS-2013-P-D-B08-5-R-01_0057_393077_to_396115\n",
      "Error decoding STT_CS-2013-P-D-B08-5-R-01_0051_355345_to_357724\n",
      "Error decoding STT_CS-2013-P-D-B08-5-R-01_0060_411809_to_413969\n",
      "Error decoding STT_CS-2013-P-D-B08-5-R-01_0094_685049_to_687175\n",
      "Error decoding STT_CS-2013-P-D-B08-5-R-01_0101_734880_to_738694\n",
      "Error decoding STT_CS-2013-P-D-B08-5-R-01_0102_741310_to_743419\n",
      "Error decoding STT_CS-2013-P-D-B08-5-R-01_0002_12833_to_15600\n",
      "Error decoding STT_CS-2013-P-D-B08-5-R-01_0004_24190_to_26789\n",
      "Error decoding STT_CS-2013-P-D-B08-5-R-01_0124_919577_to_926834\n",
      "Error decoding STT_CS-D-2014-MD-B02-3-R-04_0052_430194_to_438201\n",
      "Error decoding STT_CS-D-2014-MD-B02-3-R-04_0053_441002_to_448394\n",
      "Error decoding STT_CS-D-2014-MD-B02-3-R-04_0076_652412_to_654910\n",
      "Error decoding STT_CS-D-2014-MD-B02-3-R-04_0087_743672_to_750895\n",
      "Error decoding STT_CS-X2019_X2019-M_P-D_D-02##_02##-0_0-Y_Y-01c_0026_542522_to_547990\n",
      "Error decoding STT_CS-X2019_X2019-M_P-D_D-02##_02##-0_0-Y_Y-01b_0125_1718929_to_1721140\n",
      "Error decoding STT_CS-X2019_X2019-M_P-D_D-02##_02##-0_0-Y_Y-01b_0082_946560_to_951150\n",
      "Error decoding STT_CS-X2019_X2019-M_P-D_D-02##_02##-0_0-Y_Y-01b_0051_699359_to_703594\n",
      "Error decoding STT_CS-X2019_X2019-M_P-D_D-02##_02##-0_0-Y_Y-01a_0059_679227_to_682146\n",
      "Error decoding STT_CS-X2019_X2019-M_P-D_D-02##_02##-0_0-Y_Y-01c_0086_1255457_to_1262595\n",
      "Error decoding STT_CS-X2019_X2019-M_P-D_D-02##_02##-0_0-Y_Y-01c_0024_516029_to_519690\n",
      "Error decoding STT_CS-X-D-2015-M-D-B03-3-R-01_0127_951049_to_960330\n"
     ]
    }
   ],
   "source": [
    "df_cs_parsed = df_cs['file_name'].apply(lambda x: pd.Series(parse_cs_file_name(x)))\n",
    "df_cs = pd.concat([df_cs, df_cs_parsed], axis=1)"
   ]
  },
  {
   "cell_type": "code",
   "execution_count": 23,
   "metadata": {},
   "outputs": [
    {
     "data": {
      "text/plain": [
       "education_years\n",
       "0.0       9\n",
       "1.0    2728\n",
       "2.0    3686\n",
       "3.0    2694\n",
       "4.0    2971\n",
       "5.0    2346\n",
       "6.0    1509\n",
       "7.0     750\n",
       "8.0     688\n",
       "9.0     414\n",
       "dtype: int64"
      ]
     },
     "execution_count": 23,
     "metadata": {},
     "output_type": "execute_result"
    }
   ],
   "source": [
    "df_cs.groupby('education_years').size()"
   ]
  },
  {
   "cell_type": "code",
   "execution_count": 24,
   "metadata": {},
   "outputs": [
    {
     "data": {
      "text/plain": [
       "school_code\n",
       "0        7\n",
       "B       48\n",
       "K       18\n",
       "R    16364\n",
       "T      649\n",
       "Y      656\n",
       "r       53\n",
       "dtype: int64"
      ]
     },
     "execution_count": 24,
     "metadata": {},
     "output_type": "execute_result"
    }
   ],
   "source": [
    "df_cs.groupby('school_code').size()"
   ]
  },
  {
   "cell_type": "code",
   "execution_count": 25,
   "metadata": {},
   "outputs": [],
   "source": [
    "benchmarks_cs = pd.concat([benchmarks_cs, df_cs[df_cs['education_years'] == 6][:100]])\n",
    "benchmarks_cs = pd.concat([benchmarks_cs, df_cs[df_cs['education_years'] == 9][:60]])"
   ]
  },
  {
   "cell_type": "code",
   "execution_count": 26,
   "metadata": {},
   "outputs": [
    {
     "data": {
      "text/plain": [
       "education_years\n",
       "1.0    268\n",
       "2.0    244\n",
       "3.0    124\n",
       "4.0     73\n",
       "5.0    114\n",
       "6.0    101\n",
       "7.0     93\n",
       "8.0     51\n",
       "9.0     92\n",
       "dtype: int64"
      ]
     },
     "execution_count": 26,
     "metadata": {},
     "output_type": "execute_result"
    }
   ],
   "source": [
    "benchmarks_cs.groupby('education_years').size()"
   ]
  },
  {
   "cell_type": "code",
   "execution_count": 27,
   "metadata": {},
   "outputs": [],
   "source": [
    "missing_school_codes = ['0','B','K','Y','r']"
   ]
  },
  {
   "cell_type": "code",
   "execution_count": 28,
   "metadata": {},
   "outputs": [],
   "source": [
    "benchmarks_cs = pd.concat([benchmarks_cs, df_cs[df_cs['school_code'] == '0'][:7]])\n",
    "benchmarks_cs = pd.concat([benchmarks_cs, df_cs[df_cs['school_code'] == 'B'][:40]])\n",
    "benchmarks_cs = pd.concat([benchmarks_cs, df_cs[df_cs['school_code'] == 'K'][:10]])\n",
    "benchmarks_cs = pd.concat([benchmarks_cs, df_cs[df_cs['school_code'] == 'Y'][:100]])\n",
    "benchmarks_cs = pd.concat([benchmarks_cs, df_cs[df_cs['school_code'] == 'r'][:50]])"
   ]
  },
  {
   "cell_type": "code",
   "execution_count": 29,
   "metadata": {},
   "outputs": [
    {
     "data": {
      "text/plain": [
       "school_code\n",
       "0       7\n",
       "B      41\n",
       "K      10\n",
       "R    1057\n",
       "T     102\n",
       "Y     100\n",
       "r      50\n",
       "dtype: int64"
      ]
     },
     "execution_count": 29,
     "metadata": {},
     "output_type": "execute_result"
    }
   ],
   "source": [
    "benchmarks_cs.groupby('school_code').size()"
   ]
  },
  {
   "cell_type": "code",
   "execution_count": 30,
   "metadata": {},
   "outputs": [],
   "source": [
    "benchmarks = pd.concat([benchmarks[benchmarks['dept'] != 'STT_CS'], benchmarks_cs])"
   ]
  },
  {
   "cell_type": "code",
   "execution_count": 31,
   "metadata": {},
   "outputs": [
    {
     "data": {
      "text/plain": [
       "(5367, 16)"
      ]
     },
     "execution_count": 31,
     "metadata": {},
     "output_type": "execute_result"
    }
   ],
   "source": [
    "benchmarks.shape"
   ]
  },
  {
   "cell_type": "code",
   "execution_count": 32,
   "metadata": {},
   "outputs": [
    {
     "data": {
      "text/plain": [
       "dept\n",
       "STT_AB    1000\n",
       "STT_CS    1367\n",
       "STT_MV    1000\n",
       "STT_NS    1000\n",
       "STT_TT    1000\n",
       "dtype: int64"
      ]
     },
     "execution_count": 32,
     "metadata": {},
     "output_type": "execute_result"
    }
   ],
   "source": [
    "benchmarks.groupby('dept').size()"
   ]
  },
  {
   "cell_type": "code",
   "execution_count": 33,
   "metadata": {},
   "outputs": [],
   "source": [
    "benchmarks.to_csv('05_benchmarks.tsv', sep='\\t', index=False)"
   ]
  },
  {
   "cell_type": "code",
   "execution_count": null,
   "metadata": {},
   "outputs": [],
   "source": []
  }
 ],
 "metadata": {
  "kernelspec": {
   "display_name": ".env",
   "language": "python",
   "name": "python3"
  },
  "language_info": {
   "codemirror_mode": {
    "name": "ipython",
    "version": 3
   },
   "file_extension": ".py",
   "mimetype": "text/x-python",
   "name": "python",
   "nbconvert_exporter": "python",
   "pygments_lexer": "ipython3",
   "version": "3.10.12"
  }
 },
 "nbformat": 4,
 "nbformat_minor": 2
}
