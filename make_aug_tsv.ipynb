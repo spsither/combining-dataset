{
 "cells": [
  {
   "cell_type": "code",
   "execution_count": 5,
   "metadata": {},
   "outputs": [],
   "source": [
    "aug_audio_file = \"/media/monlamai/SSD/after_aug_audio_files\""
   ]
  },
  {
   "cell_type": "code",
   "execution_count": 6,
   "metadata": {},
   "outputs": [
    {
     "data": {
      "text/plain": [
       "['metadata.csv', 'wavs']"
      ]
     },
     "execution_count": 6,
     "metadata": {},
     "output_type": "execute_result"
    }
   ],
   "source": [
    "import os\n",
    "os.listdir(aug_audio_file)"
   ]
  },
  {
   "cell_type": "code",
   "execution_count": 7,
   "metadata": {},
   "outputs": [],
   "source": [
    "import pandas as pd\n",
    "df = pd.read_csv(\"/media/monlamai/SSD/after_aug_audio_files/metadata.csv\", header=None, sep='|')"
   ]
  },
  {
   "cell_type": "code",
   "execution_count": 8,
   "metadata": {},
   "outputs": [
    {
     "data": {
      "text/html": [
       "<div>\n",
       "<style scoped>\n",
       "    .dataframe tbody tr th:only-of-type {\n",
       "        vertical-align: middle;\n",
       "    }\n",
       "\n",
       "    .dataframe tbody tr th {\n",
       "        vertical-align: top;\n",
       "    }\n",
       "\n",
       "    .dataframe thead th {\n",
       "        text-align: right;\n",
       "    }\n",
       "</style>\n",
       "<table border=\"1\" class=\"dataframe\">\n",
       "  <thead>\n",
       "    <tr style=\"text-align: right;\">\n",
       "      <th></th>\n",
       "      <th>0</th>\n",
       "      <th>1</th>\n",
       "      <th>2</th>\n",
       "    </tr>\n",
       "  </thead>\n",
       "  <tbody>\n",
       "    <tr>\n",
       "      <th>0</th>\n",
       "      <td>/media/monlamai/SSD/after_aug_audio_files/wavs...</td>\n",
       "      <td>311596</td>\n",
       "      <td>NaN</td>\n",
       "    </tr>\n",
       "    <tr>\n",
       "      <th>1</th>\n",
       "      <td>/media/monlamai/SSD/after_aug_audio_files/wavs...</td>\n",
       "      <td>234860</td>\n",
       "      <td>NaN</td>\n",
       "    </tr>\n",
       "    <tr>\n",
       "      <th>2</th>\n",
       "      <td>/media/monlamai/SSD/after_aug_audio_files/wavs...</td>\n",
       "      <td>173836</td>\n",
       "      <td>NaN</td>\n",
       "    </tr>\n",
       "    <tr>\n",
       "      <th>3</th>\n",
       "      <td>/media/monlamai/SSD/after_aug_audio_files/wavs...</td>\n",
       "      <td>77526</td>\n",
       "      <td>NaN</td>\n",
       "    </tr>\n",
       "    <tr>\n",
       "      <th>4</th>\n",
       "      <td>/media/monlamai/SSD/after_aug_audio_files/wavs...</td>\n",
       "      <td>94252</td>\n",
       "      <td>NaN</td>\n",
       "    </tr>\n",
       "  </tbody>\n",
       "</table>\n",
       "</div>"
      ],
      "text/plain": [
       "                                                   0       1   2\n",
       "0  /media/monlamai/SSD/after_aug_audio_files/wavs...  311596 NaN\n",
       "1  /media/monlamai/SSD/after_aug_audio_files/wavs...  234860 NaN\n",
       "2  /media/monlamai/SSD/after_aug_audio_files/wavs...  173836 NaN\n",
       "3  /media/monlamai/SSD/after_aug_audio_files/wavs...   77526 NaN\n",
       "4  /media/monlamai/SSD/after_aug_audio_files/wavs...   94252 NaN"
      ]
     },
     "execution_count": 8,
     "metadata": {},
     "output_type": "execute_result"
    }
   ],
   "source": [
    "df.head()"
   ]
  },
  {
   "cell_type": "code",
   "execution_count": 9,
   "metadata": {},
   "outputs": [],
   "source": [
    "df['file_name'] = df[0].apply(lambda x: '-'.join(x.split('/')[-1].split('-')[1:]))"
   ]
  },
  {
   "cell_type": "code",
   "execution_count": 10,
   "metadata": {},
   "outputs": [],
   "source": [
    "df['file_name'] = df['file_name'].str.replace('.wav', '')"
   ]
  },
  {
   "cell_type": "code",
   "execution_count": 11,
   "metadata": {},
   "outputs": [
    {
     "data": {
      "text/html": [
       "<div>\n",
       "<style scoped>\n",
       "    .dataframe tbody tr th:only-of-type {\n",
       "        vertical-align: middle;\n",
       "    }\n",
       "\n",
       "    .dataframe tbody tr th {\n",
       "        vertical-align: top;\n",
       "    }\n",
       "\n",
       "    .dataframe thead th {\n",
       "        text-align: right;\n",
       "    }\n",
       "</style>\n",
       "<table border=\"1\" class=\"dataframe\">\n",
       "  <thead>\n",
       "    <tr style=\"text-align: right;\">\n",
       "      <th></th>\n",
       "      <th>0</th>\n",
       "      <th>1</th>\n",
       "      <th>2</th>\n",
       "      <th>file_name</th>\n",
       "    </tr>\n",
       "  </thead>\n",
       "  <tbody>\n",
       "    <tr>\n",
       "      <th>0</th>\n",
       "      <td>/media/monlamai/SSD/after_aug_audio_files/wavs...</td>\n",
       "      <td>311596</td>\n",
       "      <td>NaN</td>\n",
       "      <td>STT_MV0043_0198_1267980_to_1277716</td>\n",
       "    </tr>\n",
       "    <tr>\n",
       "      <th>1</th>\n",
       "      <td>/media/monlamai/SSD/after_aug_audio_files/wavs...</td>\n",
       "      <td>234860</td>\n",
       "      <td>NaN</td>\n",
       "      <td>STT_MV0707_0249_2105527_to_2112865</td>\n",
       "    </tr>\n",
       "    <tr>\n",
       "      <th>2</th>\n",
       "      <td>/media/monlamai/SSD/after_aug_audio_files/wavs...</td>\n",
       "      <td>173836</td>\n",
       "      <td>NaN</td>\n",
       "      <td>STT_MV0141_0336_2395596_to_2401027</td>\n",
       "    </tr>\n",
       "    <tr>\n",
       "      <th>3</th>\n",
       "      <td>/media/monlamai/SSD/after_aug_audio_files/wavs...</td>\n",
       "      <td>77526</td>\n",
       "      <td>NaN</td>\n",
       "      <td>STT_NS0056_0120_1556292_to_1558713</td>\n",
       "    </tr>\n",
       "    <tr>\n",
       "      <th>4</th>\n",
       "      <td>/media/monlamai/SSD/after_aug_audio_files/wavs...</td>\n",
       "      <td>94252</td>\n",
       "      <td>NaN</td>\n",
       "      <td>STT_TT00347_0060_298296_to_301240</td>\n",
       "    </tr>\n",
       "  </tbody>\n",
       "</table>\n",
       "</div>"
      ],
      "text/plain": [
       "                                                   0       1   2  \\\n",
       "0  /media/monlamai/SSD/after_aug_audio_files/wavs...  311596 NaN   \n",
       "1  /media/monlamai/SSD/after_aug_audio_files/wavs...  234860 NaN   \n",
       "2  /media/monlamai/SSD/after_aug_audio_files/wavs...  173836 NaN   \n",
       "3  /media/monlamai/SSD/after_aug_audio_files/wavs...   77526 NaN   \n",
       "4  /media/monlamai/SSD/after_aug_audio_files/wavs...   94252 NaN   \n",
       "\n",
       "                            file_name  \n",
       "0  STT_MV0043_0198_1267980_to_1277716  \n",
       "1  STT_MV0707_0249_2105527_to_2112865  \n",
       "2  STT_MV0141_0336_2395596_to_2401027  \n",
       "3  STT_NS0056_0120_1556292_to_1558713  \n",
       "4   STT_TT00347_0060_298296_to_301240  "
      ]
     },
     "execution_count": 11,
     "metadata": {},
     "output_type": "execute_result"
    }
   ],
   "source": [
    "df.head()"
   ]
  },
  {
   "cell_type": "code",
   "execution_count": 12,
   "metadata": {},
   "outputs": [],
   "source": [
    "to_aug_train_df = pd.read_csv(\"to_aug_train.tsv\", sep='\\t')\n",
    "to_aug_val_df = pd.read_csv(\"to_aug_val.tsv\", sep='\\t')"
   ]
  },
  {
   "cell_type": "code",
   "execution_count": 13,
   "metadata": {},
   "outputs": [],
   "source": [
    "to_aug_train_df['file_name'] = to_aug_train_df['url'].apply(lambda x: x.split('/')[-1])\n",
    "to_aug_val_df['file_name'] = to_aug_val_df['url'].apply(lambda x: x.split('/')[-1])"
   ]
  },
  {
   "cell_type": "code",
   "execution_count": 14,
   "metadata": {},
   "outputs": [],
   "source": [
    "to_aug_train_df['file_name'] = to_aug_train_df['file_name'].str.replace('.wav', '')\n",
    "to_aug_train_df['file_name'] = to_aug_train_df['file_name'].str.replace('.mp3', '')\n",
    "\n",
    "to_aug_val_df['file_name'] = to_aug_val_df['file_name'].str.replace('.wav', '')\n",
    "to_aug_val_df['file_name'] = to_aug_val_df['file_name'].str.replace('.mp3', '')"
   ]
  },
  {
   "cell_type": "code",
   "execution_count": 15,
   "metadata": {},
   "outputs": [
    {
     "data": {
      "text/plain": [
       "(152427, 144418, 8030, 152448)"
      ]
     },
     "execution_count": 15,
     "metadata": {},
     "output_type": "execute_result"
    }
   ],
   "source": [
    "len(set(df['file_name'])), len(set(to_aug_train_df['file_name'])), len(set(to_aug_val_df['file_name'])), len(set(to_aug_train_df['file_name'])) + len(set(to_aug_val_df['file_name']))"
   ]
  },
  {
   "cell_type": "code",
   "execution_count": 16,
   "metadata": {},
   "outputs": [
    {
     "data": {
      "text/html": [
       "<div>\n",
       "<style scoped>\n",
       "    .dataframe tbody tr th:only-of-type {\n",
       "        vertical-align: middle;\n",
       "    }\n",
       "\n",
       "    .dataframe tbody tr th {\n",
       "        vertical-align: top;\n",
       "    }\n",
       "\n",
       "    .dataframe thead th {\n",
       "        text-align: right;\n",
       "    }\n",
       "</style>\n",
       "<table border=\"1\" class=\"dataframe\">\n",
       "  <thead>\n",
       "    <tr style=\"text-align: right;\">\n",
       "      <th></th>\n",
       "      <th>file_name</th>\n",
       "      <th>uni</th>\n",
       "      <th>wylie</th>\n",
       "      <th>url</th>\n",
       "      <th>dept</th>\n",
       "    </tr>\n",
       "  </thead>\n",
       "  <tbody>\n",
       "    <tr>\n",
       "      <th>0</th>\n",
       "      <td>STT_TT00528_0218_1388319_to_1394411</td>\n",
       "      <td>ཤེས་དགོས་ཀི་འདུག་ག བྱས་ཙང་ད། ད་འཇུ་དེ་རྩ་བ་དེར...</td>\n",
       "      <td>shes dgos ki 'dug ga_byas tsang da/_da 'ju de ...</td>\n",
       "      <td>https://d38pmlk0v88drf.cloudfront.net/stt_pech...</td>\n",
       "      <td>STT_TT</td>\n",
       "    </tr>\n",
       "    <tr>\n",
       "      <th>1</th>\n",
       "      <td>STT_TT00078_04015.150-04016.500</td>\n",
       "      <td>ཧེ་ཧེ་ཧེ་ཧེ་ཧེ།</td>\n",
       "      <td>he he he he he/_</td>\n",
       "      <td>https://d38pmlk0v88drf.cloudfront.net/wav/STT_...</td>\n",
       "      <td>STT_TT</td>\n",
       "    </tr>\n",
       "    <tr>\n",
       "      <th>2</th>\n",
       "      <td>STT_TT00095_3505.350-3507.200</td>\n",
       "      <td>སྡུག་པོ་ཞེ་བོ་ཅིག་བཏང་བྱས་</td>\n",
       "      <td>sdug po zhe bo cig btang byas _</td>\n",
       "      <td>https://d38pmlk0v88drf.cloudfront.net/wav/STT_...</td>\n",
       "      <td>STT_TT</td>\n",
       "    </tr>\n",
       "    <tr>\n",
       "      <th>3</th>\n",
       "      <td>STT_TT00186_00449.800-00454.400</td>\n",
       "      <td>ཨེ་ནས།་ང་ཚོ་སོ་སོ་ཟ་ཡ་གི་ཕོར་པ་དེ་ཡ། རིན་གོང་ཆ...</td>\n",
       "      <td>e nas/ nga tsho so so za ya gi phor pa de ya/_...</td>\n",
       "      <td>https://d38pmlk0v88drf.cloudfront.net/wav/STT_...</td>\n",
       "      <td>STT_TT</td>\n",
       "    </tr>\n",
       "    <tr>\n",
       "      <th>4</th>\n",
       "      <td>STT_TT00101_06562.250-06567.400</td>\n",
       "      <td>ཁེ་བག་འདོད་པས་ཚོང་ལ་ཕྱིན་པ་ན་དགྲས་བཅོམ་སྟེ་སྤྲ...</td>\n",
       "      <td>khe bag 'dod pas tshong la phyin pa na dgras b...</td>\n",
       "      <td>https://d38pmlk0v88drf.cloudfront.net/wav/STT_...</td>\n",
       "      <td>STT_TT</td>\n",
       "    </tr>\n",
       "  </tbody>\n",
       "</table>\n",
       "</div>"
      ],
      "text/plain": [
       "                             file_name  \\\n",
       "0  STT_TT00528_0218_1388319_to_1394411   \n",
       "1      STT_TT00078_04015.150-04016.500   \n",
       "2        STT_TT00095_3505.350-3507.200   \n",
       "3      STT_TT00186_00449.800-00454.400   \n",
       "4      STT_TT00101_06562.250-06567.400   \n",
       "\n",
       "                                                 uni  \\\n",
       "0  ཤེས་དགོས་ཀི་འདུག་ག བྱས་ཙང་ད། ད་འཇུ་དེ་རྩ་བ་དེར...   \n",
       "1                                   ཧེ་ཧེ་ཧེ་ཧེ་ཧེ།    \n",
       "2                        སྡུག་པོ་ཞེ་བོ་ཅིག་བཏང་བྱས་    \n",
       "3  ཨེ་ནས།་ང་ཚོ་སོ་སོ་ཟ་ཡ་གི་ཕོར་པ་དེ་ཡ། རིན་གོང་ཆ...   \n",
       "4  ཁེ་བག་འདོད་པས་ཚོང་ལ་ཕྱིན་པ་ན་དགྲས་བཅོམ་སྟེ་སྤྲ...   \n",
       "\n",
       "                                               wylie  \\\n",
       "0  shes dgos ki 'dug ga_byas tsang da/_da 'ju de ...   \n",
       "1                                   he he he he he/_   \n",
       "2                    sdug po zhe bo cig btang byas _   \n",
       "3  e nas/ nga tsho so so za ya gi phor pa de ya/_...   \n",
       "4  khe bag 'dod pas tshong la phyin pa na dgras b...   \n",
       "\n",
       "                                                 url    dept  \n",
       "0  https://d38pmlk0v88drf.cloudfront.net/stt_pech...  STT_TT  \n",
       "1  https://d38pmlk0v88drf.cloudfront.net/wav/STT_...  STT_TT  \n",
       "2  https://d38pmlk0v88drf.cloudfront.net/wav/STT_...  STT_TT  \n",
       "3  https://d38pmlk0v88drf.cloudfront.net/wav/STT_...  STT_TT  \n",
       "4  https://d38pmlk0v88drf.cloudfront.net/wav/STT_...  STT_TT  "
      ]
     },
     "execution_count": 16,
     "metadata": {},
     "output_type": "execute_result"
    }
   ],
   "source": [
    "to_aug_train_df.head()"
   ]
  },
  {
   "cell_type": "code",
   "execution_count": 17,
   "metadata": {},
   "outputs": [
    {
     "data": {
      "text/plain": [
       "(144581, 5)"
      ]
     },
     "execution_count": 17,
     "metadata": {},
     "output_type": "execute_result"
    }
   ],
   "source": [
    "to_aug_train_df.shape"
   ]
  },
  {
   "cell_type": "code",
   "execution_count": 18,
   "metadata": {},
   "outputs": [],
   "source": [
    "train_aug = pd.merge(df, to_aug_train_df, on='file_name', how='inner')\n",
    "\n",
    "val_aug =   pd.merge(df, to_aug_val_df,   on='file_name', how='inner')"
   ]
  },
  {
   "cell_type": "code",
   "execution_count": 19,
   "metadata": {},
   "outputs": [
    {
     "data": {
      "text/plain": [
       "(144497, 144581)"
      ]
     },
     "execution_count": 19,
     "metadata": {},
     "output_type": "execute_result"
    }
   ],
   "source": [
    "train_aug.shape[0], to_aug_train_df.shape[0]"
   ]
  },
  {
   "cell_type": "code",
   "execution_count": 20,
   "metadata": {},
   "outputs": [
    {
     "data": {
      "text/plain": [
       "(8023, 8030)"
      ]
     },
     "execution_count": 20,
     "metadata": {},
     "output_type": "execute_result"
    }
   ],
   "source": [
    "val_aug.shape[0], to_aug_val_df.shape[0]"
   ]
  },
  {
   "cell_type": "code",
   "execution_count": 21,
   "metadata": {},
   "outputs": [
    {
     "data": {
      "text/plain": [
       "0           pitch-STT_MV0043_0198_1267980_to_1277716.wav\n",
       "1         stretch-STT_MV0707_0249_2105527_to_2112865.wav\n",
       "2              ex-STT_NS0056_0120_1556292_to_1558713.wav\n",
       "3            noise-STT_TT00347_0060_298296_to_301240.wav\n",
       "4                 ex-STT_TT00134_00720.450-00722.650.wav\n",
       "                               ...                      \n",
       "144492          roll-STT_TT00183_00698.250-00699.400.wav\n",
       "144493            ex-STT_TT00126_01236.150-01244.000.wav\n",
       "144494      pitch-STT_MV0070_0235_1986430_to_1990741.wav\n",
       "144495         pitch-STT_TT00025_06280.800-06281.350.wav\n",
       "144496            spec-STT_TT00090_2048.900-2050.800.wav\n",
       "Name: 0, Length: 144497, dtype: object"
      ]
     },
     "execution_count": 21,
     "metadata": {},
     "output_type": "execute_result"
    }
   ],
   "source": [
    "train_aug[0].apply(lambda x: x.split('/')[-1])"
   ]
  },
  {
   "cell_type": "code",
   "execution_count": 31,
   "metadata": {},
   "outputs": [
    {
     "data": {
      "text/plain": [
       "0       roll-STT_MV0141_0336_2395596_to_2401027.wav\n",
       "1          roll-STT_TT00103_03423.750-03427.700.wav\n",
       "2          spec-STT_TT00120_00102.350-00103.800.wav\n",
       "3          ex-STT_AB00045_0077_729008_to_736737.wav\n",
       "4        noise-STT_MV0234_0067_441378_to_444291.wav\n",
       "                           ...                     \n",
       "8018         ex-STT_TT00057_05762.150-05763.350.wav\n",
       "8019        ex-STT_NS0176_0095_753330_to_762862.wav\n",
       "8020       roll-STT_TT00016_06573.500-06575.550.wav\n",
       "8021     roll-STT_AB00242_0140_965452_to_976544.wav\n",
       "8022     roll-STT_AB00148_0067_260609_to_261351.wav\n",
       "Name: 0, Length: 8023, dtype: object"
      ]
     },
     "execution_count": 31,
     "metadata": {},
     "output_type": "execute_result"
    }
   ],
   "source": [
    "val_aug[0].apply(lambda x: x.split('/')[-1])"
   ]
  },
  {
   "cell_type": "code",
   "execution_count": 22,
   "metadata": {},
   "outputs": [
    {
     "data": {
      "text/plain": [
       "Index([0, 1, 2, 'file_name', 'uni', 'wylie', 'url', 'dept'], dtype='object')"
      ]
     },
     "execution_count": 22,
     "metadata": {},
     "output_type": "execute_result"
    }
   ],
   "source": [
    "train_aug.columns"
   ]
  },
  {
   "cell_type": "code",
   "execution_count": 23,
   "metadata": {},
   "outputs": [
    {
     "data": {
      "text/plain": [
       "0           pitch-STT_MV0043_0198_1267980_to_1277716.wav\n",
       "1         stretch-STT_MV0707_0249_2105527_to_2112865.wav\n",
       "2              ex-STT_NS0056_0120_1556292_to_1558713.wav\n",
       "3            noise-STT_TT00347_0060_298296_to_301240.wav\n",
       "4                 ex-STT_TT00134_00720.450-00722.650.wav\n",
       "                               ...                      \n",
       "144492          roll-STT_TT00183_00698.250-00699.400.wav\n",
       "144493            ex-STT_TT00126_01236.150-01244.000.wav\n",
       "144494      pitch-STT_MV0070_0235_1986430_to_1990741.wav\n",
       "144495         pitch-STT_TT00025_06280.800-06281.350.wav\n",
       "144496            spec-STT_TT00090_2048.900-2050.800.wav\n",
       "Name: 0, Length: 144497, dtype: object"
      ]
     },
     "execution_count": 23,
     "metadata": {},
     "output_type": "execute_result"
    }
   ],
   "source": [
    "train_aug[0].apply(lambda x: x.split('/')[-1])"
   ]
  },
  {
   "cell_type": "code",
   "execution_count": 24,
   "metadata": {},
   "outputs": [
    {
     "data": {
      "text/plain": [
       "'https://d38pmlk0v88drf.cloudfront.net/aug/spec-STT_TT00014_00449.100-00452.750.wav'"
      ]
     },
     "execution_count": 24,
     "metadata": {},
     "output_type": "execute_result"
    }
   ],
   "source": [
    "train_aug[0].apply(lambda x: 'https://d38pmlk0v88drf.cloudfront.net/aug/'+x.split('/')[-1])[110]"
   ]
  },
  {
   "cell_type": "code",
   "execution_count": 33,
   "metadata": {},
   "outputs": [
    {
     "data": {
      "text/html": [
       "<div>\n",
       "<style scoped>\n",
       "    .dataframe tbody tr th:only-of-type {\n",
       "        vertical-align: middle;\n",
       "    }\n",
       "\n",
       "    .dataframe tbody tr th {\n",
       "        vertical-align: top;\n",
       "    }\n",
       "\n",
       "    .dataframe thead th {\n",
       "        text-align: right;\n",
       "    }\n",
       "</style>\n",
       "<table border=\"1\" class=\"dataframe\">\n",
       "  <thead>\n",
       "    <tr style=\"text-align: right;\">\n",
       "      <th></th>\n",
       "      <th>0</th>\n",
       "      <th>1</th>\n",
       "      <th>2</th>\n",
       "      <th>file_name</th>\n",
       "      <th>uni</th>\n",
       "      <th>wylie</th>\n",
       "      <th>url</th>\n",
       "      <th>dept</th>\n",
       "    </tr>\n",
       "  </thead>\n",
       "  <tbody>\n",
       "    <tr>\n",
       "      <th>0</th>\n",
       "      <td>/media/monlamai/SSD/after_aug_audio_files/wavs...</td>\n",
       "      <td>173836</td>\n",
       "      <td>NaN</td>\n",
       "      <td>STT_MV0141_0336_2395596_to_2401027</td>\n",
       "      <td>ཨ་རོ་། ཨ་ཁུ་ལགས།</td>\n",
       "      <td>a ro /_a khu lags/_</td>\n",
       "      <td>https://d38pmlk0v88drf.cloudfront.net/mv_wav/S...</td>\n",
       "      <td>STT_MV</td>\n",
       "    </tr>\n",
       "    <tr>\n",
       "      <th>1</th>\n",
       "      <td>/media/monlamai/SSD/after_aug_audio_files/wavs...</td>\n",
       "      <td>126444</td>\n",
       "      <td>NaN</td>\n",
       "      <td>STT_TT00103_03423.750-03427.700</td>\n",
       "      <td>ཐུགས་རྗེ་དང་བྱིན་རླབས་དམ་པ་དེ་ལ་ཞུགས་ནས་སངས་རྒ...</td>\n",
       "      <td>thugs rje dang byin rlabs dam pa de la zhugs n...</td>\n",
       "      <td>https://d38pmlk0v88drf.cloudfront.net/wav/STT_...</td>\n",
       "      <td>STT_TT</td>\n",
       "    </tr>\n",
       "    <tr>\n",
       "      <th>2</th>\n",
       "      <td>/media/monlamai/SSD/after_aug_audio_files/wavs...</td>\n",
       "      <td>63532</td>\n",
       "      <td>NaN</td>\n",
       "      <td>STT_TT00120_00102.350-00103.800</td>\n",
       "      <td>སྤྱོད་འཇུག་འཁྲིད་སྟངས་འདི་</td>\n",
       "      <td>spyod 'jug 'khrid stangs 'di _</td>\n",
       "      <td>https://d38pmlk0v88drf.cloudfront.net/wav/STT_...</td>\n",
       "      <td>STT_TT</td>\n",
       "    </tr>\n",
       "    <tr>\n",
       "      <th>3</th>\n",
       "      <td>/media/monlamai/SSD/after_aug_audio_files/wavs...</td>\n",
       "      <td>247372</td>\n",
       "      <td>NaN</td>\n",
       "      <td>STT_AB00045_0077_729008_to_736737</td>\n",
       "      <td>སུ་མི་རིང་བའི་སར་ངའི་ཤ་དང་རུས་པའི་རིང་བསྲེལ་མང...</td>\n",
       "      <td>su mi ring ba'i sar nga'i sha dang rus pa'i ri...</td>\n",
       "      <td>https://d38pmlk0v88drf.cloudfront.net/wav/STT_...</td>\n",
       "      <td>STT_AB</td>\n",
       "    </tr>\n",
       "    <tr>\n",
       "      <th>4</th>\n",
       "      <td>/media/monlamai/SSD/after_aug_audio_files/wavs...</td>\n",
       "      <td>93260</td>\n",
       "      <td>NaN</td>\n",
       "      <td>STT_MV0234_0067_441378_to_444291</td>\n",
       "      <td>པེ་པེ། ཅེས་ཤང་ཨ་མས</td>\n",
       "      <td>pe pe/_ces shang a mas_</td>\n",
       "      <td>https://d38pmlk0v88drf.cloudfront.net/mv_wav/S...</td>\n",
       "      <td>STT_MV</td>\n",
       "    </tr>\n",
       "  </tbody>\n",
       "</table>\n",
       "</div>"
      ],
      "text/plain": [
       "                                                   0       1   2  \\\n",
       "0  /media/monlamai/SSD/after_aug_audio_files/wavs...  173836 NaN   \n",
       "1  /media/monlamai/SSD/after_aug_audio_files/wavs...  126444 NaN   \n",
       "2  /media/monlamai/SSD/after_aug_audio_files/wavs...   63532 NaN   \n",
       "3  /media/monlamai/SSD/after_aug_audio_files/wavs...  247372 NaN   \n",
       "4  /media/monlamai/SSD/after_aug_audio_files/wavs...   93260 NaN   \n",
       "\n",
       "                            file_name  \\\n",
       "0  STT_MV0141_0336_2395596_to_2401027   \n",
       "1     STT_TT00103_03423.750-03427.700   \n",
       "2     STT_TT00120_00102.350-00103.800   \n",
       "3   STT_AB00045_0077_729008_to_736737   \n",
       "4    STT_MV0234_0067_441378_to_444291   \n",
       "\n",
       "                                                 uni  \\\n",
       "0                                  ཨ་རོ་། ཨ་ཁུ་ལགས།    \n",
       "1  ཐུགས་རྗེ་དང་བྱིན་རླབས་དམ་པ་དེ་ལ་ཞུགས་ནས་སངས་རྒ...   \n",
       "2                        སྤྱོད་འཇུག་འཁྲིད་སྟངས་འདི་    \n",
       "3  སུ་མི་རིང་བའི་སར་ངའི་ཤ་དང་རུས་པའི་རིང་བསྲེལ་མང...   \n",
       "4                                པེ་པེ། ཅེས་ཤང་ཨ་མས    \n",
       "\n",
       "                                               wylie  \\\n",
       "0                                a ro /_a khu lags/_   \n",
       "1  thugs rje dang byin rlabs dam pa de la zhugs n...   \n",
       "2                     spyod 'jug 'khrid stangs 'di _   \n",
       "3  su mi ring ba'i sar nga'i sha dang rus pa'i ri...   \n",
       "4                            pe pe/_ces shang a mas_   \n",
       "\n",
       "                                                 url    dept  \n",
       "0  https://d38pmlk0v88drf.cloudfront.net/mv_wav/S...  STT_MV  \n",
       "1  https://d38pmlk0v88drf.cloudfront.net/wav/STT_...  STT_TT  \n",
       "2  https://d38pmlk0v88drf.cloudfront.net/wav/STT_...  STT_TT  \n",
       "3  https://d38pmlk0v88drf.cloudfront.net/wav/STT_...  STT_AB  \n",
       "4  https://d38pmlk0v88drf.cloudfront.net/mv_wav/S...  STT_MV  "
      ]
     },
     "execution_count": 33,
     "metadata": {},
     "output_type": "execute_result"
    }
   ],
   "source": [
    "val_aug.head()"
   ]
  },
  {
   "cell_type": "code",
   "execution_count": 32,
   "metadata": {},
   "outputs": [
    {
     "ename": "KeyError",
     "evalue": "0",
     "output_type": "error",
     "traceback": [
      "\u001b[0;31m---------------------------------------------------------------------------\u001b[0m",
      "\u001b[0;31mKeyError\u001b[0m                                  Traceback (most recent call last)",
      "File \u001b[0;32m~/Documents/GitHub/combining-dataset/.env/lib/python3.10/site-packages/pandas/core/indexes/base.py:3790\u001b[0m, in \u001b[0;36mIndex.get_loc\u001b[0;34m(self, key)\u001b[0m\n\u001b[1;32m   3789\u001b[0m \u001b[39mtry\u001b[39;00m:\n\u001b[0;32m-> 3790\u001b[0m     \u001b[39mreturn\u001b[39;00m \u001b[39mself\u001b[39;49m\u001b[39m.\u001b[39;49m_engine\u001b[39m.\u001b[39;49mget_loc(casted_key)\n\u001b[1;32m   3791\u001b[0m \u001b[39mexcept\u001b[39;00m \u001b[39mKeyError\u001b[39;00m \u001b[39mas\u001b[39;00m err:\n",
      "File \u001b[0;32mindex.pyx:152\u001b[0m, in \u001b[0;36mpandas._libs.index.IndexEngine.get_loc\u001b[0;34m()\u001b[0m\n",
      "File \u001b[0;32mindex.pyx:181\u001b[0m, in \u001b[0;36mpandas._libs.index.IndexEngine.get_loc\u001b[0;34m()\u001b[0m\n",
      "File \u001b[0;32mpandas/_libs/hashtable_class_helper.pxi:7080\u001b[0m, in \u001b[0;36mpandas._libs.hashtable.PyObjectHashTable.get_item\u001b[0;34m()\u001b[0m\n",
      "File \u001b[0;32mpandas/_libs/hashtable_class_helper.pxi:7088\u001b[0m, in \u001b[0;36mpandas._libs.hashtable.PyObjectHashTable.get_item\u001b[0;34m()\u001b[0m\n",
      "\u001b[0;31mKeyError\u001b[0m: 0",
      "\nThe above exception was the direct cause of the following exception:\n",
      "\u001b[0;31mKeyError\u001b[0m                                  Traceback (most recent call last)",
      "\u001b[1;32m/home/monlamai/Documents/GitHub/combining-dataset/make_aug_tsv.ipynb Cell 22\u001b[0m line \u001b[0;36m1\n\u001b[0;32m----> <a href='vscode-notebook-cell:/home/monlamai/Documents/GitHub/combining-dataset/make_aug_tsv.ipynb#X26sZmlsZQ%3D%3D?line=0'>1</a>\u001b[0m train_aug[\u001b[39m'\u001b[39m\u001b[39murl\u001b[39m\u001b[39m'\u001b[39m] \u001b[39m=\u001b[39m train_aug[\u001b[39m0\u001b[39;49m]\u001b[39m.\u001b[39mapply(\u001b[39mlambda\u001b[39;00m x: \u001b[39m'\u001b[39m\u001b[39mhttps://d38pmlk0v88drf.cloudfront.net/aug/\u001b[39m\u001b[39m'\u001b[39m\u001b[39m+\u001b[39mx\u001b[39m.\u001b[39msplit(\u001b[39m'\u001b[39m\u001b[39m/\u001b[39m\u001b[39m'\u001b[39m)[\u001b[39m-\u001b[39m\u001b[39m1\u001b[39m])\n\u001b[1;32m      <a href='vscode-notebook-cell:/home/monlamai/Documents/GitHub/combining-dataset/make_aug_tsv.ipynb#X26sZmlsZQ%3D%3D?line=2'>3</a>\u001b[0m val_aug[\u001b[39m'\u001b[39m\u001b[39murl\u001b[39m\u001b[39m'\u001b[39m] \u001b[39m=\u001b[39m val_aug[\u001b[39m0\u001b[39m]\u001b[39m.\u001b[39mapply(\u001b[39mlambda\u001b[39;00m x: \u001b[39m'\u001b[39m\u001b[39mhttps://d38pmlk0v88drf.cloudfront.net/aug/\u001b[39m\u001b[39m'\u001b[39m\u001b[39m+\u001b[39mx\u001b[39m.\u001b[39msplit(\u001b[39m'\u001b[39m\u001b[39m/\u001b[39m\u001b[39m'\u001b[39m)[\u001b[39m-\u001b[39m\u001b[39m1\u001b[39m])\n",
      "File \u001b[0;32m~/Documents/GitHub/combining-dataset/.env/lib/python3.10/site-packages/pandas/core/frame.py:3896\u001b[0m, in \u001b[0;36mDataFrame.__getitem__\u001b[0;34m(self, key)\u001b[0m\n\u001b[1;32m   3894\u001b[0m \u001b[39mif\u001b[39;00m \u001b[39mself\u001b[39m\u001b[39m.\u001b[39mcolumns\u001b[39m.\u001b[39mnlevels \u001b[39m>\u001b[39m \u001b[39m1\u001b[39m:\n\u001b[1;32m   3895\u001b[0m     \u001b[39mreturn\u001b[39;00m \u001b[39mself\u001b[39m\u001b[39m.\u001b[39m_getitem_multilevel(key)\n\u001b[0;32m-> 3896\u001b[0m indexer \u001b[39m=\u001b[39m \u001b[39mself\u001b[39;49m\u001b[39m.\u001b[39;49mcolumns\u001b[39m.\u001b[39;49mget_loc(key)\n\u001b[1;32m   3897\u001b[0m \u001b[39mif\u001b[39;00m is_integer(indexer):\n\u001b[1;32m   3898\u001b[0m     indexer \u001b[39m=\u001b[39m [indexer]\n",
      "File \u001b[0;32m~/Documents/GitHub/combining-dataset/.env/lib/python3.10/site-packages/pandas/core/indexes/base.py:3797\u001b[0m, in \u001b[0;36mIndex.get_loc\u001b[0;34m(self, key)\u001b[0m\n\u001b[1;32m   3792\u001b[0m     \u001b[39mif\u001b[39;00m \u001b[39misinstance\u001b[39m(casted_key, \u001b[39mslice\u001b[39m) \u001b[39mor\u001b[39;00m (\n\u001b[1;32m   3793\u001b[0m         \u001b[39misinstance\u001b[39m(casted_key, abc\u001b[39m.\u001b[39mIterable)\n\u001b[1;32m   3794\u001b[0m         \u001b[39mand\u001b[39;00m \u001b[39many\u001b[39m(\u001b[39misinstance\u001b[39m(x, \u001b[39mslice\u001b[39m) \u001b[39mfor\u001b[39;00m x \u001b[39min\u001b[39;00m casted_key)\n\u001b[1;32m   3795\u001b[0m     ):\n\u001b[1;32m   3796\u001b[0m         \u001b[39mraise\u001b[39;00m InvalidIndexError(key)\n\u001b[0;32m-> 3797\u001b[0m     \u001b[39mraise\u001b[39;00m \u001b[39mKeyError\u001b[39;00m(key) \u001b[39mfrom\u001b[39;00m \u001b[39merr\u001b[39;00m\n\u001b[1;32m   3798\u001b[0m \u001b[39mexcept\u001b[39;00m \u001b[39mTypeError\u001b[39;00m:\n\u001b[1;32m   3799\u001b[0m     \u001b[39m# If we have a listlike key, _check_indexing_error will raise\u001b[39;00m\n\u001b[1;32m   3800\u001b[0m     \u001b[39m#  InvalidIndexError. Otherwise we fall through and re-raise\u001b[39;00m\n\u001b[1;32m   3801\u001b[0m     \u001b[39m#  the TypeError.\u001b[39;00m\n\u001b[1;32m   3802\u001b[0m     \u001b[39mself\u001b[39m\u001b[39m.\u001b[39m_check_indexing_error(key)\n",
      "\u001b[0;31mKeyError\u001b[0m: 0"
     ]
    }
   ],
   "source": [
    "train_aug['url'] = train_aug[0].apply(lambda x: 'https://d38pmlk0v88drf.cloudfront.net/aug/'+x.split('/')[-1])"
   ]
  },
  {
   "cell_type": "code",
   "execution_count": 34,
   "metadata": {},
   "outputs": [],
   "source": [
    "val_aug['url']   = val_aug[0].apply(lambda x: 'https://d38pmlk0v88drf.cloudfront.net/aug/'+x.split('/')[-1])"
   ]
  },
  {
   "cell_type": "code",
   "execution_count": 26,
   "metadata": {},
   "outputs": [
    {
     "data": {
      "text/plain": [
       "0           pitch-STT_MV0043_0198_1267980_to_1277716.wav\n",
       "1         stretch-STT_MV0707_0249_2105527_to_2112865.wav\n",
       "2              ex-STT_NS0056_0120_1556292_to_1558713.wav\n",
       "3            noise-STT_TT00347_0060_298296_to_301240.wav\n",
       "4                 ex-STT_TT00134_00720.450-00722.650.wav\n",
       "                               ...                      \n",
       "144492          roll-STT_TT00183_00698.250-00699.400.wav\n",
       "144493            ex-STT_TT00126_01236.150-01244.000.wav\n",
       "144494      pitch-STT_MV0070_0235_1986430_to_1990741.wav\n",
       "144495         pitch-STT_TT00025_06280.800-06281.350.wav\n",
       "144496            spec-STT_TT00090_2048.900-2050.800.wav\n",
       "Name: 0, Length: 144497, dtype: object"
      ]
     },
     "execution_count": 26,
     "metadata": {},
     "output_type": "execute_result"
    }
   ],
   "source": [
    "train_aug[0].apply(lambda x: x.split('/')[-1])"
   ]
  },
  {
   "cell_type": "code",
   "execution_count": 27,
   "metadata": {},
   "outputs": [],
   "source": [
    "train_aug['file_name'] = train_aug[0].apply(lambda x: x.split('/')[-1])"
   ]
  },
  {
   "cell_type": "code",
   "execution_count": 35,
   "metadata": {},
   "outputs": [],
   "source": [
    "val_aug['file_name'] = val_aug[0].apply(lambda x: x.split('/')[-1])"
   ]
  },
  {
   "cell_type": "code",
   "execution_count": 28,
   "metadata": {},
   "outputs": [],
   "source": [
    "train_aug['file_name'] = train_aug['file_name'].str.replace('.wav', '')"
   ]
  },
  {
   "cell_type": "code",
   "execution_count": 36,
   "metadata": {},
   "outputs": [],
   "source": [
    "val_aug['file_name'] = val_aug['file_name'].str.replace('.wav', '')"
   ]
  },
  {
   "cell_type": "code",
   "execution_count": 29,
   "metadata": {},
   "outputs": [],
   "source": [
    "train_aug = train_aug[['file_name', 'uni', 'wylie', 'url', 'dept']]"
   ]
  },
  {
   "cell_type": "code",
   "execution_count": 37,
   "metadata": {},
   "outputs": [],
   "source": [
    "val_aug = val_aug[['file_name', 'uni', 'wylie', 'url', 'dept']]"
   ]
  },
  {
   "cell_type": "code",
   "execution_count": 30,
   "metadata": {},
   "outputs": [
    {
     "data": {
      "text/plain": [
       "('https://d38pmlk0v88drf.cloudfront.net/aug/roll-STT_TT00083_2709.400-2711.550.wav',\n",
       " file_name                   roll-STT_TT00083_2709.400-2711.550\n",
       " uni             ཐུགས་བསྐྱེད་སྨོན་ལམ་དང་འབྲེལ་བཞག་པ་གཙོ་བོ་དེ། \n",
       " wylie        thugs bskyed smon lam dang 'brel bzhag pa gtso...\n",
       " url          https://d38pmlk0v88drf.cloudfront.net/aug/roll...\n",
       " dept                                                    STT_TT\n",
       " Name: 10, dtype: object)"
      ]
     },
     "execution_count": 30,
     "metadata": {},
     "output_type": "execute_result"
    }
   ],
   "source": [
    "train_aug.loc[10, 'url'], train_aug.loc[10]"
   ]
  },
  {
   "cell_type": "code",
   "execution_count": 38,
   "metadata": {},
   "outputs": [
    {
     "data": {
      "text/html": [
       "<div>\n",
       "<style scoped>\n",
       "    .dataframe tbody tr th:only-of-type {\n",
       "        vertical-align: middle;\n",
       "    }\n",
       "\n",
       "    .dataframe tbody tr th {\n",
       "        vertical-align: top;\n",
       "    }\n",
       "\n",
       "    .dataframe thead th {\n",
       "        text-align: right;\n",
       "    }\n",
       "</style>\n",
       "<table border=\"1\" class=\"dataframe\">\n",
       "  <thead>\n",
       "    <tr style=\"text-align: right;\">\n",
       "      <th></th>\n",
       "      <th>file_name</th>\n",
       "      <th>uni</th>\n",
       "      <th>wylie</th>\n",
       "      <th>url</th>\n",
       "      <th>dept</th>\n",
       "    </tr>\n",
       "  </thead>\n",
       "  <tbody>\n",
       "    <tr>\n",
       "      <th>0</th>\n",
       "      <td>pitch-STT_MV0043_0198_1267980_to_1277716</td>\n",
       "      <td>འདིར་ཕེབས་ད་ངས་ཁྱེད་རང་ཞུ་དགོས། རྒྱལ་སའི་སྐུ་ང...</td>\n",
       "      <td>'dir phebs da ngas khyed rang zhu dgos/_rgyal ...</td>\n",
       "      <td>https://d38pmlk0v88drf.cloudfront.net/aug/pitc...</td>\n",
       "      <td>STT_MV</td>\n",
       "    </tr>\n",
       "    <tr>\n",
       "      <th>1</th>\n",
       "      <td>stretch-STT_MV0707_0249_2105527_to_2112865</td>\n",
       "      <td>ཁོ་ཡར་ལངས་བྱས་རྗེས། ང་ལ་གྲི་བཙུགས་ཀ་ཡོང་གིས། ཡ...</td>\n",
       "      <td>kho yar langs byas rjes/_nga la gri btsugs ka ...</td>\n",
       "      <td>https://d38pmlk0v88drf.cloudfront.net/aug/stre...</td>\n",
       "      <td>STT_MV</td>\n",
       "    </tr>\n",
       "    <tr>\n",
       "      <th>2</th>\n",
       "      <td>ex-STT_NS0056_0120_1556292_to_1558713</td>\n",
       "      <td>གཏམ་དཔེ་ཡིན་ནའང་མཁས་པ་དེ་ཚོ་ཀིས་ལབ་ཀི་འདུག་བ། ...</td>\n",
       "      <td>gtam dpe yin na'ang mkhas pa de tsho kis lab k...</td>\n",
       "      <td>https://d38pmlk0v88drf.cloudfront.net/aug/ex-S...</td>\n",
       "      <td>STT_NS</td>\n",
       "    </tr>\n",
       "    <tr>\n",
       "      <th>3</th>\n",
       "      <td>noise-STT_TT00347_0060_298296_to_301240</td>\n",
       "      <td>རེ་དོགས་ལུ་གུ་རྒྱུད་ཀྱི་ཆ་ཚང་དེ་བསད་ནས་ཟེར་ད་ཨ...</td>\n",
       "      <td>re dogs lu gu rgyud kyi cha tshang de bsad nas...</td>\n",
       "      <td>https://d38pmlk0v88drf.cloudfront.net/aug/nois...</td>\n",
       "      <td>STT_TT</td>\n",
       "    </tr>\n",
       "    <tr>\n",
       "      <th>4</th>\n",
       "      <td>ex-STT_TT00134_00720.450-00722.650</td>\n",
       "      <td>དྭ་བོད་ཡིག་ཡོད་པ་དེ་གཅིག་པ་གཅིག་ཀྱང་རེད་དེ། བོ...</td>\n",
       "      <td>dwa bod yig yod pa de gcig pa gcig kyang red d...</td>\n",
       "      <td>https://d38pmlk0v88drf.cloudfront.net/aug/ex-S...</td>\n",
       "      <td>STT_TT</td>\n",
       "    </tr>\n",
       "  </tbody>\n",
       "</table>\n",
       "</div>"
      ],
      "text/plain": [
       "                                    file_name  \\\n",
       "0    pitch-STT_MV0043_0198_1267980_to_1277716   \n",
       "1  stretch-STT_MV0707_0249_2105527_to_2112865   \n",
       "2       ex-STT_NS0056_0120_1556292_to_1558713   \n",
       "3     noise-STT_TT00347_0060_298296_to_301240   \n",
       "4          ex-STT_TT00134_00720.450-00722.650   \n",
       "\n",
       "                                                 uni  \\\n",
       "0  འདིར་ཕེབས་ད་ངས་ཁྱེད་རང་ཞུ་དགོས། རྒྱལ་སའི་སྐུ་ང...   \n",
       "1  ཁོ་ཡར་ལངས་བྱས་རྗེས། ང་ལ་གྲི་བཙུགས་ཀ་ཡོང་གིས། ཡ...   \n",
       "2  གཏམ་དཔེ་ཡིན་ནའང་མཁས་པ་དེ་ཚོ་ཀིས་ལབ་ཀི་འདུག་བ། ...   \n",
       "3  རེ་དོགས་ལུ་གུ་རྒྱུད་ཀྱི་ཆ་ཚང་དེ་བསད་ནས་ཟེར་ད་ཨ...   \n",
       "4  དྭ་བོད་ཡིག་ཡོད་པ་དེ་གཅིག་པ་གཅིག་ཀྱང་རེད་དེ། བོ...   \n",
       "\n",
       "                                               wylie  \\\n",
       "0  'dir phebs da ngas khyed rang zhu dgos/_rgyal ...   \n",
       "1  kho yar langs byas rjes/_nga la gri btsugs ka ...   \n",
       "2  gtam dpe yin na'ang mkhas pa de tsho kis lab k...   \n",
       "3  re dogs lu gu rgyud kyi cha tshang de bsad nas...   \n",
       "4  dwa bod yig yod pa de gcig pa gcig kyang red d...   \n",
       "\n",
       "                                                 url    dept  \n",
       "0  https://d38pmlk0v88drf.cloudfront.net/aug/pitc...  STT_MV  \n",
       "1  https://d38pmlk0v88drf.cloudfront.net/aug/stre...  STT_MV  \n",
       "2  https://d38pmlk0v88drf.cloudfront.net/aug/ex-S...  STT_NS  \n",
       "3  https://d38pmlk0v88drf.cloudfront.net/aug/nois...  STT_TT  \n",
       "4  https://d38pmlk0v88drf.cloudfront.net/aug/ex-S...  STT_TT  "
      ]
     },
     "execution_count": 38,
     "metadata": {},
     "output_type": "execute_result"
    }
   ],
   "source": [
    "train_aug.head()"
   ]
  },
  {
   "cell_type": "code",
   "execution_count": 39,
   "metadata": {},
   "outputs": [
    {
     "data": {
      "text/plain": [
       "(144497, 8023)"
      ]
     },
     "execution_count": 39,
     "metadata": {},
     "output_type": "execute_result"
    }
   ],
   "source": [
    "len(train_aug), len(val_aug)"
   ]
  },
  {
   "cell_type": "code",
   "execution_count": 40,
   "metadata": {},
   "outputs": [
    {
     "data": {
      "text/html": [
       "<div>\n",
       "<style scoped>\n",
       "    .dataframe tbody tr th:only-of-type {\n",
       "        vertical-align: middle;\n",
       "    }\n",
       "\n",
       "    .dataframe tbody tr th {\n",
       "        vertical-align: top;\n",
       "    }\n",
       "\n",
       "    .dataframe thead th {\n",
       "        text-align: right;\n",
       "    }\n",
       "</style>\n",
       "<table border=\"1\" class=\"dataframe\">\n",
       "  <thead>\n",
       "    <tr style=\"text-align: right;\">\n",
       "      <th></th>\n",
       "      <th>file_name</th>\n",
       "      <th>uni</th>\n",
       "      <th>wylie</th>\n",
       "      <th>url</th>\n",
       "      <th>dept</th>\n",
       "    </tr>\n",
       "  </thead>\n",
       "  <tbody>\n",
       "    <tr>\n",
       "      <th>0</th>\n",
       "      <td>pitch-STT_MV0043_0198_1267980_to_1277716</td>\n",
       "      <td>འདིར་ཕེབས་ད་ངས་ཁྱེད་རང་ཞུ་དགོས། རྒྱལ་སའི་སྐུ་ང...</td>\n",
       "      <td>'dir phebs da ngas khyed rang zhu dgos/_rgyal ...</td>\n",
       "      <td>https://d38pmlk0v88drf.cloudfront.net/aug/pitc...</td>\n",
       "      <td>STT_MV</td>\n",
       "    </tr>\n",
       "    <tr>\n",
       "      <th>1</th>\n",
       "      <td>stretch-STT_MV0707_0249_2105527_to_2112865</td>\n",
       "      <td>ཁོ་ཡར་ལངས་བྱས་རྗེས། ང་ལ་གྲི་བཙུགས་ཀ་ཡོང་གིས། ཡ...</td>\n",
       "      <td>kho yar langs byas rjes/_nga la gri btsugs ka ...</td>\n",
       "      <td>https://d38pmlk0v88drf.cloudfront.net/aug/stre...</td>\n",
       "      <td>STT_MV</td>\n",
       "    </tr>\n",
       "    <tr>\n",
       "      <th>2</th>\n",
       "      <td>ex-STT_NS0056_0120_1556292_to_1558713</td>\n",
       "      <td>གཏམ་དཔེ་ཡིན་ནའང་མཁས་པ་དེ་ཚོ་ཀིས་ལབ་ཀི་འདུག་བ། ...</td>\n",
       "      <td>gtam dpe yin na'ang mkhas pa de tsho kis lab k...</td>\n",
       "      <td>https://d38pmlk0v88drf.cloudfront.net/aug/ex-S...</td>\n",
       "      <td>STT_NS</td>\n",
       "    </tr>\n",
       "    <tr>\n",
       "      <th>3</th>\n",
       "      <td>noise-STT_TT00347_0060_298296_to_301240</td>\n",
       "      <td>རེ་དོགས་ལུ་གུ་རྒྱུད་ཀྱི་ཆ་ཚང་དེ་བསད་ནས་ཟེར་ད་ཨ...</td>\n",
       "      <td>re dogs lu gu rgyud kyi cha tshang de bsad nas...</td>\n",
       "      <td>https://d38pmlk0v88drf.cloudfront.net/aug/nois...</td>\n",
       "      <td>STT_TT</td>\n",
       "    </tr>\n",
       "    <tr>\n",
       "      <th>4</th>\n",
       "      <td>ex-STT_TT00134_00720.450-00722.650</td>\n",
       "      <td>དྭ་བོད་ཡིག་ཡོད་པ་དེ་གཅིག་པ་གཅིག་ཀྱང་རེད་དེ། བོ...</td>\n",
       "      <td>dwa bod yig yod pa de gcig pa gcig kyang red d...</td>\n",
       "      <td>https://d38pmlk0v88drf.cloudfront.net/aug/ex-S...</td>\n",
       "      <td>STT_TT</td>\n",
       "    </tr>\n",
       "  </tbody>\n",
       "</table>\n",
       "</div>"
      ],
      "text/plain": [
       "                                    file_name  \\\n",
       "0    pitch-STT_MV0043_0198_1267980_to_1277716   \n",
       "1  stretch-STT_MV0707_0249_2105527_to_2112865   \n",
       "2       ex-STT_NS0056_0120_1556292_to_1558713   \n",
       "3     noise-STT_TT00347_0060_298296_to_301240   \n",
       "4          ex-STT_TT00134_00720.450-00722.650   \n",
       "\n",
       "                                                 uni  \\\n",
       "0  འདིར་ཕེབས་ད་ངས་ཁྱེད་རང་ཞུ་དགོས། རྒྱལ་སའི་སྐུ་ང...   \n",
       "1  ཁོ་ཡར་ལངས་བྱས་རྗེས། ང་ལ་གྲི་བཙུགས་ཀ་ཡོང་གིས། ཡ...   \n",
       "2  གཏམ་དཔེ་ཡིན་ནའང་མཁས་པ་དེ་ཚོ་ཀིས་ལབ་ཀི་འདུག་བ། ...   \n",
       "3  རེ་དོགས་ལུ་གུ་རྒྱུད་ཀྱི་ཆ་ཚང་དེ་བསད་ནས་ཟེར་ད་ཨ...   \n",
       "4  དྭ་བོད་ཡིག་ཡོད་པ་དེ་གཅིག་པ་གཅིག་ཀྱང་རེད་དེ། བོ...   \n",
       "\n",
       "                                               wylie  \\\n",
       "0  'dir phebs da ngas khyed rang zhu dgos/_rgyal ...   \n",
       "1  kho yar langs byas rjes/_nga la gri btsugs ka ...   \n",
       "2  gtam dpe yin na'ang mkhas pa de tsho kis lab k...   \n",
       "3  re dogs lu gu rgyud kyi cha tshang de bsad nas...   \n",
       "4  dwa bod yig yod pa de gcig pa gcig kyang red d...   \n",
       "\n",
       "                                                 url    dept  \n",
       "0  https://d38pmlk0v88drf.cloudfront.net/aug/pitc...  STT_MV  \n",
       "1  https://d38pmlk0v88drf.cloudfront.net/aug/stre...  STT_MV  \n",
       "2  https://d38pmlk0v88drf.cloudfront.net/aug/ex-S...  STT_NS  \n",
       "3  https://d38pmlk0v88drf.cloudfront.net/aug/nois...  STT_TT  \n",
       "4  https://d38pmlk0v88drf.cloudfront.net/aug/ex-S...  STT_TT  "
      ]
     },
     "execution_count": 40,
     "metadata": {},
     "output_type": "execute_result"
    }
   ],
   "source": [
    "train_aug.head()"
   ]
  },
  {
   "cell_type": "code",
   "execution_count": 41,
   "metadata": {},
   "outputs": [
    {
     "data": {
      "text/html": [
       "<div>\n",
       "<style scoped>\n",
       "    .dataframe tbody tr th:only-of-type {\n",
       "        vertical-align: middle;\n",
       "    }\n",
       "\n",
       "    .dataframe tbody tr th {\n",
       "        vertical-align: top;\n",
       "    }\n",
       "\n",
       "    .dataframe thead th {\n",
       "        text-align: right;\n",
       "    }\n",
       "</style>\n",
       "<table border=\"1\" class=\"dataframe\">\n",
       "  <thead>\n",
       "    <tr style=\"text-align: right;\">\n",
       "      <th></th>\n",
       "      <th>file_name</th>\n",
       "      <th>uni</th>\n",
       "      <th>wylie</th>\n",
       "      <th>url</th>\n",
       "      <th>dept</th>\n",
       "    </tr>\n",
       "  </thead>\n",
       "  <tbody>\n",
       "    <tr>\n",
       "      <th>0</th>\n",
       "      <td>roll-STT_MV0141_0336_2395596_to_2401027</td>\n",
       "      <td>ཨ་རོ་། ཨ་ཁུ་ལགས།</td>\n",
       "      <td>a ro /_a khu lags/_</td>\n",
       "      <td>https://d38pmlk0v88drf.cloudfront.net/aug/roll...</td>\n",
       "      <td>STT_MV</td>\n",
       "    </tr>\n",
       "    <tr>\n",
       "      <th>1</th>\n",
       "      <td>roll-STT_TT00103_03423.750-03427.700</td>\n",
       "      <td>ཐུགས་རྗེ་དང་བྱིན་རླབས་དམ་པ་དེ་ལ་ཞུགས་ནས་སངས་རྒ...</td>\n",
       "      <td>thugs rje dang byin rlabs dam pa de la zhugs n...</td>\n",
       "      <td>https://d38pmlk0v88drf.cloudfront.net/aug/roll...</td>\n",
       "      <td>STT_TT</td>\n",
       "    </tr>\n",
       "    <tr>\n",
       "      <th>2</th>\n",
       "      <td>spec-STT_TT00120_00102.350-00103.800</td>\n",
       "      <td>སྤྱོད་འཇུག་འཁྲིད་སྟངས་འདི་</td>\n",
       "      <td>spyod 'jug 'khrid stangs 'di _</td>\n",
       "      <td>https://d38pmlk0v88drf.cloudfront.net/aug/spec...</td>\n",
       "      <td>STT_TT</td>\n",
       "    </tr>\n",
       "    <tr>\n",
       "      <th>3</th>\n",
       "      <td>ex-STT_AB00045_0077_729008_to_736737</td>\n",
       "      <td>སུ་མི་རིང་བའི་སར་ངའི་ཤ་དང་རུས་པའི་རིང་བསྲེལ་མང...</td>\n",
       "      <td>su mi ring ba'i sar nga'i sha dang rus pa'i ri...</td>\n",
       "      <td>https://d38pmlk0v88drf.cloudfront.net/aug/ex-S...</td>\n",
       "      <td>STT_AB</td>\n",
       "    </tr>\n",
       "    <tr>\n",
       "      <th>4</th>\n",
       "      <td>noise-STT_MV0234_0067_441378_to_444291</td>\n",
       "      <td>པེ་པེ། ཅེས་ཤང་ཨ་མས</td>\n",
       "      <td>pe pe/_ces shang a mas_</td>\n",
       "      <td>https://d38pmlk0v88drf.cloudfront.net/aug/nois...</td>\n",
       "      <td>STT_MV</td>\n",
       "    </tr>\n",
       "  </tbody>\n",
       "</table>\n",
       "</div>"
      ],
      "text/plain": [
       "                                 file_name  \\\n",
       "0  roll-STT_MV0141_0336_2395596_to_2401027   \n",
       "1     roll-STT_TT00103_03423.750-03427.700   \n",
       "2     spec-STT_TT00120_00102.350-00103.800   \n",
       "3     ex-STT_AB00045_0077_729008_to_736737   \n",
       "4   noise-STT_MV0234_0067_441378_to_444291   \n",
       "\n",
       "                                                 uni  \\\n",
       "0                                  ཨ་རོ་། ཨ་ཁུ་ལགས།    \n",
       "1  ཐུགས་རྗེ་དང་བྱིན་རླབས་དམ་པ་དེ་ལ་ཞུགས་ནས་སངས་རྒ...   \n",
       "2                        སྤྱོད་འཇུག་འཁྲིད་སྟངས་འདི་    \n",
       "3  སུ་མི་རིང་བའི་སར་ངའི་ཤ་དང་རུས་པའི་རིང་བསྲེལ་མང...   \n",
       "4                                པེ་པེ། ཅེས་ཤང་ཨ་མས    \n",
       "\n",
       "                                               wylie  \\\n",
       "0                                a ro /_a khu lags/_   \n",
       "1  thugs rje dang byin rlabs dam pa de la zhugs n...   \n",
       "2                     spyod 'jug 'khrid stangs 'di _   \n",
       "3  su mi ring ba'i sar nga'i sha dang rus pa'i ri...   \n",
       "4                            pe pe/_ces shang a mas_   \n",
       "\n",
       "                                                 url    dept  \n",
       "0  https://d38pmlk0v88drf.cloudfront.net/aug/roll...  STT_MV  \n",
       "1  https://d38pmlk0v88drf.cloudfront.net/aug/roll...  STT_TT  \n",
       "2  https://d38pmlk0v88drf.cloudfront.net/aug/spec...  STT_TT  \n",
       "3  https://d38pmlk0v88drf.cloudfront.net/aug/ex-S...  STT_AB  \n",
       "4  https://d38pmlk0v88drf.cloudfront.net/aug/nois...  STT_MV  "
      ]
     },
     "execution_count": 41,
     "metadata": {},
     "output_type": "execute_result"
    }
   ],
   "source": [
    "val_aug.head()"
   ]
  },
  {
   "cell_type": "code",
   "execution_count": 42,
   "metadata": {},
   "outputs": [
    {
     "data": {
      "text/plain": [
       "'https://d38pmlk0v88drf.cloudfront.net/aug/roll-STT_MV0141_0336_2395596_to_2401027.wav'"
      ]
     },
     "execution_count": 42,
     "metadata": {},
     "output_type": "execute_result"
    }
   ],
   "source": [
    "val_aug.loc[0, 'url']"
   ]
  },
  {
   "cell_type": "code",
   "execution_count": 43,
   "metadata": {},
   "outputs": [],
   "source": [
    "train_aug.to_csv(\"train_aug.tsv\", sep='\\t', index=False)"
   ]
  },
  {
   "cell_type": "code",
   "execution_count": 44,
   "metadata": {},
   "outputs": [],
   "source": [
    "val_aug.to_csv(\"val_aug.tsv\", sep='\\t', index=False)"
   ]
  },
  {
   "cell_type": "code",
   "execution_count": null,
   "metadata": {},
   "outputs": [],
   "source": []
  }
 ],
 "metadata": {
  "kernelspec": {
   "display_name": ".env",
   "language": "python",
   "name": "python3"
  },
  "language_info": {
   "codemirror_mode": {
    "name": "ipython",
    "version": 3
   },
   "file_extension": ".py",
   "mimetype": "text/x-python",
   "name": "python",
   "nbconvert_exporter": "python",
   "pygments_lexer": "ipython3",
   "version": "3.10.12"
  }
 },
 "nbformat": 4,
 "nbformat_minor": 2
}
