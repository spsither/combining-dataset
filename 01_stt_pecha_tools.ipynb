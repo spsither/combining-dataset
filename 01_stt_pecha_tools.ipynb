{
 "cells": [
  {
   "cell_type": "markdown",
   "metadata": {},
   "source": [
    "Not reviewed also\n",
    "```sql\n",
    "select t.transcript, t.reviewed_transcript, t.final_transcript, t.file_name, t.url \n",
    "from \"Task\" t \n",
    "where t.state in ('submitted', 'accepted', 'finalised');\n",
    "```\n",
    "reviewed at least once\n",
    "```sql \n",
    "select t.reviewed_transcript, t.final_transcript, t.file_name, t.url \n",
    "from \"Task\" t \n",
    "where t.state in ('accepted', 'finalised');\n",
    "```"
   ]
  },
  {
   "cell_type": "code",
   "execution_count": 1,
   "metadata": {},
   "outputs": [],
   "source": [
    "csv_path = \"/home/monlamai/_Task__202401081531.csv\""
   ]
  },
  {
   "cell_type": "code",
   "execution_count": 2,
   "metadata": {},
   "outputs": [],
   "source": [
    "import pandas as pd\n",
    "df = pd.read_csv(csv_path)"
   ]
  },
  {
   "cell_type": "code",
   "execution_count": 3,
   "metadata": {},
   "outputs": [
    {
     "data": {
      "text/html": [
       "<div>\n",
       "<style scoped>\n",
       "    .dataframe tbody tr th:only-of-type {\n",
       "        vertical-align: middle;\n",
       "    }\n",
       "\n",
       "    .dataframe tbody tr th {\n",
       "        vertical-align: top;\n",
       "    }\n",
       "\n",
       "    .dataframe thead th {\n",
       "        text-align: right;\n",
       "    }\n",
       "</style>\n",
       "<table border=\"1\" class=\"dataframe\">\n",
       "  <thead>\n",
       "    <tr style=\"text-align: right;\">\n",
       "      <th></th>\n",
       "      <th>reviewed_transcript</th>\n",
       "      <th>final_transcript</th>\n",
       "      <th>file_name</th>\n",
       "      <th>url</th>\n",
       "    </tr>\n",
       "  </thead>\n",
       "  <tbody>\n",
       "    <tr>\n",
       "      <th>0</th>\n",
       "      <td>རྒྱ་གར་ལུང་པར་དང་ཤོས་སླེབས་དུས་སྐབས་སུ་དངོས་གན...</td>\n",
       "      <td>NaN</td>\n",
       "      <td>STT_NS0085_0150_1184970_to_1192294.mp3</td>\n",
       "      <td>https://d38pmlk0v88drf.cloudfront.net/stt_pech...</td>\n",
       "    </tr>\n",
       "    <tr>\n",
       "      <th>1</th>\n",
       "      <td>རྒན་ལགས་ལབ་ཡི་ཡིན་ད་ང་། འདི་ལ་རྨ་བཟོས་ཡོད་ད། ཚ...</td>\n",
       "      <td>NaN</td>\n",
       "      <td>STT_CS-L-2018_2018-M_M-D_D-B04_B04-1_1-R_R-02_...</td>\n",
       "      <td>https://d38pmlk0v88drf.cloudfront.net/stt_pech...</td>\n",
       "    </tr>\n",
       "    <tr>\n",
       "      <th>2</th>\n",
       "      <td>བོད་གཞུང་བཀའ་ཤག་དང༌</td>\n",
       "      <td>NaN</td>\n",
       "      <td>STT_AB00156_0296_1211329_to_1212494</td>\n",
       "      <td>https://huggingface.co/datasets/openpecha/STT_...</td>\n",
       "    </tr>\n",
       "    <tr>\n",
       "      <th>3</th>\n",
       "      <td>ད་དེང་སང་མི་འདུག་མངར་མོ་འདྲ་བོ་ཚོར་གི་འདུག ང་འ...</td>\n",
       "      <td>NaN</td>\n",
       "      <td>STT_NS_M0049_0127_838881_to_840990.mp3</td>\n",
       "      <td>https://d38pmlk0v88drf.cloudfront.net/stt_pech...</td>\n",
       "    </tr>\n",
       "    <tr>\n",
       "      <th>4</th>\n",
       "      <td>འདི་སློབ་སྦྱོང་ཡོད་མྱི་བུ་གུ་གཅིག་ཡིན་ན། འདི་འ...</td>\n",
       "      <td>NaN</td>\n",
       "      <td>STT_NS_M0035_0143_1065338_to_1073027.mp3</td>\n",
       "      <td>https://d38pmlk0v88drf.cloudfront.net/stt_pech...</td>\n",
       "    </tr>\n",
       "  </tbody>\n",
       "</table>\n",
       "</div>"
      ],
      "text/plain": [
       "                                 reviewed_transcript final_transcript  \\\n",
       "0  རྒྱ་གར་ལུང་པར་དང་ཤོས་སླེབས་དུས་སྐབས་སུ་དངོས་གན...              NaN   \n",
       "1  རྒན་ལགས་ལབ་ཡི་ཡིན་ད་ང་། འདི་ལ་རྨ་བཟོས་ཡོད་ད། ཚ...              NaN   \n",
       "2                                བོད་གཞུང་བཀའ་ཤག་དང༌              NaN   \n",
       "3  ད་དེང་སང་མི་འདུག་མངར་མོ་འདྲ་བོ་ཚོར་གི་འདུག ང་འ...              NaN   \n",
       "4  འདི་སློབ་སྦྱོང་ཡོད་མྱི་བུ་གུ་གཅིག་ཡིན་ན། འདི་འ...              NaN   \n",
       "\n",
       "                                           file_name  \\\n",
       "0             STT_NS0085_0150_1184970_to_1192294.mp3   \n",
       "1  STT_CS-L-2018_2018-M_M-D_D-B04_B04-1_1-R_R-02_...   \n",
       "2                STT_AB00156_0296_1211329_to_1212494   \n",
       "3             STT_NS_M0049_0127_838881_to_840990.mp3   \n",
       "4           STT_NS_M0035_0143_1065338_to_1073027.mp3   \n",
       "\n",
       "                                                 url  \n",
       "0  https://d38pmlk0v88drf.cloudfront.net/stt_pech...  \n",
       "1  https://d38pmlk0v88drf.cloudfront.net/stt_pech...  \n",
       "2  https://huggingface.co/datasets/openpecha/STT_...  \n",
       "3  https://d38pmlk0v88drf.cloudfront.net/stt_pech...  \n",
       "4  https://d38pmlk0v88drf.cloudfront.net/stt_pech...  "
      ]
     },
     "execution_count": 3,
     "metadata": {},
     "output_type": "execute_result"
    }
   ],
   "source": [
    "df.head()"
   ]
  },
  {
   "cell_type": "code",
   "execution_count": 4,
   "metadata": {},
   "outputs": [],
   "source": [
    "df['grade'] = 1"
   ]
  },
  {
   "cell_type": "code",
   "execution_count": 5,
   "metadata": {},
   "outputs": [],
   "source": [
    "df.loc[~df['reviewed_transcript'].isna(), 'grade'] = 2"
   ]
  },
  {
   "cell_type": "code",
   "execution_count": 6,
   "metadata": {},
   "outputs": [],
   "source": [
    "df.loc[~df['final_transcript'].isna(), 'grade'] = 3"
   ]
  },
  {
   "cell_type": "code",
   "execution_count": 7,
   "metadata": {},
   "outputs": [],
   "source": [
    "df['final_transcript'].fillna(df['reviewed_transcript'], inplace=True)"
   ]
  },
  {
   "cell_type": "code",
   "execution_count": 8,
   "metadata": {},
   "outputs": [
    {
     "data": {
      "text/html": [
       "<div>\n",
       "<style scoped>\n",
       "    .dataframe tbody tr th:only-of-type {\n",
       "        vertical-align: middle;\n",
       "    }\n",
       "\n",
       "    .dataframe tbody tr th {\n",
       "        vertical-align: top;\n",
       "    }\n",
       "\n",
       "    .dataframe thead th {\n",
       "        text-align: right;\n",
       "    }\n",
       "</style>\n",
       "<table border=\"1\" class=\"dataframe\">\n",
       "  <thead>\n",
       "    <tr style=\"text-align: right;\">\n",
       "      <th></th>\n",
       "      <th>reviewed_transcript</th>\n",
       "      <th>final_transcript</th>\n",
       "      <th>file_name</th>\n",
       "      <th>url</th>\n",
       "      <th>grade</th>\n",
       "    </tr>\n",
       "  </thead>\n",
       "  <tbody>\n",
       "    <tr>\n",
       "      <th>0</th>\n",
       "      <td>རྒྱ་གར་ལུང་པར་དང་ཤོས་སླེབས་དུས་སྐབས་སུ་དངོས་གན...</td>\n",
       "      <td>རྒྱ་གར་ལུང་པར་དང་ཤོས་སླེབས་དུས་སྐབས་སུ་དངོས་གན...</td>\n",
       "      <td>STT_NS0085_0150_1184970_to_1192294.mp3</td>\n",
       "      <td>https://d38pmlk0v88drf.cloudfront.net/stt_pech...</td>\n",
       "      <td>2</td>\n",
       "    </tr>\n",
       "    <tr>\n",
       "      <th>1</th>\n",
       "      <td>རྒན་ལགས་ལབ་ཡི་ཡིན་ད་ང་། འདི་ལ་རྨ་བཟོས་ཡོད་ད། ཚ...</td>\n",
       "      <td>རྒན་ལགས་ལབ་ཡི་ཡིན་ད་ང་། འདི་ལ་རྨ་བཟོས་ཡོད་ད། ཚ...</td>\n",
       "      <td>STT_CS-L-2018_2018-M_M-D_D-B04_B04-1_1-R_R-02_...</td>\n",
       "      <td>https://d38pmlk0v88drf.cloudfront.net/stt_pech...</td>\n",
       "      <td>2</td>\n",
       "    </tr>\n",
       "    <tr>\n",
       "      <th>2</th>\n",
       "      <td>བོད་གཞུང་བཀའ་ཤག་དང༌</td>\n",
       "      <td>བོད་གཞུང་བཀའ་ཤག་དང༌</td>\n",
       "      <td>STT_AB00156_0296_1211329_to_1212494</td>\n",
       "      <td>https://huggingface.co/datasets/openpecha/STT_...</td>\n",
       "      <td>2</td>\n",
       "    </tr>\n",
       "    <tr>\n",
       "      <th>3</th>\n",
       "      <td>ད་དེང་སང་མི་འདུག་མངར་མོ་འདྲ་བོ་ཚོར་གི་འདུག ང་འ...</td>\n",
       "      <td>ད་དེང་སང་མི་འདུག་མངར་མོ་འདྲ་བོ་ཚོར་གི་འདུག ང་འ...</td>\n",
       "      <td>STT_NS_M0049_0127_838881_to_840990.mp3</td>\n",
       "      <td>https://d38pmlk0v88drf.cloudfront.net/stt_pech...</td>\n",
       "      <td>2</td>\n",
       "    </tr>\n",
       "    <tr>\n",
       "      <th>4</th>\n",
       "      <td>འདི་སློབ་སྦྱོང་ཡོད་མྱི་བུ་གུ་གཅིག་ཡིན་ན། འདི་འ...</td>\n",
       "      <td>འདི་སློབ་སྦྱོང་ཡོད་མྱི་བུ་གུ་གཅིག་ཡིན་ན། འདི་འ...</td>\n",
       "      <td>STT_NS_M0035_0143_1065338_to_1073027.mp3</td>\n",
       "      <td>https://d38pmlk0v88drf.cloudfront.net/stt_pech...</td>\n",
       "      <td>2</td>\n",
       "    </tr>\n",
       "  </tbody>\n",
       "</table>\n",
       "</div>"
      ],
      "text/plain": [
       "                                 reviewed_transcript  \\\n",
       "0  རྒྱ་གར་ལུང་པར་དང་ཤོས་སླེབས་དུས་སྐབས་སུ་དངོས་གན...   \n",
       "1  རྒན་ལགས་ལབ་ཡི་ཡིན་ད་ང་། འདི་ལ་རྨ་བཟོས་ཡོད་ད། ཚ...   \n",
       "2                                བོད་གཞུང་བཀའ་ཤག་དང༌   \n",
       "3  ད་དེང་སང་མི་འདུག་མངར་མོ་འདྲ་བོ་ཚོར་གི་འདུག ང་འ...   \n",
       "4  འདི་སློབ་སྦྱོང་ཡོད་མྱི་བུ་གུ་གཅིག་ཡིན་ན། འདི་འ...   \n",
       "\n",
       "                                    final_transcript  \\\n",
       "0  རྒྱ་གར་ལུང་པར་དང་ཤོས་སླེབས་དུས་སྐབས་སུ་དངོས་གན...   \n",
       "1  རྒན་ལགས་ལབ་ཡི་ཡིན་ད་ང་། འདི་ལ་རྨ་བཟོས་ཡོད་ད། ཚ...   \n",
       "2                                བོད་གཞུང་བཀའ་ཤག་དང༌   \n",
       "3  ད་དེང་སང་མི་འདུག་མངར་མོ་འདྲ་བོ་ཚོར་གི་འདུག ང་འ...   \n",
       "4  འདི་སློབ་སྦྱོང་ཡོད་མྱི་བུ་གུ་གཅིག་ཡིན་ན། འདི་འ...   \n",
       "\n",
       "                                           file_name  \\\n",
       "0             STT_NS0085_0150_1184970_to_1192294.mp3   \n",
       "1  STT_CS-L-2018_2018-M_M-D_D-B04_B04-1_1-R_R-02_...   \n",
       "2                STT_AB00156_0296_1211329_to_1212494   \n",
       "3             STT_NS_M0049_0127_838881_to_840990.mp3   \n",
       "4           STT_NS_M0035_0143_1065338_to_1073027.mp3   \n",
       "\n",
       "                                                 url  grade  \n",
       "0  https://d38pmlk0v88drf.cloudfront.net/stt_pech...      2  \n",
       "1  https://d38pmlk0v88drf.cloudfront.net/stt_pech...      2  \n",
       "2  https://huggingface.co/datasets/openpecha/STT_...      2  \n",
       "3  https://d38pmlk0v88drf.cloudfront.net/stt_pech...      2  \n",
       "4  https://d38pmlk0v88drf.cloudfront.net/stt_pech...      2  "
      ]
     },
     "execution_count": 8,
     "metadata": {},
     "output_type": "execute_result"
    }
   ],
   "source": [
    "df.head()"
   ]
  },
  {
   "cell_type": "code",
   "execution_count": 9,
   "metadata": {},
   "outputs": [],
   "source": [
    "df = df[~df['final_transcript'].isnull()]"
   ]
  },
  {
   "cell_type": "code",
   "execution_count": 10,
   "metadata": {},
   "outputs": [],
   "source": [
    "df['dept'] = df['file_name'].str[:6]"
   ]
  },
  {
   "cell_type": "code",
   "execution_count": 11,
   "metadata": {},
   "outputs": [],
   "source": [
    "df = df[['file_name','final_transcript', 'url', 'dept', 'grade']]"
   ]
  },
  {
   "cell_type": "code",
   "execution_count": 12,
   "metadata": {},
   "outputs": [],
   "source": [
    "df.rename(columns={'final_transcript':'uni'}, inplace=True)"
   ]
  },
  {
   "cell_type": "code",
   "execution_count": 13,
   "metadata": {},
   "outputs": [
    {
     "data": {
      "text/html": [
       "<div>\n",
       "<style scoped>\n",
       "    .dataframe tbody tr th:only-of-type {\n",
       "        vertical-align: middle;\n",
       "    }\n",
       "\n",
       "    .dataframe tbody tr th {\n",
       "        vertical-align: top;\n",
       "    }\n",
       "\n",
       "    .dataframe thead th {\n",
       "        text-align: right;\n",
       "    }\n",
       "</style>\n",
       "<table border=\"1\" class=\"dataframe\">\n",
       "  <thead>\n",
       "    <tr style=\"text-align: right;\">\n",
       "      <th></th>\n",
       "      <th>file_name</th>\n",
       "      <th>uni</th>\n",
       "      <th>url</th>\n",
       "      <th>dept</th>\n",
       "      <th>grade</th>\n",
       "    </tr>\n",
       "  </thead>\n",
       "  <tbody>\n",
       "    <tr>\n",
       "      <th>0</th>\n",
       "      <td>STT_NS0085_0150_1184970_to_1192294.mp3</td>\n",
       "      <td>རྒྱ་གར་ལུང་པར་དང་ཤོས་སླེབས་དུས་སྐབས་སུ་དངོས་གན...</td>\n",
       "      <td>https://d38pmlk0v88drf.cloudfront.net/stt_pech...</td>\n",
       "      <td>STT_NS</td>\n",
       "      <td>2</td>\n",
       "    </tr>\n",
       "    <tr>\n",
       "      <th>1</th>\n",
       "      <td>STT_CS-L-2018_2018-M_M-D_D-B04_B04-1_1-R_R-02_...</td>\n",
       "      <td>རྒན་ལགས་ལབ་ཡི་ཡིན་ད་ང་། འདི་ལ་རྨ་བཟོས་ཡོད་ད། ཚ...</td>\n",
       "      <td>https://d38pmlk0v88drf.cloudfront.net/stt_pech...</td>\n",
       "      <td>STT_CS</td>\n",
       "      <td>2</td>\n",
       "    </tr>\n",
       "    <tr>\n",
       "      <th>2</th>\n",
       "      <td>STT_AB00156_0296_1211329_to_1212494</td>\n",
       "      <td>བོད་གཞུང་བཀའ་ཤག་དང༌</td>\n",
       "      <td>https://huggingface.co/datasets/openpecha/STT_...</td>\n",
       "      <td>STT_AB</td>\n",
       "      <td>2</td>\n",
       "    </tr>\n",
       "    <tr>\n",
       "      <th>3</th>\n",
       "      <td>STT_NS_M0049_0127_838881_to_840990.mp3</td>\n",
       "      <td>ད་དེང་སང་མི་འདུག་མངར་མོ་འདྲ་བོ་ཚོར་གི་འདུག ང་འ...</td>\n",
       "      <td>https://d38pmlk0v88drf.cloudfront.net/stt_pech...</td>\n",
       "      <td>STT_NS</td>\n",
       "      <td>2</td>\n",
       "    </tr>\n",
       "    <tr>\n",
       "      <th>4</th>\n",
       "      <td>STT_NS_M0035_0143_1065338_to_1073027.mp3</td>\n",
       "      <td>འདི་སློབ་སྦྱོང་ཡོད་མྱི་བུ་གུ་གཅིག་ཡིན་ན། འདི་འ...</td>\n",
       "      <td>https://d38pmlk0v88drf.cloudfront.net/stt_pech...</td>\n",
       "      <td>STT_NS</td>\n",
       "      <td>2</td>\n",
       "    </tr>\n",
       "  </tbody>\n",
       "</table>\n",
       "</div>"
      ],
      "text/plain": [
       "                                           file_name  \\\n",
       "0             STT_NS0085_0150_1184970_to_1192294.mp3   \n",
       "1  STT_CS-L-2018_2018-M_M-D_D-B04_B04-1_1-R_R-02_...   \n",
       "2                STT_AB00156_0296_1211329_to_1212494   \n",
       "3             STT_NS_M0049_0127_838881_to_840990.mp3   \n",
       "4           STT_NS_M0035_0143_1065338_to_1073027.mp3   \n",
       "\n",
       "                                                 uni  \\\n",
       "0  རྒྱ་གར་ལུང་པར་དང་ཤོས་སླེབས་དུས་སྐབས་སུ་དངོས་གན...   \n",
       "1  རྒན་ལགས་ལབ་ཡི་ཡིན་ད་ང་། འདི་ལ་རྨ་བཟོས་ཡོད་ད། ཚ...   \n",
       "2                                བོད་གཞུང་བཀའ་ཤག་དང༌   \n",
       "3  ད་དེང་སང་མི་འདུག་མངར་མོ་འདྲ་བོ་ཚོར་གི་འདུག ང་འ...   \n",
       "4  འདི་སློབ་སྦྱོང་ཡོད་མྱི་བུ་གུ་གཅིག་ཡིན་ན། འདི་འ...   \n",
       "\n",
       "                                                 url    dept  grade  \n",
       "0  https://d38pmlk0v88drf.cloudfront.net/stt_pech...  STT_NS      2  \n",
       "1  https://d38pmlk0v88drf.cloudfront.net/stt_pech...  STT_CS      2  \n",
       "2  https://huggingface.co/datasets/openpecha/STT_...  STT_AB      2  \n",
       "3  https://d38pmlk0v88drf.cloudfront.net/stt_pech...  STT_NS      2  \n",
       "4  https://d38pmlk0v88drf.cloudfront.net/stt_pech...  STT_NS      2  "
      ]
     },
     "execution_count": 13,
     "metadata": {},
     "output_type": "execute_result"
    }
   ],
   "source": [
    "df.head()"
   ]
  },
  {
   "cell_type": "code",
   "execution_count": 14,
   "metadata": {},
   "outputs": [],
   "source": [
    "df.to_csv('01_stt_pecha_tools.tsv', sep='\\t', index=False)"
   ]
  },
  {
   "cell_type": "code",
   "execution_count": 15,
   "metadata": {},
   "outputs": [
    {
     "data": {
      "text/plain": [
       "(149644, 5)"
      ]
     },
     "execution_count": 15,
     "metadata": {},
     "output_type": "execute_result"
    }
   ],
   "source": [
    "df.shape"
   ]
  },
  {
   "cell_type": "code",
   "execution_count": null,
   "metadata": {},
   "outputs": [],
   "source": []
  }
 ],
 "metadata": {
  "kernelspec": {
   "display_name": ".env",
   "language": "python",
   "name": "python3"
  },
  "language_info": {
   "codemirror_mode": {
    "name": "ipython",
    "version": 3
   },
   "file_extension": ".py",
   "mimetype": "text/x-python",
   "name": "python",
   "nbconvert_exporter": "python",
   "pygments_lexer": "ipython3",
   "version": "3.10.12"
  }
 },
 "nbformat": 4,
 "nbformat_minor": 2
}
