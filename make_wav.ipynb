{
 "cells": [
  {
   "cell_type": "code",
   "execution_count": 3,
   "metadata": {},
   "outputs": [
    {
     "name": "stdout",
     "output_type": "stream",
     "text": [
      "Collecting pydub\n",
      "  Using cached pydub-0.25.1-py2.py3-none-any.whl (32 kB)\n",
      "Installing collected packages: pydub\n",
      "Successfully installed pydub-0.25.1\n"
     ]
    }
   ],
   "source": [
    "!pip install pydub"
   ]
  },
  {
   "cell_type": "code",
   "execution_count": 1,
   "metadata": {},
   "outputs": [
    {
     "name": "stdout",
     "output_type": "stream",
     "text": [
      "Conversion completed.\n"
     ]
    }
   ],
   "source": [
    "import os\n",
    "from pydub import AudioSegment\n",
    "\n",
    "# Directory containing the MP3 files\n",
    "input_directory = '/media/monlamai/SSD/to_aug_audio_files'\n",
    "output_directory = '/media/monlamai/SSD/to_aug_audio_files'\n",
    "\n",
    "# Create the output directory if it doesn't exist\n",
    "os.makedirs(output_directory, exist_ok=True)\n",
    "\n",
    "# Loop through all files in the input directory\n",
    "for filename in os.listdir(input_directory):\n",
    "    if filename.endswith('.mp3'):\n",
    "        mp3_path = os.path.join(input_directory, filename)\n",
    "        wav_path = os.path.join(output_directory, filename.replace('.mp3', '.wav'))\n",
    "        \n",
    "        # Load the MP3 file\n",
    "        audio = AudioSegment.from_mp3(mp3_path)\n",
    "        \n",
    "        # Set frame rate to 16000\n",
    "        audio = audio.set_frame_rate(16000)\n",
    "        \n",
    "        # Export as WAV\n",
    "        audio.export(wav_path, format='wav')\n",
    "\n",
    "print(\"Conversion completed.\")"
   ]
  },
  {
   "cell_type": "code",
   "execution_count": 6,
   "metadata": {},
   "outputs": [],
   "source": [
    "import pandas as pd\n",
    "to_aug_train_df = pd.read_csv(\"to_aug_train.tsv\", sep='\\t')\n",
    "to_aug_val_df = pd.read_csv(\"to_aug_val.tsv\", sep='\\t')"
   ]
  },
  {
   "cell_type": "code",
   "execution_count": 7,
   "metadata": {},
   "outputs": [],
   "source": [
    "to_aug_train_df['file_name'] = to_aug_train_df['url'].apply(lambda x: x.split('/')[-1])\n",
    "to_aug_val_df['file_name'] = to_aug_val_df['url'].apply(lambda x: x.split('/')[-1])"
   ]
  },
  {
   "cell_type": "code",
   "execution_count": 23,
   "metadata": {},
   "outputs": [],
   "source": [
    "keep_files_set_one = set(to_aug_train_df['file_name'])\n",
    "keep_files_set_two = set(to_aug_val_df['file_name'])"
   ]
  },
  {
   "cell_type": "code",
   "execution_count": 24,
   "metadata": {},
   "outputs": [],
   "source": [
    "keep_files_set = keep_files_set_one.union(keep_files_set_two)"
   ]
  },
  {
   "cell_type": "code",
   "execution_count": null,
   "metadata": {},
   "outputs": [],
   "source": [
    "import os\n",
    "\n",
    "# Directory where the files are located\n",
    "directory = '/media/monlamai/SSD/to_aug_audio_files'\n",
    "\n",
    "# Convert keep_files to a set for faster lookup\n",
    "keep_files_set = set(to_aug_train_df['file_name']) + set(to_aug_val_df['file_name'])\n",
    "\n",
    "# Loop through all files in the directory\n",
    "for filename in os.listdir(directory):\n",
    "    file_path = os.path.join(directory, filename)\n",
    "\n",
    "    # Check if the file is not in the keep list and is a file (not a directory)\n",
    "    if filename not in keep_files_set and os.path.isfile(file_path):\n",
    "        os.remove(file_path)\n",
    "        print(f\"Deleted {filename}\")\n",
    "\n",
    "print(\"Deletion process completed.\")"
   ]
  }
 ],
 "metadata": {
  "kernelspec": {
   "display_name": ".env",
   "language": "python",
   "name": "python3"
  },
  "language_info": {
   "codemirror_mode": {
    "name": "ipython",
    "version": 3
   },
   "file_extension": ".py",
   "mimetype": "text/x-python",
   "name": "python",
   "nbconvert_exporter": "python",
   "pygments_lexer": "ipython3",
   "version": "3.10.12"
  }
 },
 "nbformat": 4,
 "nbformat_minor": 2
}
