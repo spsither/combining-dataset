{
 "cells": [
  {
   "cell_type": "code",
   "execution_count": 17,
   "metadata": {},
   "outputs": [],
   "source": [
    "stt_pecha_tools = \"/home/monlamai/Documents/GitHub/combining-dataset/stt_pecha.tsv\"\n",
    "prodigy = \"/home/monlamai/Documents/GitHub/combining-dataset/prodigy.tsv\"\n",
    "mv = \"/home/monlamai/Documents/GitHub/saymore-report-generator/elan_to_segments/stt_mv.tsv\""
   ]
  },
  {
   "cell_type": "code",
   "execution_count": 18,
   "metadata": {},
   "outputs": [],
   "source": [
    "old_mv_test = \"/home/monlamai/Downloads/test.tsv\"\n",
    "old_mv_train = \"/home/monlamai/Downloads/train.tsv\"\n",
    "old_mv_validation = \"/home/monlamai/Downloads/validation.tsv\""
   ]
  },
  {
   "cell_type": "code",
   "execution_count": 19,
   "metadata": {},
   "outputs": [],
   "source": [
    "import pandas as pd\n",
    "old_mv_test_df = pd.read_csv(old_mv_test, sep='\\t')\n",
    "old_mv_train_df = pd.read_csv(old_mv_train, sep='\\t')\n",
    "old_mv_validation_df = pd.read_csv(old_mv_validation, sep='\\t')"
   ]
  },
  {
   "cell_type": "code",
   "execution_count": 20,
   "metadata": {},
   "outputs": [],
   "source": [
    "import pandas as pd\n",
    "pecha_tools_df = pd.read_csv(stt_pecha_tools, sep='\\t')\n",
    "prodigy_df = pd.read_csv(prodigy, sep='\\t')\n",
    "mv_df = pd.read_csv(mv, sep='\\t')"
   ]
  },
  {
   "cell_type": "code",
   "execution_count": 21,
   "metadata": {},
   "outputs": [],
   "source": [
    "df = pd.concat([pecha_tools_df, prodigy_df, mv_df, old_mv_test_df, old_mv_train_df, old_mv_validation_df], ignore_index=True)"
   ]
  },
  {
   "cell_type": "markdown",
   "metadata": {},
   "source": [
    "# clean the combined tsv"
   ]
  },
  {
   "cell_type": "code",
   "execution_count": 22,
   "metadata": {},
   "outputs": [
    {
     "name": "stdout",
     "output_type": "stream",
     "text": [
      "ཧ་ཧ་ཧ་འེ་\n"
     ]
    }
   ],
   "source": [
    "import re\n",
    "text = \"ཧ་ཧ་ཧ་ཧ་ཧ་འེ་\"\n",
    "text = re.sub(r'ཧ་ཧ་(ཧ་)+', r'ཧ་ཧ་ཧ་', text)\n",
    "print(text)"
   ]
  },
  {
   "cell_type": "code",
   "execution_count": 23,
   "metadata": {},
   "outputs": [],
   "source": [
    "import re\n",
    "def clean_transcription(text):\n",
    "    text = text.replace('\\n', ' ')\n",
    "    text = text.replace('\\t', ' ')\n",
    "    text = text.strip()\n",
    "\n",
    "    text = re.sub(r\"་+\", \"་\", text)\n",
    "    text = re.sub(r\"།+\", \"།\", text)\n",
    "    text = re.sub(r\"\\s+\", \" \", text)\n",
    "    text = re.sub(r\"\\s+།\", \"།\", text)\n",
    "\n",
    "    text = re.sub(r\"ཧཧཧ+\", \"ཧཧཧ\", text)\n",
    "    text = re.sub(r'འེ་འེ་(འེ་)+', r'འེ་འེ་འེ་', text)\n",
    "    text = re.sub(r'ཧ་ཧ་(ཧ་)+', r'ཧ་ཧ་ཧ་', text)\n",
    "\n",
    "    chars_to_ignore_regex = '[\\,\\?\\.\\!\\-\\;\\:\\\"\\“\\%\\‘\\”\\�\\/\\{\\}\\(\\)\\༽\\》\\༼\\《\\༅\\༄\\༈\\༑\\༠]'\n",
    "    \n",
    "    text = re.sub(chars_to_ignore_regex, '', text)+\" \"\n",
    "    return text\n",
    "\n",
    "def check_if_regex(text):\n",
    "    text = str(text)\n",
    "    regex = re.compile(r'[a-zA-Z]+')\n",
    "    match = re.search(regex, text)\n",
    "    \n",
    "    # Check if a match was found.\n",
    "    if match:\n",
    "        return True\n",
    "    else:\n",
    "        return False"
   ]
  },
  {
   "cell_type": "code",
   "execution_count": 24,
   "metadata": {},
   "outputs": [
    {
     "data": {
      "text/plain": [
       "(661867, 5)"
      ]
     },
     "execution_count": 24,
     "metadata": {},
     "output_type": "execute_result"
    }
   ],
   "source": [
    "df.shape"
   ]
  },
  {
   "cell_type": "code",
   "execution_count": 25,
   "metadata": {},
   "outputs": [],
   "source": [
    "df = df[df['uni'].str.len() > 0]"
   ]
  },
  {
   "cell_type": "code",
   "execution_count": 26,
   "metadata": {},
   "outputs": [],
   "source": [
    "df = df[df['uni'].str.len() < 994]"
   ]
  },
  {
   "cell_type": "code",
   "execution_count": 27,
   "metadata": {},
   "outputs": [],
   "source": [
    "df = df[~df['uni'].apply(check_if_regex)]"
   ]
  },
  {
   "cell_type": "code",
   "execution_count": 28,
   "metadata": {},
   "outputs": [
    {
     "data": {
      "text/plain": [
       "(661393, 5)"
      ]
     },
     "execution_count": 28,
     "metadata": {},
     "output_type": "execute_result"
    }
   ],
   "source": [
    "df.shape"
   ]
  },
  {
   "cell_type": "code",
   "execution_count": 29,
   "metadata": {},
   "outputs": [],
   "source": [
    "df['uni'] = df['uni'].map(clean_transcription)"
   ]
  },
  {
   "cell_type": "code",
   "execution_count": 30,
   "metadata": {},
   "outputs": [],
   "source": [
    "import pyewts\n",
    "converter = pyewts.pyewts()\n",
    "\n",
    "df['wylie'] = df['uni'].map(converter.toWylie)"
   ]
  },
  {
   "cell_type": "code",
   "execution_count": 31,
   "metadata": {},
   "outputs": [
    {
     "data": {
      "text/html": [
       "<div>\n",
       "<style scoped>\n",
       "    .dataframe tbody tr th:only-of-type {\n",
       "        vertical-align: middle;\n",
       "    }\n",
       "\n",
       "    .dataframe tbody tr th {\n",
       "        vertical-align: top;\n",
       "    }\n",
       "\n",
       "    .dataframe thead th {\n",
       "        text-align: right;\n",
       "    }\n",
       "</style>\n",
       "<table border=\"1\" class=\"dataframe\">\n",
       "  <thead>\n",
       "    <tr style=\"text-align: right;\">\n",
       "      <th></th>\n",
       "      <th>file_name</th>\n",
       "      <th>uni</th>\n",
       "      <th>wylie</th>\n",
       "      <th>url</th>\n",
       "      <th>dept</th>\n",
       "    </tr>\n",
       "  </thead>\n",
       "  <tbody>\n",
       "    <tr>\n",
       "      <th>0</th>\n",
       "      <td>STT_AB00156_0296_1211329_to_1212494</td>\n",
       "      <td>བོད་གཞུང་བཀའ་ཤག་དང༌</td>\n",
       "      <td>bod gzhung bka' shag dang*_</td>\n",
       "      <td>https://huggingface.co/datasets/openpecha/STT_...</td>\n",
       "      <td>STT_AB</td>\n",
       "    </tr>\n",
       "    <tr>\n",
       "      <th>1</th>\n",
       "      <td>STT_AB00157_0050_200635_to_201377</td>\n",
       "      <td>དེར་བརྟེན་ན་</td>\n",
       "      <td>der brten na _</td>\n",
       "      <td>https://huggingface.co/datasets/openpecha/STT_...</td>\n",
       "      <td>STT_AB</td>\n",
       "    </tr>\n",
       "    <tr>\n",
       "      <th>2</th>\n",
       "      <td>STT_AB00156_0239_937026_to_938157</td>\n",
       "      <td>ཅེས་ཟེར་ཡང༌།</td>\n",
       "      <td>ces zer yang*/_</td>\n",
       "      <td>https://huggingface.co/datasets/openpecha/STT_...</td>\n",
       "      <td>STT_AB</td>\n",
       "    </tr>\n",
       "    <tr>\n",
       "      <th>3</th>\n",
       "      <td>STT_AB00156_0240_938579_to_944485</td>\n",
       "      <td>བོད་ཤར་ཕྱོགས་ས་ཁུལ་དུ་མི་མང་གི་རེ་འདོད་གསལ་པོ་...</td>\n",
       "      <td>bod shar phyogs sa khul du mi mang gi re 'dod ...</td>\n",
       "      <td>https://huggingface.co/datasets/openpecha/STT_...</td>\n",
       "      <td>STT_AB</td>\n",
       "    </tr>\n",
       "    <tr>\n",
       "      <th>4</th>\n",
       "      <td>STT_AB00156_0241_944974_to_946307</td>\n",
       "      <td>བྱས་དང་བྱེད་བཞིན་ཡོད་པ་རེད།</td>\n",
       "      <td>byas dang byed bzhin yod pa red/_</td>\n",
       "      <td>https://huggingface.co/datasets/openpecha/STT_...</td>\n",
       "      <td>STT_AB</td>\n",
       "    </tr>\n",
       "  </tbody>\n",
       "</table>\n",
       "</div>"
      ],
      "text/plain": [
       "                             file_name  \\\n",
       "0  STT_AB00156_0296_1211329_to_1212494   \n",
       "1    STT_AB00157_0050_200635_to_201377   \n",
       "2    STT_AB00156_0239_937026_to_938157   \n",
       "3    STT_AB00156_0240_938579_to_944485   \n",
       "4    STT_AB00156_0241_944974_to_946307   \n",
       "\n",
       "                                                 uni  \\\n",
       "0                               བོད་གཞུང་བཀའ་ཤག་དང༌    \n",
       "1                                      དེར་བརྟེན་ན་    \n",
       "2                                      ཅེས་ཟེར་ཡང༌།    \n",
       "3  བོད་ཤར་ཕྱོགས་ས་ཁུལ་དུ་མི་མང་གི་རེ་འདོད་གསལ་པོ་...   \n",
       "4                       བྱས་དང་བྱེད་བཞིན་ཡོད་པ་རེད།    \n",
       "\n",
       "                                               wylie  \\\n",
       "0                        bod gzhung bka' shag dang*_   \n",
       "1                                     der brten na _   \n",
       "2                                    ces zer yang*/_   \n",
       "3  bod shar phyogs sa khul du mi mang gi re 'dod ...   \n",
       "4                  byas dang byed bzhin yod pa red/_   \n",
       "\n",
       "                                                 url    dept  \n",
       "0  https://huggingface.co/datasets/openpecha/STT_...  STT_AB  \n",
       "1  https://huggingface.co/datasets/openpecha/STT_...  STT_AB  \n",
       "2  https://huggingface.co/datasets/openpecha/STT_...  STT_AB  \n",
       "3  https://huggingface.co/datasets/openpecha/STT_...  STT_AB  \n",
       "4  https://huggingface.co/datasets/openpecha/STT_...  STT_AB  "
      ]
     },
     "execution_count": 31,
     "metadata": {},
     "output_type": "execute_result"
    }
   ],
   "source": [
    "df.head()"
   ]
  },
  {
   "cell_type": "code",
   "execution_count": 32,
   "metadata": {},
   "outputs": [],
   "source": [
    "df['url'] = df['url'].map(lambda x : x.replace('#','%23'))"
   ]
  },
  {
   "cell_type": "code",
   "execution_count": 33,
   "metadata": {},
   "outputs": [],
   "source": [
    "df = df[df['file_name'] != 'STT_AB00148_0687_2124469_to_2126579']"
   ]
  },
  {
   "cell_type": "code",
   "execution_count": 34,
   "metadata": {},
   "outputs": [],
   "source": [
    "df.drop_duplicates(subset='file_name', keep=\"first\", inplace=True)"
   ]
  },
  {
   "cell_type": "code",
   "execution_count": 35,
   "metadata": {},
   "outputs": [],
   "source": [
    "df.to_csv('all.tsv', sep='\\t', index=False)"
   ]
  },
  {
   "cell_type": "code",
   "execution_count": 36,
   "metadata": {},
   "outputs": [
    {
     "data": {
      "text/html": [
       "<div>\n",
       "<style scoped>\n",
       "    .dataframe tbody tr th:only-of-type {\n",
       "        vertical-align: middle;\n",
       "    }\n",
       "\n",
       "    .dataframe tbody tr th {\n",
       "        vertical-align: top;\n",
       "    }\n",
       "\n",
       "    .dataframe thead th {\n",
       "        text-align: right;\n",
       "    }\n",
       "</style>\n",
       "<table border=\"1\" class=\"dataframe\">\n",
       "  <thead>\n",
       "    <tr style=\"text-align: right;\">\n",
       "      <th></th>\n",
       "      <th>file_name</th>\n",
       "      <th>uni</th>\n",
       "      <th>wylie</th>\n",
       "      <th>url</th>\n",
       "      <th>dept</th>\n",
       "    </tr>\n",
       "  </thead>\n",
       "  <tbody>\n",
       "    <tr>\n",
       "      <th>0</th>\n",
       "      <td>STT_AB00156_0296_1211329_to_1212494</td>\n",
       "      <td>བོད་གཞུང་བཀའ་ཤག་དང༌</td>\n",
       "      <td>bod gzhung bka' shag dang*_</td>\n",
       "      <td>https://huggingface.co/datasets/openpecha/STT_...</td>\n",
       "      <td>STT_AB</td>\n",
       "    </tr>\n",
       "    <tr>\n",
       "      <th>1</th>\n",
       "      <td>STT_AB00157_0050_200635_to_201377</td>\n",
       "      <td>དེར་བརྟེན་ན་</td>\n",
       "      <td>der brten na _</td>\n",
       "      <td>https://huggingface.co/datasets/openpecha/STT_...</td>\n",
       "      <td>STT_AB</td>\n",
       "    </tr>\n",
       "    <tr>\n",
       "      <th>2</th>\n",
       "      <td>STT_AB00156_0239_937026_to_938157</td>\n",
       "      <td>ཅེས་ཟེར་ཡང༌།</td>\n",
       "      <td>ces zer yang*/_</td>\n",
       "      <td>https://huggingface.co/datasets/openpecha/STT_...</td>\n",
       "      <td>STT_AB</td>\n",
       "    </tr>\n",
       "    <tr>\n",
       "      <th>3</th>\n",
       "      <td>STT_AB00156_0240_938579_to_944485</td>\n",
       "      <td>བོད་ཤར་ཕྱོགས་ས་ཁུལ་དུ་མི་མང་གི་རེ་འདོད་གསལ་པོ་...</td>\n",
       "      <td>bod shar phyogs sa khul du mi mang gi re 'dod ...</td>\n",
       "      <td>https://huggingface.co/datasets/openpecha/STT_...</td>\n",
       "      <td>STT_AB</td>\n",
       "    </tr>\n",
       "    <tr>\n",
       "      <th>4</th>\n",
       "      <td>STT_AB00156_0241_944974_to_946307</td>\n",
       "      <td>བྱས་དང་བྱེད་བཞིན་ཡོད་པ་རེད།</td>\n",
       "      <td>byas dang byed bzhin yod pa red/_</td>\n",
       "      <td>https://huggingface.co/datasets/openpecha/STT_...</td>\n",
       "      <td>STT_AB</td>\n",
       "    </tr>\n",
       "  </tbody>\n",
       "</table>\n",
       "</div>"
      ],
      "text/plain": [
       "                             file_name  \\\n",
       "0  STT_AB00156_0296_1211329_to_1212494   \n",
       "1    STT_AB00157_0050_200635_to_201377   \n",
       "2    STT_AB00156_0239_937026_to_938157   \n",
       "3    STT_AB00156_0240_938579_to_944485   \n",
       "4    STT_AB00156_0241_944974_to_946307   \n",
       "\n",
       "                                                 uni  \\\n",
       "0                               བོད་གཞུང་བཀའ་ཤག་དང༌    \n",
       "1                                      དེར་བརྟེན་ན་    \n",
       "2                                      ཅེས་ཟེར་ཡང༌།    \n",
       "3  བོད་ཤར་ཕྱོགས་ས་ཁུལ་དུ་མི་མང་གི་རེ་འདོད་གསལ་པོ་...   \n",
       "4                       བྱས་དང་བྱེད་བཞིན་ཡོད་པ་རེད།    \n",
       "\n",
       "                                               wylie  \\\n",
       "0                        bod gzhung bka' shag dang*_   \n",
       "1                                     der brten na _   \n",
       "2                                    ces zer yang*/_   \n",
       "3  bod shar phyogs sa khul du mi mang gi re 'dod ...   \n",
       "4                  byas dang byed bzhin yod pa red/_   \n",
       "\n",
       "                                                 url    dept  \n",
       "0  https://huggingface.co/datasets/openpecha/STT_...  STT_AB  \n",
       "1  https://huggingface.co/datasets/openpecha/STT_...  STT_AB  \n",
       "2  https://huggingface.co/datasets/openpecha/STT_...  STT_AB  \n",
       "3  https://huggingface.co/datasets/openpecha/STT_...  STT_AB  \n",
       "4  https://huggingface.co/datasets/openpecha/STT_...  STT_AB  "
      ]
     },
     "execution_count": 36,
     "metadata": {},
     "output_type": "execute_result"
    }
   ],
   "source": [
    "df.head()"
   ]
  },
  {
   "cell_type": "code",
   "execution_count": 37,
   "metadata": {},
   "outputs": [],
   "source": [
    "import pandas as pd\n",
    "from sklearn.model_selection import train_test_split\n",
    "\n",
    "# Splitting the data\n",
    "train, test_temp = train_test_split(df, test_size=0.1, random_state=42, stratify=df['dept'])\n",
    "val, test = train_test_split(test_temp, test_size=0.5, random_state=42, stratify=test_temp['dept'])         "
   ]
  },
  {
   "cell_type": "code",
   "execution_count": 38,
   "metadata": {},
   "outputs": [
    {
     "data": {
      "text/plain": [
       "(578333, 32130, 32130, 642593, 642593)"
      ]
     },
     "execution_count": 38,
     "metadata": {},
     "output_type": "execute_result"
    }
   ],
   "source": [
    "len(train), len(val), len(test), len(train)+len(val)+len(test), len(df)"
   ]
  },
  {
   "cell_type": "code",
   "execution_count": 39,
   "metadata": {},
   "outputs": [],
   "source": [
    "train.to_csv('train.tsv', sep='\\t', index=False)\n",
    "val.to_csv(  'val.tsv', sep='\\t', index=False)\n",
    "test.to_csv( 'test.tsv', sep='\\t', index=False)"
   ]
  },
  {
   "cell_type": "code",
   "execution_count": 40,
   "metadata": {},
   "outputs": [
    {
     "data": {
      "text/plain": [
       "uni\n",
       "False    642034\n",
       "True        559\n",
       "Name: count, dtype: int64"
      ]
     },
     "execution_count": 40,
     "metadata": {},
     "output_type": "execute_result"
    }
   ],
   "source": [
    "df['uni'].str.contains('ཧཧཧ').value_counts()"
   ]
  },
  {
   "cell_type": "code",
   "execution_count": 1,
   "metadata": {},
   "outputs": [],
   "source": [
    "import pandas as pd\n",
    "\n",
    "df = pd.read_csv('all.tsv', sep='\\t')"
   ]
  },
  {
   "cell_type": "code",
   "execution_count": 50,
   "metadata": {},
   "outputs": [],
   "source": [
    "import os\n",
    "def getTimeSpan(filename):\n",
    "    filename = os.path.splitext(os.path.basename(filename))[0]\n",
    "    try:\n",
    "        if \"_to_\" in filename:\n",
    "            start, end = filename.split(\"_to_\")\n",
    "            start = start.split(\"_\")[-1]\n",
    "            end = end.split(\"_\")[0]\n",
    "            end = float(end)\n",
    "            start = float(start)\n",
    "            return abs((end - start)/1000)\n",
    "        else:\n",
    "            start, end = filename.split(\"-\")\n",
    "            start = start.split(\"_\")[-1]\n",
    "            end = end.split(\"_\")[0]\n",
    "            end = float(end)\n",
    "            start = float(start)\n",
    "            return abs(end - start)\n",
    "    except Exception as err:\n",
    "        print(f\"filename is:'{filename}'. Could not parse to get time span.\")\n",
    "        return 0\n"
   ]
  },
  {
   "cell_type": "code",
   "execution_count": 51,
   "metadata": {},
   "outputs": [],
   "source": [
    "df['time_span'] = df['file_name'].map(getTimeSpan)"
   ]
  },
  {
   "cell_type": "code",
   "execution_count": 52,
   "metadata": {},
   "outputs": [
    {
     "data": {
      "text/plain": [
       "dept\n",
       "STT_AB     83.979735\n",
       "STT_CS     68.579719\n",
       "STT_MV    307.320387\n",
       "STT_NS     97.503928\n",
       "STT_TT    141.066895\n",
       "Name: time_span, dtype: float64"
      ]
     },
     "execution_count": 52,
     "metadata": {},
     "output_type": "execute_result"
    }
   ],
   "source": [
    "df.groupby('dept')['time_span'].sum()/60/60"
   ]
  },
  {
   "cell_type": "code",
   "execution_count": 53,
   "metadata": {},
   "outputs": [
    {
     "data": {
      "text/plain": [
       "698.4506650000003"
      ]
     },
     "execution_count": 53,
     "metadata": {},
     "output_type": "execute_result"
    }
   ],
   "source": [
    "df['time_span'].sum()/60/60"
   ]
  },
  {
   "cell_type": "code",
   "execution_count": 57,
   "metadata": {},
   "outputs": [],
   "source": [
    "# df.sort_values(by='time_span', ascending=False, inplace=True)\n",
    "df = df.sample(frac = 1)"
   ]
  },
  {
   "cell_type": "code",
   "execution_count": 76,
   "metadata": {},
   "outputs": [
    {
     "data": {
      "text/html": [
       "<div>\n",
       "<style scoped>\n",
       "    .dataframe tbody tr th:only-of-type {\n",
       "        vertical-align: middle;\n",
       "    }\n",
       "\n",
       "    .dataframe tbody tr th {\n",
       "        vertical-align: top;\n",
       "    }\n",
       "\n",
       "    .dataframe thead th {\n",
       "        text-align: right;\n",
       "    }\n",
       "</style>\n",
       "<table border=\"1\" class=\"dataframe\">\n",
       "  <thead>\n",
       "    <tr style=\"text-align: right;\">\n",
       "      <th></th>\n",
       "      <th>file_name</th>\n",
       "      <th>uni</th>\n",
       "      <th>url</th>\n",
       "      <th>time_span</th>\n",
       "    </tr>\n",
       "  </thead>\n",
       "  <tbody>\n",
       "    <tr>\n",
       "      <th>209213</th>\n",
       "      <td>STT_TT00012_00268.450-00270.850</td>\n",
       "      <td>དབུ་མའི་གཞུང་གསུང་པའི་ཁ་ཐུག་ལ་ཡ། ཨེ་ནས།</td>\n",
       "      <td>https://d38pmlk0v88drf.cloudfront.net/wav/STT_...</td>\n",
       "      <td>1.550</td>\n",
       "    </tr>\n",
       "    <tr>\n",
       "      <th>403296</th>\n",
       "      <td>STT_TT00122_01016.350-01022.200</td>\n",
       "      <td>སྙིང་རྗེ་ཟེར་ཡ་འདི་ང་རང་ཚོའི་ད་ལྟ་སོ་སོའི་གཅིག...</td>\n",
       "      <td>https://d38pmlk0v88drf.cloudfront.net/wav/STT_...</td>\n",
       "      <td>5.650</td>\n",
       "    </tr>\n",
       "    <tr>\n",
       "      <th>224167</th>\n",
       "      <td>STT_TT00016_07023.050-07026.100</td>\n",
       "      <td>འཕགས་པ་ཐམས་ཅད་ཡོངས་སུ་འཕགས་པ་ཐམས་ཅད་ཡོད་པར་སྨྲ...</td>\n",
       "      <td>https://d38pmlk0v88drf.cloudfront.net/wav/STT_...</td>\n",
       "      <td>2.950</td>\n",
       "    </tr>\n",
       "    <tr>\n",
       "      <th>604284</th>\n",
       "      <td>STT_MV0004_0148_1342729_to_1347239.wav</td>\n",
       "      <td>སི་ཧའི།</td>\n",
       "      <td>https://d38pmlk0v88drf.cloudfront.net/mv_wav/S...</td>\n",
       "      <td>4.510</td>\n",
       "    </tr>\n",
       "    <tr>\n",
       "      <th>473125</th>\n",
       "      <td>STT_TT00107_05395.200-05396.450</td>\n",
       "      <td>བློ་མི་ཤེས་སེམས་ཅན་</td>\n",
       "      <td>https://d38pmlk0v88drf.cloudfront.net/wav/STT_...</td>\n",
       "      <td>0.800</td>\n",
       "    </tr>\n",
       "    <tr>\n",
       "      <th>...</th>\n",
       "      <td>...</td>\n",
       "      <td>...</td>\n",
       "      <td>...</td>\n",
       "      <td>...</td>\n",
       "    </tr>\n",
       "    <tr>\n",
       "      <th>31895</th>\n",
       "      <td>STT_TT00505_0197_1670196_to_1672329.wav</td>\n",
       "      <td>སྒོ་བཞི་ནི་གཡང་བྱས།</td>\n",
       "      <td>https://d38pmlk0v88drf.cloudfront.net/stt_pech...</td>\n",
       "      <td>2.133</td>\n",
       "    </tr>\n",
       "    <tr>\n",
       "      <th>396110</th>\n",
       "      <td>STT_TT00022_06998.500-07002.900</td>\n",
       "      <td>ཆོས་རྣམས་རང་བཞིན་མེད་པར་ཡོངས་སུ་ཤེས་གྱུར་པ།།འད...</td>\n",
       "      <td>https://d38pmlk0v88drf.cloudfront.net/wav/STT_...</td>\n",
       "      <td>3.500</td>\n",
       "    </tr>\n",
       "    <tr>\n",
       "      <th>598012</th>\n",
       "      <td>STT_MV0264_0145_973472_to_976121.wav</td>\n",
       "      <td>བརྩེ་དུང་ཐོག་རེད།་གཞན་དག་དེ།</td>\n",
       "      <td>https://d38pmlk0v88drf.cloudfront.net/mv_wav/S...</td>\n",
       "      <td>2.649</td>\n",
       "    </tr>\n",
       "    <tr>\n",
       "      <th>406813</th>\n",
       "      <td>STT_TT00129_01262.750-01265.600</td>\n",
       "      <td>དྭ་ད་ག་ནང་བཞིན་ནད་ན་ཚ་ཏིག་ཙི་བྱུང་བསྡད་ཡོད་ནས་...</td>\n",
       "      <td>https://d38pmlk0v88drf.cloudfront.net/wav/STT_...</td>\n",
       "      <td>2.250</td>\n",
       "    </tr>\n",
       "    <tr>\n",
       "      <th>416042</th>\n",
       "      <td>STT_AB00199_0037_239291_to_242517</td>\n",
       "      <td>སྡུག་བསྔལ་དེ་འདྲ་སྒོམ་དགོས་པའི་རྒྱུ་མཚན་གང་ཡིན...</td>\n",
       "      <td>https://d38pmlk0v88drf.cloudfront.net/wav/STT_...</td>\n",
       "      <td>3.226</td>\n",
       "    </tr>\n",
       "  </tbody>\n",
       "</table>\n",
       "<p>100 rows × 4 columns</p>\n",
       "</div>"
      ],
      "text/plain": [
       "                                      file_name  \\\n",
       "209213          STT_TT00012_00268.450-00270.850   \n",
       "403296          STT_TT00122_01016.350-01022.200   \n",
       "224167          STT_TT00016_07023.050-07026.100   \n",
       "604284   STT_MV0004_0148_1342729_to_1347239.wav   \n",
       "473125          STT_TT00107_05395.200-05396.450   \n",
       "...                                         ...   \n",
       "31895   STT_TT00505_0197_1670196_to_1672329.wav   \n",
       "396110          STT_TT00022_06998.500-07002.900   \n",
       "598012     STT_MV0264_0145_973472_to_976121.wav   \n",
       "406813          STT_TT00129_01262.750-01265.600   \n",
       "416042        STT_AB00199_0037_239291_to_242517   \n",
       "\n",
       "                                                      uni  \\\n",
       "209213           དབུ་མའི་གཞུང་གསུང་པའི་ཁ་ཐུག་ལ་ཡ། ཨེ་ནས།    \n",
       "403296  སྙིང་རྗེ་ཟེར་ཡ་འདི་ང་རང་ཚོའི་ད་ལྟ་སོ་སོའི་གཅིག...   \n",
       "224167  འཕགས་པ་ཐམས་ཅད་ཡོངས་སུ་འཕགས་པ་ཐམས་ཅད་ཡོད་པར་སྨྲ...   \n",
       "604284                                           སི་ཧའི།    \n",
       "473125                               བློ་མི་ཤེས་སེམས་ཅན་    \n",
       "...                                                   ...   \n",
       "31895                                སྒོ་བཞི་ནི་གཡང་བྱས།    \n",
       "396110  ཆོས་རྣམས་རང་བཞིན་མེད་པར་ཡོངས་སུ་ཤེས་གྱུར་པ།།འད...   \n",
       "598012                      བརྩེ་དུང་ཐོག་རེད།་གཞན་དག་དེ།    \n",
       "406813  དྭ་ད་ག་ནང་བཞིན་ནད་ན་ཚ་ཏིག་ཙི་བྱུང་བསྡད་ཡོད་ནས་...   \n",
       "416042  སྡུག་བསྔལ་དེ་འདྲ་སྒོམ་དགོས་པའི་རྒྱུ་མཚན་གང་ཡིན...   \n",
       "\n",
       "                                                      url  time_span  \n",
       "209213  https://d38pmlk0v88drf.cloudfront.net/wav/STT_...      1.550  \n",
       "403296  https://d38pmlk0v88drf.cloudfront.net/wav/STT_...      5.650  \n",
       "224167  https://d38pmlk0v88drf.cloudfront.net/wav/STT_...      2.950  \n",
       "604284  https://d38pmlk0v88drf.cloudfront.net/mv_wav/S...      4.510  \n",
       "473125  https://d38pmlk0v88drf.cloudfront.net/wav/STT_...      0.800  \n",
       "...                                                   ...        ...  \n",
       "31895   https://d38pmlk0v88drf.cloudfront.net/stt_pech...      2.133  \n",
       "396110  https://d38pmlk0v88drf.cloudfront.net/wav/STT_...      3.500  \n",
       "598012  https://d38pmlk0v88drf.cloudfront.net/mv_wav/S...      2.649  \n",
       "406813  https://d38pmlk0v88drf.cloudfront.net/wav/STT_...      2.250  \n",
       "416042  https://d38pmlk0v88drf.cloudfront.net/wav/STT_...      3.226  \n",
       "\n",
       "[100 rows x 4 columns]"
      ]
     },
     "execution_count": 76,
     "metadata": {},
     "output_type": "execute_result"
    }
   ],
   "source": [
    "df.iloc[0:100,[0, 1, 3, 5]].to_csv(\"random_100.csv\", index=False)\n",
    "df.iloc[0:100,[0, 1, 3, 5]]"
   ]
  }
 ],
 "metadata": {
  "kernelspec": {
   "display_name": ".env",
   "language": "python",
   "name": "python3"
  },
  "language_info": {
   "codemirror_mode": {
    "name": "ipython",
    "version": 3
   },
   "file_extension": ".py",
   "mimetype": "text/x-python",
   "name": "python",
   "nbconvert_exporter": "python",
   "pygments_lexer": "ipython3",
   "version": "3.10.12"
  }
 },
 "nbformat": 4,
 "nbformat_minor": 2
}
