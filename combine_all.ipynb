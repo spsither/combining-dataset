{
 "cells": [
  {
   "cell_type": "code",
   "execution_count": 22,
   "metadata": {},
   "outputs": [],
   "source": [
    "stt_pecha_tools = \"/home/monlamai/Documents/GitHub/combining-dataset/stt_pecha.tsv\"\n",
    "prodigy = \"/home/monlamai/Documents/GitHub/combining-dataset/prodigy.tsv\"\n",
    "mv = \"/home/monlamai/Documents/GitHub/saymore-report-generator/elan_to_segments/stt_mv.tsv\""
   ]
  },
  {
   "cell_type": "code",
   "execution_count": 23,
   "metadata": {},
   "outputs": [],
   "source": [
    "import pandas as pd\n",
    "pecha_tools_df = pd.read_csv(stt_pecha_tools, sep='\\t')\n",
    "prodigy_df = pd.read_csv(prodigy, sep='\\t')\n",
    "mv_df = pd.read_csv(mv, sep='\\t')"
   ]
  },
  {
   "cell_type": "code",
   "execution_count": 24,
   "metadata": {},
   "outputs": [],
   "source": [
    "df = pd.concat([pecha_tools_df, prodigy_df, mv_df], ignore_index=True)"
   ]
  },
  {
   "cell_type": "markdown",
   "metadata": {},
   "source": [
    "# clean the combined tsv"
   ]
  },
  {
   "cell_type": "code",
   "execution_count": 25,
   "metadata": {},
   "outputs": [
    {
     "name": "stdout",
     "output_type": "stream",
     "text": [
      "This  is a   test. Hello hello world. Python python is awesome!\n"
     ]
    }
   ],
   "source": [
    "import re\n",
    "\n",
    "def replace_repeated_sequences(text):\n",
    "    # Match repeated word sequences with at least one word\n",
    "    pattern = r'\\b(\\w+(?:\\s+\\w+)*)(?=\\s+\\1\\b)'\n",
    "    return re.sub(pattern, \"\", text)\n",
    "\n",
    "# Example\n",
    "text = \"This is is a test test test. Hello hello world. Python python is awesome!\"\n",
    "print(replace_repeated_sequences(text))\n",
    "\n"
   ]
  },
  {
   "cell_type": "code",
   "execution_count": 26,
   "metadata": {},
   "outputs": [
    {
     "name": "stdout",
     "output_type": "stream",
     "text": [
      "ཧ་ཧ་ཧ་འེ་\n"
     ]
    }
   ],
   "source": [
    "\n",
    "text = \"ཧ་ཧ་ཧ་ཧ་ཧ་འེ་\"\n",
    "text = re.sub(r'ཧ་ཧ་(ཧ་)+', r'ཧ་ཧ་ཧ་', text)\n",
    "print(text)"
   ]
  },
  {
   "cell_type": "code",
   "execution_count": 27,
   "metadata": {},
   "outputs": [],
   "source": [
    "import re\n",
    "def clean_transcription(text):\n",
    "    text = text.replace('\\n', ' ')\n",
    "    text = text.replace('\\t', ' ')\n",
    "    text = text.strip()\n",
    "\n",
    "    text = re.sub(r\"་+\", \"་\", text)\n",
    "    text = re.sub(r\"།+\", \"།\", text)\n",
    "    text = re.sub(r\"\\s+\", \" \", text)\n",
    "    text = re.sub(r\"\\s+།\", \"།\", text)\n",
    "\n",
    "    text = re.sub(r\"ཧཧཧ+\", \"ཧཧཧ\", text)\n",
    "    text = re.sub(r'འེ་འེ་(འེ་)+', r'འེ་འེ་འེ་', text)\n",
    "    text = re.sub(r'ཧ་ཧ་(ཧ་)+', r'ཧ་ཧ་ཧ་', text)\n",
    "\n",
    "    chars_to_ignore_regex = '[\\,\\?\\.\\!\\-\\;\\:\\\"\\“\\%\\‘\\”\\�\\/\\{\\}\\(\\)\\༽\\》\\༼\\《\\༅\\༄\\༈\\༑\\༠]'\n",
    "    \n",
    "    text = re.sub(chars_to_ignore_regex, '', text)+\" \"\n",
    "    return text\n",
    "\n",
    "def check_if_regex(text):\n",
    "    text = str(text)\n",
    "    regex = re.compile(r'[a-zA-Z]+')\n",
    "    match = re.search(regex, text)\n",
    "    \n",
    "    # Check if a match was found.\n",
    "    if match:\n",
    "        return True\n",
    "    else:\n",
    "        return False\n",
    "\n",
    "def add_prefix(path):\n",
    "    return '/home/monlamai/Documents/HuggingFace/tibetan_voice/audio/wav/' + path"
   ]
  },
  {
   "cell_type": "code",
   "execution_count": 28,
   "metadata": {},
   "outputs": [
    {
     "data": {
      "text/plain": [
       "(541401, 5)"
      ]
     },
     "execution_count": 28,
     "metadata": {},
     "output_type": "execute_result"
    }
   ],
   "source": [
    "df.shape"
   ]
  },
  {
   "cell_type": "code",
   "execution_count": 29,
   "metadata": {},
   "outputs": [],
   "source": [
    "df = df[df['uni'].str.len() < 994]"
   ]
  },
  {
   "cell_type": "code",
   "execution_count": 30,
   "metadata": {},
   "outputs": [],
   "source": [
    "df = df[~df['uni'].apply(check_if_regex)]"
   ]
  },
  {
   "cell_type": "code",
   "execution_count": 31,
   "metadata": {},
   "outputs": [
    {
     "data": {
      "text/plain": [
       "(540170, 5)"
      ]
     },
     "execution_count": 31,
     "metadata": {},
     "output_type": "execute_result"
    }
   ],
   "source": [
    "df.shape"
   ]
  },
  {
   "cell_type": "code",
   "execution_count": 32,
   "metadata": {},
   "outputs": [],
   "source": [
    "df['uni'] = df['uni'].map(clean_transcription)"
   ]
  },
  {
   "cell_type": "code",
   "execution_count": 33,
   "metadata": {},
   "outputs": [],
   "source": [
    "import pyewts\n",
    "converter = pyewts.pyewts()\n",
    "\n",
    "df['wylie'] = df['uni'].map(converter.toWylie)"
   ]
  },
  {
   "cell_type": "code",
   "execution_count": 35,
   "metadata": {},
   "outputs": [
    {
     "data": {
      "text/html": [
       "<div>\n",
       "<style scoped>\n",
       "    .dataframe tbody tr th:only-of-type {\n",
       "        vertical-align: middle;\n",
       "    }\n",
       "\n",
       "    .dataframe tbody tr th {\n",
       "        vertical-align: top;\n",
       "    }\n",
       "\n",
       "    .dataframe thead th {\n",
       "        text-align: right;\n",
       "    }\n",
       "</style>\n",
       "<table border=\"1\" class=\"dataframe\">\n",
       "  <thead>\n",
       "    <tr style=\"text-align: right;\">\n",
       "      <th></th>\n",
       "      <th>file_name</th>\n",
       "      <th>uni</th>\n",
       "      <th>wylie</th>\n",
       "      <th>url</th>\n",
       "      <th>dept</th>\n",
       "    </tr>\n",
       "  </thead>\n",
       "  <tbody>\n",
       "    <tr>\n",
       "      <th>0</th>\n",
       "      <td>STT_AB00236_0089_766379_to_777101</td>\n",
       "      <td>བྱས་ཤིག་ཞེས་བཤད་དེ་དོན་གྲུབ་འཁྲིས་ཀྱི་ཤུར་ལྕོག...</td>\n",
       "      <td>byas shig zhes bshad de don grub 'khris kyi sh...</td>\n",
       "      <td>https://huggingface.co/datasets/openpecha/STT_...</td>\n",
       "      <td>STT_AB</td>\n",
       "    </tr>\n",
       "    <tr>\n",
       "      <th>1</th>\n",
       "      <td>STT_TT00498_0182_1009491_to_1011795.wav</td>\n",
       "      <td>ང་རང་འཇོན་པོ་སང་ཙང་། རིག་པ་ཡག་པོ་སང་ཙང་།</td>\n",
       "      <td>nga rang 'jon po sang tsang /_rig pa yag po sa...</td>\n",
       "      <td>https://d38pmlk0v88drf.cloudfront.net/stt_pech...</td>\n",
       "      <td>STT_TT</td>\n",
       "    </tr>\n",
       "    <tr>\n",
       "      <th>2</th>\n",
       "      <td>STT_AB00236_0093_798284_to_804308</td>\n",
       "      <td>དོན་གྲུབ་ཀྱིས་ར་སྤུར་མཆིལ་མ་ཕྲན་ཙམ་འདོར་ཏེ་ལག་...</td>\n",
       "      <td>don grub kyis ra spur mchil ma phran tsam 'dor...</td>\n",
       "      <td>https://huggingface.co/datasets/openpecha/STT_...</td>\n",
       "      <td>STT_AB</td>\n",
       "    </tr>\n",
       "    <tr>\n",
       "      <th>3</th>\n",
       "      <td>STT_TT00501_0036_191445_to_195445.wav</td>\n",
       "      <td>གནས་རྩ་ཆེན་ཞེ་བོ་ཅིག་དཔེ་གཅིག ད་ལྷ་བླ་མའི་གདན་...</td>\n",
       "      <td>gnas rtsa chen zhe bo cig dpe gcig_da lha bla ...</td>\n",
       "      <td>https://d38pmlk0v88drf.cloudfront.net/stt_pech...</td>\n",
       "      <td>STT_TT</td>\n",
       "    </tr>\n",
       "    <tr>\n",
       "      <th>4</th>\n",
       "      <td>STT_AB00236_0094_804735_to_811203</td>\n",
       "      <td>དེ་རིང་ཁྱེད་ཚོའི་ཚོགས་ཆུང་ལ་ཡ་ལས་ཀ་མི་འདུག་གེ་...</td>\n",
       "      <td>de ring khyed tsho'i tshogs chung la ya las ka...</td>\n",
       "      <td>https://huggingface.co/datasets/openpecha/STT_...</td>\n",
       "      <td>STT_AB</td>\n",
       "    </tr>\n",
       "  </tbody>\n",
       "</table>\n",
       "</div>"
      ],
      "text/plain": [
       "                                 file_name  \\\n",
       "0        STT_AB00236_0089_766379_to_777101   \n",
       "1  STT_TT00498_0182_1009491_to_1011795.wav   \n",
       "2        STT_AB00236_0093_798284_to_804308   \n",
       "3    STT_TT00501_0036_191445_to_195445.wav   \n",
       "4        STT_AB00236_0094_804735_to_811203   \n",
       "\n",
       "                                                 uni  \\\n",
       "0  བྱས་ཤིག་ཞེས་བཤད་དེ་དོན་གྲུབ་འཁྲིས་ཀྱི་ཤུར་ལྕོག...   \n",
       "1          ང་རང་འཇོན་པོ་སང་ཙང་། རིག་པ་ཡག་པོ་སང་ཙང་།    \n",
       "2  དོན་གྲུབ་ཀྱིས་ར་སྤུར་མཆིལ་མ་ཕྲན་ཙམ་འདོར་ཏེ་ལག་...   \n",
       "3  གནས་རྩ་ཆེན་ཞེ་བོ་ཅིག་དཔེ་གཅིག ད་ལྷ་བླ་མའི་གདན་...   \n",
       "4  དེ་རིང་ཁྱེད་ཚོའི་ཚོགས་ཆུང་ལ་ཡ་ལས་ཀ་མི་འདུག་གེ་...   \n",
       "\n",
       "                                               wylie  \\\n",
       "0  byas shig zhes bshad de don grub 'khris kyi sh...   \n",
       "1  nga rang 'jon po sang tsang /_rig pa yag po sa...   \n",
       "2  don grub kyis ra spur mchil ma phran tsam 'dor...   \n",
       "3  gnas rtsa chen zhe bo cig dpe gcig_da lha bla ...   \n",
       "4  de ring khyed tsho'i tshogs chung la ya las ka...   \n",
       "\n",
       "                                                 url    dept  \n",
       "0  https://huggingface.co/datasets/openpecha/STT_...  STT_AB  \n",
       "1  https://d38pmlk0v88drf.cloudfront.net/stt_pech...  STT_TT  \n",
       "2  https://huggingface.co/datasets/openpecha/STT_...  STT_AB  \n",
       "3  https://d38pmlk0v88drf.cloudfront.net/stt_pech...  STT_TT  \n",
       "4  https://huggingface.co/datasets/openpecha/STT_...  STT_AB  "
      ]
     },
     "execution_count": 35,
     "metadata": {},
     "output_type": "execute_result"
    }
   ],
   "source": [
    "df.head()\n"
   ]
  },
  {
   "cell_type": "code",
   "execution_count": 36,
   "metadata": {},
   "outputs": [],
   "source": [
    "df['url'] = df['url'].map(lambda x : x.replace('#','%23'))"
   ]
  },
  {
   "cell_type": "code",
   "execution_count": 37,
   "metadata": {},
   "outputs": [],
   "source": [
    "df = df[df['file_name'] != 'STT_AB00148_0687_2124469_to_2126579']"
   ]
  },
  {
   "cell_type": "code",
   "execution_count": 38,
   "metadata": {},
   "outputs": [],
   "source": [
    "df.to_csv('all.tsv', sep='\\t', index=False)"
   ]
  },
  {
   "cell_type": "code",
   "execution_count": 39,
   "metadata": {},
   "outputs": [
    {
     "data": {
      "text/html": [
       "<div>\n",
       "<style scoped>\n",
       "    .dataframe tbody tr th:only-of-type {\n",
       "        vertical-align: middle;\n",
       "    }\n",
       "\n",
       "    .dataframe tbody tr th {\n",
       "        vertical-align: top;\n",
       "    }\n",
       "\n",
       "    .dataframe thead th {\n",
       "        text-align: right;\n",
       "    }\n",
       "</style>\n",
       "<table border=\"1\" class=\"dataframe\">\n",
       "  <thead>\n",
       "    <tr style=\"text-align: right;\">\n",
       "      <th></th>\n",
       "      <th>file_name</th>\n",
       "      <th>uni</th>\n",
       "      <th>wylie</th>\n",
       "      <th>url</th>\n",
       "      <th>dept</th>\n",
       "    </tr>\n",
       "  </thead>\n",
       "  <tbody>\n",
       "    <tr>\n",
       "      <th>0</th>\n",
       "      <td>STT_AB00236_0089_766379_to_777101</td>\n",
       "      <td>བྱས་ཤིག་ཞེས་བཤད་དེ་དོན་གྲུབ་འཁྲིས་ཀྱི་ཤུར་ལྕོག...</td>\n",
       "      <td>byas shig zhes bshad de don grub 'khris kyi sh...</td>\n",
       "      <td>https://huggingface.co/datasets/openpecha/STT_...</td>\n",
       "      <td>STT_AB</td>\n",
       "    </tr>\n",
       "    <tr>\n",
       "      <th>1</th>\n",
       "      <td>STT_TT00498_0182_1009491_to_1011795.wav</td>\n",
       "      <td>ང་རང་འཇོན་པོ་སང་ཙང་། རིག་པ་ཡག་པོ་སང་ཙང་།</td>\n",
       "      <td>nga rang 'jon po sang tsang /_rig pa yag po sa...</td>\n",
       "      <td>https://d38pmlk0v88drf.cloudfront.net/stt_pech...</td>\n",
       "      <td>STT_TT</td>\n",
       "    </tr>\n",
       "    <tr>\n",
       "      <th>2</th>\n",
       "      <td>STT_AB00236_0093_798284_to_804308</td>\n",
       "      <td>དོན་གྲུབ་ཀྱིས་ར་སྤུར་མཆིལ་མ་ཕྲན་ཙམ་འདོར་ཏེ་ལག་...</td>\n",
       "      <td>don grub kyis ra spur mchil ma phran tsam 'dor...</td>\n",
       "      <td>https://huggingface.co/datasets/openpecha/STT_...</td>\n",
       "      <td>STT_AB</td>\n",
       "    </tr>\n",
       "    <tr>\n",
       "      <th>3</th>\n",
       "      <td>STT_TT00501_0036_191445_to_195445.wav</td>\n",
       "      <td>གནས་རྩ་ཆེན་ཞེ་བོ་ཅིག་དཔེ་གཅིག ད་ལྷ་བླ་མའི་གདན་...</td>\n",
       "      <td>gnas rtsa chen zhe bo cig dpe gcig_da lha bla ...</td>\n",
       "      <td>https://d38pmlk0v88drf.cloudfront.net/stt_pech...</td>\n",
       "      <td>STT_TT</td>\n",
       "    </tr>\n",
       "    <tr>\n",
       "      <th>4</th>\n",
       "      <td>STT_AB00236_0094_804735_to_811203</td>\n",
       "      <td>དེ་རིང་ཁྱེད་ཚོའི་ཚོགས་ཆུང་ལ་ཡ་ལས་ཀ་མི་འདུག་གེ་...</td>\n",
       "      <td>de ring khyed tsho'i tshogs chung la ya las ka...</td>\n",
       "      <td>https://huggingface.co/datasets/openpecha/STT_...</td>\n",
       "      <td>STT_AB</td>\n",
       "    </tr>\n",
       "  </tbody>\n",
       "</table>\n",
       "</div>"
      ],
      "text/plain": [
       "                                 file_name  \\\n",
       "0        STT_AB00236_0089_766379_to_777101   \n",
       "1  STT_TT00498_0182_1009491_to_1011795.wav   \n",
       "2        STT_AB00236_0093_798284_to_804308   \n",
       "3    STT_TT00501_0036_191445_to_195445.wav   \n",
       "4        STT_AB00236_0094_804735_to_811203   \n",
       "\n",
       "                                                 uni  \\\n",
       "0  བྱས་ཤིག་ཞེས་བཤད་དེ་དོན་གྲུབ་འཁྲིས་ཀྱི་ཤུར་ལྕོག...   \n",
       "1          ང་རང་འཇོན་པོ་སང་ཙང་། རིག་པ་ཡག་པོ་སང་ཙང་།    \n",
       "2  དོན་གྲུབ་ཀྱིས་ར་སྤུར་མཆིལ་མ་ཕྲན་ཙམ་འདོར་ཏེ་ལག་...   \n",
       "3  གནས་རྩ་ཆེན་ཞེ་བོ་ཅིག་དཔེ་གཅིག ད་ལྷ་བླ་མའི་གདན་...   \n",
       "4  དེ་རིང་ཁྱེད་ཚོའི་ཚོགས་ཆུང་ལ་ཡ་ལས་ཀ་མི་འདུག་གེ་...   \n",
       "\n",
       "                                               wylie  \\\n",
       "0  byas shig zhes bshad de don grub 'khris kyi sh...   \n",
       "1  nga rang 'jon po sang tsang /_rig pa yag po sa...   \n",
       "2  don grub kyis ra spur mchil ma phran tsam 'dor...   \n",
       "3  gnas rtsa chen zhe bo cig dpe gcig_da lha bla ...   \n",
       "4  de ring khyed tsho'i tshogs chung la ya las ka...   \n",
       "\n",
       "                                                 url    dept  \n",
       "0  https://huggingface.co/datasets/openpecha/STT_...  STT_AB  \n",
       "1  https://d38pmlk0v88drf.cloudfront.net/stt_pech...  STT_TT  \n",
       "2  https://huggingface.co/datasets/openpecha/STT_...  STT_AB  \n",
       "3  https://d38pmlk0v88drf.cloudfront.net/stt_pech...  STT_TT  \n",
       "4  https://huggingface.co/datasets/openpecha/STT_...  STT_AB  "
      ]
     },
     "execution_count": 39,
     "metadata": {},
     "output_type": "execute_result"
    }
   ],
   "source": [
    "df.head()"
   ]
  },
  {
   "cell_type": "code",
   "execution_count": 40,
   "metadata": {},
   "outputs": [],
   "source": [
    "import pandas as pd\n",
    "from sklearn.model_selection import train_test_split\n",
    "\n",
    "# Splitting the data\n",
    "train, test_temp = train_test_split(df, test_size=0.1, random_state=42, stratify=df['dept'])\n",
    "val, test = train_test_split(test_temp, test_size=0.5, random_state=42, stratify=test_temp['dept'])         "
   ]
  },
  {
   "cell_type": "code",
   "execution_count": 41,
   "metadata": {},
   "outputs": [
    {
     "data": {
      "text/plain": [
       "(486152, 27008, 27009, 540169, 540169)"
      ]
     },
     "execution_count": 41,
     "metadata": {},
     "output_type": "execute_result"
    }
   ],
   "source": [
    "len(train), len(val), len(test), len(train)+len(val)+len(test), len(df)"
   ]
  },
  {
   "cell_type": "code",
   "execution_count": 19,
   "metadata": {},
   "outputs": [
    {
     "data": {
      "text/plain": [
       "(486175, 27010, 27010, 540195, 540195)"
      ]
     },
     "execution_count": 19,
     "metadata": {},
     "output_type": "execute_result"
    }
   ],
   "source": [
    "len(train), len(val), len(test), len(train)+len(val)+len(test), len(df)"
   ]
  },
  {
   "cell_type": "code",
   "execution_count": 42,
   "metadata": {},
   "outputs": [],
   "source": [
    "train.to_csv('550-train.tsv', sep='\\t', index=False)\n",
    "val.to_csv(  '550-val.tsv', sep='\\t', index=False)\n",
    "test.to_csv( '550-test.tsv', sep='\\t', index=False)"
   ]
  },
  {
   "cell_type": "code",
   "execution_count": 21,
   "metadata": {},
   "outputs": [
    {
     "data": {
      "text/plain": [
       "uni\n",
       "False    539991\n",
       "True        204\n",
       "Name: count, dtype: int64"
      ]
     },
     "execution_count": 21,
     "metadata": {},
     "output_type": "execute_result"
    }
   ],
   "source": [
    "df['uni'].str.contains('ཧཧཧ').value_counts()"
   ]
  }
 ],
 "metadata": {
  "kernelspec": {
   "display_name": ".env",
   "language": "python",
   "name": "python3"
  },
  "language_info": {
   "codemirror_mode": {
    "name": "ipython",
    "version": 3
   },
   "file_extension": ".py",
   "mimetype": "text/x-python",
   "name": "python",
   "nbconvert_exporter": "python",
   "pygments_lexer": "ipython3",
   "version": "3.10.12"
  }
 },
 "nbformat": 4,
 "nbformat_minor": 2
}
