{
 "cells": [
  {
   "cell_type": "code",
   "execution_count": 1,
   "metadata": {},
   "outputs": [],
   "source": [
    "stt_pecha_tools = \"01_stt_pecha_tools.tsv\"\n",
    "prodigy = \"02_prodigy.tsv\"\n",
    "mv = \"03_mv_saymore.tsv\""
   ]
  },
  {
   "cell_type": "code",
   "execution_count": 2,
   "metadata": {},
   "outputs": [],
   "source": [
    "import pandas as pd\n",
    "pecha_tools_df = pd.read_csv(stt_pecha_tools, sep='\\t')\n",
    "prodigy_df = pd.read_csv(prodigy, sep='\\t')\n",
    "mv_df = pd.read_csv(mv, sep='\\t')"
   ]
  },
  {
   "cell_type": "code",
   "execution_count": 3,
   "metadata": {},
   "outputs": [],
   "source": [
    "df = pd.concat([pecha_tools_df, prodigy_df, mv_df], ignore_index=True)"
   ]
  },
  {
   "cell_type": "code",
   "execution_count": 4,
   "metadata": {},
   "outputs": [],
   "source": [
    "df = df[df['file_name'] != 'STT_TT00031_03471.850-03477.44ེ་བསམ་ནས་དྲན་སོང་།']"
   ]
  },
  {
   "cell_type": "code",
   "execution_count": 5,
   "metadata": {},
   "outputs": [],
   "source": [
    "df.drop_duplicates(subset='file_name', keep=\"first\", inplace=True)"
   ]
  },
  {
   "cell_type": "markdown",
   "metadata": {},
   "source": [
    "# clean the combined tsv"
   ]
  },
  {
   "cell_type": "code",
   "execution_count": 6,
   "metadata": {},
   "outputs": [
    {
     "name": "stdout",
     "output_type": "stream",
     "text": [
      "False\n",
      "True\n"
     ]
    }
   ],
   "source": [
    "import re\n",
    "def clean_transcription(text):\n",
    "    text = text.replace('\\n', ' ')\n",
    "    text = text.replace('\\t', ' ')\n",
    "    text = text.strip()\n",
    "\n",
    "    text = re.sub(r\"་+\", \"་\", text)\n",
    "    text = re.sub(r\"།+\", \"།\", text)\n",
    "    text = re.sub(r\"\\s+\", \" \", text)\n",
    "    text = re.sub(r\"\\s+།\", \"།\", text)\n",
    "\n",
    "    text = re.sub(r\"ཧཧཧ+\", \"ཧཧཧ\", text)\n",
    "    text = re.sub(r'འེ་འེ་(འེ་)+', r'འེ་འེ་འེ་', text)\n",
    "    text = re.sub(r'ཧ་ཧ་(ཧ་)+', r'ཧ་ཧ་ཧ་', text)\n",
    "\n",
    "    chars_to_ignore_regex = '[\\,\\?\\.\\!\\-\\;\\:\\\"\\“\\%\\‘\\”\\�\\/\\{\\}\\(\\)\\༽\\》\\༼\\《\\༅\\༄\\༈\\༑\\༠]'\n",
    "    \n",
    "    text = re.sub(chars_to_ignore_regex, '', text)+\" \"\n",
    "    return text\n",
    "\n",
    "def check_if_regex(text):\n",
    "    text = str(text)\n",
    "    regex = re.compile(r'[a-zA-Z]+')\n",
    "    match = re.search(regex, text)\n",
    "    \n",
    "    return bool(match)\n",
    "    \n",
    "print(check_if_regex('ཧཧ'))\n",
    "print(check_if_regex('some text'))"
   ]
  },
  {
   "cell_type": "code",
   "execution_count": 7,
   "metadata": {},
   "outputs": [],
   "source": [
    "df = df[df['uni'].str.len() > 0]"
   ]
  },
  {
   "cell_type": "code",
   "execution_count": 8,
   "metadata": {},
   "outputs": [],
   "source": [
    "df = df[~df['uni'].apply(check_if_regex)]"
   ]
  },
  {
   "cell_type": "code",
   "execution_count": 9,
   "metadata": {},
   "outputs": [],
   "source": [
    "df['uni'] = df['uni'].map(clean_transcription)"
   ]
  },
  {
   "cell_type": "code",
   "execution_count": 10,
   "metadata": {},
   "outputs": [],
   "source": [
    "import pyewts\n",
    "\n",
    "converter = pyewts.pyewts()\n",
    "\n",
    "df['wylie'] = df['uni'].apply(converter.toWylie)"
   ]
  },
  {
   "cell_type": "code",
   "execution_count": 16,
   "metadata": {},
   "outputs": [],
   "source": [
    "df['char_len'] = df['uni'].str.len()"
   ]
  },
  {
   "cell_type": "code",
   "execution_count": 17,
   "metadata": {},
   "outputs": [
    {
     "data": {
      "text/plain": [
       "<Axes: >"
      ]
     },
     "execution_count": 17,
     "metadata": {},
     "output_type": "execute_result"
    },
    {
     "data": {
      "image/png": "[encoded data removed]",
      "text/plain": [
       "<Figure size 640x480 with 1 Axes>"
      ]
     },
     "metadata": {},
     "output_type": "display_data"
    }
   ],
   "source": [
    "df['char_len'].hist(bins=100, range=(0, 300))"
   ]
  },
  {
   "cell_type": "code",
   "execution_count": 18,
   "metadata": {},
   "outputs": [
    {
     "data": {
      "text/plain": [
       "count    804477.000000\n",
       "mean         66.207623\n",
       "std          60.759347\n",
       "min           1.000000\n",
       "25%          28.000000\n",
       "50%          53.000000\n",
       "75%          93.000000\n",
       "max       23249.000000\n",
       "Name: char_len, dtype: float64"
      ]
     },
     "execution_count": 18,
     "metadata": {},
     "output_type": "execute_result"
    }
   ],
   "source": [
    "df['char_len'].describe()"
   ]
  },
  {
   "cell_type": "code",
   "execution_count": 19,
   "metadata": {},
   "outputs": [
    {
     "data": {
      "text/plain": [
       "804477"
      ]
     },
     "execution_count": 19,
     "metadata": {},
     "output_type": "execute_result"
    }
   ],
   "source": [
    "df.shape[0]"
   ]
  },
  {
   "cell_type": "code",
   "execution_count": 20,
   "metadata": {},
   "outputs": [],
   "source": [
    "upper_cutoff = 400\n",
    "lower_cutoff = 5"
   ]
  },
  {
   "cell_type": "code",
   "execution_count": 21,
   "metadata": {},
   "outputs": [
    {
     "data": {
      "text/plain": [
       "(3, 7767)"
      ]
     },
     "execution_count": 21,
     "metadata": {},
     "output_type": "execute_result"
    }
   ],
   "source": [
    "df[df['char_len'] > upper_cutoff].shape[0], df[df['char_len'] < lower_cutoff].shape[0]"
   ]
  },
  {
   "cell_type": "code",
   "execution_count": 22,
   "metadata": {},
   "outputs": [],
   "source": [
    "df[df['char_len'] > upper_cutoff][['uni', 'url', 'char_len']].sort_values(by='char_len').to_csv('04_longer_than_upper_cutoff.tsv', sep='\\t', index=False)"
   ]
  },
  {
   "cell_type": "code",
   "execution_count": 23,
   "metadata": {},
   "outputs": [],
   "source": [
    "df[df['char_len'] < lower_cutoff][['uni', 'url', 'char_len']].sort_values(by='char_len').to_csv('04_shorter_than_lower_cutoff.tsv', sep='\\t', index=False)"
   ]
  },
  {
   "cell_type": "code",
   "execution_count": 24,
   "metadata": {},
   "outputs": [],
   "source": [
    "df = df[(df['char_len'] < upper_cutoff) & (df['char_len'] > lower_cutoff)]"
   ]
  },
  {
   "cell_type": "code",
   "execution_count": 25,
   "metadata": {},
   "outputs": [
    {
     "data": {
      "text/plain": [
       "793290"
      ]
     },
     "execution_count": 25,
     "metadata": {},
     "output_type": "execute_result"
    }
   ],
   "source": [
    "df.shape[0]"
   ]
  },
  {
   "cell_type": "code",
   "execution_count": 26,
   "metadata": {},
   "outputs": [
    {
     "data": {
      "text/plain": [
       "5.5900000000001455"
      ]
     },
     "execution_count": 26,
     "metadata": {},
     "output_type": "execute_result"
    }
   ],
   "source": [
    "def getTimeSpan(filename):\n",
    "\n",
    "    filename = filename.replace(\".wav\", \"\")\n",
    "    filename = filename.replace(\".WAV\", \"\")\n",
    "    filename = filename.replace(\".mp3\", \"\")\n",
    "    filename = filename.replace(\".MP3\", \"\")\n",
    "    try:\n",
    "        if \"_to_\" in filename:\n",
    "            start, end = filename.split(\"_to_\")\n",
    "            start = start.split(\"_\")[-1]\n",
    "            end = end.split(\"_\")[0]\n",
    "            end = float(end)\n",
    "            start = float(start)\n",
    "            return abs(end - start)/1000\n",
    "        else:\n",
    "            start, end = filename.split(\"-\")\n",
    "            start = start.split(\"_\")[-1]\n",
    "            end = end.split(\"_\")[0]\n",
    "            end =   float(end)\n",
    "            start = float(start)\n",
    "            return abs(end - start)\n",
    "    except Exception as err:\n",
    "        print(f\"filename is:'{filename}'. Could not parse to get time span.\")\n",
    "        return 0\n",
    "    \n",
    "\n",
    "getTimeSpan(\"STT_TT00031_03471.850-03477.44\")"
   ]
  },
  {
   "cell_type": "code",
   "execution_count": 27,
   "metadata": {},
   "outputs": [],
   "source": [
    "df['audio_len'] = df['file_name'].apply(getTimeSpan)"
   ]
  },
  {
   "cell_type": "code",
   "execution_count": 28,
   "metadata": {},
   "outputs": [
    {
     "data": {
      "text/plain": [
       "count    793290.000000\n",
       "mean          4.235256\n",
       "std           3.018149\n",
       "min           0.400000\n",
       "25%           1.650000\n",
       "50%           3.232000\n",
       "75%           6.733000\n",
       "max          14.050000\n",
       "Name: audio_len, dtype: float64"
      ]
     },
     "execution_count": 28,
     "metadata": {},
     "output_type": "execute_result"
    }
   ],
   "source": [
    "df['audio_len'].describe()"
   ]
  },
  {
   "cell_type": "code",
   "execution_count": 29,
   "metadata": {},
   "outputs": [
    {
     "data": {
      "text/plain": [
       "<Axes: >"
      ]
     },
     "execution_count": 29,
     "metadata": {},
     "output_type": "execute_result"
    },
    {
     "data": {
      "image/png": "[encoded data removed]",
      "text/plain": [
       "<Figure size 640x480 with 1 Axes>"
      ]
     },
     "metadata": {},
     "output_type": "display_data"
    }
   ],
   "source": [
    "df['audio_len'].hist(bins=100, range=(0, 15))"
   ]
  },
  {
   "cell_type": "code",
   "execution_count": 30,
   "metadata": {},
   "outputs": [],
   "source": [
    "df['url'] = df['url'].map(lambda x : x.replace('#','%23'))"
   ]
  },
  {
   "cell_type": "code",
   "execution_count": 31,
   "metadata": {},
   "outputs": [],
   "source": [
    "df.to_csv('04_combine_all.tsv', sep='\\t', index=False)"
   ]
  },
  {
   "cell_type": "code",
   "execution_count": 33,
   "metadata": {},
   "outputs": [
    {
     "data": {
      "text/plain": [
       "grade\n",
       "2    442108\n",
       "3    351182\n",
       "dtype: int64"
      ]
     },
     "execution_count": 33,
     "metadata": {},
     "output_type": "execute_result"
    }
   ],
   "source": [
    "df.groupby('grade').size()"
   ]
  },
  {
   "cell_type": "code",
   "execution_count": null,
   "metadata": {},
   "outputs": [],
   "source": [
    "# from sklearn.model_selection import train_test_split\n",
    "\n",
    "# # Splitting the data\n",
    "# train, test_temp = train_test_split(df, test_size=0.1, random_state=42, stratify=df['dept'])\n",
    "# val, test = train_test_split(test_temp, test_size=0.5, random_state=42, stratify=test_temp['dept'])         "
   ]
  },
  {
   "cell_type": "code",
   "execution_count": null,
   "metadata": {},
   "outputs": [],
   "source": [
    "# len(train), len(val), len(test), len(train)+len(val)+len(test), len(df)"
   ]
  },
  {
   "cell_type": "code",
   "execution_count": null,
   "metadata": {},
   "outputs": [],
   "source": [
    "# train.to_csv('train.tsv', sep='\\t', index=False)\n",
    "# val.to_csv(  'val.tsv', sep='\\t', index=False)\n",
    "# test.to_csv( 'test.tsv', sep='\\t', index=False)"
   ]
  },
  {
   "cell_type": "code",
   "execution_count": 35,
   "metadata": {},
   "outputs": [
    {
     "data": {
      "text/plain": [
       "uni\n",
       "False    792779\n",
       "True        511\n",
       "Name: count, dtype: int64"
      ]
     },
     "execution_count": 35,
     "metadata": {},
     "output_type": "execute_result"
    }
   ],
   "source": [
    "df['uni'].str.contains('ཧཧཧ').value_counts()"
   ]
  },
  {
   "cell_type": "code",
   "execution_count": 36,
   "metadata": {},
   "outputs": [],
   "source": [
    "import pandas as pd\n",
    "\n",
    "df = pd.read_csv('04_combine_all.tsv', sep='\\t')"
   ]
  },
  {
   "cell_type": "code",
   "execution_count": 37,
   "metadata": {},
   "outputs": [
    {
     "data": {
      "text/html": [
       "<div>\n",
       "<style scoped>\n",
       "    .dataframe tbody tr th:only-of-type {\n",
       "        vertical-align: middle;\n",
       "    }\n",
       "\n",
       "    .dataframe tbody tr th {\n",
       "        vertical-align: top;\n",
       "    }\n",
       "\n",
       "    .dataframe thead th {\n",
       "        text-align: right;\n",
       "    }\n",
       "</style>\n",
       "<table border=\"1\" class=\"dataframe\">\n",
       "  <thead>\n",
       "    <tr style=\"text-align: right;\">\n",
       "      <th></th>\n",
       "      <th>file_name</th>\n",
       "      <th>uni</th>\n",
       "      <th>wylie</th>\n",
       "      <th>url</th>\n",
       "      <th>dept</th>\n",
       "      <th>grade</th>\n",
       "      <th>char_len</th>\n",
       "      <th>audio_len</th>\n",
       "    </tr>\n",
       "  </thead>\n",
       "  <tbody>\n",
       "    <tr>\n",
       "      <th>0</th>\n",
       "      <td>STT_NS0085_0150_1184970_to_1192294.mp3</td>\n",
       "      <td>རྒྱ་གར་ལུང་པར་དང་ཤོས་སླེབས་དུས་སྐབས་སུ་དངོས་གན...</td>\n",
       "      <td>rgya gar lung par dang shos slebs dus skabs su...</td>\n",
       "      <td>https://d38pmlk0v88drf.cloudfront.net/stt_pech...</td>\n",
       "      <td>STT_NS</td>\n",
       "      <td>2</td>\n",
       "      <td>165</td>\n",
       "      <td>7.324</td>\n",
       "    </tr>\n",
       "    <tr>\n",
       "      <th>1</th>\n",
       "      <td>STT_CS-L-2018_2018-M_M-D_D-B04_B04-1_1-R_R-02_...</td>\n",
       "      <td>རྒན་ལགས་ལབ་ཡི་ཡིན་ད་ང་། འདི་ལ་རྨ་བཟོས་ཡོད་ད། ཚ...</td>\n",
       "      <td>rgan lags lab yi yin da nga /_'di la rma bzos ...</td>\n",
       "      <td>https://d38pmlk0v88drf.cloudfront.net/stt_pech...</td>\n",
       "      <td>STT_CS</td>\n",
       "      <td>2</td>\n",
       "      <td>80</td>\n",
       "      <td>5.554</td>\n",
       "    </tr>\n",
       "    <tr>\n",
       "      <th>2</th>\n",
       "      <td>STT_AB00156_0296_1211329_to_1212494</td>\n",
       "      <td>བོད་གཞུང་བཀའ་ཤག་དང༌</td>\n",
       "      <td>bod gzhung bka' shag dang*_</td>\n",
       "      <td>https://huggingface.co/datasets/openpecha/STT_...</td>\n",
       "      <td>STT_AB</td>\n",
       "      <td>2</td>\n",
       "      <td>20</td>\n",
       "      <td>1.165</td>\n",
       "    </tr>\n",
       "    <tr>\n",
       "      <th>3</th>\n",
       "      <td>STT_NS_M0049_0127_838881_to_840990.mp3</td>\n",
       "      <td>ད་དེང་སང་མི་འདུག་མངར་མོ་འདྲ་བོ་ཚོར་གི་འདུག ང་འ...</td>\n",
       "      <td>da deng sang mi 'dug mngar mo 'dra bo tshor gi...</td>\n",
       "      <td>https://d38pmlk0v88drf.cloudfront.net/stt_pech...</td>\n",
       "      <td>STT_NS</td>\n",
       "      <td>2</td>\n",
       "      <td>53</td>\n",
       "      <td>2.109</td>\n",
       "    </tr>\n",
       "    <tr>\n",
       "      <th>4</th>\n",
       "      <td>STT_NS_M0035_0143_1065338_to_1073027.mp3</td>\n",
       "      <td>འདི་སློབ་སྦྱོང་ཡོད་མྱི་བུ་གུ་གཅིག་ཡིན་ན། འདི་འ...</td>\n",
       "      <td>'di slob sbyong yod myi bu gu gcig yin na/_'di...</td>\n",
       "      <td>https://d38pmlk0v88drf.cloudfront.net/stt_pech...</td>\n",
       "      <td>STT_NS</td>\n",
       "      <td>2</td>\n",
       "      <td>143</td>\n",
       "      <td>7.689</td>\n",
       "    </tr>\n",
       "  </tbody>\n",
       "</table>\n",
       "</div>"
      ],
      "text/plain": [
       "                                           file_name  \\\n",
       "0             STT_NS0085_0150_1184970_to_1192294.mp3   \n",
       "1  STT_CS-L-2018_2018-M_M-D_D-B04_B04-1_1-R_R-02_...   \n",
       "2                STT_AB00156_0296_1211329_to_1212494   \n",
       "3             STT_NS_M0049_0127_838881_to_840990.mp3   \n",
       "4           STT_NS_M0035_0143_1065338_to_1073027.mp3   \n",
       "\n",
       "                                                 uni  \\\n",
       "0  རྒྱ་གར་ལུང་པར་དང་ཤོས་སླེབས་དུས་སྐབས་སུ་དངོས་གན...   \n",
       "1  རྒན་ལགས་ལབ་ཡི་ཡིན་ད་ང་། འདི་ལ་རྨ་བཟོས་ཡོད་ད། ཚ...   \n",
       "2                               བོད་གཞུང་བཀའ་ཤག་དང༌    \n",
       "3  ད་དེང་སང་མི་འདུག་མངར་མོ་འདྲ་བོ་ཚོར་གི་འདུག ང་འ...   \n",
       "4  འདི་སློབ་སྦྱོང་ཡོད་མྱི་བུ་གུ་གཅིག་ཡིན་ན། འདི་འ...   \n",
       "\n",
       "                                               wylie  \\\n",
       "0  rgya gar lung par dang shos slebs dus skabs su...   \n",
       "1  rgan lags lab yi yin da nga /_'di la rma bzos ...   \n",
       "2                        bod gzhung bka' shag dang*_   \n",
       "3  da deng sang mi 'dug mngar mo 'dra bo tshor gi...   \n",
       "4  'di slob sbyong yod myi bu gu gcig yin na/_'di...   \n",
       "\n",
       "                                                 url    dept  grade  char_len  \\\n",
       "0  https://d38pmlk0v88drf.cloudfront.net/stt_pech...  STT_NS      2       165   \n",
       "1  https://d38pmlk0v88drf.cloudfront.net/stt_pech...  STT_CS      2        80   \n",
       "2  https://huggingface.co/datasets/openpecha/STT_...  STT_AB      2        20   \n",
       "3  https://d38pmlk0v88drf.cloudfront.net/stt_pech...  STT_NS      2        53   \n",
       "4  https://d38pmlk0v88drf.cloudfront.net/stt_pech...  STT_NS      2       143   \n",
       "\n",
       "   audio_len  \n",
       "0      7.324  \n",
       "1      5.554  \n",
       "2      1.165  \n",
       "3      2.109  \n",
       "4      7.689  "
      ]
     },
     "execution_count": 37,
     "metadata": {},
     "output_type": "execute_result"
    }
   ],
   "source": [
    "df.head()"
   ]
  },
  {
   "cell_type": "code",
   "execution_count": null,
   "metadata": {},
   "outputs": [],
   "source": [
    "df['audio_len'] = df['file_name'].map(getTimeSpan)"
   ]
  },
  {
   "cell_type": "code",
   "execution_count": 38,
   "metadata": {},
   "outputs": [
    {
     "data": {
      "text/plain": [
       "dept\n",
       "STT_AB     98.429021\n",
       "STT_CS     76.521353\n",
       "STT_MV    410.710358\n",
       "STT_NS    127.994143\n",
       "STT_TT    219.619146\n",
       "Name: audio_len, dtype: float64"
      ]
     },
     "execution_count": 38,
     "metadata": {},
     "output_type": "execute_result"
    }
   ],
   "source": [
    "df.groupby('dept')['audio_len'].sum()/60/60"
   ]
  },
  {
   "cell_type": "code",
   "execution_count": 39,
   "metadata": {},
   "outputs": [
    {
     "data": {
      "text/plain": [
       "933.274021111111"
      ]
     },
     "execution_count": 39,
     "metadata": {},
     "output_type": "execute_result"
    }
   ],
   "source": [
    "df['audio_len'].sum()/60/60"
   ]
  },
  {
   "cell_type": "code",
   "execution_count": 40,
   "metadata": {},
   "outputs": [],
   "source": [
    "# df.sort_values(by='audio_len', ascending=False, inplace=True)\n",
    "df = df.sample(frac = 1)"
   ]
  },
  {
   "cell_type": "code",
   "execution_count": 46,
   "metadata": {},
   "outputs": [
    {
     "data": {
      "text/html": [
       "<div>\n",
       "<style scoped>\n",
       "    .dataframe tbody tr th:only-of-type {\n",
       "        vertical-align: middle;\n",
       "    }\n",
       "\n",
       "    .dataframe tbody tr th {\n",
       "        vertical-align: top;\n",
       "    }\n",
       "\n",
       "    .dataframe thead th {\n",
       "        text-align: right;\n",
       "    }\n",
       "</style>\n",
       "<table border=\"1\" class=\"dataframe\">\n",
       "  <thead>\n",
       "    <tr style=\"text-align: right;\">\n",
       "      <th></th>\n",
       "      <th>file_name</th>\n",
       "      <th>uni</th>\n",
       "      <th>url</th>\n",
       "      <th>grade</th>\n",
       "    </tr>\n",
       "  </thead>\n",
       "  <tbody>\n",
       "    <tr>\n",
       "      <th>467700</th>\n",
       "      <td>STT_AB00061_0081_378717_to_386445</td>\n",
       "      <td>དཀོན་མཆོག་གསུམ་ལ་ཡིད་ཆེས་བློ་གཏད་ཀྱིས་སྐྱབས་འག...</td>\n",
       "      <td>https://d38pmlk0v88drf.cloudfront.net/wav/STT_...</td>\n",
       "      <td>2</td>\n",
       "    </tr>\n",
       "    <tr>\n",
       "      <th>508650</th>\n",
       "      <td>STT_TT00140_01044.250-01045.550</td>\n",
       "      <td>གྲངས་ཀ་རྒྱུ་ནས་ཤོད་ཡ་མེད་བསྡད་རྒྱོ་སེམས་ཅན་འདི་</td>\n",
       "      <td>https://d38pmlk0v88drf.cloudfront.net/wav/STT_...</td>\n",
       "      <td>3</td>\n",
       "    </tr>\n",
       "    <tr>\n",
       "      <th>213467</th>\n",
       "      <td>STT_TT00089_1723.150-1723.700</td>\n",
       "      <td>ཁོ་རང་ཕ་གིར།</td>\n",
       "      <td>https://d38pmlk0v88drf.cloudfront.net/wav/STT_...</td>\n",
       "      <td>3</td>\n",
       "    </tr>\n",
       "    <tr>\n",
       "      <th>127516</th>\n",
       "      <td>STT_CS-L-2012_2012-M_M-D_D-B01_B01-6_6-R_R-01_...</td>\n",
       "      <td>ག་རེ་བྱེད་ཀྱི་ཡོད། ང་ལ་ཡང་རིལ་གྱི་འདུག་ཁྱོད་ཀྱ...</td>\n",
       "      <td>https://d38pmlk0v88drf.cloudfront.net/stt_pech...</td>\n",
       "      <td>2</td>\n",
       "    </tr>\n",
       "    <tr>\n",
       "      <th>377852</th>\n",
       "      <td>STT_TT00233_00934.300-00938.100</td>\n",
       "      <td>ད་འགྲོ་བསམ་བསམ་ཡོད་མ་རེད་དེ། ད་ན་ཚས་ཅིག་དཔེ་གད...</td>\n",
       "      <td>https://d38pmlk0v88drf.cloudfront.net/wav/STT_...</td>\n",
       "      <td>3</td>\n",
       "    </tr>\n",
       "  </tbody>\n",
       "</table>\n",
       "</div>"
      ],
      "text/plain": [
       "                                                file_name  \\\n",
       "467700                  STT_AB00061_0081_378717_to_386445   \n",
       "508650                    STT_TT00140_01044.250-01045.550   \n",
       "213467                      STT_TT00089_1723.150-1723.700   \n",
       "127516  STT_CS-L-2012_2012-M_M-D_D-B01_B01-6_6-R_R-01_...   \n",
       "377852                    STT_TT00233_00934.300-00938.100   \n",
       "\n",
       "                                                      uni  \\\n",
       "467700  དཀོན་མཆོག་གསུམ་ལ་ཡིད་ཆེས་བློ་གཏད་ཀྱིས་སྐྱབས་འག...   \n",
       "508650   གྲངས་ཀ་རྒྱུ་ནས་ཤོད་ཡ་མེད་བསྡད་རྒྱོ་སེམས་ཅན་འདི་    \n",
       "213467                                      ཁོ་རང་ཕ་གིར།    \n",
       "127516  ག་རེ་བྱེད་ཀྱི་ཡོད། ང་ལ་ཡང་རིལ་གྱི་འདུག་ཁྱོད་ཀྱ...   \n",
       "377852  ད་འགྲོ་བསམ་བསམ་ཡོད་མ་རེད་དེ། ད་ན་ཚས་ཅིག་དཔེ་གད...   \n",
       "\n",
       "                                                      url  grade  \n",
       "467700  https://d38pmlk0v88drf.cloudfront.net/wav/STT_...      2  \n",
       "508650  https://d38pmlk0v88drf.cloudfront.net/wav/STT_...      3  \n",
       "213467  https://d38pmlk0v88drf.cloudfront.net/wav/STT_...      3  \n",
       "127516  https://d38pmlk0v88drf.cloudfront.net/stt_pech...      2  \n",
       "377852  https://d38pmlk0v88drf.cloudfront.net/wav/STT_...      3  "
      ]
     },
     "execution_count": 46,
     "metadata": {},
     "output_type": "execute_result"
    }
   ],
   "source": [
    "df.iloc[0:100,[0, 1, 3, 5]].to_csv(\"04_random_100.tsv\", index=False, sep='\\t')\n",
    "df.iloc[0:100,[0, 1, 3, 5]].head()"
   ]
  },
  {
   "cell_type": "code",
   "execution_count": 48,
   "metadata": {},
   "outputs": [
    {
     "data": {
      "text/plain": [
       "dept\n",
       "STT_AB       147\n",
       "STT_CS     37376\n",
       "STT_NS     42587\n",
       "STT_TT    271072\n",
       "dtype: int64"
      ]
     },
     "execution_count": 48,
     "metadata": {},
     "output_type": "execute_result"
    }
   ],
   "source": [
    "df[df['grade'] == 3].groupby('dept').size()"
   ]
  },
  {
   "cell_type": "code",
   "execution_count": null,
   "metadata": {},
   "outputs": [],
   "source": []
  }
 ],
 "metadata": {
  "kernelspec": {
   "display_name": ".env",
   "language": "python",
   "name": "python3"
  },
  "language_info": {
   "codemirror_mode": {
    "name": "ipython",
    "version": 3
   },
   "file_extension": ".py",
   "mimetype": "text/x-python",
   "name": "python",
   "nbconvert_exporter": "python",
   "pygments_lexer": "ipython3",
   "version": "3.10.12"
  }
 },
 "nbformat": 4,
 "nbformat_minor": 2
}
