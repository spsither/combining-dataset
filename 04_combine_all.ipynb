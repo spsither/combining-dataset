{
 "cells": [
  {
   "cell_type": "code",
   "execution_count": 2,
   "metadata": {},
   "outputs": [],
   "source": [
    "stt_pecha_tools = \"01_stt_pecha_tools.tsv\"\n",
    "prodigy = \"02_prodigy.tsv\"\n",
    "mv = \"03_mv_saymore.tsv\""
   ]
  },
  {
   "cell_type": "code",
   "execution_count": 3,
   "metadata": {},
   "outputs": [],
   "source": [
    "import pandas as pd\n",
    "pecha_tools_df = pd.read_csv(stt_pecha_tools, sep='\\t')\n",
    "prodigy_df = pd.read_csv(prodigy, sep='\\t')\n",
    "mv_df = pd.read_csv(mv, sep='\\t')"
   ]
  },
  {
   "cell_type": "code",
   "execution_count": 4,
   "metadata": {},
   "outputs": [],
   "source": [
    "df = pd.concat([pecha_tools_df, prodigy_df, mv_df], ignore_index=True)"
   ]
  },
  {
   "cell_type": "markdown",
   "metadata": {},
   "source": [
    "# clean the combined tsv"
   ]
  },
  {
   "cell_type": "code",
   "execution_count": 5,
   "metadata": {},
   "outputs": [
    {
     "name": "stdout",
     "output_type": "stream",
     "text": [
      "ཧ་ཧ་ཧ་འེ་\n"
     ]
    }
   ],
   "source": [
    "import re\n",
    "text = \"ཧ་ཧ་ཧ་ཧ་ཧ་འེ་\"\n",
    "text = re.sub(r'ཧ་ཧ་(ཧ་)+', r'ཧ་ཧ་ཧ་', text)\n",
    "print(text)"
   ]
  },
  {
   "cell_type": "code",
   "execution_count": 6,
   "metadata": {},
   "outputs": [],
   "source": [
    "import re\n",
    "def clean_transcription(text):\n",
    "    text = text.replace('\\n', ' ')\n",
    "    text = text.replace('\\t', ' ')\n",
    "    text = text.strip()\n",
    "\n",
    "    text = re.sub(r\"་+\", \"་\", text)\n",
    "    text = re.sub(r\"།+\", \"།\", text)\n",
    "    text = re.sub(r\"\\s+\", \" \", text)\n",
    "    text = re.sub(r\"\\s+།\", \"།\", text)\n",
    "\n",
    "    text = re.sub(r\"ཧཧཧ+\", \"ཧཧཧ\", text)\n",
    "    text = re.sub(r'འེ་འེ་(འེ་)+', r'འེ་འེ་འེ་', text)\n",
    "    text = re.sub(r'ཧ་ཧ་(ཧ་)+', r'ཧ་ཧ་ཧ་', text)\n",
    "\n",
    "    chars_to_ignore_regex = '[\\,\\?\\.\\!\\-\\;\\:\\\"\\“\\%\\‘\\”\\�\\/\\{\\}\\(\\)\\༽\\》\\༼\\《\\༅\\༄\\༈\\༑\\༠]'\n",
    "    \n",
    "    text = re.sub(chars_to_ignore_regex, '', text)+\" \"\n",
    "    return text\n",
    "\n",
    "def check_if_regex(text):\n",
    "    text = str(text)\n",
    "    regex = re.compile(r'[a-zA-Z]+')\n",
    "    match = re.search(regex, text)\n",
    "    \n",
    "    # Check if a match was found.\n",
    "    if match:\n",
    "        return True\n",
    "    else:\n",
    "        return False"
   ]
  },
  {
   "cell_type": "code",
   "execution_count": 7,
   "metadata": {},
   "outputs": [
    {
     "data": {
      "text/plain": [
       "(804636, 6)"
      ]
     },
     "execution_count": 7,
     "metadata": {},
     "output_type": "execute_result"
    }
   ],
   "source": [
    "df.shape"
   ]
  },
  {
   "cell_type": "code",
   "execution_count": 8,
   "metadata": {},
   "outputs": [],
   "source": [
    "df = df[df['uni'].str.len() > 0]"
   ]
  },
  {
   "cell_type": "code",
   "execution_count": 9,
   "metadata": {},
   "outputs": [],
   "source": [
    "df = df[df['uni'].str.len() < 994]"
   ]
  },
  {
   "cell_type": "code",
   "execution_count": 10,
   "metadata": {},
   "outputs": [],
   "source": [
    "df = df[~df['uni'].apply(check_if_regex)]"
   ]
  },
  {
   "cell_type": "code",
   "execution_count": 11,
   "metadata": {},
   "outputs": [
    {
     "data": {
      "text/plain": [
       "(804477, 6)"
      ]
     },
     "execution_count": 11,
     "metadata": {},
     "output_type": "execute_result"
    }
   ],
   "source": [
    "df.shape"
   ]
  },
  {
   "cell_type": "code",
   "execution_count": 12,
   "metadata": {},
   "outputs": [],
   "source": [
    "df['uni'] = df['uni'].map(clean_transcription)"
   ]
  },
  {
   "cell_type": "code",
   "execution_count": 13,
   "metadata": {},
   "outputs": [],
   "source": [
    "df['url'] = df['url'].map(lambda x : x.replace('#','%23'))"
   ]
  },
  {
   "cell_type": "code",
   "execution_count": 14,
   "metadata": {},
   "outputs": [],
   "source": [
    "df = df[df['file_name'] != 'STT_AB00148_0687_2124469_to_2126579']"
   ]
  },
  {
   "cell_type": "code",
   "execution_count": 15,
   "metadata": {},
   "outputs": [],
   "source": [
    "df.drop_duplicates(subset='file_name', keep=\"first\", inplace=True)"
   ]
  },
  {
   "cell_type": "code",
   "execution_count": 16,
   "metadata": {},
   "outputs": [],
   "source": [
    "df.to_csv('04_combine_all.tsv', sep='\\t', index=False)"
   ]
  },
  {
   "cell_type": "code",
   "execution_count": 25,
   "metadata": {},
   "outputs": [
    {
     "data": {
      "text/html": [
       "<div>\n",
       "<style scoped>\n",
       "    .dataframe tbody tr th:only-of-type {\n",
       "        vertical-align: middle;\n",
       "    }\n",
       "\n",
       "    .dataframe tbody tr th {\n",
       "        vertical-align: top;\n",
       "    }\n",
       "\n",
       "    .dataframe thead th {\n",
       "        text-align: right;\n",
       "    }\n",
       "</style>\n",
       "<table border=\"1\" class=\"dataframe\">\n",
       "  <thead>\n",
       "    <tr style=\"text-align: right;\">\n",
       "      <th></th>\n",
       "      <th>file_name</th>\n",
       "    </tr>\n",
       "    <tr>\n",
       "      <th>grade</th>\n",
       "      <th></th>\n",
       "    </tr>\n",
       "  </thead>\n",
       "  <tbody>\n",
       "    <tr>\n",
       "      <th>2</th>\n",
       "      <td>446275</td>\n",
       "    </tr>\n",
       "    <tr>\n",
       "      <th>3</th>\n",
       "      <td>358199</td>\n",
       "    </tr>\n",
       "  </tbody>\n",
       "</table>\n",
       "</div>"
      ],
      "text/plain": [
       "       file_name\n",
       "grade           \n",
       "2         446275\n",
       "3         358199"
      ]
     },
     "execution_count": 25,
     "metadata": {},
     "output_type": "execute_result"
    }
   ],
   "source": [
    "df[['file_name','grade']].groupby('grade').count()"
   ]
  },
  {
   "cell_type": "code",
   "execution_count": 19,
   "metadata": {},
   "outputs": [],
   "source": [
    "import pandas as pd\n",
    "from sklearn.model_selection import train_test_split\n",
    "\n",
    "# Splitting the data\n",
    "train, test_temp = train_test_split(df, test_size=0.1, random_state=42, stratify=df['dept'])\n",
    "val, test = train_test_split(test_temp, test_size=0.5, random_state=42, stratify=test_temp['dept'])         "
   ]
  },
  {
   "cell_type": "code",
   "execution_count": 20,
   "metadata": {},
   "outputs": [
    {
     "data": {
      "text/plain": [
       "(724026, 40224, 40224, 804474, 804474)"
      ]
     },
     "execution_count": 20,
     "metadata": {},
     "output_type": "execute_result"
    }
   ],
   "source": [
    "len(train), len(val), len(test), len(train)+len(val)+len(test), len(df)"
   ]
  },
  {
   "cell_type": "code",
   "execution_count": 39,
   "metadata": {},
   "outputs": [],
   "source": [
    "train.to_csv('train.tsv', sep='\\t', index=False)\n",
    "val.to_csv(  'val.tsv', sep='\\t', index=False)\n",
    "test.to_csv( 'test.tsv', sep='\\t', index=False)"
   ]
  },
  {
   "cell_type": "code",
   "execution_count": 40,
   "metadata": {},
   "outputs": [
    {
     "data": {
      "text/plain": [
       "uni\n",
       "False    642034\n",
       "True        559\n",
       "Name: count, dtype: int64"
      ]
     },
     "execution_count": 40,
     "metadata": {},
     "output_type": "execute_result"
    }
   ],
   "source": [
    "df['uni'].str.contains('ཧཧཧ').value_counts()"
   ]
  },
  {
   "cell_type": "code",
   "execution_count": 35,
   "metadata": {},
   "outputs": [],
   "source": [
    "import pandas as pd\n",
    "\n",
    "df = pd.read_csv('04_combine_all.tsv', sep='\\t')"
   ]
  },
  {
   "cell_type": "code",
   "execution_count": 36,
   "metadata": {},
   "outputs": [],
   "source": [
    "import os\n",
    "def getTimeSpan(filename):\n",
    "    filename = os.path.splitext(os.path.basename(filename))[0]\n",
    "    try:\n",
    "        if \"_to_\" in filename:\n",
    "            start, end = filename.split(\"_to_\")\n",
    "            start = start.split(\"_\")[-1]\n",
    "            end = end.split(\"_\")[0]\n",
    "            end = float(end)\n",
    "            start = float(start)\n",
    "            return abs((end - start)/1000)\n",
    "        else:\n",
    "            start, end = filename.split(\"-\")\n",
    "            start = start.split(\"_\")[-1]\n",
    "            end = end.split(\"_\")[0]\n",
    "            end = float(end)\n",
    "            start = float(start)\n",
    "            return abs(end - start)\n",
    "    except Exception as err:\n",
    "        print(f\"filename is:'{filename}'. Could not parse to get time span.\")\n",
    "        return 0\n"
   ]
  },
  {
   "cell_type": "code",
   "execution_count": 37,
   "metadata": {},
   "outputs": [],
   "source": [
    "df['time_span'] = df['file_name'].map(getTimeSpan)"
   ]
  },
  {
   "cell_type": "code",
   "execution_count": 38,
   "metadata": {},
   "outputs": [
    {
     "data": {
      "text/plain": [
       "dept\n",
       "STT_AB     98.450803\n",
       "STT_CS     76.800410\n",
       "STT_MV    414.516183\n",
       "STT_NS    127.994451\n",
       "STT_TT    186.008286\n",
       "Name: time_span, dtype: float64"
      ]
     },
     "execution_count": 38,
     "metadata": {},
     "output_type": "execute_result"
    }
   ],
   "source": [
    "df.groupby('dept')['time_span'].sum()/60/60"
   ]
  },
  {
   "cell_type": "code",
   "execution_count": 39,
   "metadata": {},
   "outputs": [
    {
     "data": {
      "text/plain": [
       "903.7701333333339"
      ]
     },
     "execution_count": 39,
     "metadata": {},
     "output_type": "execute_result"
    }
   ],
   "source": [
    "df['time_span'].sum()/60/60"
   ]
  },
  {
   "cell_type": "code",
   "execution_count": 40,
   "metadata": {},
   "outputs": [],
   "source": [
    "# df.sort_values(by='time_span', ascending=False, inplace=True)\n",
    "df = df.sample(frac = 1)"
   ]
  },
  {
   "cell_type": "code",
   "execution_count": 41,
   "metadata": {},
   "outputs": [
    {
     "data": {
      "text/html": [
       "<div>\n",
       "<style scoped>\n",
       "    .dataframe tbody tr th:only-of-type {\n",
       "        vertical-align: middle;\n",
       "    }\n",
       "\n",
       "    .dataframe tbody tr th {\n",
       "        vertical-align: top;\n",
       "    }\n",
       "\n",
       "    .dataframe thead th {\n",
       "        text-align: right;\n",
       "    }\n",
       "</style>\n",
       "<table border=\"1\" class=\"dataframe\">\n",
       "  <thead>\n",
       "    <tr style=\"text-align: right;\">\n",
       "      <th></th>\n",
       "      <th>file_name</th>\n",
       "      <th>uni</th>\n",
       "      <th>url</th>\n",
       "      <th>grade</th>\n",
       "    </tr>\n",
       "  </thead>\n",
       "  <tbody>\n",
       "    <tr>\n",
       "      <th>549000</th>\n",
       "      <td>STT_AB00213_0110_566083_to_574018</td>\n",
       "      <td>དེ་ལྟར་མོ་རང་གིས་རང་གི་ཕ་མའི་སར་ལོག་རྒྱུའི་སྐོ...</td>\n",
       "      <td>https://d38pmlk0v88drf.cloudfront.net/wav/STT_...</td>\n",
       "      <td>2</td>\n",
       "    </tr>\n",
       "    <tr>\n",
       "      <th>591840</th>\n",
       "      <td>STT_MV0740_0096_683251_to_689676.wav</td>\n",
       "      <td>རང་གིས་བོད་ལ་འགྲོ་གི་མིན་ལབ་ཙང་། མ་དགའ་པ་བྱེད་...</td>\n",
       "      <td>https://d38pmlk0v88drf.cloudfront.net/mv_wav/S...</td>\n",
       "      <td>2</td>\n",
       "    </tr>\n",
       "    <tr>\n",
       "      <th>475597</th>\n",
       "      <td>STT_AB00083_0044_226319_to_230774</td>\n",
       "      <td>པདྨ་རྡོ་རྗེ་ཀློག་སློབ་པ་ལ་ང་ལས་ཀྱང་ལྷག་པ་ཞིག་ཏ...</td>\n",
       "      <td>https://d38pmlk0v88drf.cloudfront.net/wav/STT_...</td>\n",
       "      <td>2</td>\n",
       "    </tr>\n",
       "    <tr>\n",
       "      <th>790086</th>\n",
       "      <td>STT_MV0179_0105_2539705_to_2546607.wav</td>\n",
       "      <td>བལ་གི་ཐག་པ་བསྒྲིལ་ན་སེང་གི་བཟུང་ཐུབ་ཀི་རེད། མང...</td>\n",
       "      <td>https://d38pmlk0v88drf.cloudfront.net/mv_wav/S...</td>\n",
       "      <td>2</td>\n",
       "    </tr>\n",
       "    <tr>\n",
       "      <th>579142</th>\n",
       "      <td>STT_MV0683_0300_2157610_to_2163403.wav</td>\n",
       "      <td>ཨ་ཅག་ཞོ་ཤོ ཁ་སང་མངགས་པ་དེ། ནོར་རྒྱས་ཉ་ལྔ་ད། མཚ...</td>\n",
       "      <td>https://d38pmlk0v88drf.cloudfront.net/mv_wav/S...</td>\n",
       "      <td>2</td>\n",
       "    </tr>\n",
       "    <tr>\n",
       "      <th>...</th>\n",
       "      <td>...</td>\n",
       "      <td>...</td>\n",
       "      <td>...</td>\n",
       "      <td>...</td>\n",
       "    </tr>\n",
       "    <tr>\n",
       "      <th>38678</th>\n",
       "      <td>STT_TT00047_01270.600-01272.200.wav</td>\n",
       "      <td>ཨེ་ནས་བརྗོད་པའམ་བཀླགས་པའི་</td>\n",
       "      <td>https://d38pmlk0v88drf.cloudfront.net/stt_pech...</td>\n",
       "      <td>2</td>\n",
       "    </tr>\n",
       "    <tr>\n",
       "      <th>424085</th>\n",
       "      <td>STT_TT00170_00202.500-00207.050</td>\n",
       "      <td>ཧ་ལམ་རྟག་ཅིང་བརྟན་པ་བྱས་ནས། འགྱུར་བ་རྩ་བ་ཉིད་ན...</td>\n",
       "      <td>https://d38pmlk0v88drf.cloudfront.net/wav/STT_...</td>\n",
       "      <td>3</td>\n",
       "    </tr>\n",
       "    <tr>\n",
       "      <th>79284</th>\n",
       "      <td>STT_NS0140_0185_1321579_to_1331018.mp3</td>\n",
       "      <td>དེ་ཚོ་ཚང་མ་སོ་སོ་དང་བླངས་འདོན་ནས་ཡིན་ས་རེད། སྔ...</td>\n",
       "      <td>https://d38pmlk0v88drf.cloudfront.net/stt_pech...</td>\n",
       "      <td>2</td>\n",
       "    </tr>\n",
       "    <tr>\n",
       "      <th>566772</th>\n",
       "      <td>STT_MV0195_0182_1275294_to_1281029.wav</td>\n",
       "      <td>སློབ་ཆེན་ལ་འགྲོ་དུས་ངས།</td>\n",
       "      <td>https://d38pmlk0v88drf.cloudfront.net/mv_wav/S...</td>\n",
       "      <td>2</td>\n",
       "    </tr>\n",
       "    <tr>\n",
       "      <th>115286</th>\n",
       "      <td>STT_TT00039_00354.400-00363.650.wav</td>\n",
       "      <td>མ་གྲིབ་པ་ཡོངས་སུ་རྫོགས་པ་ཡོངས་སུ་དག་པ་ཡོངས་སུ་...</td>\n",
       "      <td>https://d38pmlk0v88drf.cloudfront.net/stt_pech...</td>\n",
       "      <td>2</td>\n",
       "    </tr>\n",
       "  </tbody>\n",
       "</table>\n",
       "<p>100 rows × 4 columns</p>\n",
       "</div>"
      ],
      "text/plain": [
       "                                     file_name  \\\n",
       "549000       STT_AB00213_0110_566083_to_574018   \n",
       "591840    STT_MV0740_0096_683251_to_689676.wav   \n",
       "475597       STT_AB00083_0044_226319_to_230774   \n",
       "790086  STT_MV0179_0105_2539705_to_2546607.wav   \n",
       "579142  STT_MV0683_0300_2157610_to_2163403.wav   \n",
       "...                                        ...   \n",
       "38678      STT_TT00047_01270.600-01272.200.wav   \n",
       "424085         STT_TT00170_00202.500-00207.050   \n",
       "79284   STT_NS0140_0185_1321579_to_1331018.mp3   \n",
       "566772  STT_MV0195_0182_1275294_to_1281029.wav   \n",
       "115286     STT_TT00039_00354.400-00363.650.wav   \n",
       "\n",
       "                                                      uni  \\\n",
       "549000  དེ་ལྟར་མོ་རང་གིས་རང་གི་ཕ་མའི་སར་ལོག་རྒྱུའི་སྐོ...   \n",
       "591840  རང་གིས་བོད་ལ་འགྲོ་གི་མིན་ལབ་ཙང་། མ་དགའ་པ་བྱེད་...   \n",
       "475597  པདྨ་རྡོ་རྗེ་ཀློག་སློབ་པ་ལ་ང་ལས་ཀྱང་ལྷག་པ་ཞིག་ཏ...   \n",
       "790086  བལ་གི་ཐག་པ་བསྒྲིལ་ན་སེང་གི་བཟུང་ཐུབ་ཀི་རེད། མང...   \n",
       "579142  ཨ་ཅག་ཞོ་ཤོ ཁ་སང་མངགས་པ་དེ། ནོར་རྒྱས་ཉ་ལྔ་ད། མཚ...   \n",
       "...                                                   ...   \n",
       "38678                         ཨེ་ནས་བརྗོད་པའམ་བཀླགས་པའི་    \n",
       "424085  ཧ་ལམ་རྟག་ཅིང་བརྟན་པ་བྱས་ནས། འགྱུར་བ་རྩ་བ་ཉིད་ན...   \n",
       "79284   དེ་ཚོ་ཚང་མ་སོ་སོ་དང་བླངས་འདོན་ནས་ཡིན་ས་རེད། སྔ...   \n",
       "566772                           སློབ་ཆེན་ལ་འགྲོ་དུས་ངས།    \n",
       "115286  མ་གྲིབ་པ་ཡོངས་སུ་རྫོགས་པ་ཡོངས་སུ་དག་པ་ཡོངས་སུ་...   \n",
       "\n",
       "                                                      url  grade  \n",
       "549000  https://d38pmlk0v88drf.cloudfront.net/wav/STT_...      2  \n",
       "591840  https://d38pmlk0v88drf.cloudfront.net/mv_wav/S...      2  \n",
       "475597  https://d38pmlk0v88drf.cloudfront.net/wav/STT_...      2  \n",
       "790086  https://d38pmlk0v88drf.cloudfront.net/mv_wav/S...      2  \n",
       "579142  https://d38pmlk0v88drf.cloudfront.net/mv_wav/S...      2  \n",
       "...                                                   ...    ...  \n",
       "38678   https://d38pmlk0v88drf.cloudfront.net/stt_pech...      2  \n",
       "424085  https://d38pmlk0v88drf.cloudfront.net/wav/STT_...      3  \n",
       "79284   https://d38pmlk0v88drf.cloudfront.net/stt_pech...      2  \n",
       "566772  https://d38pmlk0v88drf.cloudfront.net/mv_wav/S...      2  \n",
       "115286  https://d38pmlk0v88drf.cloudfront.net/stt_pech...      2  \n",
       "\n",
       "[100 rows x 4 columns]"
      ]
     },
     "execution_count": 41,
     "metadata": {},
     "output_type": "execute_result"
    }
   ],
   "source": [
    "df.iloc[0:100,[0, 1, 3, 5]].to_csv(\"random_100.csv\", index=False)\n",
    "df.iloc[0:100,[0, 1, 3, 5]]"
   ]
  },
  {
   "cell_type": "code",
   "execution_count": 46,
   "metadata": {},
   "outputs": [
    {
     "data": {
      "text/html": [
       "<div>\n",
       "<style scoped>\n",
       "    .dataframe tbody tr th:only-of-type {\n",
       "        vertical-align: middle;\n",
       "    }\n",
       "\n",
       "    .dataframe tbody tr th {\n",
       "        vertical-align: top;\n",
       "    }\n",
       "\n",
       "    .dataframe thead th {\n",
       "        text-align: right;\n",
       "    }\n",
       "</style>\n",
       "<table border=\"1\" class=\"dataframe\">\n",
       "  <thead>\n",
       "    <tr style=\"text-align: right;\">\n",
       "      <th></th>\n",
       "      <th>file_name</th>\n",
       "      <th>uni</th>\n",
       "      <th>wylie</th>\n",
       "      <th>url</th>\n",
       "      <th>grade</th>\n",
       "      <th>time_span</th>\n",
       "    </tr>\n",
       "    <tr>\n",
       "      <th>dept</th>\n",
       "      <th></th>\n",
       "      <th></th>\n",
       "      <th></th>\n",
       "      <th></th>\n",
       "      <th></th>\n",
       "      <th></th>\n",
       "    </tr>\n",
       "  </thead>\n",
       "  <tbody>\n",
       "    <tr>\n",
       "      <th>STT_AB</th>\n",
       "      <td>147</td>\n",
       "      <td>147</td>\n",
       "      <td>147</td>\n",
       "      <td>147</td>\n",
       "      <td>147</td>\n",
       "      <td>147</td>\n",
       "    </tr>\n",
       "    <tr>\n",
       "      <th>STT_CS</th>\n",
       "      <td>37398</td>\n",
       "      <td>37398</td>\n",
       "      <td>37398</td>\n",
       "      <td>37398</td>\n",
       "      <td>37398</td>\n",
       "      <td>37398</td>\n",
       "    </tr>\n",
       "    <tr>\n",
       "      <th>STT_NS</th>\n",
       "      <td>42588</td>\n",
       "      <td>42588</td>\n",
       "      <td>42588</td>\n",
       "      <td>42588</td>\n",
       "      <td>42588</td>\n",
       "      <td>42588</td>\n",
       "    </tr>\n",
       "    <tr>\n",
       "      <th>STT_TT</th>\n",
       "      <td>278066</td>\n",
       "      <td>278066</td>\n",
       "      <td>278066</td>\n",
       "      <td>278066</td>\n",
       "      <td>278066</td>\n",
       "      <td>278066</td>\n",
       "    </tr>\n",
       "  </tbody>\n",
       "</table>\n",
       "</div>"
      ],
      "text/plain": [
       "        file_name     uni   wylie     url   grade  time_span\n",
       "dept                                                        \n",
       "STT_AB        147     147     147     147     147        147\n",
       "STT_CS      37398   37398   37398   37398   37398      37398\n",
       "STT_NS      42588   42588   42588   42588   42588      42588\n",
       "STT_TT     278066  278066  278066  278066  278066     278066"
      ]
     },
     "execution_count": 46,
     "metadata": {},
     "output_type": "execute_result"
    }
   ],
   "source": [
    "df[df['grade'] == 3].groupby('dept').count()"
   ]
  },
  {
   "cell_type": "code",
   "execution_count": null,
   "metadata": {},
   "outputs": [],
   "source": []
  }
 ],
 "metadata": {
  "kernelspec": {
   "display_name": ".env",
   "language": "python",
   "name": "python3"
  },
  "language_info": {
   "codemirror_mode": {
    "name": "ipython",
    "version": 3
   },
   "file_extension": ".py",
   "mimetype": "text/x-python",
   "name": "python",
   "nbconvert_exporter": "python",
   "pygments_lexer": "ipython3",
   "version": "3.10.12"
  }
 },
 "nbformat": 4,
 "nbformat_minor": 2
}
